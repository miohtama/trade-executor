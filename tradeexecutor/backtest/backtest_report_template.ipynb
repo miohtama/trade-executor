{
 "cells": [
  {
   "cell_type": "code",
   "execution_count": null,
   "outputs": [],
   "source": [
    "#\n",
    "# All code cells are hidden in the output by default\n",
    "#\n",
    "\n",
    "# Parameter cell. Wilk be replaced by export_backtest_report()\n",
    "parameters = {}"
   ],
   "metadata": {
    "collapsed": false
   }
  },
  {
   "cell_type": "code",
   "execution_count": null,
   "outputs": [],
   "source": [
    "#\n",
    "# Setting up\n",
    "#\n",
    "\n",
    "\n",
    "# Loads strategy trades and universe as passed over\n",
    "# by the host Python system as temp files\n",
    "from tradeexecutor.backtest.tearsheet import BacktestReporter\n",
    "reporter = BacktestReporter.setup_report(parameters)\n",
    "state = reporter.get_state()\n",
    "strategy_universe = universe = reporter.get_universe()"
   ],
   "metadata": {
    "collapsed": false
   }
  },
  {
   "cell_type": "code",
   "execution_count": null,
   "outputs": [],
   "source": [
    "## Metric calculations\n",
    "\n",
    "# Calculate different chart data and metrics.\n",
    "from tradeexecutor.visual.equity_curve import calculate_equity_curve, calculate_returns\n",
    "\n",
    "curve = calculate_equity_curve(state)\n",
    "returns = calculate_returns(curve)\n",
    "first_trade, last_trade = state.portfolio.get_first_and_last_executed_trade()\n",
    "start_at = state.backtest_data.start_at\n",
    "end_at = state.backtest_data.end_at\n",
    "trades = list(state.portfolio.get_all_trades())\n",
    "name = state.name"
   ],
   "metadata": {
    "collapsed": false
   }
  },
  {
   "cell_type": "markdown",
   "source": [
    "# Strategy backtest information\n",
    "\n",
    "This notebook provides the information about the strategy performance\n",
    "\n",
    "- The strategy backtesting methodology\n",
    "- Benchmarking against cryptocurrency indexes\n",
    "- Success of trading"
   ],
   "metadata": {
    "collapsed": false
   }
  },
  {
   "cell_type": "code",
   "execution_count": null,
   "outputs": [],
   "source": [
    "import pandas as pd\n",
    "\n",
    "trading_period = state.get_trading_time_range()\n",
    "\n",
    "data = {\n",
    "    \"Strategy name\": name,\n",
    "    \"Report created\": state.created_at,\n",
    "    \"Backtesting data start\": start_at,\n",
    "    \"Backtesting data end\": end_at,\n",
    "    \"Backtesting data window\": end_at - start_at,\n",
    "    \"Trading period start\": trading_period[0],\n",
    "    \"Trading period end\": trading_period[1],\n",
    "    \"Trading period duration\": trading_period[1] - trading_period[0],\n",
    "    \"Trades\": len(trades),\n",
    "}\n",
    "\n",
    "# Display dictionary as a pretty table output\n",
    "# display(pd.DataFrame(data.items()).style.hide(axis=\"columns\").hide(axis=\"index\"))\n",
    "display(pd.DataFrame(data.values(), index=data.keys()).style.hide(axis=\"columns\"))"
   ],
   "metadata": {
    "collapsed": false
   }
  },
  {
   "cell_type": "markdown",
   "source": [
    "# Benchmark\n",
    "\n",
    "This is the [benchmark](https://tradingstrategy.ai/glossary/benchmark) of this strategy.\n",
    "\n",
    "Here we compare the returns and different risk metrics of the strategy performance:\n",
    "\n",
    "- The strategy estimated performance based on this backtest\n",
    "- Buy and hold -cryptocurrency indexes\n",
    "\n"
   ],
   "metadata": {
    "collapsed": false
   }
  },
  {
   "cell_type": "code",
   "execution_count": null,
   "outputs": [],
   "source": [
    "from tradeexecutor.analysis.multi_asset_benchmark import get_benchmark_data\n",
    "from tradeexecutor.visual.benchmark import visualise_equity_curve_benchmark\n",
    "\n",
    "start_at = state.get_trading_time_range()[0]\n",
    "\n",
    "benchmark_indexes = get_benchmark_data(\n",
    "    strategy_universe,\n",
    "    cumulative_with_initial_cash=state.portfolio.get_initial_cash(),\n",
    "    start_at=start_at,\n",
    ")\n",
    "\n",
    "fig = visualise_equity_curve_benchmark(\n",
    "    name=\"This strategy\",\n",
    "    title=\"Strategy vs. indexes\",\n",
    "    state=state,\n",
    "    all_cash=state.portfolio.get_initial_cash(),\n",
    "    benchmark_indexes=benchmark_indexes,\n",
    "    height=800,\n",
    "    log_y=False,\n",
    "    start_at=start_at,\n",
    ")\n",
    "\n",
    "fig.show()"
   ],
   "metadata": {
    "collapsed": false
   }
  },
  {
   "cell_type": "markdown",
   "source": [
    "## Performance and risk metrics\n",
    "\n",
    "Side-by-side comparison of strategy and buy and portfolio performance and risk metrics.\n",
    "\n",
    "See [risk-adjusted return](https://tradingstrategy.ai/glossary/risk-adjusted-return) to learn more about how to compare risk and reward ratios of different trading strategies.\n"
   ],
   "metadata": {
    "collapsed": false
   }
  },
  {
   "cell_type": "code",
   "execution_count": null,
   "outputs": [],
   "source": [
    "from tradeexecutor.analysis.multi_asset_benchmark import compare_strategy_backtest_to_multiple_assets\n",
    "\n",
    "compare_strategy_backtest_to_multiple_assets(\n",
    "    state,\n",
    "    strategy_universe,\n",
    "    display=True,\n",
    ")"
   ],
   "metadata": {
    "collapsed": false
   }
  },
  {
   "cell_type": "markdown",
   "source": [
    "# Equity curve\n",
    "\n",
    "The equity curve allows to examine how stable the strategy profitability is.\n",
    "\n",
    "Here we plot\n",
    "\n",
    "- The strategy equity curve\n",
    "- Maximum drawdown\n",
    "- Daily profit"
   ],
   "metadata": {
    "collapsed": false
   }
  },
  {
   "cell_type": "code",
   "execution_count": null,
   "outputs": [],
   "source": [
    "from tradeexecutor.visual.equity_curve import visualise_equity_curve\n",
    "\n",
    "visualise_equity_curve(returns)"
   ],
   "metadata": {
    "collapsed": false
   }
  },
  {
   "cell_type": "markdown",
   "source": [
    "# Monthly returns\n",
    "\n",
    "Here we show the backtested returns by each month, and visualise the streaks of good and bad months.\n"
   ],
   "metadata": {
    "collapsed": false
   }
  },
  {
   "cell_type": "code",
   "execution_count": null,
   "outputs": [],
   "source": [
    "from tradeexecutor.visual.equity_curve import visualise_returns_over_time\n",
    "\n",
    "visualise_returns_over_time(returns)"
   ],
   "metadata": {
    "collapsed": false
   }
  },
  {
   "cell_type": "markdown",
   "source": [
    "# Trading metrics\n",
    "\n",
    "Overview of the performance of trades this strategy took.\n",
    "\n",
    "- How many winning and losing trades we had\n",
    "- How much on average each trade made"
   ],
   "metadata": {
    "collapsed": false
   }
  },
  {
   "cell_type": "code",
   "execution_count": null,
   "outputs": [],
   "source": [
    "from tradeexecutor.analysis.trade_analyser import build_trade_analysis\n",
    "\n",
    "analysis = build_trade_analysis(state.portfolio)\n",
    "\n",
    "try:\n",
    "    summary_metrics = analysis.calculate_summary_statistics(state=state, time_bucket=universe.data_universe.time_bucket)\n",
    "    summary_metrics.display()\n",
    "except Exception as e:\n",
    "    print(f\"Summary metrics information cannot be displayed. Exception: {e}\")\n",
    "    import traceback ; traceback.print_exc()"
   ],
   "metadata": {
    "collapsed": false
   }
  },
  {
   "cell_type": "markdown",
   "source": [
    "# More trading metrics\n",
    "\n",
    "Trading metrics show how successfully the strategy trading is."
   ],
   "metadata": {
    "collapsed": false
   }
  },
  {
   "cell_type": "code",
   "execution_count": null,
   "outputs": [],
   "source": [
    "try:\n",
    "\n",
    "    if universe.has_lending_data():\n",
    "        # Mixed spot, short, long\n",
    "        trading_summary_html = analysis.calculate_all_summary_stats_by_side(state=state, time_bucket=universe.data_universe.time_bucket)\n",
    "        with pd.option_context(\"display.max_row\", None):\n",
    "            display(trading_summary_html)\n",
    "    else:\n",
    "        # Spot only\n",
    "        analysis = build_trade_analysis(state.portfolio)\n",
    "        trading_summary = analysis.calculate_summary_statistics()\n",
    "        with pd.option_context(\"display.max_row\", None):\n",
    "            display(trading_summary.to_dataframe())\n",
    "\n",
    "except Exception as e:\n",
    "    print(\"Calculation statistics failed\", e)\n",
    "    import traceback ; traceback.print_exc()"
   ],
   "metadata": {
    "collapsed": false
   }
  },
  {
   "cell_type": "markdown",
   "source": [
    "# Periodic return distribution\n",
    "\n",
    "Show performance variations for different timeframes."
   ],
   "metadata": {
    "collapsed": false
   }
  },
  {
   "cell_type": "code",
   "execution_count": null,
   "outputs": [],
   "source": [
    "from tradeexecutor.visual.equity_curve import visualise_returns_distribution\n",
    "\n",
    "visualise_returns_distribution(returns)"
   ],
   "metadata": {
    "collapsed": false
   }
  },
  {
   "cell_type": "markdown",
   "source": [
    "# Individual trading position analysis\n",
    "\n",
    "Examine the data of every individual trading position entry, exit and profitability."
   ],
   "metadata": {
    "collapsed": false
   }
  },
  {
   "cell_type": "code",
   "execution_count": null,
   "outputs": [],
   "source": [
    "from tradeexecutor.analysis.trade_analyser import expand_timeline\n",
    "\n",
    "if universe.has_lending_data():\n",
    "    print(\"TODO: Currently disabled for lending-based strategies. Need to add lending data export.\")\n",
    "else:\n",
    "    timeline = analysis.create_timeline()\n",
    "\n",
    "    expanded_timeline, apply_styles = expand_timeline(\n",
    "            universe.universe.exchanges,\n",
    "            universe.universe.pairs,\n",
    "            timeline)\n",
    "\n",
    "    # Do not truncate the row output\n",
    "    with pd.option_context(\"display.max_row\", None):\n",
    "        display(apply_styles(expanded_timeline))"
   ],
   "metadata": {
    "collapsed": false
   }
  },
  {
   "cell_type": "markdown",
   "source": [
    "# Trade timeline\n",
    "\n",
    "- Individual trades taken"
   ],
   "metadata": {
    "collapsed": false
   }
  },
  {
   "cell_type": "code",
   "execution_count": null,
   "outputs": [],
   "source": [
    "print(\"Not yet available\")"
   ],
   "metadata": {
    "collapsed": false
   }
  }
 ],
 "metadata": {
  "kernelspec": {
   "display_name": "Python 3",
   "language": "python",
   "name": "python3"
  },
  "language_info": {
   "codemirror_mode": {
    "name": "ipython",
    "version": 2
   },
   "file_extension": ".py",
   "mimetype": "text/x-python",
   "name": "python",
   "nbconvert_exporter": "python",
   "pygments_lexer": "ipython2",
   "version": "2.7.6"
  }
 },
 "nbformat": 4,
 "nbformat_minor": 0
}

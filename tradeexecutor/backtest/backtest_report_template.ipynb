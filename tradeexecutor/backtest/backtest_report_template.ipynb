{
 "cells": [
  {
   "cell_type": "code",
   "execution_count": null,
   "outputs": [],
   "source": [
    "#\n",
    "# All code cells are hidden in the output by default\n",
    "#\n",
    "\n",
    "# Parameter cell. Wilk be replaced by export_backtest_report()\n",
    "parameters = {}"
   ],
   "metadata": {
    "collapsed": false
   }
  },
  {
   "cell_type": "code",
   "execution_count": null,
   "outputs": [],
   "source": [
    "#\n",
    "# Setting up\n",
    "#\n",
    "\n",
    "\n",
    "# Loads strategy trades and universe as passed over\n",
    "# by the host Python system as temp files\n",
    "from tradeexecutor.backtest.tearsheet import BacktestReporter\n",
    "reporter = BacktestReporter.setup_report(parameters)\n",
    "state = reporter.get_state()\n",
    "universe = reporter.get_universe()"
   ],
   "metadata": {
    "collapsed": false
   }
  },
  {
   "cell_type": "code",
   "execution_count": null,
   "outputs": [],
   "source": [
    "## Metric calculations\n",
    "\n",
    "# Calculate different chart data and metrics.\n",
    "from tradeexecutor.visual.equity_curve import calculate_equity_curve, calculate_returns\n",
    "\n",
    "curve = calculate_equity_curve(state)\n",
    "returns = calculate_returns(curve)\n",
    "first_trade, last_trade = state.portfolio.get_first_and_last_executed_trade()\n",
    "start_at = state.backtest_data.start_at\n",
    "end_at = state.backtest_data.end_at\n",
    "trades = list(state.portfolio.get_all_trades())\n",
    "name = state.name"
   ],
   "metadata": {
    "collapsed": false
   }
  },
  {
   "cell_type": "markdown",
   "source": [
    "# Preface\n",
    "\n",
    "Information about the executed backtest."
   ],
   "metadata": {
    "collapsed": false
   }
  },
  {
   "cell_type": "code",
   "execution_count": null,
   "outputs": [],
   "source": [
    "import pandas as pd\n",
    "\n",
    "data = {\n",
    "    \"Name\": name,\n",
    "    \"Run at\": state.created_at,\n",
    "    \"Backtesting period start\": start_at,\n",
    "    \"Backtesting period end\": end_at,\n",
    "    \"Trades\": len(trades),\n",
    "}\n",
    "\n",
    "# Display dictionary as a pretty table output\n",
    "# display(pd.DataFrame(data.items()).style.hide(axis=\"columns\").hide(axis=\"index\"))\n",
    "display(pd.DataFrame(data.values(), index=data.keys()).style.hide(axis=\"columns\"))"
   ],
   "metadata": {
    "collapsed": false
   }
  },
  {
   "cell_type": "markdown",
   "source": [
    "# Equity curve\n",
    "\n",
    "Equity curve, maximum drawdown and daily profit."
   ],
   "metadata": {
    "collapsed": false
   }
  },
  {
   "cell_type": "code",
   "execution_count": null,
   "outputs": [],
   "source": [
    "from tradeexecutor.visual.equity_curve import visualise_equity_curve\n",
    "\n",
    "visualise_equity_curve(returns)"
   ],
   "metadata": {
    "collapsed": false
   }
  },
  {
   "cell_type": "markdown",
   "source": [
    "# Performance metrics\n",
    "\n",
    "Portfolio key performance metrics."
   ],
   "metadata": {
    "collapsed": false
   }
  },
  {
   "cell_type": "code",
   "execution_count": null,
   "outputs": [],
   "source": [
    "import pandas as pd\n",
    "from tradeexecutor.analysis.advanced_metrics import visualise_advanced_metrics, AdvancedMetricsMode\n",
    "\n",
    "metrics = visualise_advanced_metrics(returns, mode=AdvancedMetricsMode.full)\n",
    "\n",
    "with pd.option_context(\"display.max_row\", None):\n",
    "    display(metrics)"
   ],
   "metadata": {
    "collapsed": false
   }
  },
  {
   "cell_type": "markdown",
   "source": [
    "# Trading metrics\n",
    "\n",
    "Calculate key trading metrics.\n",
    "\n"
   ],
   "metadata": {
    "collapsed": false
   }
  },
  {
   "cell_type": "code",
   "execution_count": null,
   "outputs": [],
   "source": [
    "from tradeexecutor.analysis.trade_analyser import build_trade_analysis\n",
    "\n",
    "analysis = build_trade_analysis(state.portfolio)\n",
    "summary = analysis.calculate_summary_statistics()\n",
    "\n",
    "with pd.option_context(\"display.max_row\", None):\n",
    "    display(summary.to_dataframe())"
   ],
   "metadata": {
    "collapsed": false
   }
  },
  {
   "cell_type": "markdown",
   "source": [
    "# Trading positions\n",
    "\n",
    "Display trading positions over time.\n"
   ],
   "metadata": {
    "collapsed": false
   }
  },
  {
   "cell_type": "code",
   "execution_count": null,
   "outputs": [],
   "source": [
    "\n",
    "from tradeexecutor.visual.single_pair import visualise_single_pair_positions_with_duration_and_slippage\n",
    "\n",
    "if universe.universe.pairs.get_count() == 1:\n",
    "    pair_id = int(universe.get_single_pair().internal_id)\n",
    "    candles = universe.universe.candles.get_candles_by_pair(pair_id)\n",
    "\n",
    "    fig = visualise_single_pair_positions_with_duration_and_slippage(\n",
    "        state,\n",
    "        candles,\n",
    "        start_at=start_at,\n",
    "        end_at=end_at,\n",
    "        pair_id=pair_id,\n",
    "    )\n",
    "\n",
    "    fig.show()\n",
    "else:\n",
    "    print(\"\")"
   ],
   "metadata": {
    "collapsed": false
   }
  },
  {
   "cell_type": "markdown",
   "source": [
    "# Benchmark\n",
    "\n",
    "Compare the strategy results against\n",
    "\n",
    "- Buy and hold benchmark\n",
    "- All-cash benchmark"
   ],
   "metadata": {
    "collapsed": false
   }
  },
  {
   "cell_type": "code",
   "execution_count": null,
   "outputs": [],
   "source": [
    "if universe.universe.pairs.get_count() == 1:\n",
    "    from tradeexecutor.visual.benchmark import visualise_benchmark\n",
    "\n",
    "    traded_pair = universe.universe.pairs.get_single()\n",
    "\n",
    "    fig = visualise_benchmark(\n",
    "        name,\n",
    "        portfolio_statistics=state.stats.portfolio,\n",
    "        all_cash=state.portfolio.get_initial_deposit(),\n",
    "        buy_and_hold_asset_name=traded_pair.base_token_symbol,\n",
    "        buy_and_hold_price_series=universe.universe.candles.get_single_pair_data()[\"close\"],\n",
    "        start_at=start_at,\n",
    "        end_at=end_at,\n",
    "        height=800\n",
    "    )\n",
    "\n",
    "    fig.show()\n",
    "else:\n",
    "    print(\"Benchmark part for a multipair strategy not yet implemented\")"
   ],
   "metadata": {
    "collapsed": false
   }
  },
  {
   "cell_type": "markdown",
   "source": [
    "# Monthly returns\n",
    "\n",
    "Returns by a month.\n"
   ],
   "metadata": {
    "collapsed": false
   }
  },
  {
   "cell_type": "code",
   "execution_count": null,
   "outputs": [],
   "source": [
    "from tradeexecutor.visual.equity_curve import visualise_returns_over_time\n",
    "\n",
    "visualise_returns_over_time(returns)"
   ],
   "metadata": {
    "collapsed": false
   }
  },
  {
   "cell_type": "markdown",
   "source": [
    "# Periodic return distribution\n",
    "\n",
    "Show performance variations for different timeframes."
   ],
   "metadata": {
    "collapsed": false
   }
  },
  {
   "cell_type": "code",
   "execution_count": null,
   "outputs": [],
   "source": [
    "from tradeexecutor.visual.equity_curve import visualise_returns_distribution\n",
    "\n",
    "visualise_returns_distribution(returns)"
   ],
   "metadata": {
    "collapsed": false
   }
  },
  {
   "cell_type": "markdown",
   "source": [
    "# Trade details\n",
    "\n",
    "Show details of every position open and close."
   ],
   "metadata": {
    "collapsed": false
   }
  },
  {
   "cell_type": "code",
   "execution_count": null,
   "outputs": [],
   "source": [
    "from tradeexecutor.analysis.trade_analyser import expand_timeline\n",
    "\n",
    "timeline = analysis.create_timeline()\n",
    "\n",
    "expanded_timeline, apply_styles = expand_timeline(\n",
    "        universe.universe.exchanges,\n",
    "        universe.universe.pairs,\n",
    "        timeline)\n",
    "\n",
    "# Do not truncate the row output\n",
    "with pd.option_context(\"display.max_row\", None):\n",
    "    display(apply_styles(expanded_timeline))"
   ],
   "metadata": {
    "collapsed": false
   }
  }
 ],
 "metadata": {
  "kernelspec": {
   "display_name": "Python 3",
   "language": "python",
   "name": "python3"
  },
  "language_info": {
   "codemirror_mode": {
    "name": "ipython",
    "version": 2
   },
   "file_extension": ".py",
   "mimetype": "text/x-python",
   "name": "python",
   "nbconvert_exporter": "python",
   "pygments_lexer": "ipython2",
   "version": "2.7.6"
  }
 },
 "nbformat": 4,
 "nbformat_minor": 0
}

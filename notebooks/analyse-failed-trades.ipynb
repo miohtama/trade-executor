{
 "cells": [
  {
   "cell_type": "markdown",
   "source": [
    "# Analyse failed trades\n",
    "\n",
    "Analyse failed trades over multiple trade executors.\n",
    "\n",
    " - Show failed and repaired and fix trades\n",
    "  - Analyse slippage parameters and other causes of failure\n",
    "\n"
   ],
   "metadata": {
    "collapsed": false
   }
  },
  {
   "cell_type": "code",
   "execution_count": 1,
   "outputs": [
    {
     "name": "stderr",
     "output_type": "stream",
     "text": [
      "/Users/moo/Library/Caches/pypoetry/virtualenvs/trade-executor-8Oz1GdY1-py3.10/lib/python3.10/site-packages/dataclasses_json/core.py:187: RuntimeWarning: 'NoneType' object value of non-optional type closing detected when decoding TradeExecution.\n",
      "  warnings.warn(\n"
     ]
    },
    {
     "name": "stdout",
     "output_type": "stream",
     "text": [
      "Downloaded state for http://enzyme-polygon-eth-usdc-sls.tradingstrategy.ai/, total 1,862,332 chars\n"
     ]
    }
   ],
   "source": [
    "from tradeexecutor.utils.state_downloader import download_state\n",
    "from tradeexecutor.state.state import State\n",
    "\n",
    "state = download_state(\"http://enzyme-polygon-eth-usdc-sls.tradingstrategy.ai/\")\n"
   ],
   "metadata": {
    "collapsed": false,
    "ExecuteTime": {
     "end_time": "2023-09-05T09:01:52.044488Z",
     "start_time": "2023-09-05T09:01:49.890845Z"
    }
   }
  },
  {
   "cell_type": "markdown",
   "source": [
    "# Vault status"
   ],
   "metadata": {
    "collapsed": false
   }
  },
  {
   "cell_type": "code",
   "execution_count": 2,
   "outputs": [
    {
     "name": "stdout",
     "output_type": "stream",
     "text": [
      "Vault deployment: <Deployment chain:polygon address:0xDD06559A12d99a5301602213FBcB3c40Dcc71F4E name:SLS I token:SLS1>\n",
      "Treasury sync status: <Treasury updated:2023-09-05 08:02:21 cycle:2023-09-05 08:00:00 block scanned:47,166,760 refs:1>\n"
     ]
    }
   ],
   "source": [
    "treasury = state.sync.treasury\n",
    "deployment = state.sync.deployment\n",
    "\n",
    "print(f\"Vault deployment: {deployment}\")\n",
    "print(f\"Treasury sync status: {treasury}\")"
   ],
   "metadata": {
    "collapsed": false,
    "ExecuteTime": {
     "end_time": "2023-09-05T09:01:52.044944Z",
     "start_time": "2023-09-05T09:01:52.030626Z"
    }
   }
  },
  {
   "cell_type": "code",
   "execution_count": 3,
   "outputs": [
    {
     "name": "stdout",
     "output_type": "stream",
     "text": [
      "Total 1 failed and repaired trades\n"
     ]
    }
   ],
   "source": [
    "\n",
    "from tradeexecutor.state.trade import TradeExecution\n",
    "\n",
    "all_trades = list(state.portfolio.get_all_trades())\n",
    "\n",
    "t: TradeExecution\n",
    "failed_trades = [t for t in all_trades if t.is_failed() or t.is_repaired() or t.is_repair_trade()]\n",
    "\n",
    "print(f\"Total {len(failed_trades)} failed and repaired trades\")"
   ],
   "metadata": {
    "collapsed": false,
    "ExecuteTime": {
     "end_time": "2023-09-05T09:01:52.045103Z",
     "start_time": "2023-09-05T09:01:52.044393Z"
    }
   }
  },
  {
   "cell_type": "code",
   "execution_count": 4,
   "outputs": [
    {
     "data": {
      "text/plain": "  Flags Position                Time       Trade Lag  Slippage tolerance  \\\n6  FAIL       #3 2023-08-31 16:51:14  WETH->USDC                     500   \n\n               amountIn  amountOut Enzyme amountOut  Planned execution price  \\\n6  0.006619490520254517  11.003202        10.457222              1663.074215   \n\n        amountIn/amountOut price Block decided Block executed  \\\n6  1662.243033105353082361257744    46,983,254     46,983,259   \n\n                                                Failure reason  \\\n6  Too little received\u0000\u0000\u0000\u0000\u0000\u0000\u0000\u0000\u0000\u0000\u0000\u0000\u0000\u0000\u0000\u0000\u0000\u0000\u0000\u0000\u0000\u0000\u0000\u0000\u0000\u0000\u0000\u0000\u0000\u0000\u0000\u0000\u0000\u0000\u0000\u0000\u0000\u0000\u0000\u0000   \n\n                                                                   Tx  \n6  0xbc4d9fafcc063d7a9878b27b0b94e7df9d6d394668fea57d04709ab1702be053  ",
      "text/html": "<div>\n<style scoped>\n    .dataframe tbody tr th:only-of-type {\n        vertical-align: middle;\n    }\n\n    .dataframe tbody tr th {\n        vertical-align: top;\n    }\n\n    .dataframe thead th {\n        text-align: right;\n    }\n</style>\n<table border=\"1\" class=\"dataframe\">\n  <thead>\n    <tr style=\"text-align: right;\">\n      <th></th>\n      <th>Flags</th>\n      <th>Position</th>\n      <th>Time</th>\n      <th>Trade</th>\n      <th>Lag</th>\n      <th>Slippage tolerance</th>\n      <th>amountIn</th>\n      <th>amountOut</th>\n      <th>Enzyme amountOut</th>\n      <th>Planned execution price</th>\n      <th>amountIn/amountOut price</th>\n      <th>Block decided</th>\n      <th>Block executed</th>\n      <th>Failure reason</th>\n      <th>Tx</th>\n    </tr>\n  </thead>\n  <tbody>\n    <tr>\n      <th>6</th>\n      <td>FAIL</td>\n      <td>#3</td>\n      <td>2023-08-31 16:51:14</td>\n      <td>WETH-&gt;USDC</td>\n      <td></td>\n      <td>500</td>\n      <td>0.006619490520254517</td>\n      <td>11.003202</td>\n      <td>10.457222</td>\n      <td>1663.074215</td>\n      <td>1662.243033105353082361257744</td>\n      <td>46,983,254</td>\n      <td>46,983,259</td>\n      <td>Too little received\u0000\u0000\u0000\u0000\u0000\u0000\u0000\u0000\u0000\u0000\u0000\u0000\u0000\u0000\u0000\u0000\u0000\u0000\u0000\u0000\u0000\u0000\u0000\u0000\u0000\u0000\u0000\u0000\u0000\u0000\u0000\u0000\u0000\u0000\u0000\u0000\u0000\u0000\u0000\u0000</td>\n      <td>0xbc4d9fafcc063d7a9878b27b0b94e7df9d6d394668fea57d04709ab1702be053</td>\n    </tr>\n  </tbody>\n</table>\n</div>"
     },
     "metadata": {},
     "output_type": "display_data"
    }
   ],
   "source": [
    "import pandas as pd\n",
    "from tradeexecutor.analysis.slippage import display_slippage\n",
    "\n",
    "\n",
    "pd.set_option('display.max_colwidth', None)\n",
    "\n",
    "df = display_slippage(failed_trades)\n",
    "display(df)"
   ],
   "metadata": {
    "collapsed": false,
    "ExecuteTime": {
     "end_time": "2023-09-05T09:01:52.046573Z",
     "start_time": "2023-09-05T09:01:52.044893Z"
    }
   }
  }
 ],
 "metadata": {
  "kernelspec": {
   "display_name": "Python 3",
   "language": "python",
   "name": "python3"
  },
  "language_info": {
   "codemirror_mode": {
    "name": "ipython",
    "version": 2
   },
   "file_extension": ".py",
   "mimetype": "text/x-python",
   "name": "python",
   "nbconvert_exporter": "python",
   "pygments_lexer": "ipython2",
   "version": "2.7.6"
  }
 },
 "nbformat": 4,
 "nbformat_minor": 0
}

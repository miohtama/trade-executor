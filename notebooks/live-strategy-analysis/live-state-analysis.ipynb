{
 "cells": [
  {
   "cell_type": "code",
   "execution_count": 2,
   "metadata": {},
   "outputs": [
    {
     "name": "stdout",
     "output_type": "stream",
     "text": [
      "Downloaded 1,415,111 bytes state data\n",
      "trade-executor was launched at: 2024-03-22 15:20:54, we have 12 trades\n"
     ]
    }
   ],
   "source": [
    "\n",
    "from tradeexecutor.monkeypatch.dataclasses_json import patch_dataclasses_json\n",
    "from tradeexecutor.state.state import State\n",
    "import requests\n",
    "\n",
    "# Currently needed because unpatched dataclasses_json package issues\n",
    "patch_dataclasses_json()\n",
    "\n",
    "# Public internet endpoint as exposed by the trade executor Docker\n",
    "webbhook_url = \"https://enzyme-polygon-eth-btc-usdc.tradingstrategy.ai/\"\n",
    "\n",
    "state_api = f\"{webbhook_url}/state\"\n",
    "\n",
    "resp = requests.get(state_api)\n",
    "\n",
    "state_blob = resp.content\n",
    "\n",
    "print(f\"Downloaded {len(state_blob):,} bytes state data\")\n",
    "\n",
    "state = State.from_json(state_blob)\n",
    "\n",
    "print(f\"trade-executor was launched at: {state.created_at}, we have {len(list(state.portfolio.get_all_trades()))} trades\")"
   ]
  },
  {
   "cell_type": "code",
   "execution_count": 3,
   "metadata": {},
   "outputs": [
    {
     "name": "stdout",
     "output_type": "stream",
     "text": [
      "Started Trading Strategy in Jupyter notebook environment, configuration is stored in /home/alex/.tradingstrategy\n"
     ]
    },
    {
     "data": {
      "application/vnd.jupyter.widget-view+json": {
       "model_id": "b5e79730b1e54b668422fbe22c2561f0",
       "version_major": 2,
       "version_minor": 0
      },
      "text/plain": [
       "Downloading exchange dataset(Unknown total file size): 0it [00:00, ?it/s]"
      ]
     },
     "metadata": {},
     "output_type": "display_data"
    },
    {
     "data": {
      "application/vnd.jupyter.widget-view+json": {
       "model_id": "0de35f022c724a999fcc43e18d1e36e1",
       "version_major": 2,
       "version_minor": 0
      },
      "text/plain": [
       "Downloading trading pair dataset:   0%|          | 0/29905738 [00:00<?, ?it/s]"
      ]
     },
     "metadata": {},
     "output_type": "display_data"
    }
   ],
   "source": [
    "from tradeexecutor.strategy.reverse_universe import reverse_trading_universe_from_state\n",
    "from tradingstrategy.client import Client\n",
    "from tradingstrategy.timebucket import TimeBucket\n",
    "\n",
    "client = Client.create_jupyter_client()\n",
    "time_bucket = TimeBucket.h1\n",
    "universe = reverse_trading_universe_from_state(state, client, time_bucket)"
   ]
  },
  {
   "cell_type": "code",
   "execution_count": 4,
   "metadata": {},
   "outputs": [
    {
     "ename": "TypeError",
     "evalue": "draw_single_pair_strategy_state() missing 1 required positional argument: 'universe'",
     "output_type": "error",
     "traceback": [
      "\u001b[0;31m---------------------------------------------------------------------------\u001b[0m",
      "\u001b[0;31mTypeError\u001b[0m                                 Traceback (most recent call last)",
      "Cell \u001b[0;32mIn[4], line 9\u001b[0m\n\u001b[1;32m      3\u001b[0m \u001b[38;5;28;01mfrom\u001b[39;00m \u001b[38;5;21;01mtradeexecutor\u001b[39;00m\u001b[38;5;21;01m.\u001b[39;00m\u001b[38;5;21;01mvisual\u001b[39;00m\u001b[38;5;21;01m.\u001b[39;00m\u001b[38;5;21;01mstrategy_state\u001b[39;00m \u001b[38;5;28;01mimport\u001b[39;00m draw_multi_pair_strategy_state, draw_single_pair_strategy_state\n\u001b[1;32m      5\u001b[0m \u001b[38;5;66;03m# summary = calculate_summary_statistics(state)\u001b[39;00m\n\u001b[1;32m      6\u001b[0m \n\u001b[1;32m      7\u001b[0m \u001b[38;5;66;03m# draw_multi_pair_strategy_state(state, universe)\u001b[39;00m\n\u001b[0;32m----> 9\u001b[0m \u001b[43mdraw_single_pair_strategy_state\u001b[49m\u001b[43m(\u001b[49m\u001b[43mstate\u001b[49m\u001b[43m,\u001b[49m\u001b[43m \u001b[49m\u001b[43muniverse\u001b[49m\u001b[43m)\u001b[49m\n",
      "\u001b[0;31mTypeError\u001b[0m: draw_single_pair_strategy_state() missing 1 required positional argument: 'universe'"
     ]
    }
   ],
   "source": [
    "from tradeexecutor.statistics.summary import calculate_summary_statistics\n",
    "from tradeexecutor.statistics.statistics_table import serialise_live_long_short_stats\n",
    "from tradeexecutor.visual.strategy_state import draw_multi_pair_strategy_state, draw_single_pair_strategy_state\n",
    "\n",
    "# summary = calculate_summary_statistics(state)\n",
    "\n",
    "# draw_multi_pair_strategy_state(state, universe)\n",
    "\n",
    "draw_single_pair_strategy_state(state, universe)"
   ]
  }
 ],
 "metadata": {
  "kernelspec": {
   "display_name": "trade-executor-xSh0vQvh-py3.10",
   "language": "python",
   "name": "python3"
  },
  "language_info": {
   "codemirror_mode": {
    "name": "ipython",
    "version": 3
   },
   "file_extension": ".py",
   "mimetype": "text/x-python",
   "name": "python",
   "nbconvert_exporter": "python",
   "pygments_lexer": "ipython3",
   "version": "3.10.8"
  }
 },
 "nbformat": 4,
 "nbformat_minor": 2
}

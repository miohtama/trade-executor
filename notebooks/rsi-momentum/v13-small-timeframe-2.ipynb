{
 "cells": [
  {
   "cell_type": "markdown",
   "metadata": {
    "collapsed": false
   },
   "source": [
    "# RSI momentum trading strategy example\n",
    "\n",
    "- This is a backtest example notebook\n",
    "    - Grid search over the hotspot \n",
    "\n",
    "# Set up\n",
    "\n",
    "Set up Trading Strategy data client.\n"
   ]
  },
  {
   "cell_type": "code",
   "execution_count": 3,
   "metadata": {
    "ExecuteTime": {
     "end_time": "2024-02-12T13:25:18.991903Z",
     "start_time": "2024-02-12T13:25:17.416556Z"
    },
    "collapsed": false
   },
   "outputs": [
    {
     "name": "stdout",
     "output_type": "stream",
     "text": [
      "Started Trading Strategy in Jupyter notebook environment, configuration is stored in /Users/moo/.tradingstrategy\n"
     ]
    }
   ],
   "source": [
    "from tradeexecutor.utils.notebook import setup_charting_and_output\n",
    "from tradingstrategy.client import Client\n",
    "\n",
    "client = Client.create_jupyter_client()\n",
    "\n",
    "# Render for Github web viewer\n",
    "from tradeexecutor.utils.notebook import setup_charting_and_output, OutputMode\n",
    "\n",
    "setup_charting_and_output(OutputMode.static, image_format=\"png\", width=1500, height=1000)\n",
    "# setup_charting_and_output(width=1500, height=1000)"
   ]
  },
  {
   "cell_type": "markdown",
   "metadata": {
    "collapsed": false
   },
   "source": [
    "# Load data\n",
    "\n",
    "We use Binance data so we get a longer period of data."
   ]
  },
  {
   "cell_type": "code",
   "execution_count": 4,
   "metadata": {
    "ExecuteTime": {
     "end_time": "2024-02-12T13:25:19.757698Z",
     "start_time": "2024-02-12T13:25:18.990973Z"
    },
    "collapsed": false
   },
   "outputs": [
    {
     "ename": "SyntaxError",
     "evalue": "'(' was never closed (trading_strategy_universe.py, line 196)",
     "output_type": "error",
     "traceback": [
      "Traceback \u001b[0;36m(most recent call last)\u001b[0m:\n",
      "\u001b[0m  File \u001b[1;32m~/Library/Caches/pypoetry/virtualenvs/trade-executor-8Oz1GdY1-py3.10/lib/python3.10/site-packages/IPython/core/interactiveshell.py:3553\u001b[0m in \u001b[1;35mrun_code\u001b[0m\n    exec(code_obj, self.user_global_ns, self.user_ns)\u001b[0m\n",
      "\u001b[0m  Cell \u001b[1;32mIn[4], line 3\u001b[0m\n    from tradeexecutor.utils.binance import create_binance_universe\u001b[0m\n",
      "\u001b[0;36m  File \u001b[0;32m~/code/ts/trade-executor/tradeexecutor/utils/binance.py:11\u001b[0;36m\n\u001b[0;31m    from tradeexecutor.strategy.trading_strategy_universe import (\u001b[0;36m\n",
      "\u001b[0;36m  File \u001b[0;32m~/code/ts/trade-executor/tradeexecutor/strategy/trading_strategy_universe.py:196\u001b[0;36m\u001b[0m\n\u001b[0;31m    pair_str = \"-\".join([p.get_ticker() for p in self.data_universe.pairs.iterate_pairs()]\u001b[0m\n\u001b[0m                       ^\u001b[0m\n\u001b[0;31mSyntaxError\u001b[0m\u001b[0;31m:\u001b[0m '(' was never closed\n"
     ]
    }
   ],
   "source": [
    "import datetime\n",
    "from tradingstrategy.timebucket import TimeBucket\n",
    "from tradeexecutor.utils.binance import create_binance_universe\n",
    "\n",
    "strategy_universe = create_binance_universe(\n",
    "    [\"BTCUSDT\", \"ETHUSDT\"],   # Binance internal tickers later mapped to Trading strategy DEXPair metadata class\n",
    "    candle_time_bucket=TimeBucket.h8,\n",
    "    stop_loss_time_bucket=TimeBucket.h1,\n",
    "    start_at=datetime.datetime(2019, 1, 1),  # Backtest for 5 years data\n",
    "    end_at=datetime.datetime(2024, 1, 1),\n",
    "    include_lending=False\n",
    ")\n"
   ]
  },
  {
   "cell_type": "markdown",
   "metadata": {
    "collapsed": false
   },
   "source": [
    "# Show loaded trading universe\n",
    "\n",
    "Display generic troubleshooting information about the loaded data."
   ]
  },
  {
   "cell_type": "code",
   "execution_count": null,
   "metadata": {
    "ExecuteTime": {
     "end_time": "2024-02-12T13:25:19.765203Z",
     "start_time": "2024-02-12T13:25:19.760202Z"
    },
    "collapsed": false
   },
   "outputs": [],
   "source": [
    "pairs = strategy_universe.data_universe.pairs  # Trading pairs metadata\n",
    "candles = strategy_universe.data_universe.candles  # Candles for all trading pairs\n",
    "\n",
    "print(f\"Loaded {candles.get_candle_count():,} candles.\")\n",
    "\n",
    "for pair in pairs.iterate_pairs():\n",
    "    pair_candles = candles.get_candles_by_pair(pair)\n",
    "    first_close = pair_candles.iloc[0][\"close\"]\n",
    "    first_close_at = pair_candles.index[0]\n",
    "    print(f\"Pair {pair} first close price {first_close} at {first_close_at}\")"
   ]
  },
  {
   "cell_type": "markdown",
   "metadata": {
    "collapsed": false
   },
   "source": [
    "# Trading algorithm"
   ]
  },
  {
   "cell_type": "markdown",
   "metadata": {
    "collapsed": false
   },
   "source": [
    "# Search space\n",
    "\n",
    "Prepare the parameters we search."
   ]
  },
  {
   "cell_type": "code",
   "execution_count": null,
   "metadata": {
    "ExecuteTime": {
     "end_time": "2024-02-12T13:25:21.725394Z",
     "start_time": "2024-02-12T13:25:21.542713Z"
    },
    "collapsed": false
   },
   "outputs": [],
   "source": [
    "from tradeexecutor.strategy.cycle import CycleDuration\n",
    "from pathlib import Path\n",
    "from tradeexecutor.backtest.grid_search import prepare_grid_combinations\n",
    "\n",
    "# This is the path where we keep the result files around\n",
    "storage_folder = Path(\"/tmp/v13-small-timeframe\")\n",
    "\n",
    "class StrategyParameters:\n",
    "    cycle_duration = CycleDuration.cycle_1d\n",
    "    rsi_bars = [8, 9, 10]  # The length of RSI indicator\n",
    "    eth_btc_rsi_bars = [10, 15]  # The length of ETH/BTC RSI\n",
    "    rsi_high = [65, 67.5, 70, 72.5] # RSI trigger threshold for decision making\n",
    "    rsi_low = [55, 57, 60, 62, 65]  # RSI trigger threshold for decision making\n",
    "    allocation = 0.85 # Allocate 90% of cash to each position\n",
    "    lookback_candles = 120\n",
    "    minimum_rebalance_trade_percent = 0.10  # Don't do trades that would have less than 10% impact on the portfolio\n",
    "    initial_cash = 10_000 # Start with 10k USD\n",
    "    trailing_stop_loss = [None, 0.8]\n",
    "\n",
    "\n",
    "combinations = prepare_grid_combinations(StrategyParameters, storage_folder)\n",
    "print(f\"We prepared {len(combinations)} grid search combinations\")"
   ]
  },
  {
   "cell_type": "markdown",
   "metadata": {
    "collapsed": false
   },
   "source": [
    "# Grid search\n",
    "\n",
    "Run a grid search on the above function."
   ]
  },
  {
   "cell_type": "code",
   "execution_count": null,
   "metadata": {
    "ExecuteTime": {
     "end_time": "2024-02-12T13:25:56.691766Z",
     "start_time": "2024-02-12T13:25:21.726037Z"
    },
    "collapsed": false
   },
   "outputs": [],
   "source": [
    "from tradeexecutor.backtest.grid_search import perform_grid_search\n",
    "\n",
    "grid_search_results = perform_grid_search(\n",
    "    decide_trades,\n",
    "    strategy_universe,\n",
    "    combinations,\n",
    "    max_workers=8,\n",
    "    trading_strategy_engine_version=\"0.4\",\n",
    "    multiprocess=True,\n",
    ")\n"
   ]
  },
  {
   "cell_type": "markdown",
   "metadata": {
    "collapsed": false
   },
   "source": [
    "# Grid search result table\n",
    "\n",
    "- Show individual profit and risk for each grid combination"
   ]
  },
  {
   "cell_type": "code",
   "execution_count": null,
   "metadata": {
    "ExecuteTime": {
     "end_time": "2024-02-12T13:25:56.853534Z",
     "start_time": "2024-02-12T13:25:56.693518Z"
    },
    "collapsed": false
   },
   "outputs": [],
   "source": [
    "# Set Jupyter Notebook output mode parameters\n",
    "from tradeexecutor.analysis.grid_search import analyse_grid_search_result\n",
    "from tradeexecutor.analysis.grid_search import visualise_table\n",
    "\n",
    "# Print extension of our backtest\n",
    "print(f\"Grid search combinations available: {len(grid_search_results)}\")\n",
    "\n",
    "table = analyse_grid_search_result(grid_search_results)\n",
    "visualise_table(table)\n"
   ]
  },
  {
   "cell_type": "markdown",
   "metadata": {
    "collapsed": false
   },
   "source": [
    "# Heatmap\n",
    "\n",
    "- Verify that results look to cluster around certain values and do not follow a random pattern]"
   ]
  },
  {
   "cell_type": "code",
   "execution_count": null,
   "metadata": {
    "ExecuteTime": {
     "end_time": "2024-02-12T13:25:57.821918Z",
     "start_time": "2024-02-12T13:25:56.857061Z"
    },
    "collapsed": false
   },
   "outputs": [],
   "source": [
    "from tradeexecutor.analysis.grid_search import visualise_heatmap_2d\n",
    "\n",
    "\n",
    "# RSI length = 8, no stop loss\n",
    "heatmap_data = table.xs(key=(8, 15, pd.NA), level=(\"rsi_bars\", \"eth_btc_rsi_bars\", \"trailing_stop_loss\"))\n",
    "\n",
    "fig = visualise_heatmap_2d(heatmap_data, \"rsi_low\", \"rsi_high\", \"CAGR\")\n",
    "display(fig)\n"
   ]
  },
  {
   "cell_type": "code",
   "execution_count": null,
   "metadata": {},
   "outputs": [],
   "source": [
    "from tradeexecutor.analysis.grid_search import visualise_heatmap_2d\n",
    "\n",
    "\n",
    "# RSI length = 9, no stop loss\n",
    "heatmap_data = table.xs(key=(9, 10, pd.NA), level=(\"rsi_bars\", \"eth_btc_rsi_bars\", \"trailing_stop_loss\"))\n",
    "\n",
    "fig = visualise_heatmap_2d(heatmap_data, \"rsi_low\", \"rsi_high\", \"CAGR\")\n",
    "display(fig)\n"
   ]
  },
  {
   "cell_type": "markdown",
   "metadata": {
    "collapsed": false
   },
   "source": [
    "# Equity curve comparison\n",
    "\n",
    "- Compare the equity curves of all grid search results\n",
    "- Show the grid search parameters as the tool tip\n",
    "- Add buy and hold benchmarks on the plot"
   ]
  },
  {
   "cell_type": "code",
   "execution_count": null,
   "metadata": {
    "ExecuteTime": {
     "end_time": "2024-02-12T13:26:01.605348Z",
     "start_time": "2024-02-12T13:25:57.829917Z"
    },
    "collapsed": false
   },
   "outputs": [],
   "source": [
    "from tradeexecutor.analysis.grid_search import visualise_grid_search_equity_curves\n",
    "from tradeexecutor.visual.benchmark import create_benchmark_equity_curves\n",
    "\n",
    "benchmark_indexes = create_benchmark_equity_curves(\n",
    "    strategy_universe,\n",
    "    {\"BTC\": our_pairs[0], \"ETH\": our_pairs[1]},\n",
    "    initial_cash=StrategyParameters.initial_cash,\n",
    ")\n",
    "\n",
    "# Remove visual clutter\n",
    "filtered_grid_search_results = [r for r in grid_search_results if r.get_metric(\"CAGR﹪\") >= 0.40]\n",
    "\n",
    "fig = visualise_grid_search_equity_curves(\n",
    "    filtered_grid_search_results,\n",
    "    benchmark_indexes=benchmark_indexes,\n",
    "    log_y=True,\n",
    ")\n",
    "fig.show()"
   ]
  }
 ],
 "metadata": {
  "kernelspec": {
   "display_name": "Python 3 (ipykernel)",
   "language": "python",
   "name": "python3"
  },
  "language_info": {
   "codemirror_mode": {
    "name": "ipython",
    "version": 3
   },
   "file_extension": ".py",
   "mimetype": "text/x-python",
   "name": "python",
   "nbconvert_exporter": "python",
   "pygments_lexer": "ipython3",
   "version": "3.10.13"
  },
  "vscode": {
   "interpreter": {
    "hash": "f45fb66dacef78c495ceec56f258b06b84bd9cb2c0a9a6d3656125fb3c018996"
   }
  }
 },
 "nbformat": 4,
 "nbformat_minor": 4
}

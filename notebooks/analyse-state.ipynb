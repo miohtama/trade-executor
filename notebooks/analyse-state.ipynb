{
 "cells": [
  {
   "cell_type": "markdown",
   "source": [
    "# Analyse a state file\n",
    "\n",
    "For debugging state management issues of trade-executors.\n",
    "\n",
    "- Download a state file from the remote server\n",
    "- Open it with notebook, or clone of the notebook, for inspection"
   ],
   "metadata": {
    "collapsed": false
   }
  },
  {
   "cell_type": "code",
   "execution_count": 1,
   "outputs": [
    {
     "name": "stderr",
     "output_type": "stream",
     "text": [
      "/Users/moo/Library/Caches/pypoetry/virtualenvs/trade-executor-8Oz1GdY1-py3.10/lib/python3.10/site-packages/dataclasses_json/core.py:184: RuntimeWarning: `NoneType` object value of non-optional type initial_cash detected when decoding TradeSummary.\n",
      "  warnings.warn(\n",
      "/Users/moo/Library/Caches/pypoetry/virtualenvs/trade-executor-8Oz1GdY1-py3.10/lib/python3.10/site-packages/dataclasses_json/core.py:184: RuntimeWarning: `NoneType` object value of non-optional type duration detected when decoding TradeSummary.\n",
      "  warnings.warn(\n",
      "/Users/moo/Library/Caches/pypoetry/virtualenvs/trade-executor-8Oz1GdY1-py3.10/lib/python3.10/site-packages/dataclasses_json/core.py:184: RuntimeWarning: `NoneType` object value of non-optional type average_winning_trade_profit_pc detected when decoding TradeSummary.\n",
      "  warnings.warn(\n",
      "/Users/moo/Library/Caches/pypoetry/virtualenvs/trade-executor-8Oz1GdY1-py3.10/lib/python3.10/site-packages/dataclasses_json/core.py:184: RuntimeWarning: `NoneType` object value of non-optional type average_losing_trade_loss_pc detected when decoding TradeSummary.\n",
      "  warnings.warn(\n"
     ]
    }
   ],
   "source": [
    "from pathlib import Path\n",
    "from tradeexecutor.state.state import State\n",
    "\n",
    "state = State.read_json_file(Path.home() / \"code\" / \"ts\" / \"enzyme-polygon-matic-usdc.json\")\n",
    "\n"
   ],
   "metadata": {
    "collapsed": false,
    "ExecuteTime": {
     "end_time": "2023-07-04T09:33:44.387546Z",
     "start_time": "2023-07-04T09:33:43.244123Z"
    }
   }
  },
  {
   "cell_type": "markdown",
   "source": [
    "## Open positions\n"
   ],
   "metadata": {
    "collapsed": false
   }
  },
  {
   "cell_type": "code",
   "execution_count": 2,
   "outputs": [
    {
     "data": {
      "text/plain": "  Flags       Ticker Profit         Opened at Closed at Notes Trade id  \\\n4        WMATIC-USDC         2023-07-02 23:00                            \n4                                                                    6   \n2     R  WMATIC-USDC         2023-06-29 12:00                            \n2                                                                    3   \n2                                                                    4   \n2                                                                    7   \n\n      Price      Trade opened    Trade executed  \\\n4                                                 \n4  0.683398  2023-07-02 23:00  2023-07-02 23:00   \n2                                                 \n2  0.640904  2023-06-29 12:00  2023-06-29 12:00   \n2            2023-06-29 14:51  2023-07-03 07:45   \n2  0.627045  2023-06-29 14:51  2023-07-03 07:45   \n\n                           Trade notes  \n4                                       \n4                                       \n2                                       \n2                                       \n2  Repaired at 2023-07-03 07:45, by #7  \n2                   Repairing trade #4  ",
      "text/html": "<div>\n<style scoped>\n    .dataframe tbody tr th:only-of-type {\n        vertical-align: middle;\n    }\n\n    .dataframe tbody tr th {\n        vertical-align: top;\n    }\n\n    .dataframe thead th {\n        text-align: right;\n    }\n</style>\n<table border=\"1\" class=\"dataframe\">\n  <thead>\n    <tr style=\"text-align: right;\">\n      <th></th>\n      <th>Flags</th>\n      <th>Ticker</th>\n      <th>Profit</th>\n      <th>Opened at</th>\n      <th>Closed at</th>\n      <th>Notes</th>\n      <th>Trade id</th>\n      <th>Price</th>\n      <th>Trade opened</th>\n      <th>Trade executed</th>\n      <th>Trade notes</th>\n    </tr>\n  </thead>\n  <tbody>\n    <tr>\n      <th>4</th>\n      <td></td>\n      <td>WMATIC-USDC</td>\n      <td></td>\n      <td>2023-07-02 23:00</td>\n      <td></td>\n      <td></td>\n      <td></td>\n      <td></td>\n      <td></td>\n      <td></td>\n      <td></td>\n    </tr>\n    <tr>\n      <th>4</th>\n      <td></td>\n      <td></td>\n      <td></td>\n      <td></td>\n      <td></td>\n      <td></td>\n      <td>6</td>\n      <td>0.683398</td>\n      <td>2023-07-02 23:00</td>\n      <td>2023-07-02 23:00</td>\n      <td></td>\n    </tr>\n    <tr>\n      <th>2</th>\n      <td>R</td>\n      <td>WMATIC-USDC</td>\n      <td></td>\n      <td>2023-06-29 12:00</td>\n      <td></td>\n      <td></td>\n      <td></td>\n      <td></td>\n      <td></td>\n      <td></td>\n      <td></td>\n    </tr>\n    <tr>\n      <th>2</th>\n      <td></td>\n      <td></td>\n      <td></td>\n      <td></td>\n      <td></td>\n      <td></td>\n      <td>3</td>\n      <td>0.640904</td>\n      <td>2023-06-29 12:00</td>\n      <td>2023-06-29 12:00</td>\n      <td></td>\n    </tr>\n    <tr>\n      <th>2</th>\n      <td></td>\n      <td></td>\n      <td></td>\n      <td></td>\n      <td></td>\n      <td></td>\n      <td>4</td>\n      <td></td>\n      <td>2023-06-29 14:51</td>\n      <td>2023-07-03 07:45</td>\n      <td>Repaired at 2023-07-03 07:45, by #7</td>\n    </tr>\n    <tr>\n      <th>2</th>\n      <td></td>\n      <td></td>\n      <td></td>\n      <td></td>\n      <td></td>\n      <td></td>\n      <td>7</td>\n      <td>0.627045</td>\n      <td>2023-06-29 14:51</td>\n      <td>2023-07-03 07:45</td>\n      <td>Repairing trade #4</td>\n    </tr>\n  </tbody>\n</table>\n</div>"
     },
     "execution_count": 2,
     "metadata": {},
     "output_type": "execute_result"
    }
   ],
   "source": [
    "from tradeexecutor.analysis.position import display_positions\n",
    "\n",
    "display_positions(state.portfolio.open_positions.values())\n"
   ],
   "metadata": {
    "collapsed": false,
    "ExecuteTime": {
     "end_time": "2023-07-04T09:33:44.396605Z",
     "start_time": "2023-07-04T09:33:44.389005Z"
    }
   }
  },
  {
   "cell_type": "markdown",
   "source": [
    "## Frozen positions"
   ],
   "metadata": {
    "collapsed": false
   }
  },
  {
   "cell_type": "code",
   "execution_count": 3,
   "outputs": [
    {
     "data": {
      "text/plain": "Empty DataFrame\nColumns: []\nIndex: []",
      "text/html": "<div>\n<style scoped>\n    .dataframe tbody tr th:only-of-type {\n        vertical-align: middle;\n    }\n\n    .dataframe tbody tr th {\n        vertical-align: top;\n    }\n\n    .dataframe thead th {\n        text-align: right;\n    }\n</style>\n<table border=\"1\" class=\"dataframe\">\n  <thead>\n    <tr style=\"text-align: right;\">\n      <th></th>\n    </tr>\n  </thead>\n  <tbody>\n  </tbody>\n</table>\n</div>"
     },
     "execution_count": 3,
     "metadata": {},
     "output_type": "execute_result"
    }
   ],
   "source": [
    "display_positions(state.portfolio.frozen_positions.values())"
   ],
   "metadata": {
    "collapsed": false,
    "ExecuteTime": {
     "end_time": "2023-07-04T09:33:44.401597Z",
     "start_time": "2023-07-04T09:33:44.398604Z"
    }
   }
  },
  {
   "cell_type": "markdown",
   "source": [
    "## Closed positions"
   ],
   "metadata": {
    "collapsed": false
   }
  },
  {
   "cell_type": "code",
   "execution_count": 4,
   "outputs": [
    {
     "data": {
      "text/plain": "  Flags       Ticker    Profit         Opened at         Closed at Notes  \\\n1        WMATIC-USDC -1.685548  2023-06-23 16:00  2023-06-23 22:00         \n1                                                                          \n1                                                                          \n3     R  WMATIC-USDC       0.0  2023-06-30 04:00  2023-07-03 07:45         \n3                                                                          \n3                                                                          \n\n  Trade id     Price      Trade opened    Trade executed  \\\n1                                                          \n1        1  0.683945  2023-06-23 16:00  2023-06-23 16:00   \n1        2  0.672416  2023-06-23 22:00  2023-06-23 22:00   \n3                                                          \n3        5            2023-06-30 04:00  2023-07-03 07:45   \n3        8  0.650237  2023-06-30 04:00  2023-07-03 07:45   \n\n                           Trade notes  \n1                                       \n1                                       \n1                                       \n3                                       \n3  Repaired at 2023-07-03 07:45, by #8  \n3                   Repairing trade #5  ",
      "text/html": "<div>\n<style scoped>\n    .dataframe tbody tr th:only-of-type {\n        vertical-align: middle;\n    }\n\n    .dataframe tbody tr th {\n        vertical-align: top;\n    }\n\n    .dataframe thead th {\n        text-align: right;\n    }\n</style>\n<table border=\"1\" class=\"dataframe\">\n  <thead>\n    <tr style=\"text-align: right;\">\n      <th></th>\n      <th>Flags</th>\n      <th>Ticker</th>\n      <th>Profit</th>\n      <th>Opened at</th>\n      <th>Closed at</th>\n      <th>Notes</th>\n      <th>Trade id</th>\n      <th>Price</th>\n      <th>Trade opened</th>\n      <th>Trade executed</th>\n      <th>Trade notes</th>\n    </tr>\n  </thead>\n  <tbody>\n    <tr>\n      <th>1</th>\n      <td></td>\n      <td>WMATIC-USDC</td>\n      <td>-1.685548</td>\n      <td>2023-06-23 16:00</td>\n      <td>2023-06-23 22:00</td>\n      <td></td>\n      <td></td>\n      <td></td>\n      <td></td>\n      <td></td>\n      <td></td>\n    </tr>\n    <tr>\n      <th>1</th>\n      <td></td>\n      <td></td>\n      <td></td>\n      <td></td>\n      <td></td>\n      <td></td>\n      <td>1</td>\n      <td>0.683945</td>\n      <td>2023-06-23 16:00</td>\n      <td>2023-06-23 16:00</td>\n      <td></td>\n    </tr>\n    <tr>\n      <th>1</th>\n      <td></td>\n      <td></td>\n      <td></td>\n      <td></td>\n      <td></td>\n      <td></td>\n      <td>2</td>\n      <td>0.672416</td>\n      <td>2023-06-23 22:00</td>\n      <td>2023-06-23 22:00</td>\n      <td></td>\n    </tr>\n    <tr>\n      <th>3</th>\n      <td>R</td>\n      <td>WMATIC-USDC</td>\n      <td>0.0</td>\n      <td>2023-06-30 04:00</td>\n      <td>2023-07-03 07:45</td>\n      <td></td>\n      <td></td>\n      <td></td>\n      <td></td>\n      <td></td>\n      <td></td>\n    </tr>\n    <tr>\n      <th>3</th>\n      <td></td>\n      <td></td>\n      <td></td>\n      <td></td>\n      <td></td>\n      <td></td>\n      <td>5</td>\n      <td></td>\n      <td>2023-06-30 04:00</td>\n      <td>2023-07-03 07:45</td>\n      <td>Repaired at 2023-07-03 07:45, by #8</td>\n    </tr>\n    <tr>\n      <th>3</th>\n      <td></td>\n      <td></td>\n      <td></td>\n      <td></td>\n      <td></td>\n      <td></td>\n      <td>8</td>\n      <td>0.650237</td>\n      <td>2023-06-30 04:00</td>\n      <td>2023-07-03 07:45</td>\n      <td>Repairing trade #5</td>\n    </tr>\n  </tbody>\n</table>\n</div>"
     },
     "execution_count": 4,
     "metadata": {},
     "output_type": "execute_result"
    }
   ],
   "source": [
    "display_positions(state.portfolio.closed_positions.values())"
   ],
   "metadata": {
    "collapsed": false,
    "ExecuteTime": {
     "end_time": "2023-07-04T09:33:44.406552Z",
     "start_time": "2023-07-04T09:33:44.404777Z"
    }
   }
  }
 ],
 "metadata": {
  "kernelspec": {
   "display_name": "Python 3",
   "language": "python",
   "name": "python3"
  },
  "language_info": {
   "codemirror_mode": {
    "name": "ipython",
    "version": 2
   },
   "file_extension": ".py",
   "mimetype": "text/x-python",
   "name": "python",
   "nbconvert_exporter": "python",
   "pygments_lexer": "ipython2",
   "version": "2.7.6"
  }
 },
 "nbformat": 4,
 "nbformat_minor": 0
}

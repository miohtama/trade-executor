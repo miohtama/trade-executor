{
 "cells": [
  {
   "cell_type": "markdown",
   "source": [
    "# Analyse reserve\n",
    "\n",
    "Analyse the reseve position for a strategy.\n",
    "\n",
    " - A script for detailed calculations of a resever position\n"
   ],
   "metadata": {
    "collapsed": false
   }
  },
  {
   "cell_type": "code",
   "execution_count": 1,
   "outputs": [],
   "source": [
    "trade_executors = [\n",
    "    \"https://enzyme-polygon-eth-usdc-sls.tradingstrategy.ai\",\n",
    "]\n",
    "\n"
   ],
   "metadata": {
    "collapsed": false,
    "ExecuteTime": {
     "end_time": "2023-07-17T11:19:50.235350Z",
     "start_time": "2023-07-17T11:19:50.230358Z"
    }
   }
  },
  {
   "cell_type": "code",
   "execution_count": 2,
   "outputs": [
    {
     "name": "stdout",
     "output_type": "stream",
     "text": [
      "Downloaded 142,880 bytes\n"
     ]
    }
   ],
   "source": [
    "import requests\n",
    "from tradeexecutor.state.state import State\n",
    "\n",
    "total_downloaded = 0\n",
    "\n",
    "def download_state(url) -> State:\n",
    "    global total_downloaded\n",
    "    resp = requests.get(f\"{url}/state\")\n",
    "\n",
    "    if len(resp.content) == 0:\n",
    "        raise RuntimeError(f\"Could not download: {url}\")\n",
    "\n",
    "    try:\n",
    "        state = State.read_json_blob(resp.text)\n",
    "    except Exception as e:\n",
    "        raise RuntimeError(f\"Could not decode: {url}\") from e\n",
    "    total_downloaded += len(resp.content)\n",
    "    return state\n",
    "\n",
    "states = [download_state(url)for url in trade_executors]\n",
    "\n",
    "print(f\"Downloaded {total_downloaded:,} bytes\")"
   ],
   "metadata": {
    "collapsed": false,
    "ExecuteTime": {
     "end_time": "2023-07-17T11:19:51.670656Z",
     "start_time": "2023-07-17T11:19:50.238682Z"
    }
   }
  },
  {
   "cell_type": "markdown",
   "source": [
    "## Denormalised balance"
   ],
   "metadata": {
    "collapsed": false
   }
  },
  {
   "cell_type": "code",
   "execution_count": 3,
   "outputs": [
    {
     "name": "stdout",
     "output_type": "stream",
     "text": [
      "Number of reserve assets: 1\n",
      "Reserves: <USDC at 0x2791bca1f2de4661ed88a30c99a7a9449aa84174> at 1.0 USDC / USD\n",
      "Amount: 17.27981900000000000000000000 USDC\n",
      "Equity: 17.279819 USD\n",
      "Value: 17.279819 USD\n",
      "Balance updates: 8.676756 USDC\n",
      "Number of balance updates events: 1\n",
      "Number of events references in the portfolio overall: 1\n"
     ]
    }
   ],
   "source": [
    "\n",
    "state: State\n",
    "for state in states:\n",
    "    portfolio = state.portfolio\n",
    "    asset, exchange_rate = state.portfolio.get_default_reserve_asset()\n",
    "    position = portfolio.get_default_reserve_position()\n",
    "    print(f\"Number of reserve assets: {len(portfolio.reserves)}\")\n",
    "    print(f\"Reserves: {asset} at {exchange_rate} {asset.token_symbol} / USD\")\n",
    "    print(f\"Amount: {position.get_quantity()} {asset.token_symbol}\")\n",
    "    print(f\"Equity: {position.get_total_equity()} USD\")\n",
    "    print(f\"Value: {position.get_value()} USD\")\n",
    "    print(f\"Balance updates: {position.get_balance_update_quantity()} {asset.token_symbol}\")\n",
    "    print(f\"Number of balance updates events: {len(position.balance_updates)}\")\n",
    "    print(f\"Number of events references in the portfolio overall: {len(state.sync.treasury.balance_update_refs)}\")"
   ],
   "metadata": {
    "collapsed": false,
    "ExecuteTime": {
     "end_time": "2023-07-17T11:19:51.670875Z",
     "start_time": "2023-07-17T11:19:51.670485Z"
    }
   }
  },
  {
   "cell_type": "markdown",
   "source": [
    "## Individual events\n",
    "\n",
    "For the last analysed executor."
   ],
   "metadata": {
    "collapsed": false
   }
  },
  {
   "cell_type": "code",
   "execution_count": 4,
   "outputs": [
    {
     "data": {
      "text/plain": "     Cause                  At  Quantity  Dollar value Address  \\\n1  deposit 2023-07-15 13:19:10  8.676756      8.676756           \n\n                        Notes  \n1  reinit() at block 45109347  ",
      "text/html": "<div>\n<style scoped>\n    .dataframe tbody tr th:only-of-type {\n        vertical-align: middle;\n    }\n\n    .dataframe tbody tr th {\n        vertical-align: top;\n    }\n\n    .dataframe thead th {\n        text-align: right;\n    }\n</style>\n<table border=\"1\" class=\"dataframe\">\n  <thead>\n    <tr style=\"text-align: right;\">\n      <th></th>\n      <th>Cause</th>\n      <th>At</th>\n      <th>Quantity</th>\n      <th>Dollar value</th>\n      <th>Address</th>\n      <th>Notes</th>\n    </tr>\n  </thead>\n  <tbody>\n    <tr>\n      <th>1</th>\n      <td>deposit</td>\n      <td>2023-07-15 13:19:10</td>\n      <td>8.676756</td>\n      <td>8.676756</td>\n      <td></td>\n      <td>reinit() at block 45109347</td>\n    </tr>\n  </tbody>\n</table>\n</div>"
     },
     "metadata": {},
     "output_type": "display_data"
    }
   ],
   "source": [
    "from tradeexecutor.analysis.position import display_reserve_position_events\n",
    "\n",
    "df = display_reserve_position_events(position)\n",
    "display(df)\n"
   ],
   "metadata": {
    "collapsed": false,
    "ExecuteTime": {
     "end_time": "2023-07-17T11:19:51.670995Z",
     "start_time": "2023-07-17T11:19:51.670763Z"
    }
   }
  },
  {
   "cell_type": "code",
   "execution_count": 4,
   "outputs": [],
   "source": [],
   "metadata": {
    "collapsed": false,
    "ExecuteTime": {
     "end_time": "2023-07-17T11:19:51.673178Z",
     "start_time": "2023-07-17T11:19:51.671810Z"
    }
   }
  }
 ],
 "metadata": {
  "kernelspec": {
   "display_name": "Python 3",
   "language": "python",
   "name": "python3"
  },
  "language_info": {
   "codemirror_mode": {
    "name": "ipython",
    "version": 2
   },
   "file_extension": ".py",
   "mimetype": "text/x-python",
   "name": "python",
   "nbconvert_exporter": "python",
   "pygments_lexer": "ipython2",
   "version": "2.7.6"
  }
 },
 "nbformat": 4,
 "nbformat_minor": 0
}

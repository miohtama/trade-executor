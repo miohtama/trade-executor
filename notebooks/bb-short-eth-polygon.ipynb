{
 "cells": [
  {
   "cell_type": "markdown",
   "metadata": {
    "tags": []
   },
   "source": [
    "# Short strategy example\n",
    "\n",
    "An example short-only strategy using bollinger bands.\n",
    "\n",
    "## Github notebook rendering issues\n",
    "\n",
    "**If you are viewing this file on Github**: The current Github online notebook viewer cannot render the interactive Plotly charts used in this notebook.\n",
    "To view the charts, you need to download run the notebook locally."
   ]
  },
  {
   "cell_type": "markdown",
   "metadata": {
    "tags": []
   },
   "source": [
    "## Set up\n",
    "\n",
    "Set up the parameters used in in this strategy backtest study.\n",
    "\n",
    "- Backtested blockchain, exchange and trading pair\n",
    "- Backtesting period\n",
    "- Strategy parameters for EMA crossovers"
   ]
  },
  {
   "cell_type": "code",
   "execution_count": 1,
   "metadata": {
    "collapsed": false,
    "jupyter": {
     "outputs_hidden": false
    },
    "tags": []
   },
   "outputs": [],
   "source": [
    "import datetime\n",
    "import pandas as pd\n",
    "\n",
    "from tradingstrategy.chain import ChainId\n",
    "from tradingstrategy.timebucket import TimeBucket\n",
    "from tradingstrategy.lending import LendingProtocolType\n",
    "from tradeexecutor.strategy.cycle import CycleDuration\n",
    "from tradeexecutor.strategy.strategy_module import StrategyType, TradeRouting, ReserveCurrency\n",
    "\n",
    "# Tell what trade execution engine version this strategy needs to use\n",
    "# NOTE: this setting has currently no effect\n",
    "TRADING_STRATEGY_TYPE_ENGINE_VERSION = \"0.1\"\n",
    "\n",
    "# What kind of strategy we are running.\n",
    "# This tells we are going to use\n",
    "# NOTE: this setting has currently no effect\n",
    "TRADING_STRATEGY_TYPE = StrategyType.managed_positions\n",
    "\n",
    "# How our trades are routed.\n",
    "TRADE_ROUTING = TradeRouting.uniswap_v3_usdc_poly\n",
    "\n",
    "# How often the strategy performs the decide_trades cycle.\n",
    "# We do it for every 4h.\n",
    "TRADING_STRATEGY_CYCLE = CycleDuration.cycle_1d\n",
    "\n",
    "# Strategy keeps its cash in USDC\n",
    "RESERVE_CURRENCY = ReserveCurrency.usdc\n",
    "\n",
    "# Time bucket for our candles\n",
    "CANDLE_TIME_BUCKET = TimeBucket.d1\n",
    "\n",
    "# Which trading pair we are backtesting on\n",
    "TRADING_PAIR = (ChainId.polygon, \"uniswap-v3\", \"WETH\", \"USDC\", 0.0005)\n",
    "\n",
    "# Which lending reserves we are using for supplying/borrowing assets\n",
    "LENDING_RESERVES = [\n",
    "    (ChainId.polygon, LendingProtocolType.aave_v3, \"WETH\"),\n",
    "    (ChainId.polygon, LendingProtocolType.aave_v3, \"USDC\"),\n",
    "]\n",
    "\n",
    "# How much % of the cash to put on a single trade\n",
    "POSITION_SIZE = 0.50\n",
    "\n",
    "# Start with this amount of USD\n",
    "INITIAL_DEPOSIT = 5_000\n",
    "\n",
    "# Candle time granularity we use to trigger stop loss checks\n",
    "STOP_LOSS_TIME_BUCKET = TimeBucket.m15\n",
    "\n",
    "#\n",
    "# Strategy thinking specific parameter\n",
    "#\n",
    "\n",
    "# How many candles we load in the decide_trades() function for calculating indicators\n",
    "LOOKBACK_WINDOW = 90\n",
    "\n",
    "# Moving average \n",
    "# \n",
    "# How many candles to smooth out for Bollinger band's middle line\n",
    "EMA_CANDLE_COUNT = 20  \n",
    "\n",
    "# How many candles we use to calculate the Relative Strength Indicator\n",
    "RSI_LENGTH = 14\n",
    "\n",
    "# RSI must be above this value to open a new position\n",
    "RSI_THRESHOLD = 65\n",
    "\n",
    "# Backtest range\n",
    "START_AT = datetime.datetime(2023, 1, 1)\n",
    "\n",
    "# Backtest range\n",
    "END_AT = datetime.datetime(2023, 6, 1)\n",
    "\n",
    "# Stop loss relative to the mid price during the time when the position is opened\n",
    "#\n",
    "# If the price drops below this level, trigger a stop loss\n",
    "STOP_LOSS_PCT = 0.98\n",
    "\n",
    "TAKE_PROFIT_PCT = 1.04\n"
   ]
  },
  {
   "cell_type": "markdown",
   "metadata": {},
   "source": [
    "## Strategy logic and trade decisions\n",
    "\n",
    "- `decide_trades` function decide what trades to take.\n",
    "- In this example, we calculate two exponential moving averages\n",
    "(EMAs) and make decisions based on those.\n",
    "\n",
    "### Indicators\n",
    "\n",
    "- Note how we also make use of detached and overlayed technical indicators, so that the price chart is not overcrowded\n"
   ]
  },
  {
   "cell_type": "code",
   "execution_count": 2,
   "metadata": {
    "collapsed": false,
    "jupyter": {
     "outputs_hidden": false
    },
    "tags": []
   },
   "outputs": [],
   "source": [
    "from typing import List, Dict\n",
    "\n",
    "from pandas_ta import bbands\n",
    "from pandas_ta.overlap import ema\n",
    "from pandas_ta.momentum import rsi\n",
    "\n",
    "from tradingstrategy.universe import Universe\n",
    "from tradeexecutor.strategy.trading_strategy_universe import TradingStrategyUniverse\n",
    "\n",
    "from tradeexecutor.state.visualisation import PlotKind\n",
    "from tradeexecutor.state.trade import TradeExecution\n",
    "from tradeexecutor.strategy.pricing_model import PricingModel\n",
    "from tradeexecutor.strategy.pandas_trader.position_manager import PositionManager\n",
    "from tradeexecutor.state.state import State\n",
    "from tradeexecutor.strategy.pandas_trader.position_manager import PositionManager\n",
    "\n",
    "\n",
    "def decide_trades(\n",
    "        timestamp: pd.Timestamp,\n",
    "        strategy_universe: TradingStrategyUniverse,\n",
    "        state: State,\n",
    "        pricing_model: PricingModel,\n",
    "        cycle_debug_data: Dict) -> List[TradeExecution]:\n",
    "    \"\"\"The brain function to decide the trades on each trading strategy cycle.\n",
    "\n",
    "    - Reads incoming execution state (positions, past trades)\n",
    "\n",
    "    - Reads the current universe (candles)\n",
    "\n",
    "    - Decides what trades to do next, if any, at current timestamp.\n",
    "\n",
    "    - Outputs strategy thinking for visualisation and debug messages\n",
    "\n",
    "    :param timestamp:\n",
    "        The Pandas timestamp object for this cycle. Matches\n",
    "        TRADING_STRATEGY_CYCLE division.\n",
    "        Always truncated to the zero seconds and minutes, never a real-time clock.\n",
    "\n",
    "    :param universe:\n",
    "        Trading universe that was constructed earlier.\n",
    "\n",
    "    :param state:\n",
    "        The current trade execution state.\n",
    "        Contains current open positions and all previously executed trades, plus output\n",
    "        for statistics, visualisation and diangnostics of the strategy.\n",
    "\n",
    "    :param pricing_model:\n",
    "        Pricing model can tell the buy/sell price of the particular asset at a particular moment.\n",
    "\n",
    "    :param cycle_debug_data:\n",
    "        Python dictionary for various debug variables you can read or set, specific to this trade cycle.\n",
    "        This data is discarded at the end of the trade cycle.\n",
    "\n",
    "    :return:\n",
    "        List of trade instructions in the form of :py:class:`TradeExecution` instances.\n",
    "        The trades can be generated using `position_manager` but strategy could also hand craft its trades.\n",
    "    \"\"\"\n",
    "    universe = strategy_universe.universe\n",
    "\n",
    "    # We have only a single trading pair for this strategy.\n",
    "    pair = universe.pairs.get_single()\n",
    "\n",
    "    # Here we manipulate the pair trading fee.\n",
    "    # A live trading would happen on Polygon Uniswap v3 ETH-USDC pool with 0.05% LP fee.\n",
    "    # But this pool was deployed only couple of weeks back, so we do not have backtesting history for it.\n",
    "    # Thus, we are backtesting with QuickSwap ETH-USDC pair that has 0.30% LP fee tier, which\n",
    "    # we need to bump down to reflect the live trading situation.\n",
    "    # Drop the fee to 5 BPSs.\n",
    "    pair.fee = 0.0005\n",
    "\n",
    "    # How much cash we have in a hand\n",
    "    cash = state.portfolio.get_current_cash()\n",
    "\n",
    "    # Get OHLCV candles for our trading pair as Pandas Dataframe.\n",
    "    # We could have candles for multiple trading pairs in a different strategy,\n",
    "    # but this strategy only operates on single pair candle.\n",
    "    # We also limit our sample size to N latest candles to speed up calculations.\n",
    "    candles: pd.DataFrame = universe.candles.get_single_pair_data(timestamp, sample_count=LOOKBACK_WINDOW)\n",
    "\n",
    "    # We have data for open, high, close, etc.\n",
    "    # We only operate using candle close values in this strategy.\n",
    "    close_prices = candles[\"close\"]\n",
    "\n",
    "    # Calculate exponential moving for candle close\n",
    "    # https://tradingstrategy.ai/docs/programming/api/technical-analysis/overlap/help/pandas_ta.overlap.ema.html#ema\n",
    "    moving_average = ema(close_prices, length=EMA_CANDLE_COUNT)\n",
    "    \n",
    "    # Calculate RSI for candle close\n",
    "    # https://tradingstrategy.ai/docs/programming/api/technical-analysis/momentum/help/pandas_ta.momentum.rsi.html#rsi\n",
    "    current_rsi = rsi(close_prices, length=RSI_LENGTH)[-1]\n",
    "\n",
    "    trades = []\n",
    "\n",
    "    if moving_average is None:\n",
    "        # Cannot calculate EMA, because\n",
    "        # not enough samples in backtesting buffer yet.\n",
    "        return trades\n",
    "\n",
    "    price_close = close_prices.iloc[-1]\n",
    "\n",
    "    # Create a position manager helper class that allows us easily to create\n",
    "    # opening/closing trades for different positions\n",
    "    position_manager = PositionManager(timestamp, strategy_universe, state, pricing_model)\n",
    "\n",
    "    # Calculate Bollinger Bands with a 20-day SMA and 2 standard deviations using pandas_ta\n",
    "    # See documentation here https://tradingstrategy.ai/docs/programming/api/technical-analysis/volatility/help/pandas_ta.volatility.bbands.html#bbands\n",
    "    bollinger_bands = bbands(close_prices, length=20, std=2)\n",
    "    bb_upper = bollinger_bands[\"BBU_20_2.0\"]\n",
    "    bb_lower = bollinger_bands[\"BBL_20_2.0\"]\n",
    "\n",
    "    if not position_manager.is_any_open():\n",
    "        # No open positions, decide if short in this cycle.\n",
    "        # We open short if the latest candle has upper wick above BB upper line and close under this line\n",
    "        if candles[\"high\"].iloc[-1] > bb_upper.iloc[-1] and price_close < bb_upper.iloc[-1] and current_rsi < RSI_THRESHOLD:\n",
    "            amount = cash * POSITION_SIZE\n",
    "            new_trades = position_manager.open_short(pair, amount, leverage=2, stop_loss_pct=STOP_LOSS_PCT, take_profit_pct=TAKE_PROFIT_PCT)\n",
    "            trades.extend(new_trades)\n",
    "\n",
    "    else:\n",
    "        # We close the position when the price closes below the 20-day moving average.        \n",
    "        if price_close < moving_average.iloc[-1]:\n",
    "            print(price_close, moving_average.iloc[-1])\n",
    "            new_trades = position_manager.close_all()\n",
    "            trades.extend(new_trades)\n",
    "        \n",
    "    # Visualise our technical indicators\n",
    "    visualisation = state.visualisation\n",
    "    visualisation.plot_indicator(timestamp, \"BB upper\", PlotKind.technical_indicator_on_price, bb_upper.iloc[-1], colour=\"darkblue\")\n",
    "    visualisation.plot_indicator(timestamp, \"BB lower\", PlotKind.technical_indicator_on_price, bb_lower.iloc[-1], colour=\"darkblue\")\n",
    "    visualisation.plot_indicator(timestamp, \"EMA\", PlotKind.technical_indicator_on_price, moving_average.iloc[-1], colour=\"darkgreen\")\n",
    "    visualisation.plot_indicator(timestamp, \"RSI\", PlotKind.technical_indicator_detached, current_rsi)\n",
    "\n",
    "    return trades"
   ]
  },
  {
   "cell_type": "markdown",
   "metadata": {},
   "source": [
    "## Defining the trading universe\n",
    "\n",
    "We create a trading universe with a single blockchain, single exchange and a single trading pair.\n",
    "\n",
    "Trading Strategy framework supports complex strategies, spanning thousands of pairs and lending pools,\n",
    "but we are not interested in this example."
   ]
  },
  {
   "cell_type": "code",
   "execution_count": 3,
   "metadata": {
    "collapsed": false,
    "jupyter": {
     "outputs_hidden": false
    },
    "tags": []
   },
   "outputs": [],
   "source": [
    "import datetime\n",
    "from tradingstrategy.client import Client\n",
    "from tradeexecutor.strategy.trading_strategy_universe import TradingStrategyUniverse, load_partial_data\n",
    "from tradeexecutor.strategy.execution_context import ExecutionContext\n",
    "from tradeexecutor.strategy.universe_model import UniverseOptions\n",
    "\n",
    "\n",
    "def create_single_pair_trading_universe(\n",
    "        ts: datetime.datetime,\n",
    "        client: Client,\n",
    "        execution_context: ExecutionContext,\n",
    "        universe_options: UniverseOptions,\n",
    ") -> TradingStrategyUniverse:\n",
    "    dataset = load_partial_data(\n",
    "        client,\n",
    "        execution_context=execution_context,\n",
    "        time_bucket=CANDLE_TIME_BUCKET,\n",
    "        pairs=[TRADING_PAIR],\n",
    "        universe_options=universe_options,\n",
    "        start_at=universe_options.start_at,\n",
    "        end_at=universe_options.end_at,\n",
    "        lending_reserves=LENDING_RESERVES,\n",
    "        stop_loss_time_bucket=STOP_LOSS_TIME_BUCKET,\n",
    "    )\n",
    "\n",
    "    # Filter down to the single pair we are interested in\n",
    "    strategy_universe = TradingStrategyUniverse.create_single_pair_universe(dataset)\n",
    "\n",
    "    return strategy_universe"
   ]
  },
  {
   "cell_type": "markdown",
   "metadata": {},
   "source": [
    "## Set up the market data client\n",
    "\n",
    "The [Trading Strategy market data client](https://tradingstrategy.ai/docs/programming/api/client/index.html)\n",
    "is the Python library responsible for managing the data feeds needed to run the backtest.None\n",
    "\n",
    "We set up the market data client with an API key.\n",
    "\n",
    "[If you do not have an API key yet, you can register one](https://tradingstrategy.ai/trading-view/backtesting)."
   ]
  },
  {
   "cell_type": "code",
   "execution_count": 4,
   "metadata": {
    "collapsed": false,
    "jupyter": {
     "outputs_hidden": false
    },
    "tags": []
   },
   "outputs": [
    {
     "name": "stdout",
     "output_type": "stream",
     "text": [
      "Started Trading Strategy in Jupyter notebook environment, configuration is stored in /home/h25/.tradingstrategy\n"
     ]
    }
   ],
   "source": [
    "from tradingstrategy.client import Client\n",
    "\n",
    "client = Client.create_jupyter_client()"
   ]
  },
  {
   "cell_type": "markdown",
   "metadata": {},
   "source": [
    "## Load data"
   ]
  },
  {
   "cell_type": "code",
   "execution_count": 5,
   "metadata": {
    "tags": []
   },
   "outputs": [
    {
     "name": "stdout",
     "output_type": "stream",
     "text": [
      "We loaded 242 candles.\n"
     ]
    }
   ],
   "source": [
    "from datetime import timedelta\n",
    "from tradeexecutor.strategy.execution_context import ExecutionMode\n",
    "from tradeexecutor.strategy.universe_model import UniverseOptions\n",
    "\n",
    "universe = create_single_pair_trading_universe(\n",
    "    END_AT,\n",
    "    client,\n",
    "    ExecutionContext(mode=ExecutionMode.data_preload),\n",
    "    UniverseOptions(\n",
    "        # TODO: quick hack to get enough data for look back period\n",
    "        start_at=START_AT - timedelta(days=90),\n",
    "        end_at=END_AT,\n",
    "    )\n",
    ")\n",
    "print(f\"We loaded {universe.universe.candles.get_candle_count():,} candles.\")"
   ]
  },
  {
   "cell_type": "markdown",
   "metadata": {},
   "source": [
    "## Run backtest\n",
    "\n",
    "Run backtest using giving trading universe and strategy function.\n",
    "\n",
    "- Running the backtest outputs `state` object that contains all the information\n",
    "on the backtesting position and trades.\n",
    "- The trade execution engine will download the necessary datasets to run the backtest.\n",
    "  The datasets may be large, several gigabytes.\n"
   ]
  },
  {
   "cell_type": "code",
   "execution_count": 6,
   "metadata": {
    "collapsed": false,
    "jupyter": {
     "outputs_hidden": false
    },
    "tags": []
   },
   "outputs": [
    {
     "data": {
      "application/vnd.jupyter.widget-view+json": {
       "model_id": "998edd0177b847d4be17a0df16416dcf",
       "version_major": 2,
       "version_minor": 0
      },
      "text/plain": [
       "  0%|          | 0/13046400 [00:00<?, ?it/s]"
      ]
     },
     "metadata": {},
     "output_type": "display_data"
    },
    {
     "name": "stdout",
     "output_type": "stream",
     "text": [
      "Backtesting completed, backtested strategy made 18 trades\n"
     ]
    }
   ],
   "source": [
    "from tradeexecutor.backtest.backtest_runner import run_backtest_inline\n",
    "\n",
    "state, universe, debug_dump = run_backtest_inline(\n",
    "    name=\"BB short example\",\n",
    "    start_at=START_AT,\n",
    "    end_at=END_AT,\n",
    "    client=client,\n",
    "    cycle_duration=TRADING_STRATEGY_CYCLE,\n",
    "    decide_trades=decide_trades,\n",
    "    universe=universe,\n",
    "    initial_deposit=INITIAL_DEPOSIT,\n",
    "    reserve_currency=RESERVE_CURRENCY,\n",
    "    trade_routing=TRADE_ROUTING,\n",
    "    engine_version=\"0.3\",\n",
    ")\n",
    "\n",
    "trade_count = len(list(state.portfolio.get_all_trades()))\n",
    "print(f\"Backtesting completed, backtested strategy made {trade_count} trades\")"
   ]
  },
  {
   "cell_type": "markdown",
   "metadata": {},
   "source": [
    "## Examine backtest results\n",
    "\n",
    "Examine `state` that contains all actions the trade executor took.\n",
    "\n",
    "We plot out a chart that shows\n",
    "- The price action\n",
    "- When the strategy made buys or sells"
   ]
  },
  {
   "cell_type": "code",
   "execution_count": 7,
   "metadata": {
    "collapsed": false,
    "jupyter": {
     "outputs_hidden": false
    },
    "tags": []
   },
   "outputs": [
    {
     "name": "stdout",
     "output_type": "stream",
     "text": [
      "Positions taken: 9\n",
      "Trades made: 18\n"
     ]
    }
   ],
   "source": [
    "print(f\"Positions taken: {len(list(state.portfolio.get_all_positions()))}\")\n",
    "print(f\"Trades made: {len(list(state.portfolio.get_all_trades()))}\")"
   ]
  },
  {
   "cell_type": "code",
   "execution_count": 8,
   "metadata": {
    "collapsed": false,
    "jupyter": {
     "outputs_hidden": false
    },
    "tags": []
   },
   "outputs": [
    {
     "ename": "AttributeError",
     "evalue": "'Portfolio' object has no attribute 'pair'",
     "output_type": "error",
     "traceback": [
      "\u001b[0;31m---------------------------------------------------------------------------\u001b[0m",
      "\u001b[0;31mAttributeError\u001b[0m                            Traceback (most recent call last)",
      "Cell \u001b[0;32mIn[8], line 4\u001b[0m\n\u001b[1;32m      1\u001b[0m \u001b[38;5;28;01mfrom\u001b[39;00m \u001b[38;5;21;01mtradeexecutor\u001b[39;00m\u001b[38;5;21;01m.\u001b[39;00m\u001b[38;5;21;01mvisual\u001b[39;00m\u001b[38;5;21;01m.\u001b[39;00m\u001b[38;5;21;01msingle_pair\u001b[39;00m \u001b[38;5;28;01mimport\u001b[39;00m visualise_single_pair, visualise_single_pair_positions_with_duration_and_slippage\n\u001b[1;32m      2\u001b[0m \u001b[38;5;28;01mfrom\u001b[39;00m \u001b[38;5;21;01mtradingstrategy\u001b[39;00m\u001b[38;5;21;01m.\u001b[39;00m\u001b[38;5;21;01mcharting\u001b[39;00m\u001b[38;5;21;01m.\u001b[39;00m\u001b[38;5;21;01mcandle_chart\u001b[39;00m \u001b[38;5;28;01mimport\u001b[39;00m VolumeBarMode\n\u001b[0;32m----> 4\u001b[0m figure \u001b[38;5;241m=\u001b[39m \u001b[43mvisualise_single_pair\u001b[49m\u001b[43m(\u001b[49m\n\u001b[1;32m      5\u001b[0m \u001b[43m    \u001b[49m\u001b[43mstate\u001b[49m\u001b[43m,\u001b[49m\n\u001b[1;32m      6\u001b[0m \u001b[43m    \u001b[49m\u001b[43muniverse\u001b[49m\u001b[38;5;241;43m.\u001b[39;49m\u001b[43muniverse\u001b[49m\u001b[38;5;241;43m.\u001b[39;49m\u001b[43mcandles\u001b[49m\u001b[43m,\u001b[49m\n\u001b[1;32m      7\u001b[0m \u001b[43m    \u001b[49m\u001b[43mstart_at\u001b[49m\u001b[38;5;241;43m=\u001b[39;49m\u001b[43mSTART_AT\u001b[49m\u001b[43m,\u001b[49m\n\u001b[1;32m      8\u001b[0m \u001b[43m    \u001b[49m\u001b[43mend_at\u001b[49m\u001b[38;5;241;43m=\u001b[39;49m\u001b[43mEND_AT\u001b[49m\u001b[43m,\u001b[49m\n\u001b[1;32m      9\u001b[0m \u001b[43m    \u001b[49m\u001b[43mvolume_bar_mode\u001b[49m\u001b[38;5;241;43m=\u001b[39;49m\u001b[43mVolumeBarMode\u001b[49m\u001b[38;5;241;43m.\u001b[39;49m\u001b[43mseparate\u001b[49m\u001b[43m,\u001b[49m\n\u001b[1;32m     10\u001b[0m \u001b[43m    \u001b[49m\u001b[43mvolume_axis_name\u001b[49m\u001b[38;5;241;43m=\u001b[39;49m\u001b[38;5;124;43m\"\u001b[39;49m\u001b[38;5;124;43mVolume (USD)\u001b[39;49m\u001b[38;5;124;43m\"\u001b[39;49m\u001b[43m,\u001b[49m\n\u001b[1;32m     11\u001b[0m \u001b[43m    \u001b[49m\u001b[43mheight\u001b[49m\u001b[43m \u001b[49m\u001b[38;5;241;43m=\u001b[39;49m\u001b[43m \u001b[49m\u001b[38;5;241;43m1000\u001b[39;49m\u001b[43m,\u001b[49m\n\u001b[1;32m     12\u001b[0m \u001b[43m)\u001b[49m\n\u001b[1;32m     14\u001b[0m figure\u001b[38;5;241m.\u001b[39mshow()\n",
      "File \u001b[0;32m~/dev/tradingstrategy/trade-executor/tradeexecutor/visual/single_pair.py:405\u001b[0m, in \u001b[0;36mvisualise_single_pair\u001b[0;34m(state, candle_universe, start_at, end_at, pair_id, height, axes, technical_indicators, title, theme, volume_bar_mode, vertical_spacing, subplot_font_size, relative_sizing, volume_axis_name, candle_decimals, detached_indicators)\u001b[0m\n\u001b[1;32m    402\u001b[0m candle_end_ts \u001b[38;5;241m=\u001b[39m candles[\u001b[38;5;124m\"\u001b[39m\u001b[38;5;124mtimestamp\u001b[39m\u001b[38;5;124m\"\u001b[39m]\u001b[38;5;241m.\u001b[39mmax()\n\u001b[1;32m    403\u001b[0m logger\u001b[38;5;241m.\u001b[39minfo(\u001b[38;5;124mf\u001b[39m\u001b[38;5;124m\"\u001b[39m\u001b[38;5;124mCandles are \u001b[39m\u001b[38;5;132;01m{\u001b[39;00mcandle_start_ts\u001b[38;5;132;01m}\u001b[39;00m\u001b[38;5;124m = \u001b[39m\u001b[38;5;132;01m{\u001b[39;00mcandle_end_ts\u001b[38;5;132;01m}\u001b[39;00m\u001b[38;5;124m\"\u001b[39m)\n\u001b[0;32m--> 405\u001b[0m trades_df \u001b[38;5;241m=\u001b[39m \u001b[43mexport_trades_as_dataframe\u001b[49m\u001b[43m(\u001b[49m\n\u001b[1;32m    406\u001b[0m \u001b[43m    \u001b[49m\u001b[43mstate\u001b[49m\u001b[38;5;241;43m.\u001b[39;49m\u001b[43mportfolio\u001b[49m\u001b[43m,\u001b[49m\n\u001b[1;32m    407\u001b[0m \u001b[43m    \u001b[49m\u001b[43mpair_id\u001b[49m\u001b[43m,\u001b[49m\n\u001b[1;32m    408\u001b[0m \u001b[43m    \u001b[49m\u001b[43mstart_at\u001b[49m\u001b[43m,\u001b[49m\n\u001b[1;32m    409\u001b[0m \u001b[43m    \u001b[49m\u001b[43mend_at\u001b[49m\u001b[43m,\u001b[49m\n\u001b[1;32m    410\u001b[0m \u001b[43m\u001b[49m\u001b[43m)\u001b[49m\n\u001b[1;32m    412\u001b[0m labels \u001b[38;5;241m=\u001b[39m make_candle_labels(\n\u001b[1;32m    413\u001b[0m     candles,\n\u001b[1;32m    414\u001b[0m     base_token_name\u001b[38;5;241m=\u001b[39mbase_token,\n\u001b[1;32m    415\u001b[0m     quote_token_name\u001b[38;5;241m=\u001b[39mquote_token,\n\u001b[1;32m    416\u001b[0m     candle_decimals\u001b[38;5;241m=\u001b[39mcandle_decimals\n\u001b[1;32m    417\u001b[0m )\n\u001b[1;32m    419\u001b[0m fig \u001b[38;5;241m=\u001b[39m _get_grid_with_candles_volume_indicators(\n\u001b[1;32m    420\u001b[0m     state\u001b[38;5;241m=\u001b[39mstate, \n\u001b[1;32m    421\u001b[0m     start_at\u001b[38;5;241m=\u001b[39mstart_at, \n\u001b[0;32m   (...)\u001b[0m\n\u001b[1;32m    437\u001b[0m     detached_indicators\u001b[38;5;241m=\u001b[39mdetached_indicators,\n\u001b[1;32m    438\u001b[0m )\n",
      "File \u001b[0;32m~/dev/tradingstrategy/trade-executor/tradeexecutor/visual/utils.py:164\u001b[0m, in \u001b[0;36mexport_trades_as_dataframe\u001b[0;34m(portfolio, pair_id, start, end)\u001b[0m\n\u001b[1;32m    161\u001b[0m         \u001b[38;5;28;01mif\u001b[39;00m s \u001b[38;5;241m<\u001b[39m start \u001b[38;5;129;01mor\u001b[39;00m s \u001b[38;5;241m>\u001b[39m end:\n\u001b[1;32m    162\u001b[0m             \u001b[38;5;28;01mcontinue\u001b[39;00m\n\u001b[0;32m--> 164\u001b[0m     data\u001b[38;5;241m.\u001b[39mappend(\u001b[43mexport_trade_for_dataframe\u001b[49m\u001b[43m(\u001b[49m\u001b[43mportfolio\u001b[49m\u001b[43m,\u001b[49m\u001b[43m \u001b[49m\u001b[43mt\u001b[49m\u001b[43m)\u001b[49m)\n\u001b[1;32m    165\u001b[0m \u001b[38;5;28;01mreturn\u001b[39;00m pd\u001b[38;5;241m.\u001b[39mDataFrame(data)\n",
      "File \u001b[0;32m~/dev/tradingstrategy/trade-executor/tradeexecutor/visual/utils.py:46\u001b[0m, in \u001b[0;36mexport_trade_for_dataframe\u001b[0;34m(p, t)\u001b[0m\n\u001b[1;32m     41\u001b[0m \u001b[38;5;250m\u001b[39m\u001b[38;5;124;03m\"\"\"Export data for a Pandas dataframe presentation.\u001b[39;00m\n\u001b[1;32m     42\u001b[0m \u001b[38;5;124;03m- Decimal roundings are based on rule of thumb and may need to be tuned\u001b[39;00m\n\u001b[1;32m     43\u001b[0m \u001b[38;5;124;03m\"\"\"\u001b[39;00m\n\u001b[1;32m     45\u001b[0m position \u001b[38;5;241m=\u001b[39m p\u001b[38;5;241m.\u001b[39mget_position_by_id(t\u001b[38;5;241m.\u001b[39mposition_id)\n\u001b[0;32m---> 46\u001b[0m base_token_symbol \u001b[38;5;241m=\u001b[39m \u001b[43mp\u001b[49m\u001b[38;5;241;43m.\u001b[39;49m\u001b[43mpair\u001b[49m\u001b[38;5;241m.\u001b[39mget_pricing_pair()\u001b[38;5;241m.\u001b[39mbase\u001b[38;5;241m.\u001b[39mtoken_symbol\n\u001b[1;32m     47\u001b[0m price_prefix \u001b[38;5;241m=\u001b[39m \u001b[38;5;124mf\u001b[39m\u001b[38;5;124m\"\u001b[39m\u001b[38;5;132;01m{\u001b[39;00mbase_token_symbol\u001b[38;5;132;01m}\u001b[39;00m\u001b[38;5;124m / USD\u001b[39m\u001b[38;5;124m\"\u001b[39m\n\u001b[1;32m     49\u001b[0m label \u001b[38;5;241m=\u001b[39m []\n",
      "\u001b[0;31mAttributeError\u001b[0m: 'Portfolio' object has no attribute 'pair'"
     ]
    }
   ],
   "source": [
    "\n",
    "from tradeexecutor.visual.single_pair import visualise_single_pair, visualise_single_pair_positions_with_duration_and_slippage\n",
    "from tradingstrategy.charting.candle_chart import VolumeBarMode\n",
    "\n",
    "figure = visualise_single_pair(\n",
    "    state,\n",
    "    universe.universe.candles,\n",
    "    start_at=START_AT,\n",
    "    end_at=END_AT,\n",
    "    volume_bar_mode=VolumeBarMode.separate,\n",
    "    volume_axis_name=\"Volume (USD)\",\n",
    "    height = 1000,\n",
    ")\n",
    "\n",
    "figure.show()"
   ]
  },
  {
   "cell_type": "code",
   "execution_count": null,
   "metadata": {},
   "outputs": [],
   "source": [
    "candles = universe.universe.candles.get_candles_by_pair(universe.get_single_pair().internal_id)\n",
    "\n",
    "figure2 = visualise_single_pair_positions_with_duration_and_slippage(\n",
    "    state,\n",
    "    candles,\n",
    "    start_at=START_AT,\n",
    "    end_at=END_AT,\n",
    ")\n",
    "\n",
    "figure2.show()"
   ]
  },
  {
   "cell_type": "markdown",
   "metadata": {},
   "source": [
    "## Benchmarking the strategy performance\n",
    "\n",
    "Here we benchmark the strategy performance against some baseline scenarios.\n",
    "\n",
    "- Buy and hold US dollar\n",
    "- Buy and hold the underlying trading pair base asset\n"
   ]
  },
  {
   "cell_type": "code",
   "execution_count": null,
   "metadata": {
    "tags": []
   },
   "outputs": [],
   "source": [
    "from tradeexecutor.visual.benchmark import visualise_benchmark\n",
    "\n",
    "traded_pair = universe.universe.pairs.get_single()\n",
    "\n",
    "fig = visualise_benchmark(\n",
    "    \"Example short strategy\",\n",
    "    portfolio_statistics=state.stats.portfolio,\n",
    "    all_cash=state.portfolio.get_initial_deposit(),\n",
    "    buy_and_hold_asset_name=traded_pair.base_token_symbol,\n",
    "    buy_and_hold_price_series=universe.universe.candles.get_single_pair_data()[\"close\"],\n",
    "    start_at=START_AT,\n",
    "    end_at=END_AT,\n",
    "    height=800\n",
    ")\n",
    "\n",
    "fig.show()"
   ]
  },
  {
   "cell_type": "markdown",
   "metadata": {},
   "source": [
    "## Analysing  the strategy success\n",
    "\n",
    "Here we calculate statistics on how well the strategy performed.\n",
    "\n",
    "- Won/lost trades\n",
    "- Timeline of taken positions with color coding of trade performance\n"
   ]
  },
  {
   "cell_type": "code",
   "execution_count": null,
   "metadata": {
    "collapsed": false,
    "jupyter": {
     "outputs_hidden": false
    }
   },
   "outputs": [],
   "source": [
    "from tradeexecutor.analysis.trade_analyser import build_trade_analysis\n",
    "\n",
    "analysis = build_trade_analysis(state.portfolio)"
   ]
  },
  {
   "cell_type": "markdown",
   "metadata": {},
   "source": [
    "### Strategy summary\n",
    "\n",
    "Overview of strategy performance\n",
    "\n"
   ]
  },
  {
   "cell_type": "code",
   "execution_count": null,
   "metadata": {
    "collapsed": false,
    "jupyter": {
     "outputs_hidden": false
    }
   },
   "outputs": [],
   "source": [
    "from IPython.core.display_functions import display\n",
    "\n",
    "summary = analysis.calculate_summary_statistics()\n",
    "\n",
    "with pd.option_context(\"display.max_row\", None):\n",
    "    display(summary.to_dataframe())"
   ]
  },
  {
   "cell_type": "markdown",
   "metadata": {},
   "source": [
    "### Position and trade timeline\n",
    "\n",
    "Display all positions and how much profit they made."
   ]
  },
  {
   "cell_type": "code",
   "execution_count": null,
   "metadata": {
    "collapsed": false,
    "jupyter": {
     "outputs_hidden": false
    }
   },
   "outputs": [],
   "source": [
    "from tradeexecutor.analysis.trade_analyser import expand_timeline\n",
    "\n",
    "timeline = analysis.create_timeline()\n",
    "\n",
    "expanded_timeline, apply_styles = expand_timeline(\n",
    "        universe.universe.exchanges,\n",
    "        universe.universe.pairs,\n",
    "        timeline)\n",
    "\n",
    "# Do not truncate the row output\n",
    "with pd.option_context(\"display.max_row\", None):\n",
    "    display(apply_styles(expanded_timeline))\n"
   ]
  },
  {
   "cell_type": "markdown",
   "metadata": {},
   "source": [
    "## Finishing notes\n",
    "\n",
    "Print out a line to signal the notebook finished the execution successfully."
   ]
  },
  {
   "cell_type": "code",
   "execution_count": null,
   "metadata": {
    "collapsed": false,
    "jupyter": {
     "outputs_hidden": false
    },
    "tags": []
   },
   "outputs": [],
   "source": [
    "print(\"All ok\")"
   ]
  }
 ],
 "metadata": {
  "kernelspec": {
   "display_name": "Python 3 (ipykernel)",
   "language": "python",
   "name": "python3"
  },
  "language_info": {
   "codemirror_mode": {
    "name": "ipython",
    "version": 3
   },
   "file_extension": ".py",
   "mimetype": "text/x-python",
   "name": "python",
   "nbconvert_exporter": "python",
   "pygments_lexer": "ipython3",
   "version": "3.10.7"
  },
  "vscode": {
   "interpreter": {
    "hash": "f45fb66dacef78c495ceec56f258b06b84bd9cb2c0a9a6d3656125fb3c018996"
   }
  }
 },
 "nbformat": 4,
 "nbformat_minor": 4
}

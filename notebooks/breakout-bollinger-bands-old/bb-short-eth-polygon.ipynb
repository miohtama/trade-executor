{
 "cells": [
  {
   "cell_type": "markdown",
   "metadata": {
    "tags": []
   },
   "source": [
    "# Short strategy example\n",
    "\n",
    "An example short-only strategy using bollinger bands.\n",
    "\n",
    "## Github notebook rendering issues\n",
    "\n",
    "**If you are viewing this file on Github**: The current Github online notebook viewer cannot render the interactive Plotly charts used in this notebook.\n",
    "To view the charts, you need to download run the notebook locally."
   ]
  },
  {
   "cell_type": "markdown",
   "metadata": {
    "tags": []
   },
   "source": [
    "## Set up\n",
    "\n",
    "Set up the parameters used in in this strategy backtest study.\n",
    "\n",
    "- Backtested blockchain, exchange and trading pair\n",
    "- Backtesting period\n",
    "- Strategy parameters for EMA crossovers"
   ]
  },
  {
   "cell_type": "code",
   "execution_count": 13,
   "metadata": {
    "collapsed": false,
    "jupyter": {
     "outputs_hidden": false
    },
    "tags": []
   },
   "outputs": [],
   "source": [
    "import datetime\n",
    "import pandas as pd\n",
    "\n",
    "from tradingstrategy.chain import ChainId\n",
    "from tradingstrategy.timebucket import TimeBucket\n",
    "from tradingstrategy.lending import LendingProtocolType\n",
    "from tradeexecutor.strategy.cycle import CycleDuration\n",
    "from tradeexecutor.strategy.strategy_module import StrategyType, TradeRouting, ReserveCurrency\n",
    "\n",
    "# Tell what trade execution engine version this strategy needs to use\n",
    "# NOTE: this setting has currently no effect\n",
    "TRADING_STRATEGY_TYPE_ENGINE_VERSION = \"0.1\"\n",
    "\n",
    "# What kind of strategy we are running.\n",
    "# This tells we are going to use\n",
    "# NOTE: this setting has currently no effect\n",
    "TRADING_STRATEGY_TYPE = StrategyType.managed_positions\n",
    "\n",
    "# How our trades are routed.\n",
    "TRADE_ROUTING = TradeRouting.uniswap_v3_usdc_poly\n",
    "\n",
    "# How often the strategy performs the decide_trades cycle.\n",
    "# We do it for every 4h.\n",
    "TRADING_STRATEGY_CYCLE = CycleDuration.cycle_1d\n",
    "\n",
    "# Strategy keeps its cash in USDC\n",
    "RESERVE_CURRENCY = ReserveCurrency.usdc\n",
    "\n",
    "# Time bucket for our candles\n",
    "CANDLE_TIME_BUCKET = TimeBucket.d1\n",
    "\n",
    "# Which trading pair we are backtesting on\n",
    "TRADING_PAIR = (ChainId.polygon, \"uniswap-v3\", \"WETH\", \"USDC\", 0.0005)\n",
    "\n",
    "# Which lending reserves we are using for supplying/borrowing assets\n",
    "LENDING_RESERVES = [\n",
    "    (ChainId.polygon, LendingProtocolType.aave_v3, \"WETH\"),\n",
    "    (ChainId.polygon, LendingProtocolType.aave_v3, \"USDC.e\"),\n",
    "]\n",
    "\n",
    "# How much % of the cash to put on a single trade\n",
    "POSITION_SIZE = 0.50\n",
    "\n",
    "# Start with this amount of USD\n",
    "INITIAL_DEPOSIT = 5_000\n",
    "\n",
    "# Candle time granularity we use to trigger stop loss checks\n",
    "STOP_LOSS_TIME_BUCKET = TimeBucket.m15\n",
    "\n",
    "#\n",
    "# Strategy thinking specific parameter\n",
    "#\n",
    "\n",
    "# How many candles we load in the decide_trades() function for calculating indicators\n",
    "LOOKBACK_WINDOW = 90\n",
    "\n",
    "# Moving average \n",
    "# \n",
    "# How many candles to smooth out for Bollinger band's middle line\n",
    "EMA_CANDLE_COUNT = 20  \n",
    "\n",
    "# How many candles we use to calculate the Relative Strength Indicator\n",
    "RSI_LENGTH = 14\n",
    "\n",
    "# RSI must be above this value to open a new position\n",
    "RSI_THRESHOLD = 65\n",
    "\n",
    "# Backtest range\n",
    "START_AT = datetime.datetime(2023, 1, 1)\n",
    "\n",
    "# Backtest range\n",
    "END_AT = datetime.datetime(2023, 6, 1)\n",
    "\n",
    "# Stop loss relative to the mid price during the time when the position is opened\n",
    "#\n",
    "# If the price drops below this level, trigger a stop loss\n",
    "STOP_LOSS_PCT = 0.98\n",
    "\n",
    "TAKE_PROFIT_PCT = 1.04\n"
   ]
  },
  {
   "cell_type": "markdown",
   "metadata": {},
   "source": [
    "## Strategy logic and trade decisions\n",
    "\n",
    "- `decide_trades` function decide what trades to take.\n",
    "- In this example, we calculate two exponential moving averages\n",
    "(EMAs) and make decisions based on those.\n",
    "\n",
    "### Indicators\n",
    "\n",
    "- Note how we also make use of detached and overlayed technical indicators, so that the price chart is not overcrowded\n"
   ]
  },
  {
   "cell_type": "code",
   "execution_count": 14,
   "metadata": {
    "collapsed": false,
    "jupyter": {
     "outputs_hidden": false
    },
    "tags": []
   },
   "outputs": [],
   "source": [
    "from typing import List, Dict\n",
    "\n",
    "from pandas_ta import bbands\n",
    "from pandas_ta.overlap import ema\n",
    "from pandas_ta.momentum import rsi\n",
    "\n",
    "from tradingstrategy.universe import Universe\n",
    "from tradeexecutor.strategy.trading_strategy_universe import TradingStrategyUniverse\n",
    "\n",
    "from tradeexecutor.state.visualisation import PlotKind\n",
    "from tradeexecutor.state.trade import TradeExecution\n",
    "from tradeexecutor.strategy.pricing_model import PricingModel\n",
    "from tradeexecutor.strategy.pandas_trader.position_manager import PositionManager\n",
    "from tradeexecutor.state.state import State\n",
    "from tradeexecutor.strategy.pandas_trader.position_manager import PositionManager\n",
    "\n",
    "\n",
    "def decide_trades(\n",
    "        timestamp: pd.Timestamp,\n",
    "        strategy_universe: TradingStrategyUniverse,\n",
    "        state: State,\n",
    "        pricing_model: PricingModel,\n",
    "        cycle_debug_data: Dict) -> List[TradeExecution]:\n",
    "    \"\"\"The brain function to decide the trades on each trading strategy cycle.\n",
    "\n",
    "    - Reads incoming execution state (positions, past trades)\n",
    "\n",
    "    - Reads the current universe (candles)\n",
    "\n",
    "    - Decides what trades to do next, if any, at current timestamp.\n",
    "\n",
    "    - Outputs strategy thinking for visualisation and debug messages\n",
    "\n",
    "    :param timestamp:\n",
    "        The Pandas timestamp object for this cycle. Matches\n",
    "        TRADING_STRATEGY_CYCLE division.\n",
    "        Always truncated to the zero seconds and minutes, never a real-time clock.\n",
    "\n",
    "    :param universe:\n",
    "        Trading universe that was constructed earlier.\n",
    "\n",
    "    :param state:\n",
    "        The current trade execution state.\n",
    "        Contains current open positions and all previously executed trades, plus output\n",
    "        for statistics, visualisation and diangnostics of the strategy.\n",
    "\n",
    "    :param pricing_model:\n",
    "        Pricing model can tell the buy/sell price of the particular asset at a particular moment.\n",
    "\n",
    "    :param cycle_debug_data:\n",
    "        Python dictionary for various debug variables you can read or set, specific to this trade cycle.\n",
    "        This data is discarded at the end of the trade cycle.\n",
    "\n",
    "    :return:\n",
    "        List of trade instructions in the form of :py:class:`TradeExecution` instances.\n",
    "        The trades can be generated using `position_manager` but strategy could also hand craft its trades.\n",
    "    \"\"\"\n",
    "    universe = strategy_universe.universe\n",
    "\n",
    "    # We have only a single trading pair for this strategy.\n",
    "    pair = universe.pairs.get_single()\n",
    "\n",
    "    # Here we manipulate the pair trading fee.\n",
    "    # A live trading would happen on Polygon Uniswap v3 ETH-USDC pool with 0.05% LP fee.\n",
    "    # But this pool was deployed only couple of weeks back, so we do not have backtesting history for it.\n",
    "    # Thus, we are backtesting with QuickSwap ETH-USDC pair that has 0.30% LP fee tier, which\n",
    "    # we need to bump down to reflect the live trading situation.\n",
    "    # Drop the fee to 5 BPSs.\n",
    "    pair.fee = 0.0005\n",
    "\n",
    "    # How much cash we have in a hand\n",
    "    cash = state.portfolio.get_current_cash()\n",
    "\n",
    "    # Get OHLCV candles for our trading pair as Pandas Dataframe.\n",
    "    # We could have candles for multiple trading pairs in a different strategy,\n",
    "    # but this strategy only operates on single pair candle.\n",
    "    # We also limit our sample size to N latest candles to speed up calculations.\n",
    "    candles: pd.DataFrame = universe.candles.get_single_pair_data(timestamp, sample_count=LOOKBACK_WINDOW)\n",
    "\n",
    "    # We have data for open, high, close, etc.\n",
    "    # We only operate using candle close values in this strategy.\n",
    "    close_prices = candles[\"close\"]\n",
    "\n",
    "    # Calculate exponential moving for candle close\n",
    "    # https://tradingstrategy.ai/docs/programming/api/technical-analysis/overlap/help/pandas_ta.overlap.ema.html#ema\n",
    "    moving_average = ema(close_prices, length=EMA_CANDLE_COUNT)\n",
    "    \n",
    "    # Calculate RSI for candle close\n",
    "    # https://tradingstrategy.ai/docs/programming/api/technical-analysis/momentum/help/pandas_ta.momentum.rsi.html#rsi\n",
    "    current_rsi = rsi(close_prices, length=RSI_LENGTH)[-1]\n",
    "\n",
    "    trades = []\n",
    "\n",
    "    if moving_average is None:\n",
    "        # Cannot calculate EMA, because\n",
    "        # not enough samples in backtesting buffer yet.\n",
    "        return trades\n",
    "\n",
    "    price_close = close_prices.iloc[-1]\n",
    "\n",
    "    # Create a position manager helper class that allows us easily to create\n",
    "    # opening/closing trades for different positions\n",
    "    position_manager = PositionManager(timestamp, strategy_universe, state, pricing_model)\n",
    "\n",
    "    # Calculate Bollinger Bands with a 20-day SMA and 2 standard deviations using pandas_ta\n",
    "    # See documentation here https://tradingstrategy.ai/docs/programming/api/technical-analysis/volatility/help/pandas_ta.volatility.bbands.html#bbands\n",
    "    bollinger_bands = bbands(close_prices, length=20, std=2)\n",
    "    bb_upper = bollinger_bands[\"BBU_20_2.0\"]\n",
    "    bb_lower = bollinger_bands[\"BBL_20_2.0\"]\n",
    "\n",
    "    if not position_manager.is_any_open():\n",
    "        # No open positions, decide if short in this cycle.\n",
    "        # We open short if the latest candle has upper wick above BB upper line and close under this line\n",
    "        if candles[\"high\"].iloc[-1] > bb_upper.iloc[-1] and price_close < bb_upper.iloc[-1] and current_rsi < RSI_THRESHOLD:\n",
    "            amount = cash * POSITION_SIZE\n",
    "            new_trades = position_manager.open_short(pair, amount, leverage=2, stop_loss_pct=STOP_LOSS_PCT, take_profit_pct=TAKE_PROFIT_PCT)\n",
    "            trades.extend(new_trades)\n",
    "\n",
    "    else:\n",
    "        # We close the position when the price closes below the 20-day moving average.        \n",
    "        if price_close < moving_average.iloc[-1]:\n",
    "            print(price_close, moving_average.iloc[-1])\n",
    "            new_trades = position_manager.close_all()\n",
    "            trades.extend(new_trades)\n",
    "        \n",
    "    # Visualise our technical indicators\n",
    "    visualisation = state.visualisation\n",
    "    visualisation.plot_indicator(timestamp, \"BB upper\", PlotKind.technical_indicator_on_price, bb_upper.iloc[-1], colour=\"darkblue\")\n",
    "    visualisation.plot_indicator(timestamp, \"BB lower\", PlotKind.technical_indicator_on_price, bb_lower.iloc[-1], colour=\"darkblue\")\n",
    "    visualisation.plot_indicator(timestamp, \"EMA\", PlotKind.technical_indicator_on_price, moving_average.iloc[-1], colour=\"darkgreen\")\n",
    "    visualisation.plot_indicator(timestamp, \"RSI\", PlotKind.technical_indicator_detached, current_rsi)\n",
    "\n",
    "    return trades"
   ]
  },
  {
   "cell_type": "markdown",
   "metadata": {},
   "source": [
    "## Defining the trading universe\n",
    "\n",
    "We create a trading universe with a single blockchain, single exchange and a single trading pair.\n",
    "\n",
    "Trading Strategy framework supports complex strategies, spanning thousands of pairs and lending pools,\n",
    "but we are not interested in this example."
   ]
  },
  {
   "cell_type": "code",
   "execution_count": 15,
   "metadata": {
    "collapsed": false,
    "jupyter": {
     "outputs_hidden": false
    },
    "tags": []
   },
   "outputs": [],
   "source": [
    "import datetime\n",
    "from tradingstrategy.client import Client\n",
    "from tradeexecutor.strategy.trading_strategy_universe import TradingStrategyUniverse, load_partial_data\n",
    "from tradeexecutor.strategy.execution_context import ExecutionContext\n",
    "from tradeexecutor.strategy.universe_model import UniverseOptions\n",
    "\n",
    "\n",
    "def create_single_pair_trading_universe(\n",
    "        ts: datetime.datetime,\n",
    "        client: Client,\n",
    "        execution_context: ExecutionContext,\n",
    "        universe_options: UniverseOptions,\n",
    ") -> TradingStrategyUniverse:\n",
    "    dataset = load_partial_data(\n",
    "        client,\n",
    "        execution_context=execution_context,\n",
    "        time_bucket=CANDLE_TIME_BUCKET,\n",
    "        pairs=[TRADING_PAIR],\n",
    "        universe_options=universe_options,\n",
    "        start_at=universe_options.start_at,\n",
    "        end_at=universe_options.end_at,\n",
    "        lending_reserves=LENDING_RESERVES,\n",
    "        stop_loss_time_bucket=STOP_LOSS_TIME_BUCKET,\n",
    "    )\n",
    "\n",
    "    # Filter down to the single pair we are interested in\n",
    "    strategy_universe = TradingStrategyUniverse.create_single_pair_universe(dataset)\n",
    "\n",
    "    return strategy_universe"
   ]
  },
  {
   "cell_type": "markdown",
   "metadata": {},
   "source": [
    "## Set up the market data client\n",
    "\n",
    "The [Trading Strategy market data client](https://tradingstrategy.ai/docs/programming/api/client/index.html)\n",
    "is the Python library responsible for managing the data feeds needed to run the backtest.None\n",
    "\n",
    "We set up the market data client with an API key.\n",
    "\n",
    "[If you do not have an API key yet, you can register one](https://tradingstrategy.ai/trading-view/backtesting)."
   ]
  },
  {
   "cell_type": "code",
   "execution_count": 16,
   "metadata": {
    "collapsed": false,
    "jupyter": {
     "outputs_hidden": false
    },
    "tags": []
   },
   "outputs": [
    {
     "name": "stdout",
     "output_type": "stream",
     "text": [
      "Started Trading Strategy in Jupyter notebook environment, configuration is stored in /Users/alexurbs/.tradingstrategy\n"
     ]
    }
   ],
   "source": [
    "from tradingstrategy.client import Client\n",
    "\n",
    "client = Client.create_jupyter_client()"
   ]
  },
  {
   "cell_type": "markdown",
   "metadata": {},
   "source": [
    "## Load data"
   ]
  },
  {
   "cell_type": "code",
   "execution_count": 17,
   "metadata": {
    "tags": []
   },
   "outputs": [
    {
     "data": {
      "application/vnd.jupyter.widget-view+json": {
       "model_id": "7f65c40240444231a5faaab56226673a",
       "version_major": 2,
       "version_minor": 0
      },
      "text/plain": [
       "Downloading lending rate data for 2 assets:   0%|          | 0/4 [00:00<?, ?it/s]"
      ]
     },
     "metadata": {},
     "output_type": "display_data"
    },
    {
     "name": "stdout",
     "output_type": "stream",
     "text": [
      "We loaded 242 candles.\n"
     ]
    }
   ],
   "source": [
    "from datetime import timedelta\n",
    "from tradeexecutor.strategy.execution_context import ExecutionMode, notebook_execution_context\n",
    "from tradeexecutor.strategy.universe_model import UniverseOptions\n",
    "\n",
    "universe = create_single_pair_trading_universe(\n",
    "    END_AT,\n",
    "    client,\n",
    "    notebook_execution_context,\n",
    "    UniverseOptions(\n",
    "        # TODO: quick hack to get enough data for look back period\n",
    "        start_at=START_AT - timedelta(days=90),\n",
    "        end_at=END_AT,\n",
    "    )\n",
    ")\n",
    "print(f\"We loaded {universe.universe.candles.get_candle_count():,} candles.\")"
   ]
  },
  {
   "cell_type": "markdown",
   "metadata": {},
   "source": [
    "## Run backtest\n",
    "\n",
    "Run backtest using giving trading universe and strategy function.\n",
    "\n",
    "- Running the backtest outputs `state` object that contains all the information\n",
    "on the backtesting position and trades.\n",
    "- The trade execution engine will download the necessary datasets to run the backtest.\n",
    "  The datasets may be large, several gigabytes.\n"
   ]
  },
  {
   "cell_type": "code",
   "execution_count": 18,
   "metadata": {
    "collapsed": false,
    "jupyter": {
     "outputs_hidden": false
    },
    "tags": []
   },
   "outputs": [
    {
     "data": {
      "application/vnd.jupyter.widget-view+json": {
       "model_id": "e42c1d54a7a243cdb8ae9304da326562",
       "version_major": 2,
       "version_minor": 0
      },
      "text/plain": [
       "  0%|          | 0/13046400 [00:00<?, ?it/s]"
      ]
     },
     "metadata": {},
     "output_type": "display_data"
    },
    {
     "name": "stdout",
     "output_type": "stream",
     "text": [
      "Backtesting completed, backtested strategy made 18 trades\n"
     ]
    }
   ],
   "source": [
    "from tradeexecutor.backtest.backtest_runner import run_backtest_inline\n",
    "\n",
    "state, universe, debug_dump = run_backtest_inline(\n",
    "    name=\"BB short example\",\n",
    "    start_at=START_AT,\n",
    "    end_at=END_AT,\n",
    "    client=client,\n",
    "    cycle_duration=TRADING_STRATEGY_CYCLE,\n",
    "    decide_trades=decide_trades,\n",
    "    universe=universe,\n",
    "    initial_deposit=INITIAL_DEPOSIT,\n",
    "    reserve_currency=RESERVE_CURRENCY,\n",
    "    trade_routing=TRADE_ROUTING,\n",
    "    engine_version=\"0.3\",\n",
    ")\n",
    "\n",
    "trade_count = len(list(state.portfolio.get_all_trades()))\n",
    "print(f\"Backtesting completed, backtested strategy made {trade_count} trades\")"
   ]
  },
  {
   "cell_type": "markdown",
   "metadata": {},
   "source": [
    "## Examine backtest results\n",
    "\n",
    "Examine `state` that contains all actions the trade executor took.\n",
    "\n",
    "We plot out a chart that shows\n",
    "- The price action\n",
    "- When the strategy made buys or sells"
   ]
  },
  {
   "cell_type": "code",
   "execution_count": 19,
   "metadata": {
    "collapsed": false,
    "jupyter": {
     "outputs_hidden": false
    },
    "tags": []
   },
   "outputs": [
    {
     "name": "stdout",
     "output_type": "stream",
     "text": [
      "Positions taken: 9\n",
      "Trades made: 18\n"
     ]
    }
   ],
   "source": [
    "print(f\"Positions taken: {len(list(state.portfolio.get_all_positions()))}\")\n",
    "print(f\"Trades made: {len(list(state.portfolio.get_all_trades()))}\")"
   ]
  },
  {
   "cell_type": "code",
   "execution_count": 20,
   "metadata": {
    "collapsed": false,
    "jupyter": {
     "outputs_hidden": false
    },
    "tags": []
   },
   "outputs": [
    {
     "data": {
      "application/vnd.plotly.v1+json": {
       "config": {
        "plotlyServerURL": "https://plot.ly"
       },
       "data": [
        {
         "marker": {
          "color": "rgba(128,128,128,0.5)"
         },
         "showlegend": false,
         "type": "bar",
         "x": [
          "2023-01-01T00:00:00",
          "2023-01-02T00:00:00",
          "2023-01-03T00:00:00",
          "2023-01-04T00:00:00",
          "2023-01-05T00:00:00",
          "2023-01-06T00:00:00",
          "2023-01-07T00:00:00",
          "2023-01-08T00:00:00",
          "2023-01-09T00:00:00",
          "2023-01-10T00:00:00",
          "2023-01-11T00:00:00",
          "2023-01-12T00:00:00",
          "2023-01-13T00:00:00",
          "2023-01-14T00:00:00",
          "2023-01-15T00:00:00",
          "2023-01-16T00:00:00",
          "2023-01-17T00:00:00",
          "2023-01-18T00:00:00",
          "2023-01-19T00:00:00",
          "2023-01-20T00:00:00",
          "2023-01-21T00:00:00",
          "2023-01-22T00:00:00",
          "2023-01-23T00:00:00",
          "2023-01-24T00:00:00",
          "2023-01-25T00:00:00",
          "2023-01-26T00:00:00",
          "2023-01-27T00:00:00",
          "2023-01-28T00:00:00",
          "2023-01-29T00:00:00",
          "2023-01-30T00:00:00",
          "2023-01-31T00:00:00",
          "2023-02-01T00:00:00",
          "2023-02-02T00:00:00",
          "2023-02-03T00:00:00",
          "2023-02-04T00:00:00",
          "2023-02-05T00:00:00",
          "2023-02-06T00:00:00",
          "2023-02-07T00:00:00",
          "2023-02-08T00:00:00",
          "2023-02-09T00:00:00",
          "2023-02-10T00:00:00",
          "2023-02-11T00:00:00",
          "2023-02-12T00:00:00",
          "2023-02-13T00:00:00",
          "2023-02-14T00:00:00",
          "2023-02-15T00:00:00",
          "2023-02-16T00:00:00",
          "2023-02-17T00:00:00",
          "2023-02-18T00:00:00",
          "2023-02-19T00:00:00",
          "2023-02-20T00:00:00",
          "2023-02-21T00:00:00",
          "2023-02-22T00:00:00",
          "2023-02-23T00:00:00",
          "2023-02-24T00:00:00",
          "2023-02-25T00:00:00",
          "2023-02-26T00:00:00",
          "2023-02-27T00:00:00",
          "2023-02-28T00:00:00",
          "2023-03-01T00:00:00",
          "2023-03-02T00:00:00",
          "2023-03-03T00:00:00",
          "2023-03-04T00:00:00",
          "2023-03-05T00:00:00",
          "2023-03-06T00:00:00",
          "2023-03-07T00:00:00",
          "2023-03-08T00:00:00",
          "2023-03-09T00:00:00",
          "2023-03-10T00:00:00",
          "2023-03-11T00:00:00",
          "2023-03-12T00:00:00",
          "2023-03-13T00:00:00",
          "2023-03-14T00:00:00",
          "2023-03-15T00:00:00",
          "2023-03-16T00:00:00",
          "2023-03-17T00:00:00",
          "2023-03-18T00:00:00",
          "2023-03-19T00:00:00",
          "2023-03-20T00:00:00",
          "2023-03-21T00:00:00",
          "2023-03-22T00:00:00",
          "2023-03-23T00:00:00",
          "2023-03-24T00:00:00",
          "2023-03-25T00:00:00",
          "2023-03-26T00:00:00",
          "2023-03-27T00:00:00",
          "2023-03-28T00:00:00",
          "2023-03-29T00:00:00",
          "2023-03-30T00:00:00",
          "2023-03-31T00:00:00",
          "2023-04-01T00:00:00",
          "2023-04-02T00:00:00",
          "2023-04-03T00:00:00",
          "2023-04-04T00:00:00",
          "2023-04-05T00:00:00",
          "2023-04-06T00:00:00",
          "2023-04-07T00:00:00",
          "2023-04-08T00:00:00",
          "2023-04-09T00:00:00",
          "2023-04-10T00:00:00",
          "2023-04-11T00:00:00",
          "2023-04-12T00:00:00",
          "2023-04-13T00:00:00",
          "2023-04-14T00:00:00",
          "2023-04-15T00:00:00",
          "2023-04-16T00:00:00",
          "2023-04-17T00:00:00",
          "2023-04-18T00:00:00",
          "2023-04-19T00:00:00",
          "2023-04-20T00:00:00",
          "2023-04-21T00:00:00",
          "2023-04-22T00:00:00",
          "2023-04-23T00:00:00",
          "2023-04-24T00:00:00",
          "2023-04-25T00:00:00",
          "2023-04-26T00:00:00",
          "2023-04-27T00:00:00",
          "2023-04-28T00:00:00",
          "2023-04-29T00:00:00",
          "2023-04-30T00:00:00",
          "2023-05-01T00:00:00",
          "2023-05-02T00:00:00",
          "2023-05-03T00:00:00",
          "2023-05-04T00:00:00",
          "2023-05-05T00:00:00",
          "2023-05-06T00:00:00",
          "2023-05-07T00:00:00",
          "2023-05-08T00:00:00",
          "2023-05-09T00:00:00",
          "2023-05-10T00:00:00",
          "2023-05-11T00:00:00",
          "2023-05-12T00:00:00",
          "2023-05-13T00:00:00",
          "2023-05-14T00:00:00",
          "2023-05-15T00:00:00",
          "2023-05-16T00:00:00",
          "2023-05-17T00:00:00",
          "2023-05-18T00:00:00",
          "2023-05-19T00:00:00",
          "2023-05-20T00:00:00",
          "2023-05-21T00:00:00",
          "2023-05-22T00:00:00",
          "2023-05-23T00:00:00",
          "2023-05-24T00:00:00",
          "2023-05-25T00:00:00",
          "2023-05-26T00:00:00",
          "2023-05-27T00:00:00",
          "2023-05-28T00:00:00",
          "2023-05-29T00:00:00",
          "2023-05-30T00:00:00",
          "2023-05-31T00:00:00",
          "2023-06-01T00:00:00"
         ],
         "xaxis": "x",
         "y": [
          2780456.885984999,
          5278564.268968,
          4310247.116946998,
          11887999.419569956,
          4447194.295873989,
          8527128.355389014,
          1935820.849402,
          6037193.416388002,
          13929786.22321599,
          9658157.603471989,
          11465220.824527,
          20775058.53989002,
          10633167.50341905,
          33301195.374549996,
          16982739.394031044,
          27047611.00583692,
          19219483.583819073,
          30520361.427454002,
          12181064.997737015,
          18529739.541562986,
          18903426.817213964,
          14577466.67325398,
          16219603.071730945,
          17984341.805202954,
          22846914.527654026,
          18628485.520616047,
          22031506.425253965,
          11278644.562395003,
          23536747.99840903,
          22373682.097071014,
          15880405.254281983,
          28424132.057856023,
          34177777.471159875,
          23483804.91008497,
          13991140.074445007,
          20251522.192044035,
          21050333.804701928,
          27103447.115679935,
          26456121.958685815,
          43426504.611987025,
          25256794.509438004,
          8802064.194184989,
          12681692.387760978,
          22301912.088857025,
          28108039.426980957,
          21534875.285905994,
          45516455.21800413,
          34382189.64131996,
          11817794.403661001,
          22542949.800221927,
          22600223.102565,
          29485921.822556168,
          28183979.072262082,
          30531207.044864994,
          33608662.586577006,
          16477049.836062014,
          16304145.303006042,
          25304437.549922943,
          20224706.443466984,
          25823075.070100933,
          21821510.22046907,
          30713278.722355966,
          8079645.145804989,
          13135656.132678013,
          13005829.204653025,
          22294908.755231954,
          22668940.663229946,
          31970212.00273592,
          47959709.58338501,
          66475810.063312836,
          28041667.031608015,
          53072347.1271558,
          66730524.71990677,
          39597934.84363809,
          24784203.161307964,
          43224609.13684896,
          32226942.16582697,
          30110087.977708057,
          30665757.07551003,
          28052561.593946107,
          40151647.284311056,
          24516947.68655615,
          27308000.718449906,
          10619106.945473036,
          14530908.84161203,
          17272057.459502034,
          20759658.764082022,
          16530936.258797998,
          23252084.26657404,
          18536453.285264004,
          6104047.393962968,
          9519021.111703003,
          22527982.500708006,
          19425785.340393014,
          22213676.35815004,
          13893925.134875974,
          9766821.846831964,
          5383152.401126999,
          10224413.078848936,
          12684932.292247988,
          16316369.687203042,
          23795651.908286963,
          18084150.634116024,
          26272426.53254799,
          10089583.189407008,
          11711522.498174055,
          15629824.679961022,
          13717609.62320002,
          24760359.53442393,
          21146683.848255962,
          24105723.986832105,
          8144655.339918982,
          13111965.781887986,
          19443108.82574698,
          17770806.936496057,
          35139317.838021964,
          34326995.58579102,
          18427371.180902045,
          6874755.194926004,
          12925457.462982003,
          18894862.49885605,
          15608825.200832011,
          25899550.965710126,
          11290771.135008993,
          20892625.128445953,
          20078236.62047688,
          14667389.613343008,
          24484754.595232014,
          15598366.06525601,
          29147651.47485203,
          22202409.97270608,
          23386902.29945,
          9257236.215554982,
          10074597.301554956,
          15421635.044418026,
          13674153.50244198,
          14263107.26701393,
          13744018.511384977,
          10453523.798870996,
          3818749.576530013,
          5637792.29875698,
          9021378.840899024,
          11812624.901856964,
          15275347.972246004,
          13998741.092631994,
          11338198.418911986,
          6109091.255762992,
          13630868.788838051,
          12377895.042533044,
          12256896.193392007,
          14771596.210127974,
          17351302.825837065
         ],
         "yaxis": "y2"
        },
        {
         "close": [
          1199.6056568312129,
          1213.6014010606884,
          1214.3297439658086,
          1255.8223207049982,
          1250.059091774921,
          1269.3310871316587,
          1263.1268877110394,
          1288.384765072567,
          1321.1308294157986,
          1335.8763304990052,
          1388.4466079281012,
          1417.2020620642083,
          1450.7539388271298,
          1550.5040232059496,
          1552.5208882728102,
          1576.6135426528203,
          1565.4597868642186,
          1512.223832625175,
          1552.0552251420588,
          1659.766034830189,
          1625.9262924360692,
          1627.8784774561295,
          1627.064782342209,
          1555.473334276242,
          1611.037110243414,
          1602.6818774562478,
          1597.7215042014413,
          1573.3062934000254,
          1646.7061904403165,
          1566.555937516375,
          1586.2597941155238,
          1642.4305288931996,
          1643.9093077821785,
          1664.9190349160976,
          1666.251436414607,
          1629.8330063870853,
          1615.069539837777,
          1671.926048947555,
          1650.1677337143458,
          1545.5505877228302,
          1513.4340351986434,
          1538.7654426537517,
          1515.402680355899,
          1507.091258538756,
          1556.251226506269,
          1675.2730796117487,
          1639.4769606260083,
          1694.987895707983,
          1692.785953111637,
          1681.9872556272353,
          1703.8243458103245,
          1659.9320114336722,
          1643.5805752313267,
          1650.3327504877172,
          1607.0147486294277,
          1595.007820610782,
          1640.78900133988,
          1633.9124821527505,
          1604.4457092609773,
          1664.9190349160976,
          1647.5297082226234,
          1568.750541965184,
          1566.3992975866165,
          1564.9902428400942,
          1565.9294717656367,
          1561.8635464252245,
          1533.696139104966,
          1438.0439456421507,
          1432.733279363061,
          1532.0100851529187,
          1601.2401847090189,
          1679.9701822585287,
          1707.0645272586619,
          1655.2909343915203,
          1678.1233233580615,
          1792.4310103801663,
          1763.62899428503,
          1786.7046844661563,
          1739.6332231580272,
          1807.730841157395,
          1739.2853486954345,
          1818.063811301903,
          1751.327312514386,
          1743.4644374820282,
          1775.6619354444986,
          1716.135532642047,
          1773.3551899731794,
          1792.968793458003,
          1793.8654571695417,
          1823.3435843412772,
          1821.1569935846157,
          1795.480582023266,
          1809.901311666929,
          1871.556888100815,
          1910.3178083635014,
          1872.305623156955,
          1865.950910900774,
          1850.898505666219,
          1859.6177669010567,
          1910.8909610174549,
          1892.2566187075502,
          1918.933177783335,
          2013.2835480945876,
          2102.369055089288,
          2093.139412824042,
          2119.6784875714325,
          2076.046700153497,
          2104.6828176998265,
          1938.993211222806,
          1943.069171432139,
          1849.2335296101405,
          1874.928555509198,
          1862.7816474499339,
          1842.4043487790382,
          1867.0707613772727,
          1866.137505991864,
          1909.9358021037226,
          1893.202936261489,
          1909.1720187382693,
          1871.1826328624165,
          1831.3835691158201,
          1870.6213903248067,
          1904.4052879200638,
          1876.9920084403889,
          1993.2520386403178,
          1900.6004736642303,
          1873.2419632178196,
          1849.7883551478787,
          1848.3091901656544,
          1842.2201267663613,
          1796.5581397304795,
          1808.0924054029347,
          1796.3785018802917,
          1799.9746740519474,
          1817.7002530742855,
          1824.4378640298894,
          1822.43218598684,
          1801.9556364765301,
          1812.6180648545583,
          1819.700723387787,
          1804.660462804799,
          1818.791145917525,
          1854.4183796576672,
          1800.8748414044412,
          1806.8272468331845,
          1829.1873366456916,
          1831.3835691158201,
          1909.3629359401434,
          1893.0136348979993,
          1900.7905337115963,
          1874.3661894195127,
          1861.6643695413177
         ],
         "high": [
          1203.0893880211993,
          1220.7824535551806,
          1219.5623422634903,
          1266.7950885990324,
          1258.2105317878845,
          1274.0360757701771,
          1269.8388957314542,
          1292.3847546287946,
          1343.6465365281801,
          1345.7979841151557,
          1395.8245403108242,
          1444.5294004598888,
          1463.2835965362453,
          1574.4079382547982,
          1583.8823068579322,
          1608.3008104824644,
          1606.0508771633745,
          1605.8902881345612,
          1579.7697671019603,
          1662.5898955002435,
          1679.1304491041394,
          1662.4236531349297,
          1646.8708610593603,
          1642.102092053768,
          1640.6249388459958,
          1632.4426959099153,
          1620.7319034700627,
          1605.8902881345612,
          1657.60984861711,
          1646.7061904403165,
          1602.5216252937182,
          1665.085526819589,
          1727.3261843004295,
          1673.5987275638909,
          1695.3269102370036,
          1672.929455399272,
          1656.9469704055018,
          1676.6137672457276,
          1693.801878635255,
          1655.2909343915203,
          1554.8513004587608,
          1542.1542835465868,
          1547.406268831583,
          1526.3524038817018,
          1563.426112997702,
          1677.7877490303777,
          1739.6332231580272,
          1720.6030669319164,
          1710.995097569334,
          1723.7027863796243,
          1718.711538664395,
          1717.3371879634292,
          1667.2514372474986,
          1675.1055690548433,
          1662.4236531349297,
          1608.461640563513,
          1651.4883300407032,
          1663.42135672361,
          1646.376898596828,
          1668.0852297079398,
          1676.2784947839857,
          1648.5184732099658,
          1576.4558970631144,
          1586.2597941155238,
          1581.192128742189,
          1582.615771020063,
          1569.8489968370852,
          1545.8597132958807,
          1442.5085752465227,
          1665.2520353722714,
          1624.9510780140977,
          1702.1214581931854,
          1782.0655177709837,
          1729.5730561485823,
          1693.124527230119,
          1801.0549288885818,
          1845.9080693391581,
          1907.454622733895,
          1808.0924054029347,
          1839.0911693634337,
          1822.7966906483591,
          1850.713434322787,
          1820.9748960950064,
          1763.452649020128,
          1798.1756889681008,
          1781.1747522595663,
          1792.968793458003,
          1824.8027698470737,
          1826.628393997182,
          1844.8009120349018,
          1840.378919455508,
          1825.7153537305232,
          1838.9072786355703,
          1883.3843224348827,
          1936.0870468799033,
          1910.3178083635014,
          1882.066480598624,
          1878.4941277100281,
          1873.4292874141413,
          1916.823617235048,
          1935.5063369117042,
          1932.0257330157804,
          2021.1502907792167,
          2130.942042442837,
          2111.4282523900406,
          2136.9167421079283,
          2121.374823990183,
          2123.497153687453,
          2105.3142856877257,
          1980.7346478362,
          1955.3485326301764,
          1886.5886384668502,
          1883.1960028345993,
          1889.420503201276,
          1877.1797076412329,
          1959.2629470876934,
          1936.8615978716225,
          1923.3515823933064,
          1917.7822207451961,
          1937.248989559813,
          1886.2113773292706,
          1879.4335626420816,
          1914.9078474492383,
          1915.4823772526233,
          2001.6408820075194,
          2014.2903912171234,
          1933.9586283922597,
          1885.6456270698952,
          1860.3617255923218,
          1886.3999984670036,
          1842.5885892139158,
          1814.9758826994982,
          1815.5204299153997,
          1823.7082712915817,
          1846.2772694121068,
          1831.3835691158201,
          1835.9675264038167,
          1831.3835691158201,
          1827.9074175288808,
          1827.7246450643747,
          1827.9074175288808,
          1826.9937379422652,
          1869.4994102163726,
          1854.4183796576672,
          1816.6100145377263,
          1836.7020235797734,
          1835.6003879702187,
          1916.248685140129,
          1923.928645570495,
          1919.125071101113,
          1906.5011814739737,
          1887.5321214638138
         ],
         "hoverinfo": "text",
         "low": [
          1191.2381560198617,
          1192.9069738987412,
          1204.8952858946582,
          1212.0248230646168,
          1242.9543778513037,
          1237.3739275984408,
          1261.4859716279902,
          1257.9589274228108,
          1285.1679866444836,
          1317.568765227118,
          1321.2629424987404,
          1373.3954701579416,
          1402.1195892327355,
          1450.173782297983,
          1517.677376238962,
          1522.846002577079,
          1547.561009458466,
          1503.478756876245,
          1510.1083062480386,
          1543.0798074707027,
          1622.028942888544,
          1608.461640563513,
          1601.4003087274898,
          1547.251543677215,
          1525.13187126235,
          1582.457525267536,
          1559.678576542681,
          1558.431394978625,
          1566.7125931101268,
          1539.688932764938,
          1562.6446344004114,
          1559.5226242802532,
          1636.365067227739,
          1628.6925794989847,
          1646.7061904403165,
          1612.648872513715,
          1607.6576509561921,
          1614.1008371880541,
          1632.7692007735245,
          1530.0198654746118,
          1495.9804992631123,
          1508.4481833509083,
          1495.8309161714951,
          1464.747538786025,
          1495.8309161714951,
          1544.469134935795,
          1635.710684804633,
          1632.9324776936016,
          1681.4827603529654,
          1668.0852297079398,
          1653.3058757948797,
          1638.6574680098693,
          1598.2008685859444,
          1630.4850373861402,
          1578.9801191285937,
          1562.019732779867,
          1588.0055525937228,
          1609.2660322460438,
          1599.0001288563067,
          1596.2842735587917,
          1620.4078057048437,
          1548.6446272070689,
          1550.5040232059496,
          1556.87382037817,
          1555.3178024959923,
          1538.919319198017,
          1524.8268906359538,
          1413.8050250392014,
          1371.8856411891245,
          1430.8720292355406,
          1512.0726253626387,
          1593.2543642572593,
          1667.5849042074626,
          1619.75980459094,
          1641.4454153943195,
          1667.918437864153,
          1756.7645787329127,
          1763.62899428503,
          1733.0354904222372,
          1726.8080900674395,
          1703.4836320490788,
          1734.9427829172294,
          1732.1692325717056,
          1718.1960283083038,
          1741.7219315665493,
          1693.4631690668102,
          1704.6764283827035,
          1773.709878744726,
          1765.7465134613938,
          1782.6001908900628,
          1813.1619046543692,
          1778.5051263302262,
          1766.806226266765,
          1803.7584032093155,
          1866.3241197424632,
          1856.2736327481648,
          1846.4618971390478,
          1849.4184529631016,
          1830.2851234623658,
          1848.8637383738283,
          1885.457081361759,
          1860.547761764881,
          1902.5019296362193,
          2012.277208242622,
          2077.0849311290053,
          2076.66957644702,
          2061.9781732066704,
          2056.0073968482434,
          1925.0832913856154,
          1918.933177783335,
          1828.0902082706336,
          1844.616450389863,
          1840.5629573474534,
          1810.0823017980956,
          1805.5629735202951,
          1800.6947719272487,
          1863.3405378294813,
          1854.9747608059702,
          1888.664923904264,
          1869.4994102163726,
          1808.9966324329584,
          1824.6203078162923,
          1845.1698906653176,
          1869.3124789684755,
          1876.0537939192886,
          1870.2473221579016,
          1872.680103004643,
          1817.1550520422045,
          1833.3990986050494,
          1799.6147331091784,
          1774.4194691259113,
          1743.2901084711812,
          1787.4194735493707,
          1792.7895145065522,
          1787.5982154967257,
          1798.5353420876513,
          1786.3473971232577,
          1775.1293433858275,
          1798.71519562186,
          1807.3693492138584,
          1800.3346869865047,
          1793.6860885606857,
          1817.1550520422045,
          1781.3528697347922,
          1765.569956465747,
          1797.995889379163,
          1817.1550520422045,
          1825.5328004504781,
          1876.2413992986806,
          1884.1377891744498,
          1850.5283814846382,
          1844.0631761132897
         ],
         "open": [
          1195.414585235854,
          1199.6056568312129,
          1213.6014010606884,
          1214.3297439658086,
          1255.8223207049982,
          1250.1840976840986,
          1269.2041667149877,
          1263.1268877110394,
          1288.384765072567,
          1320.8666428785564,
          1335.8763304990052,
          1388.4466079281012,
          1417.2020620642083,
          1450.7539388271298,
          1550.5040232059496,
          1552.5208882728102,
          1576.6135426528203,
          1565.4597868642186,
          1512.0726253626387,
          1552.0552251420588,
          1659.766034830189,
          1626.0888850653125,
          1627.8784774561295,
          1627.064782342209,
          1555.3178024959923,
          1611.037110243414,
          1602.6818774562478,
          1597.7215042014413,
          1573.1489785021752,
          1646.376898596828,
          1566.555937516375,
          1586.2597941155238,
          1642.4305288931996,
          1644.7314268434402,
          1664.9190349160976,
          1666.251436414607,
          1629.8330063870853,
          1614.9080490328736,
          1671.926048947555,
          1650.1677337143458,
          1545.5505877228302,
          1513.4340351986434,
          1538.7654426537517,
          1515.2511552403753,
          1507.091258538756,
          1556.251226506269,
          1675.2730796117487,
          1639.4769606260083,
          1694.987895707983,
          1692.785953111637,
          1681.650908629001,
          1703.8243458103245,
          1659.9320114336722,
          1643.5805752313267,
          1649.672782387796,
          1607.0147486294277,
          1595.007820610782,
          1640.78900133988,
          1633.9124821527505,
          1604.7666144472867,
          1664.9190349160976,
          1647.5297082226234,
          1568.9074170193805,
          1566.3992975866165,
          1564.9902428400942,
          1565.9294717656367,
          1561.8635464252245,
          1533.5427848264833,
          1437.756379988589,
          1432.4467756834565,
          1532.0100851529187,
          1600.9199847028783,
          1680.4742237139917,
          1706.7231655583184,
          1655.4564634849596,
          1678.1233233580615,
          1792.4310103801663,
          1763.62899428503,
          1786.7046844661563,
          1739.6332231580272,
          1807.3693492138584,
          1739.2853486954345,
          1818.063811301903,
          1751.327312514386,
          1743.4644374820282,
          1775.6619354444986,
          1716.135532642047,
          1773.709878744726,
          1792.968793458003,
          1793.8654571695417,
          1823.3435843412772,
          1821.1569935846157,
          1795.480582023266,
          1809.901311666929,
          1871.556888100815,
          1910.126795683933,
          1872.305623156955,
          1865.7643344673272,
          1850.898505666219,
          1859.6177669010567,
          1910.8909610174549,
          1892.2566187075502,
          1918.933177783335,
          2014.2903912171234,
          2102.369055089288,
          2093.139412824042,
          2119.6784875714325,
          2076.046700153497,
          2104.6828176998265,
          1938.799331289677,
          1943.069171432139,
          1849.0486247476658,
          1874.928555509198,
          1862.7816474499339,
          1842.4043487790382,
          1867.0707613772727,
          1865.577776689658,
          1909.9358021037226,
          1893.202936261489,
          1909.1720187382693,
          1870.9955333090852,
          1831.3835691158201,
          1870.6213903248067,
          1904.5957284488557,
          1876.9920084403889,
          1993.6507089805657,
          1900.6004736642303,
          1873.8039920059173,
          1849.7883551478787,
          1848.3091901656544,
          1842.2201267663613,
          1796.5581397304795,
          1807.9116142415107,
          1796.3785018802917,
          1799.9746740519474,
          1817.7002530742855,
          1824.4378640298894,
          1822.614429205439,
          1801.9556364765301,
          1812.6180648545583,
          1821.3391092839738,
          1804.660462804799,
          1818.791145917525,
          1854.4183796576672,
          1800.8748414044412,
          1806.8272468331845,
          1829.1873366456916,
          1831.0173473361795,
          1909.3629359401434,
          1893.0136348979993,
          1900.7905337115963,
          1874.3661894195127
         ],
         "showlegend": false,
         "text": [
          "2023-01-01 00:00:00 UTC<br>Open: 1195.4146 aPolUSDC/USD<br>High: 1203.0894 aPolUSDC/USD<br>Low: 1191.2382 aPolUSDC/USD<br>Close: 1199.6057 aPolUSDC/USD<br>Volume: 2780456.886 USD<br>Change: 0.35 %<br><br>Exchange rate: 1.0 aPolUSDC / USD<br><br>Buys: nan txs<br>Sells: nan txs<br>Total: nan trades<br>",
          "2023-01-02 00:00:00 UTC<br>Open: 1199.6057 aPolUSDC/USD<br>High: 1220.7825 aPolUSDC/USD<br>Low: 1192.907 aPolUSDC/USD<br>Close: 1213.6014 aPolUSDC/USD<br>Volume: 5278564.269 USD<br>Change: 1.17 %<br><br>Exchange rate: 1.0 aPolUSDC / USD<br><br>Buys: nan txs<br>Sells: nan txs<br>Total: nan trades<br>",
          "2023-01-03 00:00:00 UTC<br>Open: 1213.6014 aPolUSDC/USD<br>High: 1219.5623 aPolUSDC/USD<br>Low: 1204.8953 aPolUSDC/USD<br>Close: 1214.3297 aPolUSDC/USD<br>Volume: 4310247.1169 USD<br>Change: 0.06 %<br><br>Exchange rate: 1.0 aPolUSDC / USD<br><br>Buys: nan txs<br>Sells: nan txs<br>Total: nan trades<br>",
          "2023-01-04 00:00:00 UTC<br>Open: 1214.3297 aPolUSDC/USD<br>High: 1266.7951 aPolUSDC/USD<br>Low: 1212.0248 aPolUSDC/USD<br>Close: 1255.8223 aPolUSDC/USD<br>Volume: 11887999.4196 USD<br>Change: 3.42 %<br><br>Exchange rate: 1.0 aPolUSDC / USD<br><br>Buys: nan txs<br>Sells: nan txs<br>Total: nan trades<br>",
          "2023-01-05 00:00:00 UTC<br>Open: 1255.8223 aPolUSDC/USD<br>High: 1258.2105 aPolUSDC/USD<br>Low: 1242.9544 aPolUSDC/USD<br>Close: 1250.0591 aPolUSDC/USD<br>Volume: 4447194.2959 USD<br>Change: -0.46 %<br><br>Exchange rate: 1.0 aPolUSDC / USD<br><br>Buys: nan txs<br>Sells: nan txs<br>Total: nan trades<br>",
          "2023-01-06 00:00:00 UTC<br>Open: 1250.1841 aPolUSDC/USD<br>High: 1274.0361 aPolUSDC/USD<br>Low: 1237.3739 aPolUSDC/USD<br>Close: 1269.3311 aPolUSDC/USD<br>Volume: 8527128.3554 USD<br>Change: 1.53 %<br><br>Exchange rate: 1.0 aPolUSDC / USD<br><br>Buys: nan txs<br>Sells: nan txs<br>Total: nan trades<br>",
          "2023-01-07 00:00:00 UTC<br>Open: 1269.2042 aPolUSDC/USD<br>High: 1269.8389 aPolUSDC/USD<br>Low: 1261.486 aPolUSDC/USD<br>Close: 1263.1269 aPolUSDC/USD<br>Volume: 1935820.8494 USD<br>Change: -0.48 %<br><br>Exchange rate: 1.0 aPolUSDC / USD<br><br>Buys: nan txs<br>Sells: nan txs<br>Total: nan trades<br>",
          "2023-01-08 00:00:00 UTC<br>Open: 1263.1269 aPolUSDC/USD<br>High: 1292.3848 aPolUSDC/USD<br>Low: 1257.9589 aPolUSDC/USD<br>Close: 1288.3848 aPolUSDC/USD<br>Volume: 6037193.4164 USD<br>Change: 2.00 %<br><br>Exchange rate: 1.0 aPolUSDC / USD<br><br>Buys: nan txs<br>Sells: nan txs<br>Total: nan trades<br>",
          "2023-01-09 00:00:00 UTC<br>Open: 1288.3848 aPolUSDC/USD<br>High: 1343.6465 aPolUSDC/USD<br>Low: 1285.168 aPolUSDC/USD<br>Close: 1321.1308 aPolUSDC/USD<br>Volume: 13929786.2232 USD<br>Change: 2.54 %<br><br>Exchange rate: 1.0 aPolUSDC / USD<br><br>Buys: nan txs<br>Sells: nan txs<br>Total: nan trades<br>",
          "2023-01-10 00:00:00 UTC<br>Open: 1320.8666 aPolUSDC/USD<br>High: 1345.798 aPolUSDC/USD<br>Low: 1317.5688 aPolUSDC/USD<br>Close: 1335.8763 aPolUSDC/USD<br>Volume: 9658157.6035 USD<br>Change: 1.14 %<br><br>Exchange rate: 1.0 aPolUSDC / USD<br><br>Buys: nan txs<br>Sells: nan txs<br>Total: nan trades<br>",
          "2023-01-11 00:00:00 UTC<br>Open: 1335.8763 aPolUSDC/USD<br>High: 1395.8245 aPolUSDC/USD<br>Low: 1321.2629 aPolUSDC/USD<br>Close: 1388.4466 aPolUSDC/USD<br>Volume: 11465220.8245 USD<br>Change: 3.94 %<br><br>Exchange rate: 1.0 aPolUSDC / USD<br><br>Buys: nan txs<br>Sells: nan txs<br>Total: nan trades<br>",
          "2023-01-12 00:00:00 UTC<br>Open: 1388.4466 aPolUSDC/USD<br>High: 1444.5294 aPolUSDC/USD<br>Low: 1373.3955 aPolUSDC/USD<br>Close: 1417.2021 aPolUSDC/USD<br>Volume: 20775058.5399 USD<br>Change: 2.07 %<br><br>Exchange rate: 1.0 aPolUSDC / USD<br><br>Buys: nan txs<br>Sells: nan txs<br>Total: nan trades<br>",
          "2023-01-13 00:00:00 UTC<br>Open: 1417.2021 aPolUSDC/USD<br>High: 1463.2836 aPolUSDC/USD<br>Low: 1402.1196 aPolUSDC/USD<br>Close: 1450.7539 aPolUSDC/USD<br>Volume: 10633167.5034 USD<br>Change: 2.37 %<br><br>Exchange rate: 1.0 aPolUSDC / USD<br><br>Buys: nan txs<br>Sells: nan txs<br>Total: nan trades<br>",
          "2023-01-14 00:00:00 UTC<br>Open: 1450.7539 aPolUSDC/USD<br>High: 1574.4079 aPolUSDC/USD<br>Low: 1450.1738 aPolUSDC/USD<br>Close: 1550.504 aPolUSDC/USD<br>Volume: 33301195.3745 USD<br>Change: 6.88 %<br><br>Exchange rate: 1.0 aPolUSDC / USD<br><br>Buys: nan txs<br>Sells: nan txs<br>Total: nan trades<br>",
          "2023-01-15 00:00:00 UTC<br>Open: 1550.504 aPolUSDC/USD<br>High: 1583.8823 aPolUSDC/USD<br>Low: 1517.6774 aPolUSDC/USD<br>Close: 1552.5209 aPolUSDC/USD<br>Volume: 16982739.394 USD<br>Change: 0.13 %<br><br>Exchange rate: 1.0 aPolUSDC / USD<br><br>Buys: nan txs<br>Sells: nan txs<br>Total: nan trades<br>",
          "2023-01-16 00:00:00 UTC<br>Open: 1552.5209 aPolUSDC/USD<br>High: 1608.3008 aPolUSDC/USD<br>Low: 1522.846 aPolUSDC/USD<br>Close: 1576.6135 aPolUSDC/USD<br>Volume: 27047611.0058 USD<br>Change: 1.55 %<br><br>Exchange rate: 1.0 aPolUSDC / USD<br><br>Buys: nan txs<br>Sells: nan txs<br>Total: nan trades<br>",
          "2023-01-17 00:00:00 UTC<br>Open: 1576.6135 aPolUSDC/USD<br>High: 1606.0509 aPolUSDC/USD<br>Low: 1547.561 aPolUSDC/USD<br>Close: 1565.4598 aPolUSDC/USD<br>Volume: 19219483.5838 USD<br>Change: -0.71 %<br><br>Exchange rate: 1.0 aPolUSDC / USD<br><br>Buys: nan txs<br>Sells: nan txs<br>Total: nan trades<br>",
          "2023-01-18 00:00:00 UTC<br>Open: 1565.4598 aPolUSDC/USD<br>High: 1605.8903 aPolUSDC/USD<br>Low: 1503.4788 aPolUSDC/USD<br>Close: 1512.2238 aPolUSDC/USD<br>Volume: 30520361.4275 USD<br>Change: -3.40 %<br><br>Exchange rate: 1.0 aPolUSDC / USD<br><br>Buys: nan txs<br>Sells: nan txs<br>Total: nan trades<br>",
          "2023-01-19 00:00:00 UTC<br>Open: 1512.0726 aPolUSDC/USD<br>High: 1579.7698 aPolUSDC/USD<br>Low: 1510.1083 aPolUSDC/USD<br>Close: 1552.0552 aPolUSDC/USD<br>Volume: 12181064.9977 USD<br>Change: 2.64 %<br><br>Exchange rate: 1.0 aPolUSDC / USD<br><br>Buys: nan txs<br>Sells: nan txs<br>Total: nan trades<br>",
          "2023-01-20 00:00:00 UTC<br>Open: 1552.0552 aPolUSDC/USD<br>High: 1662.5899 aPolUSDC/USD<br>Low: 1543.0798 aPolUSDC/USD<br>Close: 1659.766 aPolUSDC/USD<br>Volume: 18529739.5416 USD<br>Change: 6.94 %<br><br>Exchange rate: 1.0 aPolUSDC / USD<br><br>Buys: nan txs<br>Sells: nan txs<br>Total: nan trades<br>",
          "2023-01-21 00:00:00 UTC<br>Open: 1659.766 aPolUSDC/USD<br>High: 1679.1304 aPolUSDC/USD<br>Low: 1622.0289 aPolUSDC/USD<br>Close: 1625.9263 aPolUSDC/USD<br>Volume: 18903426.8172 USD<br>Change: -2.04 %<br><br>Exchange rate: 1.0 aPolUSDC / USD<br><br>Buys: nan txs<br>Sells: nan txs<br>Total: nan trades<br>",
          "2023-01-22 00:00:00 UTC<br>Open: 1626.0889 aPolUSDC/USD<br>High: 1662.4237 aPolUSDC/USD<br>Low: 1608.4616 aPolUSDC/USD<br>Close: 1627.8785 aPolUSDC/USD<br>Volume: 14577466.6733 USD<br>Change: 0.11 %<br><br>Exchange rate: 1.0 aPolUSDC / USD<br><br>Buys: nan txs<br>Sells: nan txs<br>Total: nan trades<br>",
          "2023-01-23 00:00:00 UTC<br>Open: 1627.8785 aPolUSDC/USD<br>High: 1646.8709 aPolUSDC/USD<br>Low: 1601.4003 aPolUSDC/USD<br>Close: 1627.0648 aPolUSDC/USD<br>Volume: 16219603.0717 USD<br>Change: -0.05 %<br><br>Exchange rate: 1.0 aPolUSDC / USD<br><br>Buys: nan txs<br>Sells: nan txs<br>Total: nan trades<br>",
          "2023-01-24 00:00:00 UTC<br>Open: 1627.0648 aPolUSDC/USD<br>High: 1642.1021 aPolUSDC/USD<br>Low: 1547.2515 aPolUSDC/USD<br>Close: 1555.4733 aPolUSDC/USD<br>Volume: 17984341.8052 USD<br>Change: -4.40 %<br><br>Exchange rate: 1.0 aPolUSDC / USD<br><br>Buys: nan txs<br>Sells: nan txs<br>Total: nan trades<br>",
          "2023-01-25 00:00:00 UTC<br>Open: 1555.3178 aPolUSDC/USD<br>High: 1640.6249 aPolUSDC/USD<br>Low: 1525.1319 aPolUSDC/USD<br>Close: 1611.0371 aPolUSDC/USD<br>Volume: 22846914.5277 USD<br>Change: 3.58 %<br><br>Exchange rate: 1.0 aPolUSDC / USD<br><br>Buys: nan txs<br>Sells: nan txs<br>Total: nan trades<br>",
          "2023-01-26 00:00:00 UTC<br>Open: 1611.0371 aPolUSDC/USD<br>High: 1632.4427 aPolUSDC/USD<br>Low: 1582.4575 aPolUSDC/USD<br>Close: 1602.6819 aPolUSDC/USD<br>Volume: 18628485.5206 USD<br>Change: -0.52 %<br><br>Exchange rate: 1.0 aPolUSDC / USD<br><br>Buys: nan txs<br>Sells: nan txs<br>Total: nan trades<br>",
          "2023-01-27 00:00:00 UTC<br>Open: 1602.6819 aPolUSDC/USD<br>High: 1620.7319 aPolUSDC/USD<br>Low: 1559.6786 aPolUSDC/USD<br>Close: 1597.7215 aPolUSDC/USD<br>Volume: 22031506.4253 USD<br>Change: -0.31 %<br><br>Exchange rate: 1.0 aPolUSDC / USD<br><br>Buys: nan txs<br>Sells: nan txs<br>Total: nan trades<br>",
          "2023-01-28 00:00:00 UTC<br>Open: 1597.7215 aPolUSDC/USD<br>High: 1605.8903 aPolUSDC/USD<br>Low: 1558.4314 aPolUSDC/USD<br>Close: 1573.3063 aPolUSDC/USD<br>Volume: 11278644.5624 USD<br>Change: -1.53 %<br><br>Exchange rate: 1.0 aPolUSDC / USD<br><br>Buys: nan txs<br>Sells: nan txs<br>Total: nan trades<br>",
          "2023-01-29 00:00:00 UTC<br>Open: 1573.149 aPolUSDC/USD<br>High: 1657.6098 aPolUSDC/USD<br>Low: 1566.7126 aPolUSDC/USD<br>Close: 1646.7062 aPolUSDC/USD<br>Volume: 23536747.9984 USD<br>Change: 4.68 %<br><br>Exchange rate: 1.0 aPolUSDC / USD<br><br>Buys: nan txs<br>Sells: nan txs<br>Total: nan trades<br>",
          "2023-01-30 00:00:00 UTC<br>Open: 1646.3769 aPolUSDC/USD<br>High: 1646.7062 aPolUSDC/USD<br>Low: 1539.6889 aPolUSDC/USD<br>Close: 1566.5559 aPolUSDC/USD<br>Volume: 22373682.0971 USD<br>Change: -4.85 %<br><br>Exchange rate: 1.0 aPolUSDC / USD<br><br>Buys: nan txs<br>Sells: nan txs<br>Total: nan trades<br>",
          "2023-01-31 00:00:00 UTC<br>Open: 1566.5559 aPolUSDC/USD<br>High: 1602.5216 aPolUSDC/USD<br>Low: 1562.6446 aPolUSDC/USD<br>Close: 1586.2598 aPolUSDC/USD<br>Volume: 15880405.2543 USD<br>Change: 1.26 %<br><br>Exchange rate: 1.0 aPolUSDC / USD<br><br>Buys: nan txs<br>Sells: nan txs<br>Total: nan trades<br>",
          "2023-02-01 00:00:00 UTC<br>Open: 1586.2598 aPolUSDC/USD<br>High: 1665.0855 aPolUSDC/USD<br>Low: 1559.5226 aPolUSDC/USD<br>Close: 1642.4305 aPolUSDC/USD<br>Volume: 28424132.0579 USD<br>Change: 3.54 %<br><br>Exchange rate: 1.0 aPolUSDC / USD<br><br>Buys: nan txs<br>Sells: nan txs<br>Total: nan trades<br>",
          "2023-02-02 00:00:00 UTC<br>Open: 1642.4305 aPolUSDC/USD<br>High: 1727.3262 aPolUSDC/USD<br>Low: 1636.3651 aPolUSDC/USD<br>Close: 1643.9093 aPolUSDC/USD<br>Volume: 34177777.4712 USD<br>Change: 0.09 %<br><br>Exchange rate: 1.0 aPolUSDC / USD<br><br>Buys: nan txs<br>Sells: nan txs<br>Total: nan trades<br>",
          "2023-02-03 00:00:00 UTC<br>Open: 1644.7314 aPolUSDC/USD<br>High: 1673.5987 aPolUSDC/USD<br>Low: 1628.6926 aPolUSDC/USD<br>Close: 1664.919 aPolUSDC/USD<br>Volume: 23483804.9101 USD<br>Change: 1.23 %<br><br>Exchange rate: 1.0 aPolUSDC / USD<br><br>Buys: nan txs<br>Sells: nan txs<br>Total: nan trades<br>",
          "2023-02-04 00:00:00 UTC<br>Open: 1664.919 aPolUSDC/USD<br>High: 1695.3269 aPolUSDC/USD<br>Low: 1646.7062 aPolUSDC/USD<br>Close: 1666.2514 aPolUSDC/USD<br>Volume: 13991140.0744 USD<br>Change: 0.08 %<br><br>Exchange rate: 1.0 aPolUSDC / USD<br><br>Buys: nan txs<br>Sells: nan txs<br>Total: nan trades<br>",
          "2023-02-05 00:00:00 UTC<br>Open: 1666.2514 aPolUSDC/USD<br>High: 1672.9295 aPolUSDC/USD<br>Low: 1612.6489 aPolUSDC/USD<br>Close: 1629.833 aPolUSDC/USD<br>Volume: 20251522.192 USD<br>Change: -2.19 %<br><br>Exchange rate: 1.0 aPolUSDC / USD<br><br>Buys: nan txs<br>Sells: nan txs<br>Total: nan trades<br>",
          "2023-02-06 00:00:00 UTC<br>Open: 1629.833 aPolUSDC/USD<br>High: 1656.947 aPolUSDC/USD<br>Low: 1607.6577 aPolUSDC/USD<br>Close: 1615.0695 aPolUSDC/USD<br>Volume: 21050333.8047 USD<br>Change: -0.91 %<br><br>Exchange rate: 1.0 aPolUSDC / USD<br><br>Buys: nan txs<br>Sells: nan txs<br>Total: nan trades<br>",
          "2023-02-07 00:00:00 UTC<br>Open: 1614.908 aPolUSDC/USD<br>High: 1676.6138 aPolUSDC/USD<br>Low: 1614.1008 aPolUSDC/USD<br>Close: 1671.926 aPolUSDC/USD<br>Volume: 27103447.1157 USD<br>Change: 3.53 %<br><br>Exchange rate: 1.0 aPolUSDC / USD<br><br>Buys: nan txs<br>Sells: nan txs<br>Total: nan trades<br>",
          "2023-02-08 00:00:00 UTC<br>Open: 1671.926 aPolUSDC/USD<br>High: 1693.8019 aPolUSDC/USD<br>Low: 1632.7692 aPolUSDC/USD<br>Close: 1650.1677 aPolUSDC/USD<br>Volume: 26456121.9587 USD<br>Change: -1.30 %<br><br>Exchange rate: 1.0 aPolUSDC / USD<br><br>Buys: nan txs<br>Sells: nan txs<br>Total: nan trades<br>",
          "2023-02-09 00:00:00 UTC<br>Open: 1650.1677 aPolUSDC/USD<br>High: 1655.2909 aPolUSDC/USD<br>Low: 1530.0199 aPolUSDC/USD<br>Close: 1545.5506 aPolUSDC/USD<br>Volume: 43426504.612 USD<br>Change: -6.34 %<br><br>Exchange rate: 1.0 aPolUSDC / USD<br><br>Buys: nan txs<br>Sells: nan txs<br>Total: nan trades<br>",
          "2023-02-10 00:00:00 UTC<br>Open: 1545.5506 aPolUSDC/USD<br>High: 1554.8513 aPolUSDC/USD<br>Low: 1495.9805 aPolUSDC/USD<br>Close: 1513.434 aPolUSDC/USD<br>Volume: 25256794.5094 USD<br>Change: -2.08 %<br><br>Exchange rate: 1.0 aPolUSDC / USD<br><br>Buys: nan txs<br>Sells: nan txs<br>Total: nan trades<br>",
          "2023-02-11 00:00:00 UTC<br>Open: 1513.434 aPolUSDC/USD<br>High: 1542.1543 aPolUSDC/USD<br>Low: 1508.4482 aPolUSDC/USD<br>Close: 1538.7654 aPolUSDC/USD<br>Volume: 8802064.1942 USD<br>Change: 1.67 %<br><br>Exchange rate: 1.0 aPolUSDC / USD<br><br>Buys: nan txs<br>Sells: nan txs<br>Total: nan trades<br>",
          "2023-02-12 00:00:00 UTC<br>Open: 1538.7654 aPolUSDC/USD<br>High: 1547.4063 aPolUSDC/USD<br>Low: 1495.8309 aPolUSDC/USD<br>Close: 1515.4027 aPolUSDC/USD<br>Volume: 12681692.3878 USD<br>Change: -1.52 %<br><br>Exchange rate: 1.0 aPolUSDC / USD<br><br>Buys: nan txs<br>Sells: nan txs<br>Total: nan trades<br>",
          "2023-02-13 00:00:00 UTC<br>Open: 1515.2512 aPolUSDC/USD<br>High: 1526.3524 aPolUSDC/USD<br>Low: 1464.7475 aPolUSDC/USD<br>Close: 1507.0913 aPolUSDC/USD<br>Volume: 22301912.0889 USD<br>Change: -0.54 %<br><br>Exchange rate: 1.0 aPolUSDC / USD<br><br>Buys: nan txs<br>Sells: nan txs<br>Total: nan trades<br>",
          "2023-02-14 00:00:00 UTC<br>Open: 1507.0913 aPolUSDC/USD<br>High: 1563.4261 aPolUSDC/USD<br>Low: 1495.8309 aPolUSDC/USD<br>Close: 1556.2512 aPolUSDC/USD<br>Volume: 28108039.427 USD<br>Change: 3.26 %<br><br>Exchange rate: 1.0 aPolUSDC / USD<br><br>Buys: nan txs<br>Sells: nan txs<br>Total: nan trades<br>",
          "2023-02-15 00:00:00 UTC<br>Open: 1556.2512 aPolUSDC/USD<br>High: 1677.7877 aPolUSDC/USD<br>Low: 1544.4691 aPolUSDC/USD<br>Close: 1675.2731 aPolUSDC/USD<br>Volume: 21534875.2859 USD<br>Change: 7.65 %<br><br>Exchange rate: 1.0 aPolUSDC / USD<br><br>Buys: nan txs<br>Sells: nan txs<br>Total: nan trades<br>",
          "2023-02-16 00:00:00 UTC<br>Open: 1675.2731 aPolUSDC/USD<br>High: 1739.6332 aPolUSDC/USD<br>Low: 1635.7107 aPolUSDC/USD<br>Close: 1639.477 aPolUSDC/USD<br>Volume: 45516455.218 USD<br>Change: -2.14 %<br><br>Exchange rate: 1.0 aPolUSDC / USD<br><br>Buys: nan txs<br>Sells: nan txs<br>Total: nan trades<br>",
          "2023-02-17 00:00:00 UTC<br>Open: 1639.477 aPolUSDC/USD<br>High: 1720.6031 aPolUSDC/USD<br>Low: 1632.9325 aPolUSDC/USD<br>Close: 1694.9879 aPolUSDC/USD<br>Volume: 34382189.6413 USD<br>Change: 3.39 %<br><br>Exchange rate: 1.0 aPolUSDC / USD<br><br>Buys: nan txs<br>Sells: nan txs<br>Total: nan trades<br>",
          "2023-02-18 00:00:00 UTC<br>Open: 1694.9879 aPolUSDC/USD<br>High: 1710.9951 aPolUSDC/USD<br>Low: 1681.4828 aPolUSDC/USD<br>Close: 1692.786 aPolUSDC/USD<br>Volume: 11817794.4037 USD<br>Change: -0.13 %<br><br>Exchange rate: 1.0 aPolUSDC / USD<br><br>Buys: nan txs<br>Sells: nan txs<br>Total: nan trades<br>",
          "2023-02-19 00:00:00 UTC<br>Open: 1692.786 aPolUSDC/USD<br>High: 1723.7028 aPolUSDC/USD<br>Low: 1668.0852 aPolUSDC/USD<br>Close: 1681.9873 aPolUSDC/USD<br>Volume: 22542949.8002 USD<br>Change: -0.64 %<br><br>Exchange rate: 1.0 aPolUSDC / USD<br><br>Buys: nan txs<br>Sells: nan txs<br>Total: nan trades<br>",
          "2023-02-20 00:00:00 UTC<br>Open: 1681.6509 aPolUSDC/USD<br>High: 1718.7115 aPolUSDC/USD<br>Low: 1653.3059 aPolUSDC/USD<br>Close: 1703.8243 aPolUSDC/USD<br>Volume: 22600223.1026 USD<br>Change: 1.32 %<br><br>Exchange rate: 1.0 aPolUSDC / USD<br><br>Buys: nan txs<br>Sells: nan txs<br>Total: nan trades<br>",
          "2023-02-21 00:00:00 UTC<br>Open: 1703.8243 aPolUSDC/USD<br>High: 1717.3372 aPolUSDC/USD<br>Low: 1638.6575 aPolUSDC/USD<br>Close: 1659.932 aPolUSDC/USD<br>Volume: 29485921.8226 USD<br>Change: -2.58 %<br><br>Exchange rate: 1.0 aPolUSDC / USD<br><br>Buys: nan txs<br>Sells: nan txs<br>Total: nan trades<br>",
          "2023-02-22 00:00:00 UTC<br>Open: 1659.932 aPolUSDC/USD<br>High: 1667.2514 aPolUSDC/USD<br>Low: 1598.2009 aPolUSDC/USD<br>Close: 1643.5806 aPolUSDC/USD<br>Volume: 28183979.0723 USD<br>Change: -0.99 %<br><br>Exchange rate: 1.0 aPolUSDC / USD<br><br>Buys: nan txs<br>Sells: nan txs<br>Total: nan trades<br>",
          "2023-02-23 00:00:00 UTC<br>Open: 1643.5806 aPolUSDC/USD<br>High: 1675.1056 aPolUSDC/USD<br>Low: 1630.485 aPolUSDC/USD<br>Close: 1650.3328 aPolUSDC/USD<br>Volume: 30531207.0449 USD<br>Change: 0.41 %<br><br>Exchange rate: 1.0 aPolUSDC / USD<br><br>Buys: nan txs<br>Sells: nan txs<br>Total: nan trades<br>",
          "2023-02-24 00:00:00 UTC<br>Open: 1649.6728 aPolUSDC/USD<br>High: 1662.4237 aPolUSDC/USD<br>Low: 1578.9801 aPolUSDC/USD<br>Close: 1607.0147 aPolUSDC/USD<br>Volume: 33608662.5866 USD<br>Change: -2.59 %<br><br>Exchange rate: 1.0 aPolUSDC / USD<br><br>Buys: nan txs<br>Sells: nan txs<br>Total: nan trades<br>",
          "2023-02-25 00:00:00 UTC<br>Open: 1607.0147 aPolUSDC/USD<br>High: 1608.4616 aPolUSDC/USD<br>Low: 1562.0197 aPolUSDC/USD<br>Close: 1595.0078 aPolUSDC/USD<br>Volume: 16477049.8361 USD<br>Change: -0.75 %<br><br>Exchange rate: 1.0 aPolUSDC / USD<br><br>Buys: nan txs<br>Sells: nan txs<br>Total: nan trades<br>",
          "2023-02-26 00:00:00 UTC<br>Open: 1595.0078 aPolUSDC/USD<br>High: 1651.4883 aPolUSDC/USD<br>Low: 1588.0056 aPolUSDC/USD<br>Close: 1640.789 aPolUSDC/USD<br>Volume: 16304145.303 USD<br>Change: 2.87 %<br><br>Exchange rate: 1.0 aPolUSDC / USD<br><br>Buys: nan txs<br>Sells: nan txs<br>Total: nan trades<br>",
          "2023-02-27 00:00:00 UTC<br>Open: 1640.789 aPolUSDC/USD<br>High: 1663.4214 aPolUSDC/USD<br>Low: 1609.266 aPolUSDC/USD<br>Close: 1633.9125 aPolUSDC/USD<br>Volume: 25304437.5499 USD<br>Change: -0.42 %<br><br>Exchange rate: 1.0 aPolUSDC / USD<br><br>Buys: nan txs<br>Sells: nan txs<br>Total: nan trades<br>",
          "2023-02-28 00:00:00 UTC<br>Open: 1633.9125 aPolUSDC/USD<br>High: 1646.3769 aPolUSDC/USD<br>Low: 1599.0001 aPolUSDC/USD<br>Close: 1604.4457 aPolUSDC/USD<br>Volume: 20224706.4435 USD<br>Change: -1.80 %<br><br>Exchange rate: 1.0 aPolUSDC / USD<br><br>Buys: nan txs<br>Sells: nan txs<br>Total: nan trades<br>",
          "2023-03-01 00:00:00 UTC<br>Open: 1604.7666 aPolUSDC/USD<br>High: 1668.0852 aPolUSDC/USD<br>Low: 1596.2843 aPolUSDC/USD<br>Close: 1664.919 aPolUSDC/USD<br>Volume: 25823075.0701 USD<br>Change: 3.75 %<br><br>Exchange rate: 1.0 aPolUSDC / USD<br><br>Buys: nan txs<br>Sells: nan txs<br>Total: nan trades<br>",
          "2023-03-02 00:00:00 UTC<br>Open: 1664.919 aPolUSDC/USD<br>High: 1676.2785 aPolUSDC/USD<br>Low: 1620.4078 aPolUSDC/USD<br>Close: 1647.5297 aPolUSDC/USD<br>Volume: 21821510.2205 USD<br>Change: -1.04 %<br><br>Exchange rate: 1.0 aPolUSDC / USD<br><br>Buys: nan txs<br>Sells: nan txs<br>Total: nan trades<br>",
          "2023-03-03 00:00:00 UTC<br>Open: 1647.5297 aPolUSDC/USD<br>High: 1648.5185 aPolUSDC/USD<br>Low: 1548.6446 aPolUSDC/USD<br>Close: 1568.7505 aPolUSDC/USD<br>Volume: 30713278.7224 USD<br>Change: -4.78 %<br><br>Exchange rate: 1.0 aPolUSDC / USD<br><br>Buys: nan txs<br>Sells: nan txs<br>Total: nan trades<br>",
          "2023-03-04 00:00:00 UTC<br>Open: 1568.9074 aPolUSDC/USD<br>High: 1576.4559 aPolUSDC/USD<br>Low: 1550.504 aPolUSDC/USD<br>Close: 1566.3993 aPolUSDC/USD<br>Volume: 8079645.1458 USD<br>Change: -0.16 %<br><br>Exchange rate: 1.0 aPolUSDC / USD<br><br>Buys: nan txs<br>Sells: nan txs<br>Total: nan trades<br>",
          "2023-03-05 00:00:00 UTC<br>Open: 1566.3993 aPolUSDC/USD<br>High: 1586.2598 aPolUSDC/USD<br>Low: 1556.8738 aPolUSDC/USD<br>Close: 1564.9902 aPolUSDC/USD<br>Volume: 13135656.1327 USD<br>Change: -0.09 %<br><br>Exchange rate: 1.0 aPolUSDC / USD<br><br>Buys: nan txs<br>Sells: nan txs<br>Total: nan trades<br>",
          "2023-03-06 00:00:00 UTC<br>Open: 1564.9902 aPolUSDC/USD<br>High: 1581.1921 aPolUSDC/USD<br>Low: 1555.3178 aPolUSDC/USD<br>Close: 1565.9295 aPolUSDC/USD<br>Volume: 13005829.2047 USD<br>Change: 0.06 %<br><br>Exchange rate: 1.0 aPolUSDC / USD<br><br>Buys: nan txs<br>Sells: nan txs<br>Total: nan trades<br>",
          "2023-03-07 00:00:00 UTC<br>Open: 1565.9295 aPolUSDC/USD<br>High: 1582.6158 aPolUSDC/USD<br>Low: 1538.9193 aPolUSDC/USD<br>Close: 1561.8635 aPolUSDC/USD<br>Volume: 22294908.7552 USD<br>Change: -0.26 %<br><br>Exchange rate: 1.0 aPolUSDC / USD<br><br>Buys: nan txs<br>Sells: nan txs<br>Total: nan trades<br>",
          "2023-03-08 00:00:00 UTC<br>Open: 1561.8635 aPolUSDC/USD<br>High: 1569.849 aPolUSDC/USD<br>Low: 1524.8269 aPolUSDC/USD<br>Close: 1533.6961 aPolUSDC/USD<br>Volume: 22668940.6632 USD<br>Change: -1.80 %<br><br>Exchange rate: 1.0 aPolUSDC / USD<br><br>Buys: nan txs<br>Sells: nan txs<br>Total: nan trades<br>",
          "2023-03-09 00:00:00 UTC<br>Open: 1533.5428 aPolUSDC/USD<br>High: 1545.8597 aPolUSDC/USD<br>Low: 1413.805 aPolUSDC/USD<br>Close: 1438.0439 aPolUSDC/USD<br>Volume: 31970212.0027 USD<br>Change: -6.23 %<br><br>Exchange rate: 1.0 aPolUSDC / USD<br><br>Buys: nan txs<br>Sells: nan txs<br>Total: nan trades<br>",
          "2023-03-10 00:00:00 UTC<br>Open: 1437.7564 aPolUSDC/USD<br>High: 1442.5086 aPolUSDC/USD<br>Low: 1371.8856 aPolUSDC/USD<br>Close: 1432.7333 aPolUSDC/USD<br>Volume: 47959709.5834 USD<br>Change: -0.35 %<br><br>Exchange rate: 1.0 aPolUSDC / USD<br><br>Buys: nan txs<br>Sells: nan txs<br>Total: nan trades<br>",
          "2023-03-11 00:00:00 UTC<br>Open: 1432.4468 aPolUSDC/USD<br>High: 1665.252 aPolUSDC/USD<br>Low: 1430.872 aPolUSDC/USD<br>Close: 1532.0101 aPolUSDC/USD<br>Volume: 66475810.0633 USD<br>Change: 6.95 %<br><br>Exchange rate: 1.0 aPolUSDC / USD<br><br>Buys: nan txs<br>Sells: nan txs<br>Total: nan trades<br>",
          "2023-03-12 00:00:00 UTC<br>Open: 1532.0101 aPolUSDC/USD<br>High: 1624.9511 aPolUSDC/USD<br>Low: 1512.0726 aPolUSDC/USD<br>Close: 1601.2402 aPolUSDC/USD<br>Volume: 28041667.0316 USD<br>Change: 4.52 %<br><br>Exchange rate: 1.0 aPolUSDC / USD<br><br>Buys: nan txs<br>Sells: nan txs<br>Total: nan trades<br>",
          "2023-03-13 00:00:00 UTC<br>Open: 1600.92 aPolUSDC/USD<br>High: 1702.1215 aPolUSDC/USD<br>Low: 1593.2544 aPolUSDC/USD<br>Close: 1679.9702 aPolUSDC/USD<br>Volume: 53072347.1272 USD<br>Change: 4.94 %<br><br>Exchange rate: 1.0 aPolUSDC / USD<br><br>Buys: nan txs<br>Sells: nan txs<br>Total: nan trades<br>",
          "2023-03-14 00:00:00 UTC<br>Open: 1680.4742 aPolUSDC/USD<br>High: 1782.0655 aPolUSDC/USD<br>Low: 1667.5849 aPolUSDC/USD<br>Close: 1707.0645 aPolUSDC/USD<br>Volume: 66730524.7199 USD<br>Change: 1.58 %<br><br>Exchange rate: 1.0 aPolUSDC / USD<br><br>Buys: nan txs<br>Sells: nan txs<br>Total: nan trades<br>",
          "2023-03-15 00:00:00 UTC<br>Open: 1706.7232 aPolUSDC/USD<br>High: 1729.5731 aPolUSDC/USD<br>Low: 1619.7598 aPolUSDC/USD<br>Close: 1655.2909 aPolUSDC/USD<br>Volume: 39597934.8436 USD<br>Change: -3.01 %<br><br>Exchange rate: 1.0 aPolUSDC / USD<br><br>Buys: nan txs<br>Sells: nan txs<br>Total: nan trades<br>",
          "2023-03-16 00:00:00 UTC<br>Open: 1655.4565 aPolUSDC/USD<br>High: 1693.1245 aPolUSDC/USD<br>Low: 1641.4454 aPolUSDC/USD<br>Close: 1678.1233 aPolUSDC/USD<br>Volume: 24784203.1613 USD<br>Change: 1.37 %<br><br>Exchange rate: 1.0 aPolUSDC / USD<br><br>Buys: nan txs<br>Sells: nan txs<br>Total: nan trades<br>",
          "2023-03-17 00:00:00 UTC<br>Open: 1678.1233 aPolUSDC/USD<br>High: 1801.0549 aPolUSDC/USD<br>Low: 1667.9184 aPolUSDC/USD<br>Close: 1792.431 aPolUSDC/USD<br>Volume: 43224609.1368 USD<br>Change: 6.81 %<br><br>Exchange rate: 1.0 aPolUSDC / USD<br><br>Buys: nan txs<br>Sells: nan txs<br>Total: nan trades<br>",
          "2023-03-18 00:00:00 UTC<br>Open: 1792.431 aPolUSDC/USD<br>High: 1845.9081 aPolUSDC/USD<br>Low: 1756.7646 aPolUSDC/USD<br>Close: 1763.629 aPolUSDC/USD<br>Volume: 32226942.1658 USD<br>Change: -1.61 %<br><br>Exchange rate: 1.0 aPolUSDC / USD<br><br>Buys: nan txs<br>Sells: nan txs<br>Total: nan trades<br>",
          "2023-03-19 00:00:00 UTC<br>Open: 1763.629 aPolUSDC/USD<br>High: 1907.4546 aPolUSDC/USD<br>Low: 1763.629 aPolUSDC/USD<br>Close: 1786.7047 aPolUSDC/USD<br>Volume: 30110087.9777 USD<br>Change: 1.31 %<br><br>Exchange rate: 1.0 aPolUSDC / USD<br><br>Buys: nan txs<br>Sells: nan txs<br>Total: nan trades<br>",
          "2023-03-20 00:00:00 UTC<br>Open: 1786.7047 aPolUSDC/USD<br>High: 1808.0924 aPolUSDC/USD<br>Low: 1733.0355 aPolUSDC/USD<br>Close: 1739.6332 aPolUSDC/USD<br>Volume: 30665757.0755 USD<br>Change: -2.63 %<br><br>Exchange rate: 1.0 aPolUSDC / USD<br><br>Buys: nan txs<br>Sells: nan txs<br>Total: nan trades<br>",
          "2023-03-21 00:00:00 UTC<br>Open: 1739.6332 aPolUSDC/USD<br>High: 1839.0912 aPolUSDC/USD<br>Low: 1726.8081 aPolUSDC/USD<br>Close: 1807.7308 aPolUSDC/USD<br>Volume: 28052561.5939 USD<br>Change: 3.91 %<br><br>Exchange rate: 1.0 aPolUSDC / USD<br><br>Buys: nan txs<br>Sells: nan txs<br>Total: nan trades<br>",
          "2023-03-22 00:00:00 UTC<br>Open: 1807.3693 aPolUSDC/USD<br>High: 1822.7967 aPolUSDC/USD<br>Low: 1703.4836 aPolUSDC/USD<br>Close: 1739.2853 aPolUSDC/USD<br>Volume: 40151647.2843 USD<br>Change: -3.77 %<br><br>Exchange rate: 1.0 aPolUSDC / USD<br><br>Buys: nan txs<br>Sells: nan txs<br>Total: nan trades<br>",
          "2023-03-23 00:00:00 UTC<br>Open: 1739.2853 aPolUSDC/USD<br>High: 1850.7134 aPolUSDC/USD<br>Low: 1734.9428 aPolUSDC/USD<br>Close: 1818.0638 aPolUSDC/USD<br>Volume: 24516947.6866 USD<br>Change: 4.53 %<br><br>Exchange rate: 1.0 aPolUSDC / USD<br><br>Buys: nan txs<br>Sells: nan txs<br>Total: nan trades<br>",
          "2023-03-24 00:00:00 UTC<br>Open: 1818.0638 aPolUSDC/USD<br>High: 1820.9749 aPolUSDC/USD<br>Low: 1732.1692 aPolUSDC/USD<br>Close: 1751.3273 aPolUSDC/USD<br>Volume: 27308000.7184 USD<br>Change: -3.67 %<br><br>Exchange rate: 1.0 aPolUSDC / USD<br><br>Buys: nan txs<br>Sells: nan txs<br>Total: nan trades<br>",
          "2023-03-25 00:00:00 UTC<br>Open: 1751.3273 aPolUSDC/USD<br>High: 1763.4526 aPolUSDC/USD<br>Low: 1718.196 aPolUSDC/USD<br>Close: 1743.4644 aPolUSDC/USD<br>Volume: 10619106.9455 USD<br>Change: -0.45 %<br><br>Exchange rate: 1.0 aPolUSDC / USD<br><br>Buys: nan txs<br>Sells: nan txs<br>Total: nan trades<br>",
          "2023-03-26 00:00:00 UTC<br>Open: 1743.4644 aPolUSDC/USD<br>High: 1798.1757 aPolUSDC/USD<br>Low: 1741.7219 aPolUSDC/USD<br>Close: 1775.6619 aPolUSDC/USD<br>Volume: 14530908.8416 USD<br>Change: 1.85 %<br><br>Exchange rate: 1.0 aPolUSDC / USD<br><br>Buys: nan txs<br>Sells: nan txs<br>Total: nan trades<br>",
          "2023-03-27 00:00:00 UTC<br>Open: 1775.6619 aPolUSDC/USD<br>High: 1781.1748 aPolUSDC/USD<br>Low: 1693.4632 aPolUSDC/USD<br>Close: 1716.1355 aPolUSDC/USD<br>Volume: 17272057.4595 USD<br>Change: -3.35 %<br><br>Exchange rate: 1.0 aPolUSDC / USD<br><br>Buys: nan txs<br>Sells: nan txs<br>Total: nan trades<br>",
          "2023-03-28 00:00:00 UTC<br>Open: 1716.1355 aPolUSDC/USD<br>High: 1792.9688 aPolUSDC/USD<br>Low: 1704.6764 aPolUSDC/USD<br>Close: 1773.3552 aPolUSDC/USD<br>Volume: 20759658.7641 USD<br>Change: 3.33 %<br><br>Exchange rate: 1.0 aPolUSDC / USD<br><br>Buys: nan txs<br>Sells: nan txs<br>Total: nan trades<br>",
          "2023-03-29 00:00:00 UTC<br>Open: 1773.7099 aPolUSDC/USD<br>High: 1824.8028 aPolUSDC/USD<br>Low: 1773.7099 aPolUSDC/USD<br>Close: 1792.9688 aPolUSDC/USD<br>Volume: 16530936.2588 USD<br>Change: 1.09 %<br><br>Exchange rate: 1.0 aPolUSDC / USD<br><br>Buys: nan txs<br>Sells: nan txs<br>Total: nan trades<br>",
          "2023-03-30 00:00:00 UTC<br>Open: 1792.9688 aPolUSDC/USD<br>High: 1826.6284 aPolUSDC/USD<br>Low: 1765.7465 aPolUSDC/USD<br>Close: 1793.8655 aPolUSDC/USD<br>Volume: 23252084.2666 USD<br>Change: 0.05 %<br><br>Exchange rate: 1.0 aPolUSDC / USD<br><br>Buys: nan txs<br>Sells: nan txs<br>Total: nan trades<br>",
          "2023-03-31 00:00:00 UTC<br>Open: 1793.8655 aPolUSDC/USD<br>High: 1844.8009 aPolUSDC/USD<br>Low: 1782.6002 aPolUSDC/USD<br>Close: 1823.3436 aPolUSDC/USD<br>Volume: 18536453.2853 USD<br>Change: 1.64 %<br><br>Exchange rate: 1.0 aPolUSDC / USD<br><br>Buys: nan txs<br>Sells: nan txs<br>Total: nan trades<br>",
          "2023-04-01 00:00:00 UTC<br>Open: 1823.3436 aPolUSDC/USD<br>High: 1840.3789 aPolUSDC/USD<br>Low: 1813.1619 aPolUSDC/USD<br>Close: 1821.157 aPolUSDC/USD<br>Volume: 6104047.394 USD<br>Change: -0.12 %<br><br>Exchange rate: 1.0 aPolUSDC / USD<br><br>Buys: nan txs<br>Sells: nan txs<br>Total: nan trades<br>",
          "2023-04-02 00:00:00 UTC<br>Open: 1821.157 aPolUSDC/USD<br>High: 1825.7154 aPolUSDC/USD<br>Low: 1778.5051 aPolUSDC/USD<br>Close: 1795.4806 aPolUSDC/USD<br>Volume: 9519021.1117 USD<br>Change: -1.41 %<br><br>Exchange rate: 1.0 aPolUSDC / USD<br><br>Buys: nan txs<br>Sells: nan txs<br>Total: nan trades<br>",
          "2023-04-03 00:00:00 UTC<br>Open: 1795.4806 aPolUSDC/USD<br>High: 1838.9073 aPolUSDC/USD<br>Low: 1766.8062 aPolUSDC/USD<br>Close: 1809.9013 aPolUSDC/USD<br>Volume: 22527982.5007 USD<br>Change: 0.80 %<br><br>Exchange rate: 1.0 aPolUSDC / USD<br><br>Buys: nan txs<br>Sells: nan txs<br>Total: nan trades<br>",
          "2023-04-04 00:00:00 UTC<br>Open: 1809.9013 aPolUSDC/USD<br>High: 1883.3843 aPolUSDC/USD<br>Low: 1803.7584 aPolUSDC/USD<br>Close: 1871.5569 aPolUSDC/USD<br>Volume: 19425785.3404 USD<br>Change: 3.41 %<br><br>Exchange rate: 1.0 aPolUSDC / USD<br><br>Buys: nan txs<br>Sells: nan txs<br>Total: nan trades<br>",
          "2023-04-05 00:00:00 UTC<br>Open: 1871.5569 aPolUSDC/USD<br>High: 1936.087 aPolUSDC/USD<br>Low: 1866.3241 aPolUSDC/USD<br>Close: 1910.3178 aPolUSDC/USD<br>Volume: 22213676.3582 USD<br>Change: 2.07 %<br><br>Exchange rate: 1.0 aPolUSDC / USD<br><br>Buys: nan txs<br>Sells: nan txs<br>Total: nan trades<br>",
          "2023-04-06 00:00:00 UTC<br>Open: 1910.1268 aPolUSDC/USD<br>High: 1910.3178 aPolUSDC/USD<br>Low: 1856.2736 aPolUSDC/USD<br>Close: 1872.3056 aPolUSDC/USD<br>Volume: 13893925.1349 USD<br>Change: -1.98 %<br><br>Exchange rate: 1.0 aPolUSDC / USD<br><br>Buys: nan txs<br>Sells: nan txs<br>Total: nan trades<br>",
          "2023-04-07 00:00:00 UTC<br>Open: 1872.3056 aPolUSDC/USD<br>High: 1882.0665 aPolUSDC/USD<br>Low: 1846.4619 aPolUSDC/USD<br>Close: 1865.9509 aPolUSDC/USD<br>Volume: 9766821.8468 USD<br>Change: -0.34 %<br><br>Exchange rate: 1.0 aPolUSDC / USD<br><br>Buys: nan txs<br>Sells: nan txs<br>Total: nan trades<br>",
          "2023-04-08 00:00:00 UTC<br>Open: 1865.7643 aPolUSDC/USD<br>High: 1878.4941 aPolUSDC/USD<br>Low: 1849.4185 aPolUSDC/USD<br>Close: 1850.8985 aPolUSDC/USD<br>Volume: 5383152.4011 USD<br>Change: -0.80 %<br><br>Exchange rate: 1.0 aPolUSDC / USD<br><br>Buys: nan txs<br>Sells: nan txs<br>Total: nan trades<br>",
          "2023-04-09 00:00:00 UTC<br>Open: 1850.8985 aPolUSDC/USD<br>High: 1873.4293 aPolUSDC/USD<br>Low: 1830.2851 aPolUSDC/USD<br>Close: 1859.6178 aPolUSDC/USD<br>Volume: 10224413.0788 USD<br>Change: 0.47 %<br><br>Exchange rate: 1.0 aPolUSDC / USD<br><br>Buys: nan txs<br>Sells: nan txs<br>Total: nan trades<br>",
          "2023-04-10 00:00:00 UTC<br>Open: 1859.6178 aPolUSDC/USD<br>High: 1916.8236 aPolUSDC/USD<br>Low: 1848.8637 aPolUSDC/USD<br>Close: 1910.891 aPolUSDC/USD<br>Volume: 12684932.2922 USD<br>Change: 2.76 %<br><br>Exchange rate: 1.0 aPolUSDC / USD<br><br>Buys: nan txs<br>Sells: nan txs<br>Total: nan trades<br>",
          "2023-04-11 00:00:00 UTC<br>Open: 1910.891 aPolUSDC/USD<br>High: 1935.5063 aPolUSDC/USD<br>Low: 1885.4571 aPolUSDC/USD<br>Close: 1892.2566 aPolUSDC/USD<br>Volume: 16316369.6872 USD<br>Change: -0.98 %<br><br>Exchange rate: 1.0 aPolUSDC / USD<br><br>Buys: nan txs<br>Sells: nan txs<br>Total: nan trades<br>",
          "2023-04-12 00:00:00 UTC<br>Open: 1892.2566 aPolUSDC/USD<br>High: 1932.0257 aPolUSDC/USD<br>Low: 1860.5478 aPolUSDC/USD<br>Close: 1918.9332 aPolUSDC/USD<br>Volume: 23795651.9083 USD<br>Change: 1.41 %<br><br>Exchange rate: 1.0 aPolUSDC / USD<br><br>Buys: nan txs<br>Sells: nan txs<br>Total: nan trades<br>",
          "2023-04-13 00:00:00 UTC<br>Open: 1918.9332 aPolUSDC/USD<br>High: 2021.1503 aPolUSDC/USD<br>Low: 1902.5019 aPolUSDC/USD<br>Close: 2013.2835 aPolUSDC/USD<br>Volume: 18084150.6341 USD<br>Change: 4.92 %<br><br>Exchange rate: 1.0 aPolUSDC / USD<br><br>Buys: nan txs<br>Sells: nan txs<br>Total: nan trades<br>",
          "2023-04-14 00:00:00 UTC<br>Open: 2014.2904 aPolUSDC/USD<br>High: 2130.942 aPolUSDC/USD<br>Low: 2012.2772 aPolUSDC/USD<br>Close: 2102.3691 aPolUSDC/USD<br>Volume: 26272426.5325 USD<br>Change: 4.37 %<br><br>Exchange rate: 1.0 aPolUSDC / USD<br><br>Buys: nan txs<br>Sells: nan txs<br>Total: nan trades<br>",
          "2023-04-15 00:00:00 UTC<br>Open: 2102.3691 aPolUSDC/USD<br>High: 2111.4283 aPolUSDC/USD<br>Low: 2077.0849 aPolUSDC/USD<br>Close: 2093.1394 aPolUSDC/USD<br>Volume: 10089583.1894 USD<br>Change: -0.44 %<br><br>Exchange rate: 1.0 aPolUSDC / USD<br><br>Buys: nan txs<br>Sells: nan txs<br>Total: nan trades<br>",
          "2023-04-16 00:00:00 UTC<br>Open: 2093.1394 aPolUSDC/USD<br>High: 2136.9167 aPolUSDC/USD<br>Low: 2076.6696 aPolUSDC/USD<br>Close: 2119.6785 aPolUSDC/USD<br>Volume: 11711522.4982 USD<br>Change: 1.27 %<br><br>Exchange rate: 1.0 aPolUSDC / USD<br><br>Buys: nan txs<br>Sells: nan txs<br>Total: nan trades<br>",
          "2023-04-17 00:00:00 UTC<br>Open: 2119.6785 aPolUSDC/USD<br>High: 2121.3748 aPolUSDC/USD<br>Low: 2061.9782 aPolUSDC/USD<br>Close: 2076.0467 aPolUSDC/USD<br>Volume: 15629824.68 USD<br>Change: -2.06 %<br><br>Exchange rate: 1.0 aPolUSDC / USD<br><br>Buys: nan txs<br>Sells: nan txs<br>Total: nan trades<br>",
          "2023-04-18 00:00:00 UTC<br>Open: 2076.0467 aPolUSDC/USD<br>High: 2123.4972 aPolUSDC/USD<br>Low: 2056.0074 aPolUSDC/USD<br>Close: 2104.6828 aPolUSDC/USD<br>Volume: 13717609.6232 USD<br>Change: 1.38 %<br><br>Exchange rate: 1.0 aPolUSDC / USD<br><br>Buys: nan txs<br>Sells: nan txs<br>Total: nan trades<br>",
          "2023-04-19 00:00:00 UTC<br>Open: 2104.6828 aPolUSDC/USD<br>High: 2105.3143 aPolUSDC/USD<br>Low: 1925.0833 aPolUSDC/USD<br>Close: 1938.9932 aPolUSDC/USD<br>Volume: 24760359.5344 USD<br>Change: -7.87 %<br><br>Exchange rate: 1.0 aPolUSDC / USD<br><br>Buys: nan txs<br>Sells: nan txs<br>Total: nan trades<br>",
          "2023-04-20 00:00:00 UTC<br>Open: 1938.7993 aPolUSDC/USD<br>High: 1980.7346 aPolUSDC/USD<br>Low: 1918.9332 aPolUSDC/USD<br>Close: 1943.0692 aPolUSDC/USD<br>Volume: 21146683.8483 USD<br>Change: 0.22 %<br><br>Exchange rate: 1.0 aPolUSDC / USD<br><br>Buys: nan txs<br>Sells: nan txs<br>Total: nan trades<br>",
          "2023-04-21 00:00:00 UTC<br>Open: 1943.0692 aPolUSDC/USD<br>High: 1955.3485 aPolUSDC/USD<br>Low: 1828.0902 aPolUSDC/USD<br>Close: 1849.2335 aPolUSDC/USD<br>Volume: 24105723.9868 USD<br>Change: -4.83 %<br><br>Exchange rate: 1.0 aPolUSDC / USD<br><br>Buys: nan txs<br>Sells: nan txs<br>Total: nan trades<br>",
          "2023-04-22 00:00:00 UTC<br>Open: 1849.0486 aPolUSDC/USD<br>High: 1886.5886 aPolUSDC/USD<br>Low: 1844.6165 aPolUSDC/USD<br>Close: 1874.9286 aPolUSDC/USD<br>Volume: 8144655.3399 USD<br>Change: 1.40 %<br><br>Exchange rate: 1.0 aPolUSDC / USD<br><br>Buys: nan txs<br>Sells: nan txs<br>Total: nan trades<br>",
          "2023-04-23 00:00:00 UTC<br>Open: 1874.9286 aPolUSDC/USD<br>High: 1883.196 aPolUSDC/USD<br>Low: 1840.563 aPolUSDC/USD<br>Close: 1862.7816 aPolUSDC/USD<br>Volume: 13111965.7819 USD<br>Change: -0.65 %<br><br>Exchange rate: 1.0 aPolUSDC / USD<br><br>Buys: nan txs<br>Sells: nan txs<br>Total: nan trades<br>",
          "2023-04-24 00:00:00 UTC<br>Open: 1862.7816 aPolUSDC/USD<br>High: 1889.4205 aPolUSDC/USD<br>Low: 1810.0823 aPolUSDC/USD<br>Close: 1842.4043 aPolUSDC/USD<br>Volume: 19443108.8257 USD<br>Change: -1.09 %<br><br>Exchange rate: 1.0 aPolUSDC / USD<br><br>Buys: nan txs<br>Sells: nan txs<br>Total: nan trades<br>",
          "2023-04-25 00:00:00 UTC<br>Open: 1842.4043 aPolUSDC/USD<br>High: 1877.1797 aPolUSDC/USD<br>Low: 1805.563 aPolUSDC/USD<br>Close: 1867.0708 aPolUSDC/USD<br>Volume: 17770806.9365 USD<br>Change: 1.34 %<br><br>Exchange rate: 1.0 aPolUSDC / USD<br><br>Buys: nan txs<br>Sells: nan txs<br>Total: nan trades<br>",
          "2023-04-26 00:00:00 UTC<br>Open: 1867.0708 aPolUSDC/USD<br>High: 1959.2629 aPolUSDC/USD<br>Low: 1800.6948 aPolUSDC/USD<br>Close: 1866.1375 aPolUSDC/USD<br>Volume: 35139317.838 USD<br>Change: -0.05 %<br><br>Exchange rate: 1.0 aPolUSDC / USD<br><br>Buys: nan txs<br>Sells: nan txs<br>Total: nan trades<br>",
          "2023-04-27 00:00:00 UTC<br>Open: 1865.5778 aPolUSDC/USD<br>High: 1936.8616 aPolUSDC/USD<br>Low: 1863.3405 aPolUSDC/USD<br>Close: 1909.9358 aPolUSDC/USD<br>Volume: 34326995.5858 USD<br>Change: 2.38 %<br><br>Exchange rate: 1.0 aPolUSDC / USD<br><br>Buys: nan txs<br>Sells: nan txs<br>Total: nan trades<br>",
          "2023-04-28 00:00:00 UTC<br>Open: 1909.9358 aPolUSDC/USD<br>High: 1923.3516 aPolUSDC/USD<br>Low: 1854.9748 aPolUSDC/USD<br>Close: 1893.2029 aPolUSDC/USD<br>Volume: 18427371.1809 USD<br>Change: -0.88 %<br><br>Exchange rate: 1.0 aPolUSDC / USD<br><br>Buys: nan txs<br>Sells: nan txs<br>Total: nan trades<br>",
          "2023-04-29 00:00:00 UTC<br>Open: 1893.2029 aPolUSDC/USD<br>High: 1917.7822 aPolUSDC/USD<br>Low: 1888.6649 aPolUSDC/USD<br>Close: 1909.172 aPolUSDC/USD<br>Volume: 6874755.1949 USD<br>Change: 0.84 %<br><br>Exchange rate: 1.0 aPolUSDC / USD<br><br>Buys: nan txs<br>Sells: nan txs<br>Total: nan trades<br>",
          "2023-04-30 00:00:00 UTC<br>Open: 1909.172 aPolUSDC/USD<br>High: 1937.249 aPolUSDC/USD<br>Low: 1869.4994 aPolUSDC/USD<br>Close: 1871.1826 aPolUSDC/USD<br>Volume: 12925457.463 USD<br>Change: -1.99 %<br><br>Exchange rate: 1.0 aPolUSDC / USD<br><br>Buys: nan txs<br>Sells: nan txs<br>Total: nan trades<br>",
          "2023-05-01 00:00:00 UTC<br>Open: 1870.9955 aPolUSDC/USD<br>High: 1886.2114 aPolUSDC/USD<br>Low: 1808.9966 aPolUSDC/USD<br>Close: 1831.3836 aPolUSDC/USD<br>Volume: 18894862.4989 USD<br>Change: -2.12 %<br><br>Exchange rate: 1.0 aPolUSDC / USD<br><br>Buys: nan txs<br>Sells: nan txs<br>Total: nan trades<br>",
          "2023-05-02 00:00:00 UTC<br>Open: 1831.3836 aPolUSDC/USD<br>High: 1879.4336 aPolUSDC/USD<br>Low: 1824.6203 aPolUSDC/USD<br>Close: 1870.6214 aPolUSDC/USD<br>Volume: 15608825.2008 USD<br>Change: 2.14 %<br><br>Exchange rate: 1.0 aPolUSDC / USD<br><br>Buys: nan txs<br>Sells: nan txs<br>Total: nan trades<br>",
          "2023-05-03 00:00:00 UTC<br>Open: 1870.6214 aPolUSDC/USD<br>High: 1914.9078 aPolUSDC/USD<br>Low: 1845.1699 aPolUSDC/USD<br>Close: 1904.4053 aPolUSDC/USD<br>Volume: 25899550.9657 USD<br>Change: 1.81 %<br><br>Exchange rate: 1.0 aPolUSDC / USD<br><br>Buys: nan txs<br>Sells: nan txs<br>Total: nan trades<br>",
          "2023-05-04 00:00:00 UTC<br>Open: 1904.5957 aPolUSDC/USD<br>High: 1915.4824 aPolUSDC/USD<br>Low: 1869.3125 aPolUSDC/USD<br>Close: 1876.992 aPolUSDC/USD<br>Volume: 11290771.135 USD<br>Change: -1.45 %<br><br>Exchange rate: 1.0 aPolUSDC / USD<br><br>Buys: nan txs<br>Sells: nan txs<br>Total: nan trades<br>",
          "2023-05-05 00:00:00 UTC<br>Open: 1876.992 aPolUSDC/USD<br>High: 2001.6409 aPolUSDC/USD<br>Low: 1876.0538 aPolUSDC/USD<br>Close: 1993.252 aPolUSDC/USD<br>Volume: 20892625.1284 USD<br>Change: 6.19 %<br><br>Exchange rate: 1.0 aPolUSDC / USD<br><br>Buys: nan txs<br>Sells: nan txs<br>Total: nan trades<br>",
          "2023-05-06 00:00:00 UTC<br>Open: 1993.6507 aPolUSDC/USD<br>High: 2014.2904 aPolUSDC/USD<br>Low: 1870.2473 aPolUSDC/USD<br>Close: 1900.6005 aPolUSDC/USD<br>Volume: 20078236.6205 USD<br>Change: -4.67 %<br><br>Exchange rate: 1.0 aPolUSDC / USD<br><br>Buys: nan txs<br>Sells: nan txs<br>Total: nan trades<br>",
          "2023-05-07 00:00:00 UTC<br>Open: 1900.6005 aPolUSDC/USD<br>High: 1933.9586 aPolUSDC/USD<br>Low: 1872.6801 aPolUSDC/USD<br>Close: 1873.242 aPolUSDC/USD<br>Volume: 14667389.6133 USD<br>Change: -1.44 %<br><br>Exchange rate: 1.0 aPolUSDC / USD<br><br>Buys: nan txs<br>Sells: nan txs<br>Total: nan trades<br>",
          "2023-05-08 00:00:00 UTC<br>Open: 1873.804 aPolUSDC/USD<br>High: 1885.6456 aPolUSDC/USD<br>Low: 1817.1551 aPolUSDC/USD<br>Close: 1849.7884 aPolUSDC/USD<br>Volume: 24484754.5952 USD<br>Change: -1.28 %<br><br>Exchange rate: 1.0 aPolUSDC / USD<br><br>Buys: nan txs<br>Sells: nan txs<br>Total: nan trades<br>",
          "2023-05-09 00:00:00 UTC<br>Open: 1849.7884 aPolUSDC/USD<br>High: 1860.3617 aPolUSDC/USD<br>Low: 1833.3991 aPolUSDC/USD<br>Close: 1848.3092 aPolUSDC/USD<br>Volume: 15598366.0653 USD<br>Change: -0.08 %<br><br>Exchange rate: 1.0 aPolUSDC / USD<br><br>Buys: nan txs<br>Sells: nan txs<br>Total: nan trades<br>",
          "2023-05-10 00:00:00 UTC<br>Open: 1848.3092 aPolUSDC/USD<br>High: 1886.4 aPolUSDC/USD<br>Low: 1799.6147 aPolUSDC/USD<br>Close: 1842.2201 aPolUSDC/USD<br>Volume: 29147651.4749 USD<br>Change: -0.33 %<br><br>Exchange rate: 1.0 aPolUSDC / USD<br><br>Buys: nan txs<br>Sells: nan txs<br>Total: nan trades<br>",
          "2023-05-11 00:00:00 UTC<br>Open: 1842.2201 aPolUSDC/USD<br>High: 1842.5886 aPolUSDC/USD<br>Low: 1774.4195 aPolUSDC/USD<br>Close: 1796.5581 aPolUSDC/USD<br>Volume: 22202409.9727 USD<br>Change: -2.48 %<br><br>Exchange rate: 1.0 aPolUSDC / USD<br><br>Buys: nan txs<br>Sells: nan txs<br>Total: nan trades<br>",
          "2023-05-12 00:00:00 UTC<br>Open: 1796.5581 aPolUSDC/USD<br>High: 1814.9759 aPolUSDC/USD<br>Low: 1743.2901 aPolUSDC/USD<br>Close: 1808.0924 aPolUSDC/USD<br>Volume: 23386902.2994 USD<br>Change: 0.64 %<br><br>Exchange rate: 1.0 aPolUSDC / USD<br><br>Buys: nan txs<br>Sells: nan txs<br>Total: nan trades<br>",
          "2023-05-13 00:00:00 UTC<br>Open: 1807.9116 aPolUSDC/USD<br>High: 1815.5204 aPolUSDC/USD<br>Low: 1787.4195 aPolUSDC/USD<br>Close: 1796.3785 aPolUSDC/USD<br>Volume: 9257236.2156 USD<br>Change: -0.64 %<br><br>Exchange rate: 1.0 aPolUSDC / USD<br><br>Buys: nan txs<br>Sells: nan txs<br>Total: nan trades<br>",
          "2023-05-14 00:00:00 UTC<br>Open: 1796.3785 aPolUSDC/USD<br>High: 1823.7083 aPolUSDC/USD<br>Low: 1792.7895 aPolUSDC/USD<br>Close: 1799.9747 aPolUSDC/USD<br>Volume: 10074597.3016 USD<br>Change: 0.20 %<br><br>Exchange rate: 1.0 aPolUSDC / USD<br><br>Buys: nan txs<br>Sells: nan txs<br>Total: nan trades<br>",
          "2023-05-15 00:00:00 UTC<br>Open: 1799.9747 aPolUSDC/USD<br>High: 1846.2773 aPolUSDC/USD<br>Low: 1787.5982 aPolUSDC/USD<br>Close: 1817.7003 aPolUSDC/USD<br>Volume: 15421635.0444 USD<br>Change: 0.98 %<br><br>Exchange rate: 1.0 aPolUSDC / USD<br><br>Buys: nan txs<br>Sells: nan txs<br>Total: nan trades<br>",
          "2023-05-16 00:00:00 UTC<br>Open: 1817.7003 aPolUSDC/USD<br>High: 1831.3836 aPolUSDC/USD<br>Low: 1798.5353 aPolUSDC/USD<br>Close: 1824.4379 aPolUSDC/USD<br>Volume: 13674153.5024 USD<br>Change: 0.37 %<br><br>Exchange rate: 1.0 aPolUSDC / USD<br><br>Buys: nan txs<br>Sells: nan txs<br>Total: nan trades<br>",
          "2023-05-17 00:00:00 UTC<br>Open: 1824.4379 aPolUSDC/USD<br>High: 1835.9675 aPolUSDC/USD<br>Low: 1786.3474 aPolUSDC/USD<br>Close: 1822.4322 aPolUSDC/USD<br>Volume: 14263107.267 USD<br>Change: -0.11 %<br><br>Exchange rate: 1.0 aPolUSDC / USD<br><br>Buys: nan txs<br>Sells: nan txs<br>Total: nan trades<br>",
          "2023-05-18 00:00:00 UTC<br>Open: 1822.6144 aPolUSDC/USD<br>High: 1831.3836 aPolUSDC/USD<br>Low: 1775.1293 aPolUSDC/USD<br>Close: 1801.9556 aPolUSDC/USD<br>Volume: 13744018.5114 USD<br>Change: -1.13 %<br><br>Exchange rate: 1.0 aPolUSDC / USD<br><br>Buys: nan txs<br>Sells: nan txs<br>Total: nan trades<br>",
          "2023-05-19 00:00:00 UTC<br>Open: 1801.9556 aPolUSDC/USD<br>High: 1827.9074 aPolUSDC/USD<br>Low: 1798.7152 aPolUSDC/USD<br>Close: 1812.6181 aPolUSDC/USD<br>Volume: 10453523.7989 USD<br>Change: 0.59 %<br><br>Exchange rate: 1.0 aPolUSDC / USD<br><br>Buys: nan txs<br>Sells: nan txs<br>Total: nan trades<br>",
          "2023-05-20 00:00:00 UTC<br>Open: 1812.6181 aPolUSDC/USD<br>High: 1827.7246 aPolUSDC/USD<br>Low: 1807.3693 aPolUSDC/USD<br>Close: 1819.7007 aPolUSDC/USD<br>Volume: 3818749.5765 USD<br>Change: 0.39 %<br><br>Exchange rate: 1.0 aPolUSDC / USD<br><br>Buys: nan txs<br>Sells: nan txs<br>Total: nan trades<br>",
          "2023-05-21 00:00:00 UTC<br>Open: 1821.3391 aPolUSDC/USD<br>High: 1827.9074 aPolUSDC/USD<br>Low: 1800.3347 aPolUSDC/USD<br>Close: 1804.6605 aPolUSDC/USD<br>Volume: 5637792.2988 USD<br>Change: -0.92 %<br><br>Exchange rate: 1.0 aPolUSDC / USD<br><br>Buys: nan txs<br>Sells: nan txs<br>Total: nan trades<br>",
          "2023-05-22 00:00:00 UTC<br>Open: 1804.6605 aPolUSDC/USD<br>High: 1826.9937 aPolUSDC/USD<br>Low: 1793.6861 aPolUSDC/USD<br>Close: 1818.7911 aPolUSDC/USD<br>Volume: 9021378.8409 USD<br>Change: 0.78 %<br><br>Exchange rate: 1.0 aPolUSDC / USD<br><br>Buys: nan txs<br>Sells: nan txs<br>Total: nan trades<br>",
          "2023-05-23 00:00:00 UTC<br>Open: 1818.7911 aPolUSDC/USD<br>High: 1869.4994 aPolUSDC/USD<br>Low: 1817.1551 aPolUSDC/USD<br>Close: 1854.4184 aPolUSDC/USD<br>Volume: 11812624.9019 USD<br>Change: 1.96 %<br><br>Exchange rate: 1.0 aPolUSDC / USD<br><br>Buys: nan txs<br>Sells: nan txs<br>Total: nan trades<br>",
          "2023-05-24 00:00:00 UTC<br>Open: 1854.4184 aPolUSDC/USD<br>High: 1854.4184 aPolUSDC/USD<br>Low: 1781.3529 aPolUSDC/USD<br>Close: 1800.8748 aPolUSDC/USD<br>Volume: 15275347.9722 USD<br>Change: -2.89 %<br><br>Exchange rate: 1.0 aPolUSDC / USD<br><br>Buys: nan txs<br>Sells: nan txs<br>Total: nan trades<br>",
          "2023-05-25 00:00:00 UTC<br>Open: 1800.8748 aPolUSDC/USD<br>High: 1816.61 aPolUSDC/USD<br>Low: 1765.57 aPolUSDC/USD<br>Close: 1806.8272 aPolUSDC/USD<br>Volume: 13998741.0926 USD<br>Change: 0.33 %<br><br>Exchange rate: 1.0 aPolUSDC / USD<br><br>Buys: nan txs<br>Sells: nan txs<br>Total: nan trades<br>",
          "2023-05-26 00:00:00 UTC<br>Open: 1806.8272 aPolUSDC/USD<br>High: 1836.702 aPolUSDC/USD<br>Low: 1797.9959 aPolUSDC/USD<br>Close: 1829.1873 aPolUSDC/USD<br>Volume: 11338198.4189 USD<br>Change: 1.24 %<br><br>Exchange rate: 1.0 aPolUSDC / USD<br><br>Buys: nan txs<br>Sells: nan txs<br>Total: nan trades<br>",
          "2023-05-27 00:00:00 UTC<br>Open: 1829.1873 aPolUSDC/USD<br>High: 1835.6004 aPolUSDC/USD<br>Low: 1817.1551 aPolUSDC/USD<br>Close: 1831.3836 aPolUSDC/USD<br>Volume: 6109091.2558 USD<br>Change: 0.12 %<br><br>Exchange rate: 1.0 aPolUSDC / USD<br><br>Buys: nan txs<br>Sells: nan txs<br>Total: nan trades<br>",
          "2023-05-28 00:00:00 UTC<br>Open: 1831.0173 aPolUSDC/USD<br>High: 1916.2487 aPolUSDC/USD<br>Low: 1825.5328 aPolUSDC/USD<br>Close: 1909.3629 aPolUSDC/USD<br>Volume: 13630868.7888 USD<br>Change: 4.28 %<br><br>Exchange rate: 1.0 aPolUSDC / USD<br><br>Buys: nan txs<br>Sells: nan txs<br>Total: nan trades<br>",
          "2023-05-29 00:00:00 UTC<br>Open: 1909.3629 aPolUSDC/USD<br>High: 1923.9286 aPolUSDC/USD<br>Low: 1876.2414 aPolUSDC/USD<br>Close: 1893.0136 aPolUSDC/USD<br>Volume: 12377895.0425 USD<br>Change: -0.86 %<br><br>Exchange rate: 1.0 aPolUSDC / USD<br><br>Buys: nan txs<br>Sells: nan txs<br>Total: nan trades<br>",
          "2023-05-30 00:00:00 UTC<br>Open: 1893.0136 aPolUSDC/USD<br>High: 1919.1251 aPolUSDC/USD<br>Low: 1884.1378 aPolUSDC/USD<br>Close: 1900.7905 aPolUSDC/USD<br>Volume: 12256896.1934 USD<br>Change: 0.41 %<br><br>Exchange rate: 1.0 aPolUSDC / USD<br><br>Buys: nan txs<br>Sells: nan txs<br>Total: nan trades<br>",
          "2023-05-31 00:00:00 UTC<br>Open: 1900.7905 aPolUSDC/USD<br>High: 1906.5012 aPolUSDC/USD<br>Low: 1850.5284 aPolUSDC/USD<br>Close: 1874.3662 aPolUSDC/USD<br>Volume: 14771596.2101 USD<br>Change: -1.39 %<br><br>Exchange rate: 1.0 aPolUSDC / USD<br><br>Buys: nan txs<br>Sells: nan txs<br>Total: nan trades<br>",
          "2023-06-01 00:00:00 UTC<br>Open: 1874.3662 aPolUSDC/USD<br>High: 1887.5321 aPolUSDC/USD<br>Low: 1844.0632 aPolUSDC/USD<br>Close: 1861.6644 aPolUSDC/USD<br>Volume: 17351302.8258 USD<br>Change: -0.68 %<br><br>Exchange rate: 1.0 aPolUSDC / USD<br><br>Buys: nan txs<br>Sells: nan txs<br>Total: nan trades<br>"
         ],
         "type": "candlestick",
         "x": [
          "2023-01-01T00:00:00",
          "2023-01-02T00:00:00",
          "2023-01-03T00:00:00",
          "2023-01-04T00:00:00",
          "2023-01-05T00:00:00",
          "2023-01-06T00:00:00",
          "2023-01-07T00:00:00",
          "2023-01-08T00:00:00",
          "2023-01-09T00:00:00",
          "2023-01-10T00:00:00",
          "2023-01-11T00:00:00",
          "2023-01-12T00:00:00",
          "2023-01-13T00:00:00",
          "2023-01-14T00:00:00",
          "2023-01-15T00:00:00",
          "2023-01-16T00:00:00",
          "2023-01-17T00:00:00",
          "2023-01-18T00:00:00",
          "2023-01-19T00:00:00",
          "2023-01-20T00:00:00",
          "2023-01-21T00:00:00",
          "2023-01-22T00:00:00",
          "2023-01-23T00:00:00",
          "2023-01-24T00:00:00",
          "2023-01-25T00:00:00",
          "2023-01-26T00:00:00",
          "2023-01-27T00:00:00",
          "2023-01-28T00:00:00",
          "2023-01-29T00:00:00",
          "2023-01-30T00:00:00",
          "2023-01-31T00:00:00",
          "2023-02-01T00:00:00",
          "2023-02-02T00:00:00",
          "2023-02-03T00:00:00",
          "2023-02-04T00:00:00",
          "2023-02-05T00:00:00",
          "2023-02-06T00:00:00",
          "2023-02-07T00:00:00",
          "2023-02-08T00:00:00",
          "2023-02-09T00:00:00",
          "2023-02-10T00:00:00",
          "2023-02-11T00:00:00",
          "2023-02-12T00:00:00",
          "2023-02-13T00:00:00",
          "2023-02-14T00:00:00",
          "2023-02-15T00:00:00",
          "2023-02-16T00:00:00",
          "2023-02-17T00:00:00",
          "2023-02-18T00:00:00",
          "2023-02-19T00:00:00",
          "2023-02-20T00:00:00",
          "2023-02-21T00:00:00",
          "2023-02-22T00:00:00",
          "2023-02-23T00:00:00",
          "2023-02-24T00:00:00",
          "2023-02-25T00:00:00",
          "2023-02-26T00:00:00",
          "2023-02-27T00:00:00",
          "2023-02-28T00:00:00",
          "2023-03-01T00:00:00",
          "2023-03-02T00:00:00",
          "2023-03-03T00:00:00",
          "2023-03-04T00:00:00",
          "2023-03-05T00:00:00",
          "2023-03-06T00:00:00",
          "2023-03-07T00:00:00",
          "2023-03-08T00:00:00",
          "2023-03-09T00:00:00",
          "2023-03-10T00:00:00",
          "2023-03-11T00:00:00",
          "2023-03-12T00:00:00",
          "2023-03-13T00:00:00",
          "2023-03-14T00:00:00",
          "2023-03-15T00:00:00",
          "2023-03-16T00:00:00",
          "2023-03-17T00:00:00",
          "2023-03-18T00:00:00",
          "2023-03-19T00:00:00",
          "2023-03-20T00:00:00",
          "2023-03-21T00:00:00",
          "2023-03-22T00:00:00",
          "2023-03-23T00:00:00",
          "2023-03-24T00:00:00",
          "2023-03-25T00:00:00",
          "2023-03-26T00:00:00",
          "2023-03-27T00:00:00",
          "2023-03-28T00:00:00",
          "2023-03-29T00:00:00",
          "2023-03-30T00:00:00",
          "2023-03-31T00:00:00",
          "2023-04-01T00:00:00",
          "2023-04-02T00:00:00",
          "2023-04-03T00:00:00",
          "2023-04-04T00:00:00",
          "2023-04-05T00:00:00",
          "2023-04-06T00:00:00",
          "2023-04-07T00:00:00",
          "2023-04-08T00:00:00",
          "2023-04-09T00:00:00",
          "2023-04-10T00:00:00",
          "2023-04-11T00:00:00",
          "2023-04-12T00:00:00",
          "2023-04-13T00:00:00",
          "2023-04-14T00:00:00",
          "2023-04-15T00:00:00",
          "2023-04-16T00:00:00",
          "2023-04-17T00:00:00",
          "2023-04-18T00:00:00",
          "2023-04-19T00:00:00",
          "2023-04-20T00:00:00",
          "2023-04-21T00:00:00",
          "2023-04-22T00:00:00",
          "2023-04-23T00:00:00",
          "2023-04-24T00:00:00",
          "2023-04-25T00:00:00",
          "2023-04-26T00:00:00",
          "2023-04-27T00:00:00",
          "2023-04-28T00:00:00",
          "2023-04-29T00:00:00",
          "2023-04-30T00:00:00",
          "2023-05-01T00:00:00",
          "2023-05-02T00:00:00",
          "2023-05-03T00:00:00",
          "2023-05-04T00:00:00",
          "2023-05-05T00:00:00",
          "2023-05-06T00:00:00",
          "2023-05-07T00:00:00",
          "2023-05-08T00:00:00",
          "2023-05-09T00:00:00",
          "2023-05-10T00:00:00",
          "2023-05-11T00:00:00",
          "2023-05-12T00:00:00",
          "2023-05-13T00:00:00",
          "2023-05-14T00:00:00",
          "2023-05-15T00:00:00",
          "2023-05-16T00:00:00",
          "2023-05-17T00:00:00",
          "2023-05-18T00:00:00",
          "2023-05-19T00:00:00",
          "2023-05-20T00:00:00",
          "2023-05-21T00:00:00",
          "2023-05-22T00:00:00",
          "2023-05-23T00:00:00",
          "2023-05-24T00:00:00",
          "2023-05-25T00:00:00",
          "2023-05-26T00:00:00",
          "2023-05-27T00:00:00",
          "2023-05-28T00:00:00",
          "2023-05-29T00:00:00",
          "2023-05-30T00:00:00",
          "2023-05-31T00:00:00",
          "2023-06-01T00:00:00"
         ],
         "xaxis": "x",
         "yaxis": "y"
        },
        {
         "line": {
          "color": "darkblue",
          "shape": "linear"
         },
         "mode": "lines",
         "name": "BB upper",
         "type": "scatter",
         "x": [
          "2023-01-01T00:00:00",
          "2023-01-02T00:00:00",
          "2023-01-03T00:00:00",
          "2023-01-04T00:00:00",
          "2023-01-05T00:00:00",
          "2023-01-06T00:00:00",
          "2023-01-07T00:00:00",
          "2023-01-08T00:00:00",
          "2023-01-09T00:00:00",
          "2023-01-10T00:00:00",
          "2023-01-11T00:00:00",
          "2023-01-12T00:00:00",
          "2023-01-13T00:00:00",
          "2023-01-14T00:00:00",
          "2023-01-15T00:00:00",
          "2023-01-16T00:00:00",
          "2023-01-17T00:00:00",
          "2023-01-18T00:00:00",
          "2023-01-19T00:00:00",
          "2023-01-20T00:00:00",
          "2023-01-21T00:00:00",
          "2023-01-22T00:00:00",
          "2023-01-23T00:00:00",
          "2023-01-24T00:00:00",
          "2023-01-25T00:00:00",
          "2023-01-26T00:00:00",
          "2023-01-27T00:00:00",
          "2023-01-28T00:00:00",
          "2023-01-29T00:00:00",
          "2023-01-30T00:00:00",
          "2023-01-31T00:00:00",
          "2023-02-01T00:00:00",
          "2023-02-02T00:00:00",
          "2023-02-03T00:00:00",
          "2023-02-04T00:00:00",
          "2023-02-05T00:00:00",
          "2023-02-06T00:00:00",
          "2023-02-07T00:00:00",
          "2023-02-08T00:00:00",
          "2023-02-09T00:00:00",
          "2023-02-10T00:00:00",
          "2023-02-11T00:00:00",
          "2023-02-12T00:00:00",
          "2023-02-13T00:00:00",
          "2023-02-14T00:00:00",
          "2023-02-15T00:00:00",
          "2023-02-16T00:00:00",
          "2023-02-17T00:00:00",
          "2023-02-18T00:00:00",
          "2023-02-19T00:00:00",
          "2023-02-20T00:00:00",
          "2023-02-21T00:00:00",
          "2023-02-22T00:00:00",
          "2023-02-23T00:00:00",
          "2023-02-24T00:00:00",
          "2023-02-25T00:00:00",
          "2023-02-26T00:00:00",
          "2023-02-27T00:00:00",
          "2023-02-28T00:00:00",
          "2023-03-01T00:00:00",
          "2023-03-02T00:00:00",
          "2023-03-03T00:00:00",
          "2023-03-04T00:00:00",
          "2023-03-05T00:00:00",
          "2023-03-06T00:00:00",
          "2023-03-07T00:00:00",
          "2023-03-08T00:00:00",
          "2023-03-09T00:00:00",
          "2023-03-10T00:00:00",
          "2023-03-11T00:00:00",
          "2023-03-12T00:00:00",
          "2023-03-13T00:00:00",
          "2023-03-14T00:00:00",
          "2023-03-15T00:00:00",
          "2023-03-16T00:00:00",
          "2023-03-17T00:00:00",
          "2023-03-18T00:00:00",
          "2023-03-19T00:00:00",
          "2023-03-20T00:00:00",
          "2023-03-21T00:00:00",
          "2023-03-22T00:00:00",
          "2023-03-23T00:00:00",
          "2023-03-24T00:00:00",
          "2023-03-25T00:00:00",
          "2023-03-26T00:00:00",
          "2023-03-27T00:00:00",
          "2023-03-28T00:00:00",
          "2023-03-29T00:00:00",
          "2023-03-30T00:00:00",
          "2023-03-31T00:00:00",
          "2023-04-01T00:00:00",
          "2023-04-02T00:00:00",
          "2023-04-03T00:00:00",
          "2023-04-04T00:00:00",
          "2023-04-05T00:00:00",
          "2023-04-06T00:00:00",
          "2023-04-07T00:00:00",
          "2023-04-08T00:00:00",
          "2023-04-09T00:00:00",
          "2023-04-10T00:00:00",
          "2023-04-11T00:00:00",
          "2023-04-12T00:00:00",
          "2023-04-13T00:00:00",
          "2023-04-14T00:00:00",
          "2023-04-15T00:00:00",
          "2023-04-16T00:00:00",
          "2023-04-17T00:00:00",
          "2023-04-18T00:00:00",
          "2023-04-19T00:00:00",
          "2023-04-20T00:00:00",
          "2023-04-21T00:00:00",
          "2023-04-22T00:00:00",
          "2023-04-23T00:00:00",
          "2023-04-24T00:00:00",
          "2023-04-25T00:00:00",
          "2023-04-26T00:00:00",
          "2023-04-27T00:00:00",
          "2023-04-28T00:00:00",
          "2023-04-29T00:00:00",
          "2023-04-30T00:00:00",
          "2023-05-01T00:00:00",
          "2023-05-02T00:00:00",
          "2023-05-03T00:00:00",
          "2023-05-04T00:00:00",
          "2023-05-05T00:00:00",
          "2023-05-06T00:00:00",
          "2023-05-07T00:00:00",
          "2023-05-08T00:00:00",
          "2023-05-09T00:00:00",
          "2023-05-10T00:00:00",
          "2023-05-11T00:00:00",
          "2023-05-12T00:00:00",
          "2023-05-13T00:00:00",
          "2023-05-14T00:00:00",
          "2023-05-15T00:00:00",
          "2023-05-16T00:00:00",
          "2023-05-17T00:00:00",
          "2023-05-18T00:00:00",
          "2023-05-19T00:00:00",
          "2023-05-20T00:00:00",
          "2023-05-21T00:00:00",
          "2023-05-22T00:00:00",
          "2023-05-23T00:00:00",
          "2023-05-24T00:00:00",
          "2023-05-25T00:00:00",
          "2023-05-26T00:00:00",
          "2023-05-27T00:00:00",
          "2023-05-28T00:00:00",
          "2023-05-29T00:00:00",
          "2023-05-30T00:00:00",
          "2023-05-31T00:00:00"
         ],
         "xaxis": "x",
         "y": [
          1294.6111120066598,
          1273.181953264751,
          1250.0402009079326,
          1246.7955886062155,
          1251.2210452496404,
          1261.3508636831532,
          1267.6064292834265,
          1276.7829150002065,
          1296.6638725026885,
          1316.695184824642,
          1348.5066664637234,
          1381.9690024096708,
          1418.3635483667003,
          1477.2041967383182,
          1524.2648329156436,
          1568.954072507176,
          1602.682942257783,
          1621.3494554341046,
          1643.0726714436232,
          1681.8733321404975,
          1706.1921988320837,
          1726.1207338057634,
          1740.0450929980273,
          1742.9447865193683,
          1748.0223355614671,
          1748.8879910524674,
          1742.012376784496,
          1729.5926351079981,
          1724.8373128086878,
          1705.3938950079828,
          1690.7880812126348,
          1681.6844525321462,
          1673.152314408033,
          1681.997230348466,
          1689.5970012541347,
          1691.8382600829268,
          1692.0611114719748,
          1690.819209028357,
          1690.1852460898979,
          1690.2736731945108,
          1697.453235095101,
          1698.3235195061193,
          1700.6145432889336,
          1704.7749235808747,
          1703.5270119871132,
          1712.5199836159038,
          1715.8820152252881,
          1727.9589914753742,
          1734.8119589784324,
          1742.5359181640501,
          1753.0905580904482,
          1754.7211765502489,
          1754.6945250777678,
          1753.1931499952534,
          1748.8159188784757,
          1747.4162182724974,
          1749.0746975008346,
          1745.1274810857753,
          1742.039834392593,
          1745.5909502182262,
          1742.4769269133685,
          1740.007991853762,
          1733.9875310731813,
          1725.2211534556645,
          1724.1154335954323,
          1721.8672228876956,
          1725.3591857358517,
          1735.8186140458756,
          1739.2796932791407,
          1729.1038263219525,
          1714.0814555976522,
          1717.6721447937891,
          1729.0295935064285,
          1729.7245664918655,
          1738.3524217387424,
          1772.1980447332066,
          1791.7357955283044,
          1814.9604526245885,
          1828.6257664810964,
          1850.418857331567,
          1859.9667036258777,
          1883.5864915666111,
          1893.7736980342543,
          1901.527892175624,
          1911.861146860026,
          1914.0260396081524,
          1918.1268685140533,
          1904.878684293869,
          1875.24244527815,
          1861.7643971677726,
          1855.680228858552,
          1855.8271890413002,
          1859.204783541586,
          1864.6585694934686,
          1880.909999523316,
          1891.6174873740579,
          1900.267231908818,
          1905.6123281073471,
          1909.9524223294627,
          1924.371051010338,
          1931.2265139756971,
          1944.065895605972,
          1977.148263230709,
          2029.3588778844737,
          2068.854054503519,
          2102.443743048774,
          2124.0503784901966,
          2148.563678931513,
          2147.544179116977,
          2147.6215788968093,
          2146.212648347968,
          2141.7945589770143,
          2138.531286656771,
          2139.7529233815485,
          2140.0329743232373,
          2140.184363654227,
          2139.8843368161874,
          2138.7707507701743,
          2137.9247969726857,
          2138.341405024332,
          2140.586430252185,
          2140.5398776178145,
          2132.934808875747,
          2107.67506137884,
          2088.9762624316154,
          2051.1120757775925,
          2019.154312713907,
          1962.497956525107,
          1955.6646128959842,
          1946.8975799475481,
          1951.7758461764547,
          1953.6085872647561,
          1956.4216627577598,
          1958.5248620824461,
          1958.3410775822754,
          1957.6989995260258,
          1951.9587858349569,
          1948.6568688005345,
          1941.5310285305197,
          1938.9981986635214,
          1939.1130413912122,
          1936.217896513813,
          1929.4342428923633,
          1925.1721453225655,
          1879.8240497600686,
          1864.0323013911939,
          1855.1181727205244,
          1874.0854335593615,
          1883.919983725654,
          1895.2332566206167,
          null
         ],
         "yaxis": "y"
        },
        {
         "line": {
          "color": "darkblue",
          "shape": "linear"
         },
         "mode": "lines",
         "name": "BB lower",
         "type": "scatter",
         "x": [
          "2023-01-01T00:00:00",
          "2023-01-02T00:00:00",
          "2023-01-03T00:00:00",
          "2023-01-04T00:00:00",
          "2023-01-05T00:00:00",
          "2023-01-06T00:00:00",
          "2023-01-07T00:00:00",
          "2023-01-08T00:00:00",
          "2023-01-09T00:00:00",
          "2023-01-10T00:00:00",
          "2023-01-11T00:00:00",
          "2023-01-12T00:00:00",
          "2023-01-13T00:00:00",
          "2023-01-14T00:00:00",
          "2023-01-15T00:00:00",
          "2023-01-16T00:00:00",
          "2023-01-17T00:00:00",
          "2023-01-18T00:00:00",
          "2023-01-19T00:00:00",
          "2023-01-20T00:00:00",
          "2023-01-21T00:00:00",
          "2023-01-22T00:00:00",
          "2023-01-23T00:00:00",
          "2023-01-24T00:00:00",
          "2023-01-25T00:00:00",
          "2023-01-26T00:00:00",
          "2023-01-27T00:00:00",
          "2023-01-28T00:00:00",
          "2023-01-29T00:00:00",
          "2023-01-30T00:00:00",
          "2023-01-31T00:00:00",
          "2023-02-01T00:00:00",
          "2023-02-02T00:00:00",
          "2023-02-03T00:00:00",
          "2023-02-04T00:00:00",
          "2023-02-05T00:00:00",
          "2023-02-06T00:00:00",
          "2023-02-07T00:00:00",
          "2023-02-08T00:00:00",
          "2023-02-09T00:00:00",
          "2023-02-10T00:00:00",
          "2023-02-11T00:00:00",
          "2023-02-12T00:00:00",
          "2023-02-13T00:00:00",
          "2023-02-14T00:00:00",
          "2023-02-15T00:00:00",
          "2023-02-16T00:00:00",
          "2023-02-17T00:00:00",
          "2023-02-18T00:00:00",
          "2023-02-19T00:00:00",
          "2023-02-20T00:00:00",
          "2023-02-21T00:00:00",
          "2023-02-22T00:00:00",
          "2023-02-23T00:00:00",
          "2023-02-24T00:00:00",
          "2023-02-25T00:00:00",
          "2023-02-26T00:00:00",
          "2023-02-27T00:00:00",
          "2023-02-28T00:00:00",
          "2023-03-01T00:00:00",
          "2023-03-02T00:00:00",
          "2023-03-03T00:00:00",
          "2023-03-04T00:00:00",
          "2023-03-05T00:00:00",
          "2023-03-06T00:00:00",
          "2023-03-07T00:00:00",
          "2023-03-08T00:00:00",
          "2023-03-09T00:00:00",
          "2023-03-10T00:00:00",
          "2023-03-11T00:00:00",
          "2023-03-12T00:00:00",
          "2023-03-13T00:00:00",
          "2023-03-14T00:00:00",
          "2023-03-15T00:00:00",
          "2023-03-16T00:00:00",
          "2023-03-17T00:00:00",
          "2023-03-18T00:00:00",
          "2023-03-19T00:00:00",
          "2023-03-20T00:00:00",
          "2023-03-21T00:00:00",
          "2023-03-22T00:00:00",
          "2023-03-23T00:00:00",
          "2023-03-24T00:00:00",
          "2023-03-25T00:00:00",
          "2023-03-26T00:00:00",
          "2023-03-27T00:00:00",
          "2023-03-28T00:00:00",
          "2023-03-29T00:00:00",
          "2023-03-30T00:00:00",
          "2023-03-31T00:00:00",
          "2023-04-01T00:00:00",
          "2023-04-02T00:00:00",
          "2023-04-03T00:00:00",
          "2023-04-04T00:00:00",
          "2023-04-05T00:00:00",
          "2023-04-06T00:00:00",
          "2023-04-07T00:00:00",
          "2023-04-08T00:00:00",
          "2023-04-09T00:00:00",
          "2023-04-10T00:00:00",
          "2023-04-11T00:00:00",
          "2023-04-12T00:00:00",
          "2023-04-13T00:00:00",
          "2023-04-14T00:00:00",
          "2023-04-15T00:00:00",
          "2023-04-16T00:00:00",
          "2023-04-17T00:00:00",
          "2023-04-18T00:00:00",
          "2023-04-19T00:00:00",
          "2023-04-20T00:00:00",
          "2023-04-21T00:00:00",
          "2023-04-22T00:00:00",
          "2023-04-23T00:00:00",
          "2023-04-24T00:00:00",
          "2023-04-25T00:00:00",
          "2023-04-26T00:00:00",
          "2023-04-27T00:00:00",
          "2023-04-28T00:00:00",
          "2023-04-29T00:00:00",
          "2023-04-30T00:00:00",
          "2023-05-01T00:00:00",
          "2023-05-02T00:00:00",
          "2023-05-03T00:00:00",
          "2023-05-04T00:00:00",
          "2023-05-05T00:00:00",
          "2023-05-06T00:00:00",
          "2023-05-07T00:00:00",
          "2023-05-08T00:00:00",
          "2023-05-09T00:00:00",
          "2023-05-10T00:00:00",
          "2023-05-11T00:00:00",
          "2023-05-12T00:00:00",
          "2023-05-13T00:00:00",
          "2023-05-14T00:00:00",
          "2023-05-15T00:00:00",
          "2023-05-16T00:00:00",
          "2023-05-17T00:00:00",
          "2023-05-18T00:00:00",
          "2023-05-19T00:00:00",
          "2023-05-20T00:00:00",
          "2023-05-21T00:00:00",
          "2023-05-22T00:00:00",
          "2023-05-23T00:00:00",
          "2023-05-24T00:00:00",
          "2023-05-25T00:00:00",
          "2023-05-26T00:00:00",
          "2023-05-27T00:00:00",
          "2023-05-28T00:00:00",
          "2023-05-29T00:00:00",
          "2023-05-30T00:00:00",
          "2023-05-31T00:00:00"
         ],
         "xaxis": "x",
         "y": [
          1138.497752467607,
          1149.2796112954975,
          1163.0818926483753,
          1165.279887298815,
          1169.095217063296,
          1167.1196331526442,
          1168.8956824028749,
          1171.827572955856,
          1162.3349494589027,
          1154.5189940667703,
          1139.8274242844477,
          1126.1046678521643,
          1112.6950625977943,
          1087.0826537218238,
          1072.4980630721025,
          1064.316164314488,
          1068.1166154962912,
          1080.5798972790062,
          1094.173589254979,
          1101.8080735175386,
          1120.121270386438,
          1141.620443052302,
          1168.9695876976787,
          1196.0349955334618,
          1227.055248338212,
          1259.5246718796711,
          1299.8597477966825,
          1340.7716423059262,
          1378.0845007076887,
          1420.59587921013,
          1454.9830116242204,
          1486.6094869876083,
          1514.4571620072265,
          1517.0537472378082,
          1520.8270311463193,
          1523.907718690953,
          1528.6458425992612,
          1545.8579666751175,
          1556.3031804708046,
          1544.7932086554563,
          1526.3644210311234,
          1516.5828331398675,
          1503.125599158422,
          1494.1270112927323,
          1489.8963345127793,
          1488.1624830995386,
          1488.9759971326114,
          1489.0671811133207,
          1486.822189877395,
          1490.641362502863,
          1491.843177745945,
          1491.9627075401918,
          1491.9564857575876,
          1491.9992323972638,
          1490.4527947355236,
          1488.3699767638716,
          1489.2834436857443,
          1489.4293034213238,
          1487.944747669169,
          1496.3304765628623,
          1512.8540671701185,
          1518.3215121608685,
          1529.4416346645203,
          1543.9979107121712,
          1546.07145509834,
          1536.978712487424,
          1522.908667487164,
          1486.7548441705567,
          1457.2884975624338,
          1452.4666474721907,
          1457.2306020863607,
          1455.6437299727088,
          1450.6346764628036,
          1450.4355218677465,
          1448.918524093733,
          1434.8152200762074,
          1427.5614685756248,
          1419.616031710681,
          1419.469469243878,
          1411.957559017537,
          1411.5852767705076,
          1412.8968157634458,
          1421.20241078858,
          1431.2956361114034,
          1441.9356277948878,
          1455.1979336684442,
          1475.0630098493637,
          1523.8036788511336,
          1589.5531356475005,
          1632.1645336767133,
          1660.2403828734944,
          1671.64446266722,
          1678.5505466077611,
          1694.7233560268076,
          1701.6913744975045,
          1698.9713479244406,
          1700.5537950512555,
          1701.6280809727325,
          1709.2864411249195,
          1705.1838244300504,
          1713.6254884659031,
          1710.8730434837717,
          1703.9862994170542,
          1687.6661465240154,
          1679.9187176429255,
          1686.6833245906082,
          1695.3458401672178,
          1702.0039421500837,
          1717.5362173699461,
          1729.4313762991997,
          1733.647960450594,
          1746.0108471701408,
          1754.5621530686835,
          1750.4252624117294,
          1745.8205067714177,
          1745.0523057239182,
          1749.750821682253,
          1755.0948507877933,
          1760.8962297690025,
          1756.5087889018534,
          1748.1764587148275,
          1743.3918326033452,
          1740.1090753279595,
          1742.8311181599768,
          1751.5411796888288,
          1767.4975649521311,
          1779.1748543222493,
          1810.3417642558543,
          1808.1067057792625,
          1806.7888342611202,
          1796.6430290442486,
          1788.1266729453203,
          1778.6732828953518,
          1772.3271160979564,
          1767.5738497678285,
          1764.0459636278808,
          1761.035815707262,
          1755.2130027631874,
          1752.6834476448319,
          1750.0680865643674,
          1747.2809332055738,
          1744.993053642245,
          1746.7780164374558,
          1743.4283973036581,
          1770.1340136854424,
          1778.7844483524627,
          1783.5127376129326,
          1770.502934853322,
          1765.1388291602632,
          1759.6825969598242,
          null
         ],
         "yaxis": "y"
        },
        {
         "line": {
          "color": "darkgreen",
          "shape": "linear"
         },
         "mode": "lines",
         "name": "EMA",
         "type": "scatter",
         "x": [
          "2023-01-01T00:00:00",
          "2023-01-02T00:00:00",
          "2023-01-03T00:00:00",
          "2023-01-04T00:00:00",
          "2023-01-05T00:00:00",
          "2023-01-06T00:00:00",
          "2023-01-07T00:00:00",
          "2023-01-08T00:00:00",
          "2023-01-09T00:00:00",
          "2023-01-10T00:00:00",
          "2023-01-11T00:00:00",
          "2023-01-12T00:00:00",
          "2023-01-13T00:00:00",
          "2023-01-14T00:00:00",
          "2023-01-15T00:00:00",
          "2023-01-16T00:00:00",
          "2023-01-17T00:00:00",
          "2023-01-18T00:00:00",
          "2023-01-19T00:00:00",
          "2023-01-20T00:00:00",
          "2023-01-21T00:00:00",
          "2023-01-22T00:00:00",
          "2023-01-23T00:00:00",
          "2023-01-24T00:00:00",
          "2023-01-25T00:00:00",
          "2023-01-26T00:00:00",
          "2023-01-27T00:00:00",
          "2023-01-28T00:00:00",
          "2023-01-29T00:00:00",
          "2023-01-30T00:00:00",
          "2023-01-31T00:00:00",
          "2023-02-01T00:00:00",
          "2023-02-02T00:00:00",
          "2023-02-03T00:00:00",
          "2023-02-04T00:00:00",
          "2023-02-05T00:00:00",
          "2023-02-06T00:00:00",
          "2023-02-07T00:00:00",
          "2023-02-08T00:00:00",
          "2023-02-09T00:00:00",
          "2023-02-10T00:00:00",
          "2023-02-11T00:00:00",
          "2023-02-12T00:00:00",
          "2023-02-13T00:00:00",
          "2023-02-14T00:00:00",
          "2023-02-15T00:00:00",
          "2023-02-16T00:00:00",
          "2023-02-17T00:00:00",
          "2023-02-18T00:00:00",
          "2023-02-19T00:00:00",
          "2023-02-20T00:00:00",
          "2023-02-21T00:00:00",
          "2023-02-22T00:00:00",
          "2023-02-23T00:00:00",
          "2023-02-24T00:00:00",
          "2023-02-25T00:00:00",
          "2023-02-26T00:00:00",
          "2023-02-27T00:00:00",
          "2023-02-28T00:00:00",
          "2023-03-01T00:00:00",
          "2023-03-02T00:00:00",
          "2023-03-03T00:00:00",
          "2023-03-04T00:00:00",
          "2023-03-05T00:00:00",
          "2023-03-06T00:00:00",
          "2023-03-07T00:00:00",
          "2023-03-08T00:00:00",
          "2023-03-09T00:00:00",
          "2023-03-10T00:00:00",
          "2023-03-11T00:00:00",
          "2023-03-12T00:00:00",
          "2023-03-13T00:00:00",
          "2023-03-14T00:00:00",
          "2023-03-15T00:00:00",
          "2023-03-16T00:00:00",
          "2023-03-17T00:00:00",
          "2023-03-18T00:00:00",
          "2023-03-19T00:00:00",
          "2023-03-20T00:00:00",
          "2023-03-21T00:00:00",
          "2023-03-22T00:00:00",
          "2023-03-23T00:00:00",
          "2023-03-24T00:00:00",
          "2023-03-25T00:00:00",
          "2023-03-26T00:00:00",
          "2023-03-27T00:00:00",
          "2023-03-28T00:00:00",
          "2023-03-29T00:00:00",
          "2023-03-30T00:00:00",
          "2023-03-31T00:00:00",
          "2023-04-01T00:00:00",
          "2023-04-02T00:00:00",
          "2023-04-03T00:00:00",
          "2023-04-04T00:00:00",
          "2023-04-05T00:00:00",
          "2023-04-06T00:00:00",
          "2023-04-07T00:00:00",
          "2023-04-08T00:00:00",
          "2023-04-09T00:00:00",
          "2023-04-10T00:00:00",
          "2023-04-11T00:00:00",
          "2023-04-12T00:00:00",
          "2023-04-13T00:00:00",
          "2023-04-14T00:00:00",
          "2023-04-15T00:00:00",
          "2023-04-16T00:00:00",
          "2023-04-17T00:00:00",
          "2023-04-18T00:00:00",
          "2023-04-19T00:00:00",
          "2023-04-20T00:00:00",
          "2023-04-21T00:00:00",
          "2023-04-22T00:00:00",
          "2023-04-23T00:00:00",
          "2023-04-24T00:00:00",
          "2023-04-25T00:00:00",
          "2023-04-26T00:00:00",
          "2023-04-27T00:00:00",
          "2023-04-28T00:00:00",
          "2023-04-29T00:00:00",
          "2023-04-30T00:00:00",
          "2023-05-01T00:00:00",
          "2023-05-02T00:00:00",
          "2023-05-03T00:00:00",
          "2023-05-04T00:00:00",
          "2023-05-05T00:00:00",
          "2023-05-06T00:00:00",
          "2023-05-07T00:00:00",
          "2023-05-08T00:00:00",
          "2023-05-09T00:00:00",
          "2023-05-10T00:00:00",
          "2023-05-11T00:00:00",
          "2023-05-12T00:00:00",
          "2023-05-13T00:00:00",
          "2023-05-14T00:00:00",
          "2023-05-15T00:00:00",
          "2023-05-16T00:00:00",
          "2023-05-17T00:00:00",
          "2023-05-18T00:00:00",
          "2023-05-19T00:00:00",
          "2023-05-20T00:00:00",
          "2023-05-21T00:00:00",
          "2023-05-22T00:00:00",
          "2023-05-23T00:00:00",
          "2023-05-24T00:00:00",
          "2023-05-25T00:00:00",
          "2023-05-26T00:00:00",
          "2023-05-27T00:00:00",
          "2023-05-28T00:00:00",
          "2023-05-29T00:00:00",
          "2023-05-30T00:00:00",
          "2023-05-31T00:00:00"
         ],
         "xaxis": "x",
         "y": [
          1215.272970737889,
          1215.1102520905079,
          1215.0279798148174,
          1218.9013630567213,
          1221.8609743329994,
          1226.3739328644826,
          1229.864301812696,
          1235.4316873201697,
          1243.5900768179356,
          1252.3761522043637,
          1265.3361160037355,
          1279.800488438851,
          1296.0801252215401,
          1320.310175224663,
          1342.4272699777512,
          1364.734560115243,
          1383.8669418554089,
          1396.117057535817,
          1410.984388823048,
          1434.6937267209976,
          1452.921058577165,
          1469.6002157926666,
          1484.6067586537972,
          1491.3596438406782,
          1502.7637019510175,
          1512.2833584679245,
          1520.4190405695242,
          1525.4539675129372,
          1537.0021398433378,
          1539.8164218223387,
          1544.2386275122142,
          1553.5852157948705,
          1562.1750806482225,
          1571.9468192197364,
          1580.9152571829784,
          1585.5600885168844,
          1588.3665464739593,
          1596.3285679778205,
          1601.4485296860253,
          1596.1185581775826,
          1588.2380496049161,
          1583.524498315363,
          1577.0324110123315,
          1570.3675868925698,
          1569.020566086016,
          1579.139823363386,
          1584.883797470494,
          1595.3682894554086,
          1604.6480214943788,
          1612.0177585388692,
          1620.7641008786488,
          1624.4939361998324,
          1626.3115020403247,
          1628.6013866301944,
          1626.551688072634,
          1623.5532283589623,
          1625.2017592707411,
          1626.0369248823622,
          1623.9803748087809,
          1627.8797135951343,
          1629.7502640144883,
          1623.9418740060496,
          1618.4608373166502,
          1613.3684231468299,
          1608.8493157426037,
          1604.3756372962896,
          1597.6439976409247,
          1582.4437202818747,
          1568.184973226763,
          1564.7391202904348,
          1568.2137759496877,
          1578.8526719195988,
          1591.0588238016148,
          1597.1714400318465,
          1604.8810778269358,
          1622.7415633642165,
          1636.1588332343813,
          1650.495966552456,
          1658.9815780404801,
          1673.1445269818678,
          1679.4382168934198,
          1692.634662266823,
          1698.2178726536004,
          1702.5175264473182,
          1709.4750371498383,
          1710.1018957232127,
          1716.1215469405322,
          1723.4391760032108,
          1730.1450873425626,
          1739.0170457512181,
          1746.8390114507636,
          1751.4717814647092,
          1757.038526900739,
          1767.9499028193054,
          1781.5128923724512,
          1790.1649879522233,
          1797.3897874732654,
          1802.4942492941136,
          1807.93971316151,
          1817.753746967244,
          1824.8562164459706,
          1833.8201318051908,
          1850.9154813011528,
          1874.8624869618247,
          1895.650159732075,
          1916.9864775371007,
          1932.1366975530998,
          1948.5715842630584,
          1947.6610574239758,
          1947.225265801623,
          1937.896608335904,
          1931.9019267640165,
          1925.3219291846613,
          1917.4310068821133,
          1912.6360395284742,
          1908.2041152208249,
          1908.3675515143004,
          1906.9208265520685,
          1907.1300384140002,
          1903.7055634753813,
          1896.8155515822605,
          1894.3184281326846,
          1895.2773191408528,
          1893.5328679983368,
          1903.0285920602669,
          1902.7978903710336,
          1899.9822291580688,
          1895.1988650233664,
          1890.7322171664446,
          1886.1131181985468,
          1877.5878570196612,
          1870.975688478133,
          1863.8789252875692,
          1857.801191577675,
          1853.9884231154483,
          1851.1752661405305,
          1848.4413001045634,
          1844.0185141708027,
          1841.0316236963001,
          1838.9990332388506,
          1835.7231405299963,
          1834.1033348292115,
          1836.0305827291081,
          1832.6769899218134,
          1830.210731215037,
          1830.105049954189,
          1830.2185568700163,
          1837.747755601464,
          1843.0067372579504,
          1848.5005702012945,
          null
         ],
         "yaxis": "y"
        },
        {
         "line": {
          "shape": "linear"
         },
         "mode": "lines",
         "name": "RSI",
         "type": "scatter",
         "x": [
          "2023-01-01T00:00:00",
          "2023-01-02T00:00:00",
          "2023-01-03T00:00:00",
          "2023-01-04T00:00:00",
          "2023-01-05T00:00:00",
          "2023-01-06T00:00:00",
          "2023-01-07T00:00:00",
          "2023-01-08T00:00:00",
          "2023-01-09T00:00:00",
          "2023-01-10T00:00:00",
          "2023-01-11T00:00:00",
          "2023-01-12T00:00:00",
          "2023-01-13T00:00:00",
          "2023-01-14T00:00:00",
          "2023-01-15T00:00:00",
          "2023-01-16T00:00:00",
          "2023-01-17T00:00:00",
          "2023-01-18T00:00:00",
          "2023-01-19T00:00:00",
          "2023-01-20T00:00:00",
          "2023-01-21T00:00:00",
          "2023-01-22T00:00:00",
          "2023-01-23T00:00:00",
          "2023-01-24T00:00:00",
          "2023-01-25T00:00:00",
          "2023-01-26T00:00:00",
          "2023-01-27T00:00:00",
          "2023-01-28T00:00:00",
          "2023-01-29T00:00:00",
          "2023-01-30T00:00:00",
          "2023-01-31T00:00:00",
          "2023-02-01T00:00:00",
          "2023-02-02T00:00:00",
          "2023-02-03T00:00:00",
          "2023-02-04T00:00:00",
          "2023-02-05T00:00:00",
          "2023-02-06T00:00:00",
          "2023-02-07T00:00:00",
          "2023-02-08T00:00:00",
          "2023-02-09T00:00:00",
          "2023-02-10T00:00:00",
          "2023-02-11T00:00:00",
          "2023-02-12T00:00:00",
          "2023-02-13T00:00:00",
          "2023-02-14T00:00:00",
          "2023-02-15T00:00:00",
          "2023-02-16T00:00:00",
          "2023-02-17T00:00:00",
          "2023-02-18T00:00:00",
          "2023-02-19T00:00:00",
          "2023-02-20T00:00:00",
          "2023-02-21T00:00:00",
          "2023-02-22T00:00:00",
          "2023-02-23T00:00:00",
          "2023-02-24T00:00:00",
          "2023-02-25T00:00:00",
          "2023-02-26T00:00:00",
          "2023-02-27T00:00:00",
          "2023-02-28T00:00:00",
          "2023-03-01T00:00:00",
          "2023-03-02T00:00:00",
          "2023-03-03T00:00:00",
          "2023-03-04T00:00:00",
          "2023-03-05T00:00:00",
          "2023-03-06T00:00:00",
          "2023-03-07T00:00:00",
          "2023-03-08T00:00:00",
          "2023-03-09T00:00:00",
          "2023-03-10T00:00:00",
          "2023-03-11T00:00:00",
          "2023-03-12T00:00:00",
          "2023-03-13T00:00:00",
          "2023-03-14T00:00:00",
          "2023-03-15T00:00:00",
          "2023-03-16T00:00:00",
          "2023-03-17T00:00:00",
          "2023-03-18T00:00:00",
          "2023-03-19T00:00:00",
          "2023-03-20T00:00:00",
          "2023-03-21T00:00:00",
          "2023-03-22T00:00:00",
          "2023-03-23T00:00:00",
          "2023-03-24T00:00:00",
          "2023-03-25T00:00:00",
          "2023-03-26T00:00:00",
          "2023-03-27T00:00:00",
          "2023-03-28T00:00:00",
          "2023-03-29T00:00:00",
          "2023-03-30T00:00:00",
          "2023-03-31T00:00:00",
          "2023-04-01T00:00:00",
          "2023-04-02T00:00:00",
          "2023-04-03T00:00:00",
          "2023-04-04T00:00:00",
          "2023-04-05T00:00:00",
          "2023-04-06T00:00:00",
          "2023-04-07T00:00:00",
          "2023-04-08T00:00:00",
          "2023-04-09T00:00:00",
          "2023-04-10T00:00:00",
          "2023-04-11T00:00:00",
          "2023-04-12T00:00:00",
          "2023-04-13T00:00:00",
          "2023-04-14T00:00:00",
          "2023-04-15T00:00:00",
          "2023-04-16T00:00:00",
          "2023-04-17T00:00:00",
          "2023-04-18T00:00:00",
          "2023-04-19T00:00:00",
          "2023-04-20T00:00:00",
          "2023-04-21T00:00:00",
          "2023-04-22T00:00:00",
          "2023-04-23T00:00:00",
          "2023-04-24T00:00:00",
          "2023-04-25T00:00:00",
          "2023-04-26T00:00:00",
          "2023-04-27T00:00:00",
          "2023-04-28T00:00:00",
          "2023-04-29T00:00:00",
          "2023-04-30T00:00:00",
          "2023-05-01T00:00:00",
          "2023-05-02T00:00:00",
          "2023-05-03T00:00:00",
          "2023-05-04T00:00:00",
          "2023-05-05T00:00:00",
          "2023-05-06T00:00:00",
          "2023-05-07T00:00:00",
          "2023-05-08T00:00:00",
          "2023-05-09T00:00:00",
          "2023-05-10T00:00:00",
          "2023-05-11T00:00:00",
          "2023-05-12T00:00:00",
          "2023-05-13T00:00:00",
          "2023-05-14T00:00:00",
          "2023-05-15T00:00:00",
          "2023-05-16T00:00:00",
          "2023-05-17T00:00:00",
          "2023-05-18T00:00:00",
          "2023-05-19T00:00:00",
          "2023-05-20T00:00:00",
          "2023-05-21T00:00:00",
          "2023-05-22T00:00:00",
          "2023-05-23T00:00:00",
          "2023-05-24T00:00:00",
          "2023-05-25T00:00:00",
          "2023-05-26T00:00:00",
          "2023-05-27T00:00:00",
          "2023-05-28T00:00:00",
          "2023-05-29T00:00:00",
          "2023-05-30T00:00:00",
          "2023-05-31T00:00:00"
         ],
         "xaxis": "x",
         "y": [
          44.97701032343383,
          48.20497708595765,
          48.37486905953352,
          57.01769415037942,
          55.63080162832317,
          59.215357555222155,
          57.61230607180265,
          62.14216909499173,
          67.0512229614248,
          69.00398451193855,
          74.74317764549976,
          77.23581528339133,
          79.73737024239044,
          85.01469951173512,
          85.10619157343457,
          86.12207820850205,
          83.31237311623903,
          71.34194243690813,
          74.31400416197235,
          80.2713466043145,
          74.43163895190793,
          74.5374612109484,
          74.37781474249245,
          62.4457498450511,
          66.88579352079189,
          65.62119969150753,
          64.84753172088129,
          61.008337271392726,
          67.28473934347176,
          56.583640332518236,
          58.3381757234692,
          62.92865665809352,
          63.047456111217976,
          64.74353841656178,
          64.85324869464132,
          59.465526453993654,
          57.41036331493752,
          62.83058393019021,
          59.68727460043967,
          47.404511325483824,
          44.387799324464716,
          47.24068244409199,
          44.946219073420004,
          44.13051281353175,
          49.95309808512068,
          60.642625807832204,
          56.717819897485164,
          60.95021389099495,
          60.70272739837842,
          59.397280030492496,
          61.20444365524451,
          55.80975114404943,
          53.904992335105824,
          54.5934376458969,
          49.48220398465954,
          48.14015253127632,
          53.34355629066107,
          52.478558931761754,
          48.87367300975227,
          55.61503490021334,
          53.44111233154659,
          44.84555715964189,
          44.61786955518843,
          44.46810609843394,
          44.60568808472989,
          44.108581196261646,
          40.78766898487195,
          31.975067612801485,
          31.567593856962805,
          45.5459180160961,
          52.78368139954436,
          59.40045389937233,
          61.41084346343084,
          55.76088431565386,
          57.6154567815228,
          65.43755398767435,
          62.319271763854026,
          63.80417022689208,
          58.70734831795309,
          63.27773081467326,
          56.507113006368925,
          61.599697397421956,
          55.654759455930105,
          54.98055224237957,
          57.26273484122287,
          52.01937674255641,
          56.17451942716306,
          57.53272789397559,
          57.597877941989466,
          59.7671329270398,
          59.52238709895712,
          56.608009150228824,
          57.85127879829451,
          62.781723846188655,
          65.51082516331839,
          60.80018407216199,
          60.02019739029506,
          58.12078334191971,
          58.92813254586552,
          63.40042437327557,
          60.80199643242431,
          63.12512992919595,
          69.91776093335744,
          74.66914265997343,
          73.37437503138867,
          74.73181938182815,
          68.5629929328795,
          70.2956450949034,
          52.28926070773392,
          52.61474780482009,
          45.0829074483434,
          47.30732113361283,
          46.359083331683124,
          44.71904449900945,
          47.14701794517406,
          47.0634377922653,
          51.44880667619251,
          49.74422163368385,
          51.40170069619488,
          47.41894197289848,
          43.600514912125774,
          48.03374927628775,
          51.56135675061648,
          48.67154516542685,
          59.137254902062544,
          50.334605833086925,
          48.0525878418446,
          46.129636228822086,
          46.016508416526,
          45.47318250934716,
          41.484521544792834,
          42.84978099283123,
          41.78660449286305,
          42.251923193516696,
          44.62426554254953,
          45.5539363367026,
          45.30047549655417,
          42.79605925058291,
          44.51825946063538,
          45.68196682477402,
          43.59060778825886,
          46.10065490648657,
          51.903068497152255,
          44.207164563559644,
          45.18353275614206,
          48.7908507404984,
          49.14729001243626,
          59.80886306071409,
          57.09708136395724,
          58.07173304069186,
          null
         ],
         "yaxis": "y3"
        },
        {
         "hoverinfo": "text",
         "marker": {
          "color": "#aaaaff",
          "line": {
           "color": "#3333aa",
           "width": 1
          },
          "size": 12,
          "symbol": "triangle-right"
         },
         "mode": "markers",
         "name": "Buy",
         "text": [],
         "type": "scatter",
         "x": [],
         "xaxis": "x",
         "y": [],
         "yaxis": "y"
        },
        {
         "hoverinfo": "text",
         "marker": {
          "color": "#aaaaff",
          "line": {
           "color": "#3333aa",
           "width": 1
          },
          "size": 12,
          "symbol": "triangle-left"
         },
         "mode": "markers",
         "name": "Sell",
         "text": [
          "------------------------------------------------------------<br>Sell WETH<br><br>Executed at: 2023-01-06 00:00:00<br>Value: 4997.5000 USD<br>Quantity: 3.999411 WETH<br>Executed at price: 1249.5590 WETH / USD<br>Fees paid: $2.50",
          "------------------------------------------------------------<br>Sell WETH<br><br>Executed at: 2023-02-03 00:00:00<br>Value: 4865.6271 USD<br>Quantity: 2.959791 WETH<br>Executed at price: 1643.9091 WETH / USD<br>Fees paid: $2.43",
          "------------------------------------------------------------<br>Sell WETH<br><br>Executed at: 2023-02-05 00:00:00<br>Value: 4748.8884 USD<br>Quantity: 2.851469 WETH<br>Executed at price: 1665.4183 WETH / USD<br>Fees paid: $2.38",
          "------------------------------------------------------------<br>Sell WETH<br><br>Executed at: 2023-02-17 00:00:00<br>Value: 4967.0769 USD<br>Quantity: 3.031187 WETH<br>Executed at price: 1638.6572 WETH / USD<br>Fees paid: $2.48",
          "------------------------------------------------------------<br>Sell WETH<br><br>Executed at: 2023-03-15 00:00:00<br>Value: 4839.8752 USD<br>Quantity: 2.837189 WETH<br>Executed at price: 1705.8698 WETH / USD<br>Fees paid: $2.42",
          "------------------------------------------------------------<br>Sell WETH<br><br>Executed at: 2023-03-19 00:00:00<br>Value: 5063.3475 USD<br>Quantity: 2.872418 WETH<br>Executed at price: 1762.7472 WETH / USD<br>Fees paid: $2.53",
          "------------------------------------------------------------<br>Sell WETH<br><br>Executed at: 2023-03-20 00:00:00<br>Value: 4950.7800 USD<br>Quantity: 2.772286 WETH<br>Executed at price: 1785.8113 WETH / USD<br>Fees paid: $2.48",
          "------------------------------------------------------------<br>Sell WETH<br><br>Executed at: 2023-04-07 00:00:00<br>Value: 4843.7103 USD<br>Quantity: 2.588324 WETH<br>Executed at price: 1871.3695 WETH / USD<br>Fees paid: $2.42",
          "------------------------------------------------------------<br>Sell WETH<br><br>Executed at: 2023-04-12 00:00:00<br>Value: 4730.2430 USD<br>Quantity: 2.501040 WETH<br>Executed at price: 1891.3105 WETH / USD<br>Fees paid: $2.37"
         ],
         "type": "scatter",
         "x": [
          "2023-01-06T00:00:00",
          "2023-02-03T00:00:00",
          "2023-02-05T00:00:00",
          "2023-02-17T00:00:00",
          "2023-03-15T00:00:00",
          "2023-03-19T00:00:00",
          "2023-03-20T00:00:00",
          "2023-04-07T00:00:00",
          "2023-04-12T00:00:00"
         ],
         "xaxis": "x",
         "y": [
          1250.1840976840986,
          1644.7314268434402,
          1666.251436414607,
          1639.4769606260083,
          1706.7231655583184,
          1763.62899428503,
          1786.7046844661563,
          1872.305623156955,
          1892.2566187075502
         ],
         "yaxis": "y"
        },
        {
         "hoverinfo": "text",
         "marker": {
          "color": [
           "orangered",
           "orangered",
           "orangered",
           "orangered",
           "orangered",
           "orangered",
           "orangered"
          ],
          "line": {
           "color": "black",
           "width": 1
          },
          "size": 12,
          "symbol": "arrow-down"
         },
         "mode": "markers",
         "name": "Stop loss",
         "text": [
          "------------------------------------------------------------<br>Stop loss WETH<br><br>Triggered at: 1275.1878 WETH / USD<br>Executed at: 2023-01-08 23:15:00<br>Value: 5129.7235 USD<br>Quantity: 3.999872 WETH<br>Executed at price: 1282.4720 WETH / USD<br>Fees paid: $2.56",
          "------------------------------------------------------------<br>Stop loss WETH<br><br>Triggered at: 1677.6261 WETH / USD<br>Executed at: 2023-02-04 13:15:00<br>Value: 4982.6186 USD<br>Quantity: 2.959972 WETH<br>Executed at price: 1683.3331 WETH / USD<br>Fees paid: $2.49",
          "------------------------------------------------------------<br>Stop loss WETH<br><br>Triggered at: 1672.2665 WETH / USD<br>Executed at: 2023-02-17 14:45:00<br>Value: 5094.3410 USD<br>Quantity: 3.031187 WETH<br>Executed at price: 1680.6421 WETH / USD<br>Fees paid: $2.55",
          "------------------------------------------------------------<br>Stop loss WETH<br><br>Triggered at: 1798.9016 WETH / USD<br>Executed at: 2023-03-19 16:00:00<br>Value: 5175.9701 USD<br>Quantity: 2.872418 WETH<br>Executed at price: 1801.9555 WETH / USD<br>Fees paid: $2.59",
          "------------------------------------------------------------<br>Stop loss WETH<br><br>Triggered at: 1822.4388 WETH / USD<br>Executed at: 2023-03-21 14:00:00<br>Value: 5058.1820 USD<br>Quantity: 2.772461 WETH<br>Executed at price: 1824.4377 WETH / USD<br>Fees paid: $2.53",
          "------------------------------------------------------------<br>Stop loss WETH<br><br>Triggered at: 1909.7517 WETH / USD<br>Executed at: 2023-04-10 23:15:00<br>Value: 4958.4689 USD<br>Quantity: 2.588627 WETH<br>Executed at price: 1915.4822 WETH / USD<br>Fees paid: $2.48",
          "------------------------------------------------------------<br>Stop loss WETH<br><br>Triggered at: 1930.1018 WETH / USD<br>Executed at: 2023-04-13 08:45:00<br>Value: 4874.9858 USD<br>Quantity: 2.501145 WETH<br>Executed at price: 1949.1015 WETH / USD<br>Fees paid: $2.44"
         ],
         "type": "scatter",
         "x": [
          "2023-01-08T23:15:00",
          "2023-02-04T13:15:00",
          "2023-02-17T14:45:00",
          "2023-03-19T16:00:00",
          "2023-03-21T14:00:00",
          "2023-04-10T23:15:00",
          "2023-04-13T08:45:00"
         ],
         "xaxis": "x",
         "y": [
          1281.8310566116816,
          1682.4919022652232,
          1679.8022020383248,
          1801.0549288885818,
          1823.5259186997116,
          1914.5249233193254,
          1948.1274713075552
         ],
         "yaxis": "y"
        },
        {
         "hoverinfo": "text",
         "marker": {
          "color": "lightgreen",
          "line": {
           "color": "black",
           "width": 1
          },
          "size": 12,
          "symbol": "arrow-up"
         },
         "mode": "markers",
         "name": "Take profit",
         "text": [
          "------------------------------------------------------------<br>Take profit WETH<br><br>Triggered at: 1599.6014 WETH / USD<br>Executed at: 2023-02-09 19:30:00<br>Value: 4531.3347 USD<br>Quantity: 2.852335 WETH<br>Executed at price: 1588.6407 WETH / USD<br>Fees paid: $2.27",
          "------------------------------------------------------------<br>Take profit WETH<br><br>Triggered at: 1638.4542 WETH / USD<br>Executed at: 2023-03-15 16:45:00<br>Value: 4616.2900 USD<br>Quantity: 2.837189 WETH<br>Executed at price: 1627.0646 WETH / USD<br>Fees paid: $2.31"
         ],
         "type": "scatter",
         "x": [
          "2023-02-09T19:30:00",
          "2023-03-15T16:45:00"
         ],
         "xaxis": "x",
         "y": [
          1587.8467679169312,
          1626.251493953819
         ],
         "yaxis": "y"
        }
       ],
       "layout": {
        "annotations": [
         {
          "font": {
           "size": 11
          },
          "showarrow": false,
          "text": "Volume (USD)",
          "textangle": 90,
          "x": 0.98,
          "xanchor": "left",
          "xref": "paper",
          "y": 0.24285714285714288,
          "yanchor": "middle",
          "yref": "paper"
         },
         {
          "font": {
           "size": 11
          },
          "showarrow": false,
          "text": "RSI",
          "textangle": 90,
          "x": 0.98,
          "xanchor": "left",
          "xref": "paper",
          "y": 0.0642857142857143,
          "yanchor": "middle",
          "yref": "paper"
         }
        ],
        "height": 1000,
        "hovermode": "x unified",
        "legend": {
         "orientation": "h",
         "x": 1,
         "xanchor": "right",
         "y": 1.09,
         "yanchor": "top"
        },
        "margin": {
         "t": 150
        },
        "template": {
         "data": {
          "bar": [
           {
            "error_x": {
             "color": "#2a3f5f"
            },
            "error_y": {
             "color": "#2a3f5f"
            },
            "marker": {
             "line": {
              "color": "white",
              "width": 0.5
             },
             "pattern": {
              "fillmode": "overlay",
              "size": 10,
              "solidity": 0.2
             }
            },
            "type": "bar"
           }
          ],
          "barpolar": [
           {
            "marker": {
             "line": {
              "color": "white",
              "width": 0.5
             },
             "pattern": {
              "fillmode": "overlay",
              "size": 10,
              "solidity": 0.2
             }
            },
            "type": "barpolar"
           }
          ],
          "carpet": [
           {
            "aaxis": {
             "endlinecolor": "#2a3f5f",
             "gridcolor": "#C8D4E3",
             "linecolor": "#C8D4E3",
             "minorgridcolor": "#C8D4E3",
             "startlinecolor": "#2a3f5f"
            },
            "baxis": {
             "endlinecolor": "#2a3f5f",
             "gridcolor": "#C8D4E3",
             "linecolor": "#C8D4E3",
             "minorgridcolor": "#C8D4E3",
             "startlinecolor": "#2a3f5f"
            },
            "type": "carpet"
           }
          ],
          "choropleth": [
           {
            "colorbar": {
             "outlinewidth": 0,
             "ticks": ""
            },
            "type": "choropleth"
           }
          ],
          "contour": [
           {
            "colorbar": {
             "outlinewidth": 0,
             "ticks": ""
            },
            "colorscale": [
             [
              0,
              "#0d0887"
             ],
             [
              0.1111111111111111,
              "#46039f"
             ],
             [
              0.2222222222222222,
              "#7201a8"
             ],
             [
              0.3333333333333333,
              "#9c179e"
             ],
             [
              0.4444444444444444,
              "#bd3786"
             ],
             [
              0.5555555555555556,
              "#d8576b"
             ],
             [
              0.6666666666666666,
              "#ed7953"
             ],
             [
              0.7777777777777778,
              "#fb9f3a"
             ],
             [
              0.8888888888888888,
              "#fdca26"
             ],
             [
              1,
              "#f0f921"
             ]
            ],
            "type": "contour"
           }
          ],
          "contourcarpet": [
           {
            "colorbar": {
             "outlinewidth": 0,
             "ticks": ""
            },
            "type": "contourcarpet"
           }
          ],
          "heatmap": [
           {
            "colorbar": {
             "outlinewidth": 0,
             "ticks": ""
            },
            "colorscale": [
             [
              0,
              "#0d0887"
             ],
             [
              0.1111111111111111,
              "#46039f"
             ],
             [
              0.2222222222222222,
              "#7201a8"
             ],
             [
              0.3333333333333333,
              "#9c179e"
             ],
             [
              0.4444444444444444,
              "#bd3786"
             ],
             [
              0.5555555555555556,
              "#d8576b"
             ],
             [
              0.6666666666666666,
              "#ed7953"
             ],
             [
              0.7777777777777778,
              "#fb9f3a"
             ],
             [
              0.8888888888888888,
              "#fdca26"
             ],
             [
              1,
              "#f0f921"
             ]
            ],
            "type": "heatmap"
           }
          ],
          "heatmapgl": [
           {
            "colorbar": {
             "outlinewidth": 0,
             "ticks": ""
            },
            "colorscale": [
             [
              0,
              "#0d0887"
             ],
             [
              0.1111111111111111,
              "#46039f"
             ],
             [
              0.2222222222222222,
              "#7201a8"
             ],
             [
              0.3333333333333333,
              "#9c179e"
             ],
             [
              0.4444444444444444,
              "#bd3786"
             ],
             [
              0.5555555555555556,
              "#d8576b"
             ],
             [
              0.6666666666666666,
              "#ed7953"
             ],
             [
              0.7777777777777778,
              "#fb9f3a"
             ],
             [
              0.8888888888888888,
              "#fdca26"
             ],
             [
              1,
              "#f0f921"
             ]
            ],
            "type": "heatmapgl"
           }
          ],
          "histogram": [
           {
            "marker": {
             "pattern": {
              "fillmode": "overlay",
              "size": 10,
              "solidity": 0.2
             }
            },
            "type": "histogram"
           }
          ],
          "histogram2d": [
           {
            "colorbar": {
             "outlinewidth": 0,
             "ticks": ""
            },
            "colorscale": [
             [
              0,
              "#0d0887"
             ],
             [
              0.1111111111111111,
              "#46039f"
             ],
             [
              0.2222222222222222,
              "#7201a8"
             ],
             [
              0.3333333333333333,
              "#9c179e"
             ],
             [
              0.4444444444444444,
              "#bd3786"
             ],
             [
              0.5555555555555556,
              "#d8576b"
             ],
             [
              0.6666666666666666,
              "#ed7953"
             ],
             [
              0.7777777777777778,
              "#fb9f3a"
             ],
             [
              0.8888888888888888,
              "#fdca26"
             ],
             [
              1,
              "#f0f921"
             ]
            ],
            "type": "histogram2d"
           }
          ],
          "histogram2dcontour": [
           {
            "colorbar": {
             "outlinewidth": 0,
             "ticks": ""
            },
            "colorscale": [
             [
              0,
              "#0d0887"
             ],
             [
              0.1111111111111111,
              "#46039f"
             ],
             [
              0.2222222222222222,
              "#7201a8"
             ],
             [
              0.3333333333333333,
              "#9c179e"
             ],
             [
              0.4444444444444444,
              "#bd3786"
             ],
             [
              0.5555555555555556,
              "#d8576b"
             ],
             [
              0.6666666666666666,
              "#ed7953"
             ],
             [
              0.7777777777777778,
              "#fb9f3a"
             ],
             [
              0.8888888888888888,
              "#fdca26"
             ],
             [
              1,
              "#f0f921"
             ]
            ],
            "type": "histogram2dcontour"
           }
          ],
          "mesh3d": [
           {
            "colorbar": {
             "outlinewidth": 0,
             "ticks": ""
            },
            "type": "mesh3d"
           }
          ],
          "parcoords": [
           {
            "line": {
             "colorbar": {
              "outlinewidth": 0,
              "ticks": ""
             }
            },
            "type": "parcoords"
           }
          ],
          "pie": [
           {
            "automargin": true,
            "type": "pie"
           }
          ],
          "scatter": [
           {
            "fillpattern": {
             "fillmode": "overlay",
             "size": 10,
             "solidity": 0.2
            },
            "type": "scatter"
           }
          ],
          "scatter3d": [
           {
            "line": {
             "colorbar": {
              "outlinewidth": 0,
              "ticks": ""
             }
            },
            "marker": {
             "colorbar": {
              "outlinewidth": 0,
              "ticks": ""
             }
            },
            "type": "scatter3d"
           }
          ],
          "scattercarpet": [
           {
            "marker": {
             "colorbar": {
              "outlinewidth": 0,
              "ticks": ""
             }
            },
            "type": "scattercarpet"
           }
          ],
          "scattergeo": [
           {
            "marker": {
             "colorbar": {
              "outlinewidth": 0,
              "ticks": ""
             }
            },
            "type": "scattergeo"
           }
          ],
          "scattergl": [
           {
            "marker": {
             "colorbar": {
              "outlinewidth": 0,
              "ticks": ""
             }
            },
            "type": "scattergl"
           }
          ],
          "scattermapbox": [
           {
            "marker": {
             "colorbar": {
              "outlinewidth": 0,
              "ticks": ""
             }
            },
            "type": "scattermapbox"
           }
          ],
          "scatterpolar": [
           {
            "marker": {
             "colorbar": {
              "outlinewidth": 0,
              "ticks": ""
             }
            },
            "type": "scatterpolar"
           }
          ],
          "scatterpolargl": [
           {
            "marker": {
             "colorbar": {
              "outlinewidth": 0,
              "ticks": ""
             }
            },
            "type": "scatterpolargl"
           }
          ],
          "scatterternary": [
           {
            "marker": {
             "colorbar": {
              "outlinewidth": 0,
              "ticks": ""
             }
            },
            "type": "scatterternary"
           }
          ],
          "surface": [
           {
            "colorbar": {
             "outlinewidth": 0,
             "ticks": ""
            },
            "colorscale": [
             [
              0,
              "#0d0887"
             ],
             [
              0.1111111111111111,
              "#46039f"
             ],
             [
              0.2222222222222222,
              "#7201a8"
             ],
             [
              0.3333333333333333,
              "#9c179e"
             ],
             [
              0.4444444444444444,
              "#bd3786"
             ],
             [
              0.5555555555555556,
              "#d8576b"
             ],
             [
              0.6666666666666666,
              "#ed7953"
             ],
             [
              0.7777777777777778,
              "#fb9f3a"
             ],
             [
              0.8888888888888888,
              "#fdca26"
             ],
             [
              1,
              "#f0f921"
             ]
            ],
            "type": "surface"
           }
          ],
          "table": [
           {
            "cells": {
             "fill": {
              "color": "#EBF0F8"
             },
             "line": {
              "color": "white"
             }
            },
            "header": {
             "fill": {
              "color": "#C8D4E3"
             },
             "line": {
              "color": "white"
             }
            },
            "type": "table"
           }
          ]
         },
         "layout": {
          "annotationdefaults": {
           "arrowcolor": "#2a3f5f",
           "arrowhead": 0,
           "arrowwidth": 1
          },
          "autotypenumbers": "strict",
          "coloraxis": {
           "colorbar": {
            "outlinewidth": 0,
            "ticks": ""
           }
          },
          "colorscale": {
           "diverging": [
            [
             0,
             "#8e0152"
            ],
            [
             0.1,
             "#c51b7d"
            ],
            [
             0.2,
             "#de77ae"
            ],
            [
             0.3,
             "#f1b6da"
            ],
            [
             0.4,
             "#fde0ef"
            ],
            [
             0.5,
             "#f7f7f7"
            ],
            [
             0.6,
             "#e6f5d0"
            ],
            [
             0.7,
             "#b8e186"
            ],
            [
             0.8,
             "#7fbc41"
            ],
            [
             0.9,
             "#4d9221"
            ],
            [
             1,
             "#276419"
            ]
           ],
           "sequential": [
            [
             0,
             "#0d0887"
            ],
            [
             0.1111111111111111,
             "#46039f"
            ],
            [
             0.2222222222222222,
             "#7201a8"
            ],
            [
             0.3333333333333333,
             "#9c179e"
            ],
            [
             0.4444444444444444,
             "#bd3786"
            ],
            [
             0.5555555555555556,
             "#d8576b"
            ],
            [
             0.6666666666666666,
             "#ed7953"
            ],
            [
             0.7777777777777778,
             "#fb9f3a"
            ],
            [
             0.8888888888888888,
             "#fdca26"
            ],
            [
             1,
             "#f0f921"
            ]
           ],
           "sequentialminus": [
            [
             0,
             "#0d0887"
            ],
            [
             0.1111111111111111,
             "#46039f"
            ],
            [
             0.2222222222222222,
             "#7201a8"
            ],
            [
             0.3333333333333333,
             "#9c179e"
            ],
            [
             0.4444444444444444,
             "#bd3786"
            ],
            [
             0.5555555555555556,
             "#d8576b"
            ],
            [
             0.6666666666666666,
             "#ed7953"
            ],
            [
             0.7777777777777778,
             "#fb9f3a"
            ],
            [
             0.8888888888888888,
             "#fdca26"
            ],
            [
             1,
             "#f0f921"
            ]
           ]
          },
          "colorway": [
           "#636efa",
           "#EF553B",
           "#00cc96",
           "#ab63fa",
           "#FFA15A",
           "#19d3f3",
           "#FF6692",
           "#B6E880",
           "#FF97FF",
           "#FECB52"
          ],
          "font": {
           "color": "#2a3f5f"
          },
          "geo": {
           "bgcolor": "white",
           "lakecolor": "white",
           "landcolor": "white",
           "showlakes": true,
           "showland": true,
           "subunitcolor": "#C8D4E3"
          },
          "hoverlabel": {
           "align": "left"
          },
          "hovermode": "closest",
          "mapbox": {
           "style": "light"
          },
          "paper_bgcolor": "white",
          "plot_bgcolor": "white",
          "polar": {
           "angularaxis": {
            "gridcolor": "#EBF0F8",
            "linecolor": "#EBF0F8",
            "ticks": ""
           },
           "bgcolor": "white",
           "radialaxis": {
            "gridcolor": "#EBF0F8",
            "linecolor": "#EBF0F8",
            "ticks": ""
           }
          },
          "scene": {
           "xaxis": {
            "backgroundcolor": "white",
            "gridcolor": "#DFE8F3",
            "gridwidth": 2,
            "linecolor": "#EBF0F8",
            "showbackground": true,
            "ticks": "",
            "zerolinecolor": "#EBF0F8"
           },
           "yaxis": {
            "backgroundcolor": "white",
            "gridcolor": "#DFE8F3",
            "gridwidth": 2,
            "linecolor": "#EBF0F8",
            "showbackground": true,
            "ticks": "",
            "zerolinecolor": "#EBF0F8"
           },
           "zaxis": {
            "backgroundcolor": "white",
            "gridcolor": "#DFE8F3",
            "gridwidth": 2,
            "linecolor": "#EBF0F8",
            "showbackground": true,
            "ticks": "",
            "zerolinecolor": "#EBF0F8"
           }
          },
          "shapedefaults": {
           "line": {
            "color": "#2a3f5f"
           }
          },
          "ternary": {
           "aaxis": {
            "gridcolor": "#DFE8F3",
            "linecolor": "#A2B1C6",
            "ticks": ""
           },
           "baxis": {
            "gridcolor": "#DFE8F3",
            "linecolor": "#A2B1C6",
            "ticks": ""
           },
           "bgcolor": "white",
           "caxis": {
            "gridcolor": "#DFE8F3",
            "linecolor": "#A2B1C6",
            "ticks": ""
           }
          },
          "title": {
           "x": 0.05
          },
          "xaxis": {
           "automargin": true,
           "gridcolor": "#EBF0F8",
           "linecolor": "#EBF0F8",
           "ticks": "",
           "title": {
            "standoff": 15
           },
           "zerolinecolor": "#EBF0F8",
           "zerolinewidth": 2
          },
          "yaxis": {
           "automargin": true,
           "gridcolor": "#EBF0F8",
           "linecolor": "#EBF0F8",
           "ticks": "",
           "title": {
            "standoff": 15
           },
           "zerolinecolor": "#EBF0F8",
           "zerolinewidth": 2
          }
         }
        },
        "title": {
         "text": "BB short example",
         "y": 0.95
        },
        "xaxis": {
         "anchor": "y",
         "domain": [
          0,
          0.98
         ],
         "matches": "x3",
         "rangeslider": {
          "visible": false
         },
         "showticklabels": false
        },
        "xaxis2": {
         "anchor": "y2",
         "domain": [
          0,
          0.98
         ],
         "matches": "x3",
         "rangeslider": {
          "visible": false
         },
         "showticklabels": false
        },
        "xaxis3": {
         "anchor": "y3",
         "domain": [
          0,
          0.98
         ],
         "rangeslider": {
          "visible": false
         }
        },
        "yaxis": {
         "anchor": "x",
         "domain": [
          0.3571428571428572,
          1
         ],
         "showspikes": true,
         "spikedash": "dot",
         "spikemode": "across",
         "spikesnap": "cursor",
         "spikethickness": 1
        },
        "yaxis2": {
         "anchor": "x2",
         "domain": [
          0.1785714285714286,
          0.30714285714285716
         ],
         "showspikes": true,
         "spikedash": "dot",
         "spikemode": "across",
         "spikesnap": "cursor",
         "spikethickness": 1
        },
        "yaxis3": {
         "anchor": "x3",
         "domain": [
          0,
          0.1285714285714286
         ],
         "showspikes": true,
         "spikedash": "dot",
         "spikemode": "across",
         "spikesnap": "cursor",
         "spikethickness": 1
        }
       }
      }
     },
     "metadata": {},
     "output_type": "display_data"
    }
   ],
   "source": [
    "\n",
    "from tradeexecutor.visual.single_pair import visualise_single_pair, visualise_single_pair_positions_with_duration_and_slippage\n",
    "from tradingstrategy.charting.candle_chart import VolumeBarMode\n",
    "\n",
    "figure = visualise_single_pair(\n",
    "    state,\n",
    "    universe.universe.candles,\n",
    "    start_at=START_AT,\n",
    "    end_at=END_AT,\n",
    "    volume_bar_mode=VolumeBarMode.separate,\n",
    "    volume_axis_name=\"Volume (USD)\",\n",
    "    height = 1000,\n",
    ")\n",
    "\n",
    "figure.show()"
   ]
  },
  {
   "cell_type": "code",
   "execution_count": 21,
   "metadata": {},
   "outputs": [
    {
     "data": {
      "application/vnd.plotly.v1+json": {
       "config": {
        "plotlyServerURL": "https://plot.ly"
       },
       "data": [
        {
         "close": [
          1199.6056568312129,
          1213.6014010606884,
          1214.3297439658086,
          1255.8223207049982,
          1250.059091774921,
          1269.3310871316587,
          1263.1268877110394,
          1288.384765072567,
          1321.1308294157986,
          1335.8763304990052,
          1388.4466079281012,
          1417.2020620642083,
          1450.7539388271298,
          1550.5040232059496,
          1552.5208882728102,
          1576.6135426528203,
          1565.4597868642186,
          1512.223832625175,
          1552.0552251420588,
          1659.766034830189,
          1625.9262924360692,
          1627.8784774561295,
          1627.064782342209,
          1555.473334276242,
          1611.037110243414,
          1602.6818774562478,
          1597.7215042014413,
          1573.3062934000254,
          1646.7061904403165,
          1566.555937516375,
          1586.2597941155238,
          1642.4305288931996,
          1643.9093077821785,
          1664.9190349160976,
          1666.251436414607,
          1629.8330063870853,
          1615.069539837777,
          1671.926048947555,
          1650.1677337143458,
          1545.5505877228302,
          1513.4340351986434,
          1538.7654426537517,
          1515.402680355899,
          1507.091258538756,
          1556.251226506269,
          1675.2730796117487,
          1639.4769606260083,
          1694.987895707983,
          1692.785953111637,
          1681.9872556272353,
          1703.8243458103245,
          1659.9320114336722,
          1643.5805752313267,
          1650.3327504877172,
          1607.0147486294277,
          1595.007820610782,
          1640.78900133988,
          1633.9124821527505,
          1604.4457092609773,
          1664.9190349160976,
          1647.5297082226234,
          1568.750541965184,
          1566.3992975866165,
          1564.9902428400942,
          1565.9294717656367,
          1561.8635464252245,
          1533.696139104966,
          1438.0439456421507,
          1432.733279363061,
          1532.0100851529187,
          1601.2401847090189,
          1679.9701822585287,
          1707.0645272586619,
          1655.2909343915203,
          1678.1233233580615,
          1792.4310103801663,
          1763.62899428503,
          1786.7046844661563,
          1739.6332231580272,
          1807.730841157395,
          1739.2853486954345,
          1818.063811301903,
          1751.327312514386,
          1743.4644374820282,
          1775.6619354444986,
          1716.135532642047,
          1773.3551899731794,
          1792.968793458003,
          1793.8654571695417,
          1823.3435843412772,
          1821.1569935846157,
          1795.480582023266,
          1809.901311666929,
          1871.556888100815,
          1910.3178083635014,
          1872.305623156955,
          1865.950910900774,
          1850.898505666219,
          1859.6177669010567,
          1910.8909610174549,
          1892.2566187075502,
          1918.933177783335,
          2013.2835480945876,
          2102.369055089288,
          2093.139412824042,
          2119.6784875714325,
          2076.046700153497,
          2104.6828176998265,
          1938.993211222806,
          1943.069171432139,
          1849.2335296101405,
          1874.928555509198,
          1862.7816474499339,
          1842.4043487790382,
          1867.0707613772727,
          1866.137505991864,
          1909.9358021037226,
          1893.202936261489,
          1909.1720187382693,
          1871.1826328624165,
          1831.3835691158201,
          1870.6213903248067,
          1904.4052879200638,
          1876.9920084403889,
          1993.2520386403178,
          1900.6004736642303,
          1873.2419632178196,
          1849.7883551478787,
          1848.3091901656544,
          1842.2201267663613,
          1796.5581397304795,
          1808.0924054029347,
          1796.3785018802917,
          1799.9746740519474,
          1817.7002530742855,
          1824.4378640298894,
          1822.43218598684,
          1801.9556364765301,
          1812.6180648545583,
          1819.700723387787,
          1804.660462804799,
          1818.791145917525,
          1854.4183796576672,
          1800.8748414044412,
          1806.8272468331845,
          1829.1873366456916,
          1831.3835691158201,
          1909.3629359401434,
          1893.0136348979993,
          1900.7905337115963,
          1874.3661894195127,
          1861.6643695413177
         ],
         "high": [
          1203.0893880211993,
          1220.7824535551806,
          1219.5623422634903,
          1266.7950885990324,
          1258.2105317878845,
          1274.0360757701771,
          1269.8388957314542,
          1292.3847546287946,
          1343.6465365281801,
          1345.7979841151557,
          1395.8245403108242,
          1444.5294004598888,
          1463.2835965362453,
          1574.4079382547982,
          1583.8823068579322,
          1608.3008104824644,
          1606.0508771633745,
          1605.8902881345612,
          1579.7697671019603,
          1662.5898955002435,
          1679.1304491041394,
          1662.4236531349297,
          1646.8708610593603,
          1642.102092053768,
          1640.6249388459958,
          1632.4426959099153,
          1620.7319034700627,
          1605.8902881345612,
          1657.60984861711,
          1646.7061904403165,
          1602.5216252937182,
          1665.085526819589,
          1727.3261843004295,
          1673.5987275638909,
          1695.3269102370036,
          1672.929455399272,
          1656.9469704055018,
          1676.6137672457276,
          1693.801878635255,
          1655.2909343915203,
          1554.8513004587608,
          1542.1542835465868,
          1547.406268831583,
          1526.3524038817018,
          1563.426112997702,
          1677.7877490303777,
          1739.6332231580272,
          1720.6030669319164,
          1710.995097569334,
          1723.7027863796243,
          1718.711538664395,
          1717.3371879634292,
          1667.2514372474986,
          1675.1055690548433,
          1662.4236531349297,
          1608.461640563513,
          1651.4883300407032,
          1663.42135672361,
          1646.376898596828,
          1668.0852297079398,
          1676.2784947839857,
          1648.5184732099658,
          1576.4558970631144,
          1586.2597941155238,
          1581.192128742189,
          1582.615771020063,
          1569.8489968370852,
          1545.8597132958807,
          1442.5085752465227,
          1665.2520353722714,
          1624.9510780140977,
          1702.1214581931854,
          1782.0655177709837,
          1729.5730561485823,
          1693.124527230119,
          1801.0549288885818,
          1845.9080693391581,
          1907.454622733895,
          1808.0924054029347,
          1839.0911693634337,
          1822.7966906483591,
          1850.713434322787,
          1820.9748960950064,
          1763.452649020128,
          1798.1756889681008,
          1781.1747522595663,
          1792.968793458003,
          1824.8027698470737,
          1826.628393997182,
          1844.8009120349018,
          1840.378919455508,
          1825.7153537305232,
          1838.9072786355703,
          1883.3843224348827,
          1936.0870468799033,
          1910.3178083635014,
          1882.066480598624,
          1878.4941277100281,
          1873.4292874141413,
          1916.823617235048,
          1935.5063369117042,
          1932.0257330157804,
          2021.1502907792167,
          2130.942042442837,
          2111.4282523900406,
          2136.9167421079283,
          2121.374823990183,
          2123.497153687453,
          2105.3142856877257,
          1980.7346478362,
          1955.3485326301764,
          1886.5886384668502,
          1883.1960028345993,
          1889.420503201276,
          1877.1797076412329,
          1959.2629470876934,
          1936.8615978716225,
          1923.3515823933064,
          1917.7822207451961,
          1937.248989559813,
          1886.2113773292706,
          1879.4335626420816,
          1914.9078474492383,
          1915.4823772526233,
          2001.6408820075194,
          2014.2903912171234,
          1933.9586283922597,
          1885.6456270698952,
          1860.3617255923218,
          1886.3999984670036,
          1842.5885892139158,
          1814.9758826994982,
          1815.5204299153997,
          1823.7082712915817,
          1846.2772694121068,
          1831.3835691158201,
          1835.9675264038167,
          1831.3835691158201,
          1827.9074175288808,
          1827.7246450643747,
          1827.9074175288808,
          1826.9937379422652,
          1869.4994102163726,
          1854.4183796576672,
          1816.6100145377263,
          1836.7020235797734,
          1835.6003879702187,
          1916.248685140129,
          1923.928645570495,
          1919.125071101113,
          1906.5011814739737,
          1887.5321214638138
         ],
         "hoverinfo": "text",
         "low": [
          1191.2381560198617,
          1192.9069738987412,
          1204.8952858946582,
          1212.0248230646168,
          1242.9543778513037,
          1237.3739275984408,
          1261.4859716279902,
          1257.9589274228108,
          1285.1679866444836,
          1317.568765227118,
          1321.2629424987404,
          1373.3954701579416,
          1402.1195892327355,
          1450.173782297983,
          1517.677376238962,
          1522.846002577079,
          1547.561009458466,
          1503.478756876245,
          1510.1083062480386,
          1543.0798074707027,
          1622.028942888544,
          1608.461640563513,
          1601.4003087274898,
          1547.251543677215,
          1525.13187126235,
          1582.457525267536,
          1559.678576542681,
          1558.431394978625,
          1566.7125931101268,
          1539.688932764938,
          1562.6446344004114,
          1559.5226242802532,
          1636.365067227739,
          1628.6925794989847,
          1646.7061904403165,
          1612.648872513715,
          1607.6576509561921,
          1614.1008371880541,
          1632.7692007735245,
          1530.0198654746118,
          1495.9804992631123,
          1508.4481833509083,
          1495.8309161714951,
          1464.747538786025,
          1495.8309161714951,
          1544.469134935795,
          1635.710684804633,
          1632.9324776936016,
          1681.4827603529654,
          1668.0852297079398,
          1653.3058757948797,
          1638.6574680098693,
          1598.2008685859444,
          1630.4850373861402,
          1578.9801191285937,
          1562.019732779867,
          1588.0055525937228,
          1609.2660322460438,
          1599.0001288563067,
          1596.2842735587917,
          1620.4078057048437,
          1548.6446272070689,
          1550.5040232059496,
          1556.87382037817,
          1555.3178024959923,
          1538.919319198017,
          1524.8268906359538,
          1413.8050250392014,
          1371.8856411891245,
          1430.8720292355406,
          1512.0726253626387,
          1593.2543642572593,
          1667.5849042074626,
          1619.75980459094,
          1641.4454153943195,
          1667.918437864153,
          1756.7645787329127,
          1763.62899428503,
          1733.0354904222372,
          1726.8080900674395,
          1703.4836320490788,
          1734.9427829172294,
          1732.1692325717056,
          1718.1960283083038,
          1741.7219315665493,
          1693.4631690668102,
          1704.6764283827035,
          1773.709878744726,
          1765.7465134613938,
          1782.6001908900628,
          1813.1619046543692,
          1778.5051263302262,
          1766.806226266765,
          1803.7584032093155,
          1866.3241197424632,
          1856.2736327481648,
          1846.4618971390478,
          1849.4184529631016,
          1830.2851234623658,
          1848.8637383738283,
          1885.457081361759,
          1860.547761764881,
          1902.5019296362193,
          2012.277208242622,
          2077.0849311290053,
          2076.66957644702,
          2061.9781732066704,
          2056.0073968482434,
          1925.0832913856154,
          1918.933177783335,
          1828.0902082706336,
          1844.616450389863,
          1840.5629573474534,
          1810.0823017980956,
          1805.5629735202951,
          1800.6947719272487,
          1863.3405378294813,
          1854.9747608059702,
          1888.664923904264,
          1869.4994102163726,
          1808.9966324329584,
          1824.6203078162923,
          1845.1698906653176,
          1869.3124789684755,
          1876.0537939192886,
          1870.2473221579016,
          1872.680103004643,
          1817.1550520422045,
          1833.3990986050494,
          1799.6147331091784,
          1774.4194691259113,
          1743.2901084711812,
          1787.4194735493707,
          1792.7895145065522,
          1787.5982154967257,
          1798.5353420876513,
          1786.3473971232577,
          1775.1293433858275,
          1798.71519562186,
          1807.3693492138584,
          1800.3346869865047,
          1793.6860885606857,
          1817.1550520422045,
          1781.3528697347922,
          1765.569956465747,
          1797.995889379163,
          1817.1550520422045,
          1825.5328004504781,
          1876.2413992986806,
          1884.1377891744498,
          1850.5283814846382,
          1844.0631761132897
         ],
         "open": [
          1195.414585235854,
          1199.6056568312129,
          1213.6014010606884,
          1214.3297439658086,
          1255.8223207049982,
          1250.1840976840986,
          1269.2041667149877,
          1263.1268877110394,
          1288.384765072567,
          1320.8666428785564,
          1335.8763304990052,
          1388.4466079281012,
          1417.2020620642083,
          1450.7539388271298,
          1550.5040232059496,
          1552.5208882728102,
          1576.6135426528203,
          1565.4597868642186,
          1512.0726253626387,
          1552.0552251420588,
          1659.766034830189,
          1626.0888850653125,
          1627.8784774561295,
          1627.064782342209,
          1555.3178024959923,
          1611.037110243414,
          1602.6818774562478,
          1597.7215042014413,
          1573.1489785021752,
          1646.376898596828,
          1566.555937516375,
          1586.2597941155238,
          1642.4305288931996,
          1644.7314268434402,
          1664.9190349160976,
          1666.251436414607,
          1629.8330063870853,
          1614.9080490328736,
          1671.926048947555,
          1650.1677337143458,
          1545.5505877228302,
          1513.4340351986434,
          1538.7654426537517,
          1515.2511552403753,
          1507.091258538756,
          1556.251226506269,
          1675.2730796117487,
          1639.4769606260083,
          1694.987895707983,
          1692.785953111637,
          1681.650908629001,
          1703.8243458103245,
          1659.9320114336722,
          1643.5805752313267,
          1649.672782387796,
          1607.0147486294277,
          1595.007820610782,
          1640.78900133988,
          1633.9124821527505,
          1604.7666144472867,
          1664.9190349160976,
          1647.5297082226234,
          1568.9074170193805,
          1566.3992975866165,
          1564.9902428400942,
          1565.9294717656367,
          1561.8635464252245,
          1533.5427848264833,
          1437.756379988589,
          1432.4467756834565,
          1532.0100851529187,
          1600.9199847028783,
          1680.4742237139917,
          1706.7231655583184,
          1655.4564634849596,
          1678.1233233580615,
          1792.4310103801663,
          1763.62899428503,
          1786.7046844661563,
          1739.6332231580272,
          1807.3693492138584,
          1739.2853486954345,
          1818.063811301903,
          1751.327312514386,
          1743.4644374820282,
          1775.6619354444986,
          1716.135532642047,
          1773.709878744726,
          1792.968793458003,
          1793.8654571695417,
          1823.3435843412772,
          1821.1569935846157,
          1795.480582023266,
          1809.901311666929,
          1871.556888100815,
          1910.126795683933,
          1872.305623156955,
          1865.7643344673272,
          1850.898505666219,
          1859.6177669010567,
          1910.8909610174549,
          1892.2566187075502,
          1918.933177783335,
          2014.2903912171234,
          2102.369055089288,
          2093.139412824042,
          2119.6784875714325,
          2076.046700153497,
          2104.6828176998265,
          1938.799331289677,
          1943.069171432139,
          1849.0486247476658,
          1874.928555509198,
          1862.7816474499339,
          1842.4043487790382,
          1867.0707613772727,
          1865.577776689658,
          1909.9358021037226,
          1893.202936261489,
          1909.1720187382693,
          1870.9955333090852,
          1831.3835691158201,
          1870.6213903248067,
          1904.5957284488557,
          1876.9920084403889,
          1993.6507089805657,
          1900.6004736642303,
          1873.8039920059173,
          1849.7883551478787,
          1848.3091901656544,
          1842.2201267663613,
          1796.5581397304795,
          1807.9116142415107,
          1796.3785018802917,
          1799.9746740519474,
          1817.7002530742855,
          1824.4378640298894,
          1822.614429205439,
          1801.9556364765301,
          1812.6180648545583,
          1821.3391092839738,
          1804.660462804799,
          1818.791145917525,
          1854.4183796576672,
          1800.8748414044412,
          1806.8272468331845,
          1829.1873366456916,
          1831.0173473361795,
          1909.3629359401434,
          1893.0136348979993,
          1900.7905337115963,
          1874.3661894195127
         ],
         "showlegend": false,
         "text": [
          "Change: 0.35%",
          "Change: 1.17%",
          "Change: 0.06%",
          "Change: 3.42%",
          "Change: -0.46%",
          "Change: 1.53%",
          "Change: -0.48%",
          "Change: 2.00%",
          "Change: 2.54%",
          "Change: 1.14%",
          "Change: 3.94%",
          "Change: 2.07%",
          "Change: 2.37%",
          "Change: 6.88%",
          "Change: 0.13%",
          "Change: 1.55%",
          "Change: -0.71%",
          "Change: -3.40%",
          "Change: 2.64%",
          "Change: 6.94%",
          "Change: -2.04%",
          "Change: 0.11%",
          "Change: -0.05%",
          "Change: -4.40%",
          "Change: 3.58%",
          "Change: -0.52%",
          "Change: -0.31%",
          "Change: -1.53%",
          "Change: 4.68%",
          "Change: -4.85%",
          "Change: 1.26%",
          "Change: 3.54%",
          "Change: 0.09%",
          "Change: 1.23%",
          "Change: 0.08%",
          "Change: -2.19%",
          "Change: -0.91%",
          "Change: 3.53%",
          "Change: -1.30%",
          "Change: -6.34%",
          "Change: -2.08%",
          "Change: 1.67%",
          "Change: -1.52%",
          "Change: -0.54%",
          "Change: 3.26%",
          "Change: 7.65%",
          "Change: -2.14%",
          "Change: 3.39%",
          "Change: -0.13%",
          "Change: -0.64%",
          "Change: 1.32%",
          "Change: -2.58%",
          "Change: -0.99%",
          "Change: 0.41%",
          "Change: -2.59%",
          "Change: -0.75%",
          "Change: 2.87%",
          "Change: -0.42%",
          "Change: -1.80%",
          "Change: 3.75%",
          "Change: -1.04%",
          "Change: -4.78%",
          "Change: -0.16%",
          "Change: -0.09%",
          "Change: 0.06%",
          "Change: -0.26%",
          "Change: -1.80%",
          "Change: -6.23%",
          "Change: -0.35%",
          "Change: 6.95%",
          "Change: 4.52%",
          "Change: 4.94%",
          "Change: 1.58%",
          "Change: -3.01%",
          "Change: 1.37%",
          "Change: 6.81%",
          "Change: -1.61%",
          "Change: 1.31%",
          "Change: -2.63%",
          "Change: 3.91%",
          "Change: -3.77%",
          "Change: 4.53%",
          "Change: -3.67%",
          "Change: -0.45%",
          "Change: 1.85%",
          "Change: -3.35%",
          "Change: 3.33%",
          "Change: 1.09%",
          "Change: 0.05%",
          "Change: 1.64%",
          "Change: -0.12%",
          "Change: -1.41%",
          "Change: 0.80%",
          "Change: 3.41%",
          "Change: 2.07%",
          "Change: -1.98%",
          "Change: -0.34%",
          "Change: -0.80%",
          "Change: 0.47%",
          "Change: 2.76%",
          "Change: -0.98%",
          "Change: 1.41%",
          "Change: 4.92%",
          "Change: 4.37%",
          "Change: -0.44%",
          "Change: 1.27%",
          "Change: -2.06%",
          "Change: 1.38%",
          "Change: -7.87%",
          "Change: 0.22%",
          "Change: -4.83%",
          "Change: 1.40%",
          "Change: -0.65%",
          "Change: -1.09%",
          "Change: 1.34%",
          "Change: -0.05%",
          "Change: 2.38%",
          "Change: -0.88%",
          "Change: 0.84%",
          "Change: -1.99%",
          "Change: -2.12%",
          "Change: 2.14%",
          "Change: 1.81%",
          "Change: -1.45%",
          "Change: 6.19%",
          "Change: -4.67%",
          "Change: -1.44%",
          "Change: -1.28%",
          "Change: -0.08%",
          "Change: -0.33%",
          "Change: -2.48%",
          "Change: 0.64%",
          "Change: -0.64%",
          "Change: 0.20%",
          "Change: 0.98%",
          "Change: 0.37%",
          "Change: -0.11%",
          "Change: -1.13%",
          "Change: 0.59%",
          "Change: 0.39%",
          "Change: -0.92%",
          "Change: 0.78%",
          "Change: 1.96%",
          "Change: -2.89%",
          "Change: 0.33%",
          "Change: 1.24%",
          "Change: 0.12%",
          "Change: 4.28%",
          "Change: -0.86%",
          "Change: 0.41%",
          "Change: -1.39%",
          "Change: -0.68%"
         ],
         "type": "candlestick",
         "x": [
          "2023-01-01T00:00:00",
          "2023-01-02T00:00:00",
          "2023-01-03T00:00:00",
          "2023-01-04T00:00:00",
          "2023-01-05T00:00:00",
          "2023-01-06T00:00:00",
          "2023-01-07T00:00:00",
          "2023-01-08T00:00:00",
          "2023-01-09T00:00:00",
          "2023-01-10T00:00:00",
          "2023-01-11T00:00:00",
          "2023-01-12T00:00:00",
          "2023-01-13T00:00:00",
          "2023-01-14T00:00:00",
          "2023-01-15T00:00:00",
          "2023-01-16T00:00:00",
          "2023-01-17T00:00:00",
          "2023-01-18T00:00:00",
          "2023-01-19T00:00:00",
          "2023-01-20T00:00:00",
          "2023-01-21T00:00:00",
          "2023-01-22T00:00:00",
          "2023-01-23T00:00:00",
          "2023-01-24T00:00:00",
          "2023-01-25T00:00:00",
          "2023-01-26T00:00:00",
          "2023-01-27T00:00:00",
          "2023-01-28T00:00:00",
          "2023-01-29T00:00:00",
          "2023-01-30T00:00:00",
          "2023-01-31T00:00:00",
          "2023-02-01T00:00:00",
          "2023-02-02T00:00:00",
          "2023-02-03T00:00:00",
          "2023-02-04T00:00:00",
          "2023-02-05T00:00:00",
          "2023-02-06T00:00:00",
          "2023-02-07T00:00:00",
          "2023-02-08T00:00:00",
          "2023-02-09T00:00:00",
          "2023-02-10T00:00:00",
          "2023-02-11T00:00:00",
          "2023-02-12T00:00:00",
          "2023-02-13T00:00:00",
          "2023-02-14T00:00:00",
          "2023-02-15T00:00:00",
          "2023-02-16T00:00:00",
          "2023-02-17T00:00:00",
          "2023-02-18T00:00:00",
          "2023-02-19T00:00:00",
          "2023-02-20T00:00:00",
          "2023-02-21T00:00:00",
          "2023-02-22T00:00:00",
          "2023-02-23T00:00:00",
          "2023-02-24T00:00:00",
          "2023-02-25T00:00:00",
          "2023-02-26T00:00:00",
          "2023-02-27T00:00:00",
          "2023-02-28T00:00:00",
          "2023-03-01T00:00:00",
          "2023-03-02T00:00:00",
          "2023-03-03T00:00:00",
          "2023-03-04T00:00:00",
          "2023-03-05T00:00:00",
          "2023-03-06T00:00:00",
          "2023-03-07T00:00:00",
          "2023-03-08T00:00:00",
          "2023-03-09T00:00:00",
          "2023-03-10T00:00:00",
          "2023-03-11T00:00:00",
          "2023-03-12T00:00:00",
          "2023-03-13T00:00:00",
          "2023-03-14T00:00:00",
          "2023-03-15T00:00:00",
          "2023-03-16T00:00:00",
          "2023-03-17T00:00:00",
          "2023-03-18T00:00:00",
          "2023-03-19T00:00:00",
          "2023-03-20T00:00:00",
          "2023-03-21T00:00:00",
          "2023-03-22T00:00:00",
          "2023-03-23T00:00:00",
          "2023-03-24T00:00:00",
          "2023-03-25T00:00:00",
          "2023-03-26T00:00:00",
          "2023-03-27T00:00:00",
          "2023-03-28T00:00:00",
          "2023-03-29T00:00:00",
          "2023-03-30T00:00:00",
          "2023-03-31T00:00:00",
          "2023-04-01T00:00:00",
          "2023-04-02T00:00:00",
          "2023-04-03T00:00:00",
          "2023-04-04T00:00:00",
          "2023-04-05T00:00:00",
          "2023-04-06T00:00:00",
          "2023-04-07T00:00:00",
          "2023-04-08T00:00:00",
          "2023-04-09T00:00:00",
          "2023-04-10T00:00:00",
          "2023-04-11T00:00:00",
          "2023-04-12T00:00:00",
          "2023-04-13T00:00:00",
          "2023-04-14T00:00:00",
          "2023-04-15T00:00:00",
          "2023-04-16T00:00:00",
          "2023-04-17T00:00:00",
          "2023-04-18T00:00:00",
          "2023-04-19T00:00:00",
          "2023-04-20T00:00:00",
          "2023-04-21T00:00:00",
          "2023-04-22T00:00:00",
          "2023-04-23T00:00:00",
          "2023-04-24T00:00:00",
          "2023-04-25T00:00:00",
          "2023-04-26T00:00:00",
          "2023-04-27T00:00:00",
          "2023-04-28T00:00:00",
          "2023-04-29T00:00:00",
          "2023-04-30T00:00:00",
          "2023-05-01T00:00:00",
          "2023-05-02T00:00:00",
          "2023-05-03T00:00:00",
          "2023-05-04T00:00:00",
          "2023-05-05T00:00:00",
          "2023-05-06T00:00:00",
          "2023-05-07T00:00:00",
          "2023-05-08T00:00:00",
          "2023-05-09T00:00:00",
          "2023-05-10T00:00:00",
          "2023-05-11T00:00:00",
          "2023-05-12T00:00:00",
          "2023-05-13T00:00:00",
          "2023-05-14T00:00:00",
          "2023-05-15T00:00:00",
          "2023-05-16T00:00:00",
          "2023-05-17T00:00:00",
          "2023-05-18T00:00:00",
          "2023-05-19T00:00:00",
          "2023-05-20T00:00:00",
          "2023-05-21T00:00:00",
          "2023-05-22T00:00:00",
          "2023-05-23T00:00:00",
          "2023-05-24T00:00:00",
          "2023-05-25T00:00:00",
          "2023-05-26T00:00:00",
          "2023-05-27T00:00:00",
          "2023-05-28T00:00:00",
          "2023-05-29T00:00:00",
          "2023-05-30T00:00:00",
          "2023-05-31T00:00:00",
          "2023-06-01T00:00:00"
         ],
         "xaxis": "x",
         "yaxis": "y"
        },
        {
         "line": {
          "color": "darkblue",
          "shape": "linear"
         },
         "mode": "lines",
         "name": "BB upper",
         "type": "scatter",
         "x": [
          "2023-01-01T00:00:00",
          "2023-01-02T00:00:00",
          "2023-01-03T00:00:00",
          "2023-01-04T00:00:00",
          "2023-01-05T00:00:00",
          "2023-01-06T00:00:00",
          "2023-01-07T00:00:00",
          "2023-01-08T00:00:00",
          "2023-01-09T00:00:00",
          "2023-01-10T00:00:00",
          "2023-01-11T00:00:00",
          "2023-01-12T00:00:00",
          "2023-01-13T00:00:00",
          "2023-01-14T00:00:00",
          "2023-01-15T00:00:00",
          "2023-01-16T00:00:00",
          "2023-01-17T00:00:00",
          "2023-01-18T00:00:00",
          "2023-01-19T00:00:00",
          "2023-01-20T00:00:00",
          "2023-01-21T00:00:00",
          "2023-01-22T00:00:00",
          "2023-01-23T00:00:00",
          "2023-01-24T00:00:00",
          "2023-01-25T00:00:00",
          "2023-01-26T00:00:00",
          "2023-01-27T00:00:00",
          "2023-01-28T00:00:00",
          "2023-01-29T00:00:00",
          "2023-01-30T00:00:00",
          "2023-01-31T00:00:00",
          "2023-02-01T00:00:00",
          "2023-02-02T00:00:00",
          "2023-02-03T00:00:00",
          "2023-02-04T00:00:00",
          "2023-02-05T00:00:00",
          "2023-02-06T00:00:00",
          "2023-02-07T00:00:00",
          "2023-02-08T00:00:00",
          "2023-02-09T00:00:00",
          "2023-02-10T00:00:00",
          "2023-02-11T00:00:00",
          "2023-02-12T00:00:00",
          "2023-02-13T00:00:00",
          "2023-02-14T00:00:00",
          "2023-02-15T00:00:00",
          "2023-02-16T00:00:00",
          "2023-02-17T00:00:00",
          "2023-02-18T00:00:00",
          "2023-02-19T00:00:00",
          "2023-02-20T00:00:00",
          "2023-02-21T00:00:00",
          "2023-02-22T00:00:00",
          "2023-02-23T00:00:00",
          "2023-02-24T00:00:00",
          "2023-02-25T00:00:00",
          "2023-02-26T00:00:00",
          "2023-02-27T00:00:00",
          "2023-02-28T00:00:00",
          "2023-03-01T00:00:00",
          "2023-03-02T00:00:00",
          "2023-03-03T00:00:00",
          "2023-03-04T00:00:00",
          "2023-03-05T00:00:00",
          "2023-03-06T00:00:00",
          "2023-03-07T00:00:00",
          "2023-03-08T00:00:00",
          "2023-03-09T00:00:00",
          "2023-03-10T00:00:00",
          "2023-03-11T00:00:00",
          "2023-03-12T00:00:00",
          "2023-03-13T00:00:00",
          "2023-03-14T00:00:00",
          "2023-03-15T00:00:00",
          "2023-03-16T00:00:00",
          "2023-03-17T00:00:00",
          "2023-03-18T00:00:00",
          "2023-03-19T00:00:00",
          "2023-03-20T00:00:00",
          "2023-03-21T00:00:00",
          "2023-03-22T00:00:00",
          "2023-03-23T00:00:00",
          "2023-03-24T00:00:00",
          "2023-03-25T00:00:00",
          "2023-03-26T00:00:00",
          "2023-03-27T00:00:00",
          "2023-03-28T00:00:00",
          "2023-03-29T00:00:00",
          "2023-03-30T00:00:00",
          "2023-03-31T00:00:00",
          "2023-04-01T00:00:00",
          "2023-04-02T00:00:00",
          "2023-04-03T00:00:00",
          "2023-04-04T00:00:00",
          "2023-04-05T00:00:00",
          "2023-04-06T00:00:00",
          "2023-04-07T00:00:00",
          "2023-04-08T00:00:00",
          "2023-04-09T00:00:00",
          "2023-04-10T00:00:00",
          "2023-04-11T00:00:00",
          "2023-04-12T00:00:00",
          "2023-04-13T00:00:00",
          "2023-04-14T00:00:00",
          "2023-04-15T00:00:00",
          "2023-04-16T00:00:00",
          "2023-04-17T00:00:00",
          "2023-04-18T00:00:00",
          "2023-04-19T00:00:00",
          "2023-04-20T00:00:00",
          "2023-04-21T00:00:00",
          "2023-04-22T00:00:00",
          "2023-04-23T00:00:00",
          "2023-04-24T00:00:00",
          "2023-04-25T00:00:00",
          "2023-04-26T00:00:00",
          "2023-04-27T00:00:00",
          "2023-04-28T00:00:00",
          "2023-04-29T00:00:00",
          "2023-04-30T00:00:00",
          "2023-05-01T00:00:00",
          "2023-05-02T00:00:00",
          "2023-05-03T00:00:00",
          "2023-05-04T00:00:00",
          "2023-05-05T00:00:00",
          "2023-05-06T00:00:00",
          "2023-05-07T00:00:00",
          "2023-05-08T00:00:00",
          "2023-05-09T00:00:00",
          "2023-05-10T00:00:00",
          "2023-05-11T00:00:00",
          "2023-05-12T00:00:00",
          "2023-05-13T00:00:00",
          "2023-05-14T00:00:00",
          "2023-05-15T00:00:00",
          "2023-05-16T00:00:00",
          "2023-05-17T00:00:00",
          "2023-05-18T00:00:00",
          "2023-05-19T00:00:00",
          "2023-05-20T00:00:00",
          "2023-05-21T00:00:00",
          "2023-05-22T00:00:00",
          "2023-05-23T00:00:00",
          "2023-05-24T00:00:00",
          "2023-05-25T00:00:00",
          "2023-05-26T00:00:00",
          "2023-05-27T00:00:00",
          "2023-05-28T00:00:00",
          "2023-05-29T00:00:00",
          "2023-05-30T00:00:00",
          "2023-05-31T00:00:00"
         ],
         "xaxis": "x",
         "y": [
          1294.6111120066598,
          1273.181953264751,
          1250.0402009079326,
          1246.7955886062155,
          1251.2210452496404,
          1261.3508636831532,
          1267.6064292834265,
          1276.7829150002065,
          1296.6638725026885,
          1316.695184824642,
          1348.5066664637234,
          1381.9690024096708,
          1418.3635483667003,
          1477.2041967383182,
          1524.2648329156436,
          1568.954072507176,
          1602.682942257783,
          1621.3494554341046,
          1643.0726714436232,
          1681.8733321404975,
          1706.1921988320837,
          1726.1207338057634,
          1740.0450929980273,
          1742.9447865193683,
          1748.0223355614671,
          1748.8879910524674,
          1742.012376784496,
          1729.5926351079981,
          1724.8373128086878,
          1705.3938950079828,
          1690.7880812126348,
          1681.6844525321462,
          1673.152314408033,
          1681.997230348466,
          1689.5970012541347,
          1691.8382600829268,
          1692.0611114719748,
          1690.819209028357,
          1690.1852460898979,
          1690.2736731945108,
          1697.453235095101,
          1698.3235195061193,
          1700.6145432889336,
          1704.7749235808747,
          1703.5270119871132,
          1712.5199836159038,
          1715.8820152252881,
          1727.9589914753742,
          1734.8119589784324,
          1742.5359181640501,
          1753.0905580904482,
          1754.7211765502489,
          1754.6945250777678,
          1753.1931499952534,
          1748.8159188784757,
          1747.4162182724974,
          1749.0746975008346,
          1745.1274810857753,
          1742.039834392593,
          1745.5909502182262,
          1742.4769269133685,
          1740.007991853762,
          1733.9875310731813,
          1725.2211534556645,
          1724.1154335954323,
          1721.8672228876956,
          1725.3591857358517,
          1735.8186140458756,
          1739.2796932791407,
          1729.1038263219525,
          1714.0814555976522,
          1717.6721447937891,
          1729.0295935064285,
          1729.7245664918655,
          1738.3524217387424,
          1772.1980447332066,
          1791.7357955283044,
          1814.9604526245885,
          1828.6257664810964,
          1850.418857331567,
          1859.9667036258777,
          1883.5864915666111,
          1893.7736980342543,
          1901.527892175624,
          1911.861146860026,
          1914.0260396081524,
          1918.1268685140533,
          1904.878684293869,
          1875.24244527815,
          1861.7643971677726,
          1855.680228858552,
          1855.8271890413002,
          1859.204783541586,
          1864.6585694934686,
          1880.909999523316,
          1891.6174873740579,
          1900.267231908818,
          1905.6123281073471,
          1909.9524223294627,
          1924.371051010338,
          1931.2265139756971,
          1944.065895605972,
          1977.148263230709,
          2029.3588778844737,
          2068.854054503519,
          2102.443743048774,
          2124.0503784901966,
          2148.563678931513,
          2147.544179116977,
          2147.6215788968093,
          2146.212648347968,
          2141.7945589770143,
          2138.531286656771,
          2139.7529233815485,
          2140.0329743232373,
          2140.184363654227,
          2139.8843368161874,
          2138.7707507701743,
          2137.9247969726857,
          2138.341405024332,
          2140.586430252185,
          2140.5398776178145,
          2132.934808875747,
          2107.67506137884,
          2088.9762624316154,
          2051.1120757775925,
          2019.154312713907,
          1962.497956525107,
          1955.6646128959842,
          1946.8975799475481,
          1951.7758461764547,
          1953.6085872647561,
          1956.4216627577598,
          1958.5248620824461,
          1958.3410775822754,
          1957.6989995260258,
          1951.9587858349569,
          1948.6568688005345,
          1941.5310285305197,
          1938.9981986635214,
          1939.1130413912122,
          1936.217896513813,
          1929.4342428923633,
          1925.1721453225655,
          1879.8240497600686,
          1864.0323013911939,
          1855.1181727205244,
          1874.0854335593615,
          1883.919983725654,
          1895.2332566206167,
          null
         ],
         "yaxis": "y"
        },
        {
         "line": {
          "color": "darkblue",
          "shape": "linear"
         },
         "mode": "lines",
         "name": "BB lower",
         "type": "scatter",
         "x": [
          "2023-01-01T00:00:00",
          "2023-01-02T00:00:00",
          "2023-01-03T00:00:00",
          "2023-01-04T00:00:00",
          "2023-01-05T00:00:00",
          "2023-01-06T00:00:00",
          "2023-01-07T00:00:00",
          "2023-01-08T00:00:00",
          "2023-01-09T00:00:00",
          "2023-01-10T00:00:00",
          "2023-01-11T00:00:00",
          "2023-01-12T00:00:00",
          "2023-01-13T00:00:00",
          "2023-01-14T00:00:00",
          "2023-01-15T00:00:00",
          "2023-01-16T00:00:00",
          "2023-01-17T00:00:00",
          "2023-01-18T00:00:00",
          "2023-01-19T00:00:00",
          "2023-01-20T00:00:00",
          "2023-01-21T00:00:00",
          "2023-01-22T00:00:00",
          "2023-01-23T00:00:00",
          "2023-01-24T00:00:00",
          "2023-01-25T00:00:00",
          "2023-01-26T00:00:00",
          "2023-01-27T00:00:00",
          "2023-01-28T00:00:00",
          "2023-01-29T00:00:00",
          "2023-01-30T00:00:00",
          "2023-01-31T00:00:00",
          "2023-02-01T00:00:00",
          "2023-02-02T00:00:00",
          "2023-02-03T00:00:00",
          "2023-02-04T00:00:00",
          "2023-02-05T00:00:00",
          "2023-02-06T00:00:00",
          "2023-02-07T00:00:00",
          "2023-02-08T00:00:00",
          "2023-02-09T00:00:00",
          "2023-02-10T00:00:00",
          "2023-02-11T00:00:00",
          "2023-02-12T00:00:00",
          "2023-02-13T00:00:00",
          "2023-02-14T00:00:00",
          "2023-02-15T00:00:00",
          "2023-02-16T00:00:00",
          "2023-02-17T00:00:00",
          "2023-02-18T00:00:00",
          "2023-02-19T00:00:00",
          "2023-02-20T00:00:00",
          "2023-02-21T00:00:00",
          "2023-02-22T00:00:00",
          "2023-02-23T00:00:00",
          "2023-02-24T00:00:00",
          "2023-02-25T00:00:00",
          "2023-02-26T00:00:00",
          "2023-02-27T00:00:00",
          "2023-02-28T00:00:00",
          "2023-03-01T00:00:00",
          "2023-03-02T00:00:00",
          "2023-03-03T00:00:00",
          "2023-03-04T00:00:00",
          "2023-03-05T00:00:00",
          "2023-03-06T00:00:00",
          "2023-03-07T00:00:00",
          "2023-03-08T00:00:00",
          "2023-03-09T00:00:00",
          "2023-03-10T00:00:00",
          "2023-03-11T00:00:00",
          "2023-03-12T00:00:00",
          "2023-03-13T00:00:00",
          "2023-03-14T00:00:00",
          "2023-03-15T00:00:00",
          "2023-03-16T00:00:00",
          "2023-03-17T00:00:00",
          "2023-03-18T00:00:00",
          "2023-03-19T00:00:00",
          "2023-03-20T00:00:00",
          "2023-03-21T00:00:00",
          "2023-03-22T00:00:00",
          "2023-03-23T00:00:00",
          "2023-03-24T00:00:00",
          "2023-03-25T00:00:00",
          "2023-03-26T00:00:00",
          "2023-03-27T00:00:00",
          "2023-03-28T00:00:00",
          "2023-03-29T00:00:00",
          "2023-03-30T00:00:00",
          "2023-03-31T00:00:00",
          "2023-04-01T00:00:00",
          "2023-04-02T00:00:00",
          "2023-04-03T00:00:00",
          "2023-04-04T00:00:00",
          "2023-04-05T00:00:00",
          "2023-04-06T00:00:00",
          "2023-04-07T00:00:00",
          "2023-04-08T00:00:00",
          "2023-04-09T00:00:00",
          "2023-04-10T00:00:00",
          "2023-04-11T00:00:00",
          "2023-04-12T00:00:00",
          "2023-04-13T00:00:00",
          "2023-04-14T00:00:00",
          "2023-04-15T00:00:00",
          "2023-04-16T00:00:00",
          "2023-04-17T00:00:00",
          "2023-04-18T00:00:00",
          "2023-04-19T00:00:00",
          "2023-04-20T00:00:00",
          "2023-04-21T00:00:00",
          "2023-04-22T00:00:00",
          "2023-04-23T00:00:00",
          "2023-04-24T00:00:00",
          "2023-04-25T00:00:00",
          "2023-04-26T00:00:00",
          "2023-04-27T00:00:00",
          "2023-04-28T00:00:00",
          "2023-04-29T00:00:00",
          "2023-04-30T00:00:00",
          "2023-05-01T00:00:00",
          "2023-05-02T00:00:00",
          "2023-05-03T00:00:00",
          "2023-05-04T00:00:00",
          "2023-05-05T00:00:00",
          "2023-05-06T00:00:00",
          "2023-05-07T00:00:00",
          "2023-05-08T00:00:00",
          "2023-05-09T00:00:00",
          "2023-05-10T00:00:00",
          "2023-05-11T00:00:00",
          "2023-05-12T00:00:00",
          "2023-05-13T00:00:00",
          "2023-05-14T00:00:00",
          "2023-05-15T00:00:00",
          "2023-05-16T00:00:00",
          "2023-05-17T00:00:00",
          "2023-05-18T00:00:00",
          "2023-05-19T00:00:00",
          "2023-05-20T00:00:00",
          "2023-05-21T00:00:00",
          "2023-05-22T00:00:00",
          "2023-05-23T00:00:00",
          "2023-05-24T00:00:00",
          "2023-05-25T00:00:00",
          "2023-05-26T00:00:00",
          "2023-05-27T00:00:00",
          "2023-05-28T00:00:00",
          "2023-05-29T00:00:00",
          "2023-05-30T00:00:00",
          "2023-05-31T00:00:00"
         ],
         "xaxis": "x",
         "y": [
          1138.497752467607,
          1149.2796112954975,
          1163.0818926483753,
          1165.279887298815,
          1169.095217063296,
          1167.1196331526442,
          1168.8956824028749,
          1171.827572955856,
          1162.3349494589027,
          1154.5189940667703,
          1139.8274242844477,
          1126.1046678521643,
          1112.6950625977943,
          1087.0826537218238,
          1072.4980630721025,
          1064.316164314488,
          1068.1166154962912,
          1080.5798972790062,
          1094.173589254979,
          1101.8080735175386,
          1120.121270386438,
          1141.620443052302,
          1168.9695876976787,
          1196.0349955334618,
          1227.055248338212,
          1259.5246718796711,
          1299.8597477966825,
          1340.7716423059262,
          1378.0845007076887,
          1420.59587921013,
          1454.9830116242204,
          1486.6094869876083,
          1514.4571620072265,
          1517.0537472378082,
          1520.8270311463193,
          1523.907718690953,
          1528.6458425992612,
          1545.8579666751175,
          1556.3031804708046,
          1544.7932086554563,
          1526.3644210311234,
          1516.5828331398675,
          1503.125599158422,
          1494.1270112927323,
          1489.8963345127793,
          1488.1624830995386,
          1488.9759971326114,
          1489.0671811133207,
          1486.822189877395,
          1490.641362502863,
          1491.843177745945,
          1491.9627075401918,
          1491.9564857575876,
          1491.9992323972638,
          1490.4527947355236,
          1488.3699767638716,
          1489.2834436857443,
          1489.4293034213238,
          1487.944747669169,
          1496.3304765628623,
          1512.8540671701185,
          1518.3215121608685,
          1529.4416346645203,
          1543.9979107121712,
          1546.07145509834,
          1536.978712487424,
          1522.908667487164,
          1486.7548441705567,
          1457.2884975624338,
          1452.4666474721907,
          1457.2306020863607,
          1455.6437299727088,
          1450.6346764628036,
          1450.4355218677465,
          1448.918524093733,
          1434.8152200762074,
          1427.5614685756248,
          1419.616031710681,
          1419.469469243878,
          1411.957559017537,
          1411.5852767705076,
          1412.8968157634458,
          1421.20241078858,
          1431.2956361114034,
          1441.9356277948878,
          1455.1979336684442,
          1475.0630098493637,
          1523.8036788511336,
          1589.5531356475005,
          1632.1645336767133,
          1660.2403828734944,
          1671.64446266722,
          1678.5505466077611,
          1694.7233560268076,
          1701.6913744975045,
          1698.9713479244406,
          1700.5537950512555,
          1701.6280809727325,
          1709.2864411249195,
          1705.1838244300504,
          1713.6254884659031,
          1710.8730434837717,
          1703.9862994170542,
          1687.6661465240154,
          1679.9187176429255,
          1686.6833245906082,
          1695.3458401672178,
          1702.0039421500837,
          1717.5362173699461,
          1729.4313762991997,
          1733.647960450594,
          1746.0108471701408,
          1754.5621530686835,
          1750.4252624117294,
          1745.8205067714177,
          1745.0523057239182,
          1749.750821682253,
          1755.0948507877933,
          1760.8962297690025,
          1756.5087889018534,
          1748.1764587148275,
          1743.3918326033452,
          1740.1090753279595,
          1742.8311181599768,
          1751.5411796888288,
          1767.4975649521311,
          1779.1748543222493,
          1810.3417642558543,
          1808.1067057792625,
          1806.7888342611202,
          1796.6430290442486,
          1788.1266729453203,
          1778.6732828953518,
          1772.3271160979564,
          1767.5738497678285,
          1764.0459636278808,
          1761.035815707262,
          1755.2130027631874,
          1752.6834476448319,
          1750.0680865643674,
          1747.2809332055738,
          1744.993053642245,
          1746.7780164374558,
          1743.4283973036581,
          1770.1340136854424,
          1778.7844483524627,
          1783.5127376129326,
          1770.502934853322,
          1765.1388291602632,
          1759.6825969598242,
          null
         ],
         "yaxis": "y"
        },
        {
         "line": {
          "color": "darkgreen",
          "shape": "linear"
         },
         "mode": "lines",
         "name": "EMA",
         "type": "scatter",
         "x": [
          "2023-01-01T00:00:00",
          "2023-01-02T00:00:00",
          "2023-01-03T00:00:00",
          "2023-01-04T00:00:00",
          "2023-01-05T00:00:00",
          "2023-01-06T00:00:00",
          "2023-01-07T00:00:00",
          "2023-01-08T00:00:00",
          "2023-01-09T00:00:00",
          "2023-01-10T00:00:00",
          "2023-01-11T00:00:00",
          "2023-01-12T00:00:00",
          "2023-01-13T00:00:00",
          "2023-01-14T00:00:00",
          "2023-01-15T00:00:00",
          "2023-01-16T00:00:00",
          "2023-01-17T00:00:00",
          "2023-01-18T00:00:00",
          "2023-01-19T00:00:00",
          "2023-01-20T00:00:00",
          "2023-01-21T00:00:00",
          "2023-01-22T00:00:00",
          "2023-01-23T00:00:00",
          "2023-01-24T00:00:00",
          "2023-01-25T00:00:00",
          "2023-01-26T00:00:00",
          "2023-01-27T00:00:00",
          "2023-01-28T00:00:00",
          "2023-01-29T00:00:00",
          "2023-01-30T00:00:00",
          "2023-01-31T00:00:00",
          "2023-02-01T00:00:00",
          "2023-02-02T00:00:00",
          "2023-02-03T00:00:00",
          "2023-02-04T00:00:00",
          "2023-02-05T00:00:00",
          "2023-02-06T00:00:00",
          "2023-02-07T00:00:00",
          "2023-02-08T00:00:00",
          "2023-02-09T00:00:00",
          "2023-02-10T00:00:00",
          "2023-02-11T00:00:00",
          "2023-02-12T00:00:00",
          "2023-02-13T00:00:00",
          "2023-02-14T00:00:00",
          "2023-02-15T00:00:00",
          "2023-02-16T00:00:00",
          "2023-02-17T00:00:00",
          "2023-02-18T00:00:00",
          "2023-02-19T00:00:00",
          "2023-02-20T00:00:00",
          "2023-02-21T00:00:00",
          "2023-02-22T00:00:00",
          "2023-02-23T00:00:00",
          "2023-02-24T00:00:00",
          "2023-02-25T00:00:00",
          "2023-02-26T00:00:00",
          "2023-02-27T00:00:00",
          "2023-02-28T00:00:00",
          "2023-03-01T00:00:00",
          "2023-03-02T00:00:00",
          "2023-03-03T00:00:00",
          "2023-03-04T00:00:00",
          "2023-03-05T00:00:00",
          "2023-03-06T00:00:00",
          "2023-03-07T00:00:00",
          "2023-03-08T00:00:00",
          "2023-03-09T00:00:00",
          "2023-03-10T00:00:00",
          "2023-03-11T00:00:00",
          "2023-03-12T00:00:00",
          "2023-03-13T00:00:00",
          "2023-03-14T00:00:00",
          "2023-03-15T00:00:00",
          "2023-03-16T00:00:00",
          "2023-03-17T00:00:00",
          "2023-03-18T00:00:00",
          "2023-03-19T00:00:00",
          "2023-03-20T00:00:00",
          "2023-03-21T00:00:00",
          "2023-03-22T00:00:00",
          "2023-03-23T00:00:00",
          "2023-03-24T00:00:00",
          "2023-03-25T00:00:00",
          "2023-03-26T00:00:00",
          "2023-03-27T00:00:00",
          "2023-03-28T00:00:00",
          "2023-03-29T00:00:00",
          "2023-03-30T00:00:00",
          "2023-03-31T00:00:00",
          "2023-04-01T00:00:00",
          "2023-04-02T00:00:00",
          "2023-04-03T00:00:00",
          "2023-04-04T00:00:00",
          "2023-04-05T00:00:00",
          "2023-04-06T00:00:00",
          "2023-04-07T00:00:00",
          "2023-04-08T00:00:00",
          "2023-04-09T00:00:00",
          "2023-04-10T00:00:00",
          "2023-04-11T00:00:00",
          "2023-04-12T00:00:00",
          "2023-04-13T00:00:00",
          "2023-04-14T00:00:00",
          "2023-04-15T00:00:00",
          "2023-04-16T00:00:00",
          "2023-04-17T00:00:00",
          "2023-04-18T00:00:00",
          "2023-04-19T00:00:00",
          "2023-04-20T00:00:00",
          "2023-04-21T00:00:00",
          "2023-04-22T00:00:00",
          "2023-04-23T00:00:00",
          "2023-04-24T00:00:00",
          "2023-04-25T00:00:00",
          "2023-04-26T00:00:00",
          "2023-04-27T00:00:00",
          "2023-04-28T00:00:00",
          "2023-04-29T00:00:00",
          "2023-04-30T00:00:00",
          "2023-05-01T00:00:00",
          "2023-05-02T00:00:00",
          "2023-05-03T00:00:00",
          "2023-05-04T00:00:00",
          "2023-05-05T00:00:00",
          "2023-05-06T00:00:00",
          "2023-05-07T00:00:00",
          "2023-05-08T00:00:00",
          "2023-05-09T00:00:00",
          "2023-05-10T00:00:00",
          "2023-05-11T00:00:00",
          "2023-05-12T00:00:00",
          "2023-05-13T00:00:00",
          "2023-05-14T00:00:00",
          "2023-05-15T00:00:00",
          "2023-05-16T00:00:00",
          "2023-05-17T00:00:00",
          "2023-05-18T00:00:00",
          "2023-05-19T00:00:00",
          "2023-05-20T00:00:00",
          "2023-05-21T00:00:00",
          "2023-05-22T00:00:00",
          "2023-05-23T00:00:00",
          "2023-05-24T00:00:00",
          "2023-05-25T00:00:00",
          "2023-05-26T00:00:00",
          "2023-05-27T00:00:00",
          "2023-05-28T00:00:00",
          "2023-05-29T00:00:00",
          "2023-05-30T00:00:00",
          "2023-05-31T00:00:00"
         ],
         "xaxis": "x",
         "y": [
          1215.272970737889,
          1215.1102520905079,
          1215.0279798148174,
          1218.9013630567213,
          1221.8609743329994,
          1226.3739328644826,
          1229.864301812696,
          1235.4316873201697,
          1243.5900768179356,
          1252.3761522043637,
          1265.3361160037355,
          1279.800488438851,
          1296.0801252215401,
          1320.310175224663,
          1342.4272699777512,
          1364.734560115243,
          1383.8669418554089,
          1396.117057535817,
          1410.984388823048,
          1434.6937267209976,
          1452.921058577165,
          1469.6002157926666,
          1484.6067586537972,
          1491.3596438406782,
          1502.7637019510175,
          1512.2833584679245,
          1520.4190405695242,
          1525.4539675129372,
          1537.0021398433378,
          1539.8164218223387,
          1544.2386275122142,
          1553.5852157948705,
          1562.1750806482225,
          1571.9468192197364,
          1580.9152571829784,
          1585.5600885168844,
          1588.3665464739593,
          1596.3285679778205,
          1601.4485296860253,
          1596.1185581775826,
          1588.2380496049161,
          1583.524498315363,
          1577.0324110123315,
          1570.3675868925698,
          1569.020566086016,
          1579.139823363386,
          1584.883797470494,
          1595.3682894554086,
          1604.6480214943788,
          1612.0177585388692,
          1620.7641008786488,
          1624.4939361998324,
          1626.3115020403247,
          1628.6013866301944,
          1626.551688072634,
          1623.5532283589623,
          1625.2017592707411,
          1626.0369248823622,
          1623.9803748087809,
          1627.8797135951343,
          1629.7502640144883,
          1623.9418740060496,
          1618.4608373166502,
          1613.3684231468299,
          1608.8493157426037,
          1604.3756372962896,
          1597.6439976409247,
          1582.4437202818747,
          1568.184973226763,
          1564.7391202904348,
          1568.2137759496877,
          1578.8526719195988,
          1591.0588238016148,
          1597.1714400318465,
          1604.8810778269358,
          1622.7415633642165,
          1636.1588332343813,
          1650.495966552456,
          1658.9815780404801,
          1673.1445269818678,
          1679.4382168934198,
          1692.634662266823,
          1698.2178726536004,
          1702.5175264473182,
          1709.4750371498383,
          1710.1018957232127,
          1716.1215469405322,
          1723.4391760032108,
          1730.1450873425626,
          1739.0170457512181,
          1746.8390114507636,
          1751.4717814647092,
          1757.038526900739,
          1767.9499028193054,
          1781.5128923724512,
          1790.1649879522233,
          1797.3897874732654,
          1802.4942492941136,
          1807.93971316151,
          1817.753746967244,
          1824.8562164459706,
          1833.8201318051908,
          1850.9154813011528,
          1874.8624869618247,
          1895.650159732075,
          1916.9864775371007,
          1932.1366975530998,
          1948.5715842630584,
          1947.6610574239758,
          1947.225265801623,
          1937.896608335904,
          1931.9019267640165,
          1925.3219291846613,
          1917.4310068821133,
          1912.6360395284742,
          1908.2041152208249,
          1908.3675515143004,
          1906.9208265520685,
          1907.1300384140002,
          1903.7055634753813,
          1896.8155515822605,
          1894.3184281326846,
          1895.2773191408528,
          1893.5328679983368,
          1903.0285920602669,
          1902.7978903710336,
          1899.9822291580688,
          1895.1988650233664,
          1890.7322171664446,
          1886.1131181985468,
          1877.5878570196612,
          1870.975688478133,
          1863.8789252875692,
          1857.801191577675,
          1853.9884231154483,
          1851.1752661405305,
          1848.4413001045634,
          1844.0185141708027,
          1841.0316236963001,
          1838.9990332388506,
          1835.7231405299963,
          1834.1033348292115,
          1836.0305827291081,
          1832.6769899218134,
          1830.210731215037,
          1830.105049954189,
          1830.2185568700163,
          1837.747755601464,
          1843.0067372579504,
          1848.5005702012945,
          null
         ],
         "yaxis": "y"
        },
        {
         "line": {
          "shape": "linear"
         },
         "mode": "lines",
         "name": "RSI",
         "type": "scatter",
         "x": [
          "2023-01-01T00:00:00",
          "2023-01-02T00:00:00",
          "2023-01-03T00:00:00",
          "2023-01-04T00:00:00",
          "2023-01-05T00:00:00",
          "2023-01-06T00:00:00",
          "2023-01-07T00:00:00",
          "2023-01-08T00:00:00",
          "2023-01-09T00:00:00",
          "2023-01-10T00:00:00",
          "2023-01-11T00:00:00",
          "2023-01-12T00:00:00",
          "2023-01-13T00:00:00",
          "2023-01-14T00:00:00",
          "2023-01-15T00:00:00",
          "2023-01-16T00:00:00",
          "2023-01-17T00:00:00",
          "2023-01-18T00:00:00",
          "2023-01-19T00:00:00",
          "2023-01-20T00:00:00",
          "2023-01-21T00:00:00",
          "2023-01-22T00:00:00",
          "2023-01-23T00:00:00",
          "2023-01-24T00:00:00",
          "2023-01-25T00:00:00",
          "2023-01-26T00:00:00",
          "2023-01-27T00:00:00",
          "2023-01-28T00:00:00",
          "2023-01-29T00:00:00",
          "2023-01-30T00:00:00",
          "2023-01-31T00:00:00",
          "2023-02-01T00:00:00",
          "2023-02-02T00:00:00",
          "2023-02-03T00:00:00",
          "2023-02-04T00:00:00",
          "2023-02-05T00:00:00",
          "2023-02-06T00:00:00",
          "2023-02-07T00:00:00",
          "2023-02-08T00:00:00",
          "2023-02-09T00:00:00",
          "2023-02-10T00:00:00",
          "2023-02-11T00:00:00",
          "2023-02-12T00:00:00",
          "2023-02-13T00:00:00",
          "2023-02-14T00:00:00",
          "2023-02-15T00:00:00",
          "2023-02-16T00:00:00",
          "2023-02-17T00:00:00",
          "2023-02-18T00:00:00",
          "2023-02-19T00:00:00",
          "2023-02-20T00:00:00",
          "2023-02-21T00:00:00",
          "2023-02-22T00:00:00",
          "2023-02-23T00:00:00",
          "2023-02-24T00:00:00",
          "2023-02-25T00:00:00",
          "2023-02-26T00:00:00",
          "2023-02-27T00:00:00",
          "2023-02-28T00:00:00",
          "2023-03-01T00:00:00",
          "2023-03-02T00:00:00",
          "2023-03-03T00:00:00",
          "2023-03-04T00:00:00",
          "2023-03-05T00:00:00",
          "2023-03-06T00:00:00",
          "2023-03-07T00:00:00",
          "2023-03-08T00:00:00",
          "2023-03-09T00:00:00",
          "2023-03-10T00:00:00",
          "2023-03-11T00:00:00",
          "2023-03-12T00:00:00",
          "2023-03-13T00:00:00",
          "2023-03-14T00:00:00",
          "2023-03-15T00:00:00",
          "2023-03-16T00:00:00",
          "2023-03-17T00:00:00",
          "2023-03-18T00:00:00",
          "2023-03-19T00:00:00",
          "2023-03-20T00:00:00",
          "2023-03-21T00:00:00",
          "2023-03-22T00:00:00",
          "2023-03-23T00:00:00",
          "2023-03-24T00:00:00",
          "2023-03-25T00:00:00",
          "2023-03-26T00:00:00",
          "2023-03-27T00:00:00",
          "2023-03-28T00:00:00",
          "2023-03-29T00:00:00",
          "2023-03-30T00:00:00",
          "2023-03-31T00:00:00",
          "2023-04-01T00:00:00",
          "2023-04-02T00:00:00",
          "2023-04-03T00:00:00",
          "2023-04-04T00:00:00",
          "2023-04-05T00:00:00",
          "2023-04-06T00:00:00",
          "2023-04-07T00:00:00",
          "2023-04-08T00:00:00",
          "2023-04-09T00:00:00",
          "2023-04-10T00:00:00",
          "2023-04-11T00:00:00",
          "2023-04-12T00:00:00",
          "2023-04-13T00:00:00",
          "2023-04-14T00:00:00",
          "2023-04-15T00:00:00",
          "2023-04-16T00:00:00",
          "2023-04-17T00:00:00",
          "2023-04-18T00:00:00",
          "2023-04-19T00:00:00",
          "2023-04-20T00:00:00",
          "2023-04-21T00:00:00",
          "2023-04-22T00:00:00",
          "2023-04-23T00:00:00",
          "2023-04-24T00:00:00",
          "2023-04-25T00:00:00",
          "2023-04-26T00:00:00",
          "2023-04-27T00:00:00",
          "2023-04-28T00:00:00",
          "2023-04-29T00:00:00",
          "2023-04-30T00:00:00",
          "2023-05-01T00:00:00",
          "2023-05-02T00:00:00",
          "2023-05-03T00:00:00",
          "2023-05-04T00:00:00",
          "2023-05-05T00:00:00",
          "2023-05-06T00:00:00",
          "2023-05-07T00:00:00",
          "2023-05-08T00:00:00",
          "2023-05-09T00:00:00",
          "2023-05-10T00:00:00",
          "2023-05-11T00:00:00",
          "2023-05-12T00:00:00",
          "2023-05-13T00:00:00",
          "2023-05-14T00:00:00",
          "2023-05-15T00:00:00",
          "2023-05-16T00:00:00",
          "2023-05-17T00:00:00",
          "2023-05-18T00:00:00",
          "2023-05-19T00:00:00",
          "2023-05-20T00:00:00",
          "2023-05-21T00:00:00",
          "2023-05-22T00:00:00",
          "2023-05-23T00:00:00",
          "2023-05-24T00:00:00",
          "2023-05-25T00:00:00",
          "2023-05-26T00:00:00",
          "2023-05-27T00:00:00",
          "2023-05-28T00:00:00",
          "2023-05-29T00:00:00",
          "2023-05-30T00:00:00",
          "2023-05-31T00:00:00"
         ],
         "xaxis": "x",
         "y": [
          44.97701032343383,
          48.20497708595765,
          48.37486905953352,
          57.01769415037942,
          55.63080162832317,
          59.215357555222155,
          57.61230607180265,
          62.14216909499173,
          67.0512229614248,
          69.00398451193855,
          74.74317764549976,
          77.23581528339133,
          79.73737024239044,
          85.01469951173512,
          85.10619157343457,
          86.12207820850205,
          83.31237311623903,
          71.34194243690813,
          74.31400416197235,
          80.2713466043145,
          74.43163895190793,
          74.5374612109484,
          74.37781474249245,
          62.4457498450511,
          66.88579352079189,
          65.62119969150753,
          64.84753172088129,
          61.008337271392726,
          67.28473934347176,
          56.583640332518236,
          58.3381757234692,
          62.92865665809352,
          63.047456111217976,
          64.74353841656178,
          64.85324869464132,
          59.465526453993654,
          57.41036331493752,
          62.83058393019021,
          59.68727460043967,
          47.404511325483824,
          44.387799324464716,
          47.24068244409199,
          44.946219073420004,
          44.13051281353175,
          49.95309808512068,
          60.642625807832204,
          56.717819897485164,
          60.95021389099495,
          60.70272739837842,
          59.397280030492496,
          61.20444365524451,
          55.80975114404943,
          53.904992335105824,
          54.5934376458969,
          49.48220398465954,
          48.14015253127632,
          53.34355629066107,
          52.478558931761754,
          48.87367300975227,
          55.61503490021334,
          53.44111233154659,
          44.84555715964189,
          44.61786955518843,
          44.46810609843394,
          44.60568808472989,
          44.108581196261646,
          40.78766898487195,
          31.975067612801485,
          31.567593856962805,
          45.5459180160961,
          52.78368139954436,
          59.40045389937233,
          61.41084346343084,
          55.76088431565386,
          57.6154567815228,
          65.43755398767435,
          62.319271763854026,
          63.80417022689208,
          58.70734831795309,
          63.27773081467326,
          56.507113006368925,
          61.599697397421956,
          55.654759455930105,
          54.98055224237957,
          57.26273484122287,
          52.01937674255641,
          56.17451942716306,
          57.53272789397559,
          57.597877941989466,
          59.7671329270398,
          59.52238709895712,
          56.608009150228824,
          57.85127879829451,
          62.781723846188655,
          65.51082516331839,
          60.80018407216199,
          60.02019739029506,
          58.12078334191971,
          58.92813254586552,
          63.40042437327557,
          60.80199643242431,
          63.12512992919595,
          69.91776093335744,
          74.66914265997343,
          73.37437503138867,
          74.73181938182815,
          68.5629929328795,
          70.2956450949034,
          52.28926070773392,
          52.61474780482009,
          45.0829074483434,
          47.30732113361283,
          46.359083331683124,
          44.71904449900945,
          47.14701794517406,
          47.0634377922653,
          51.44880667619251,
          49.74422163368385,
          51.40170069619488,
          47.41894197289848,
          43.600514912125774,
          48.03374927628775,
          51.56135675061648,
          48.67154516542685,
          59.137254902062544,
          50.334605833086925,
          48.0525878418446,
          46.129636228822086,
          46.016508416526,
          45.47318250934716,
          41.484521544792834,
          42.84978099283123,
          41.78660449286305,
          42.251923193516696,
          44.62426554254953,
          45.5539363367026,
          45.30047549655417,
          42.79605925058291,
          44.51825946063538,
          45.68196682477402,
          43.59060778825886,
          46.10065490648657,
          51.903068497152255,
          44.207164563559644,
          45.18353275614206,
          48.7908507404984,
          49.14729001243626,
          59.80886306071409,
          57.09708136395724,
          58.07173304069186,
          null
         ],
         "yaxis": "y2"
        },
        {
         "hoverinfo": "text",
         "hovertext": "Position #1<br><br>Stop loss triggered at: 1275.19 USD<br><br>Profit: -131.95 USD<br>Profit: 2.5723 %<br><br>Entry price: 1250.18 USD (mid price)<br>Entry price: 1249.56 USD (expected)<br>Entry price: 1249.56 USD (executed)<br>Entry slippage: 0.0000 %<br>Entry duration: 0:00:00<br><br>Exit price: 1282.47 USD (expected)<br>Exit price: 1282.47 USD (executed)<br>Exit slippage: 0.0000 %<br>Exit duration: 0:00:00<br>Avg buy price: 1282.47 USD<br>Avg sell price: 1249.56 USD<br><br>Duration: 2 days, 23:15:00<br>Started: 2023-01-06, 00:00:00 UTC (first trade started)<br>Ended: 2023-01-08, 23:15:00 UTC (last trade executed at)<br>",
         "marker": {
          "color": "LightPink",
          "size": 12
         },
         "mode": "markers",
         "showlegend": false,
         "type": "scatter",
         "x": [
          "2023-01-07T11:37:30"
         ],
         "y": [
          2136.9167421079283
         ]
        },
        {
         "hoverinfo": "text",
         "hovertext": "Position #2<br><br>Stop loss triggered at: 1677.63 USD<br><br>Profit: -116.80 USD<br>Profit: 2.3442 %<br><br>Entry price: 1644.73 USD (mid price)<br>Entry price: 1643.91 USD (expected)<br>Entry price: 1643.91 USD (executed)<br>Entry slippage: 0.0000 %<br>Entry duration: 0:00:00<br><br>Exit price: 1683.33 USD (expected)<br>Exit price: 1683.33 USD (executed)<br>Exit slippage: 0.0000 %<br>Exit duration: 0:00:00<br>Avg buy price: 1683.33 USD<br>Avg sell price: 1643.91 USD<br><br>Duration: 1 day, 13:15:00<br>Started: 2023-02-03, 00:00:00 UTC (first trade started)<br>Ended: 2023-02-04, 13:15:00 UTC (last trade executed at)<br>",
         "marker": {
          "color": "LightPink",
          "size": 12
         },
         "mode": "markers",
         "showlegend": false,
         "type": "scatter",
         "x": [
          "2023-02-03T18:37:30"
         ],
         "y": [
          2136.9167421079283
         ]
        },
        {
         "hoverinfo": "text",
         "hovertext": "Position #3<br><br>Profit: 218.37 USD<br>Profit: -4.8190 %<br><br>Entry price: 1666.25 USD (mid price)<br>Entry price: 1665.42 USD (expected)<br>Entry price: 1665.42 USD (executed)<br>Entry slippage: 0.0000 %<br>Entry duration: 0:00:00<br><br>Exit price: 1588.64 USD (expected)<br>Exit price: 1588.64 USD (executed)<br>Exit slippage: 0.0000 %<br>Exit duration: 0:00:00<br>Avg buy price: 1588.64 USD<br>Avg sell price: 1665.42 USD<br><br>Duration: 4 days, 19:30:00<br>Started: 2023-02-05, 00:00:00 UTC (first trade started)<br>Ended: 2023-02-09, 19:30:00 UTC (last trade executed at)<br>",
         "marker": {
          "color": "LightGreen",
          "size": 12
         },
         "mode": "markers",
         "showlegend": false,
         "type": "scatter",
         "x": [
          "2023-02-07T09:45:00"
         ],
         "y": [
          2136.9167421079283
         ]
        },
        {
         "hoverinfo": "text",
         "hovertext": "Position #4<br><br>Stop loss triggered at: 1672.27 USD<br><br>Profit: -127.26 USD<br>Profit: 2.4981 %<br><br>Entry price: 1639.48 USD (mid price)<br>Entry price: 1638.66 USD (expected)<br>Entry price: 1638.66 USD (executed)<br>Entry slippage: 0.0000 %<br>Entry duration: 0:00:00<br><br>Exit price: 1680.64 USD (expected)<br>Exit price: 1680.64 USD (executed)<br>Exit slippage: 0.0000 %<br>Exit duration: 0:00:00<br>Avg buy price: 1680.64 USD<br>Avg sell price: 1638.66 USD<br><br>Duration: 14:45:00<br>Started: 2023-02-17, 00:00:00 UTC (first trade started)<br>Ended: 2023-02-17, 14:45:00 UTC (last trade executed at)<br>",
         "marker": {
          "color": "LightPink",
          "size": 12
         },
         "mode": "markers",
         "showlegend": false,
         "type": "scatter",
         "x": [
          "2023-02-17T07:22:30"
         ],
         "y": [
          2136.9167421079283
         ]
        },
        {
         "hoverinfo": "text",
         "hovertext": "Position #5<br><br>Profit: 223.59 USD<br>Profit: -4.8434 %<br><br>Entry price: 1706.72 USD (mid price)<br>Entry price: 1705.87 USD (expected)<br>Entry price: 1705.87 USD (executed)<br>Entry slippage: 0.0000 %<br>Entry duration: 0:00:00<br><br>Exit price: 1627.06 USD (expected)<br>Exit price: 1627.06 USD (executed)<br>Exit slippage: 0.0000 %<br>Exit duration: 0:00:00<br>Avg buy price: 1627.06 USD<br>Avg sell price: 1705.87 USD<br><br>Duration: 16:45:00<br>Started: 2023-03-15, 00:00:00 UTC (first trade started)<br>Ended: 2023-03-15, 16:45:00 UTC (last trade executed at)<br>",
         "marker": {
          "color": "LightGreen",
          "size": 12
         },
         "mode": "markers",
         "showlegend": false,
         "type": "scatter",
         "x": [
          "2023-03-15T08:22:30"
         ],
         "y": [
          2136.9167421079283
         ]
        },
        {
         "hoverinfo": "text",
         "hovertext": "Position #6<br><br>Stop loss triggered at: 1798.90 USD<br><br>Profit: -112.62 USD<br>Profit: 2.1759 %<br><br>Entry price: 1763.63 USD (mid price)<br>Entry price: 1762.75 USD (expected)<br>Entry price: 1762.75 USD (executed)<br>Entry slippage: 0.0000 %<br>Entry duration: 0:00:00<br><br>Exit price: 1801.96 USD (expected)<br>Exit price: 1801.96 USD (executed)<br>Exit slippage: 0.0000 %<br>Exit duration: 0:00:00<br>Avg buy price: 1801.96 USD<br>Avg sell price: 1762.75 USD<br><br>Duration: 16:00:00<br>Started: 2023-03-19, 00:00:00 UTC (first trade started)<br>Ended: 2023-03-19, 16:00:00 UTC (last trade executed at)<br>",
         "marker": {
          "color": "LightPink",
          "size": 12
         },
         "mode": "markers",
         "showlegend": false,
         "type": "scatter",
         "x": [
          "2023-03-19T08:00:00"
         ],
         "y": [
          2136.9167421079283
         ]
        },
        {
         "hoverinfo": "text",
         "hovertext": "Position #7<br><br>Stop loss triggered at: 1822.44 USD<br><br>Profit: -107.13 USD<br>Profit: 2.1179 %<br><br>Entry price: 1786.70 USD (mid price)<br>Entry price: 1785.81 USD (expected)<br>Entry price: 1785.81 USD (executed)<br>Entry slippage: 0.0000 %<br>Entry duration: 0:00:00<br><br>Exit price: 1824.44 USD (expected)<br>Exit price: 1824.44 USD (executed)<br>Exit slippage: 0.0000 %<br>Exit duration: 0:00:00<br>Avg buy price: 1824.44 USD<br>Avg sell price: 1785.81 USD<br><br>Duration: 1 day, 14:00:00<br>Started: 2023-03-20, 00:00:00 UTC (first trade started)<br>Ended: 2023-03-21, 14:00:00 UTC (last trade executed at)<br>",
         "marker": {
          "color": "LightPink",
          "size": 12
         },
         "mode": "markers",
         "showlegend": false,
         "type": "scatter",
         "x": [
          "2023-03-20T19:00:00"
         ],
         "y": [
          2136.9167421079283
         ]
        },
        {
         "hoverinfo": "text",
         "hovertext": "Position #8<br><br>Stop loss triggered at: 1909.75 USD<br><br>Profit: -113.54 USD<br>Profit: 2.2897 %<br><br>Entry price: 1872.31 USD (mid price)<br>Entry price: 1871.37 USD (expected)<br>Entry price: 1871.37 USD (executed)<br>Entry slippage: 0.0000 %<br>Entry duration: 0:00:00<br><br>Exit price: 1915.48 USD (expected)<br>Exit price: 1915.48 USD (executed)<br>Exit slippage: 0.0000 %<br>Exit duration: 0:00:00<br>Avg buy price: 1915.48 USD<br>Avg sell price: 1871.37 USD<br><br>Duration: 3 days, 23:15:00<br>Started: 2023-04-07, 00:00:00 UTC (first trade started)<br>Ended: 2023-04-10, 23:15:00 UTC (last trade executed at)<br>",
         "marker": {
          "color": "LightPink",
          "size": 12
         },
         "mode": "markers",
         "showlegend": false,
         "type": "scatter",
         "x": [
          "2023-04-08T23:37:30"
         ],
         "y": [
          2136.9167421079283
         ]
        },
        {
         "hoverinfo": "text",
         "hovertext": "Position #9<br><br>Stop loss triggered at: 1930.10 USD<br><br>Profit: -144.38 USD<br>Profit: 2.9616 %<br><br>Entry price: 1892.26 USD (mid price)<br>Entry price: 1891.31 USD (expected)<br>Entry price: 1891.31 USD (executed)<br>Entry slippage: 0.0000 %<br>Entry duration: 0:00:00<br><br>Exit price: 1949.10 USD (expected)<br>Exit price: 1949.10 USD (executed)<br>Exit slippage: 0.0000 %<br>Exit duration: 0:00:00<br>Avg buy price: 1949.10 USD<br>Avg sell price: 1891.31 USD<br><br>Duration: 1 day, 8:45:00<br>Started: 2023-04-12, 00:00:00 UTC (first trade started)<br>Ended: 2023-04-13, 08:45:00 UTC (last trade executed at)<br>",
         "marker": {
          "color": "LightPink",
          "size": 12
         },
         "mode": "markers",
         "showlegend": false,
         "type": "scatter",
         "x": [
          "2023-04-12T16:22:30"
         ],
         "y": [
          2136.9167421079283
         ]
        },
        {
         "marker": {
          "color": "black",
          "line": {
           "width": 0
          },
          "size": 12,
          "symbol": "arrow-right"
         },
         "mode": "markers",
         "showlegend": false,
         "text": [
          "<Close short #2 \n   3.999871847157831905598815651 WETH at 1282.4719721399874 USD, success phase\n   collateral consumption: -5129.724818562923586351931190 aPolUSDC, collateral allocation: -2368.061133369202454944365726 aPolUSDC\n   reserve: 0\n   >",
          "<Close short #4 \n   2.959971766568726682869279227 WETH at 1683.3331482163558 USD, success phase\n   collateral consumption: -4982.619838104622432351936770 aPolUSDC, collateral allocation: -2317.233479950676545395773389 aPolUSDC\n   reserve: 0\n   >",
          "<Close short #6 \n   2.852334560072924622184462111 WETH at 1588.6406913008896 USD, success phase\n   collateral consumption: -4531.335880169639973866527976 aPolUSDC, collateral allocation: -2593.929681660765237305444132 aPolUSDC\n   reserve: 0\n   >",
          "<Close short #8 \n   3.031187277606423684670087025 WETH at 1680.6421031393438 USD, success phase\n   collateral consumption: -5094.342234831241127855485103 aPolUSDC, collateral allocation: -2357.515541783875854249695583 aPolUSDC\n   reserve: 0\n   >",
          "<Close short #10 \n   2.837189118886204059978404810 WETH at 1627.0646197007957 USD, success phase\n   collateral consumption: -4616.291188812614785005688808 aPolUSDC, collateral allocation: -2644.732254399866390522343078 aPolUSDC\n   reserve: 0\n   >",
          "<Close short #12 \n   2.872418443988044172247054216 WETH at 1801.955456353026 USD, success phase\n   collateral consumption: -5175.971382066170762445143389 aPolUSDC, collateral allocation: -2420.316355012669160062420797 aPolUSDC\n   reserve: 0\n   >",
          "<Close short #14 \n   2.772460833150365095125980500 WETH at 1824.4376816590614 USD, success phase\n   collateral consumption: -5058.183279469221987271940049 aPolUSDC, collateral allocation: -2369.505119854086455971095978 aPolUSDC\n   reserve: 0\n   >",
          "<Close short #16 \n   2.588626977757624800938151107 WETH at 1915.482185780985 USD, success phase\n   collateral consumption: -4958.470101144325721248719780 aPolUSDC, collateral allocation: -2309.542646801761041046401482 aPolUSDC\n   reserve: 0\n   >",
          "<Close short #18 \n   2.501145101781408849739923284 WETH at 1949.101535043209 USD, success phase\n   collateral consumption: -4874.986975994691137883958565 aPolUSDC, collateral allocation: -2221.931936139081835995219750 aPolUSDC\n   reserve: 0\n   >"
         ],
         "type": "scatter",
         "x": [
          "2023-01-08T23:15:00",
          "2023-02-04T13:15:00",
          "2023-02-09T19:30:00",
          "2023-02-17T14:45:00",
          "2023-03-15T16:45:00",
          "2023-03-19T16:00:00",
          "2023-03-21T14:00:00",
          "2023-04-10T23:15:00",
          "2023-04-13T08:45:00"
         ],
         "y": [
          1282.4719721399874,
          1683.3331482163558,
          1588.6406913008896,
          1680.6421031393438,
          1627.0646197007957,
          1801.955456353026,
          1824.4376816590614,
          1915.482185780985,
          1949.101535043209
         ]
        },
        {
         "marker": {
          "color": "black",
          "line": {
           "width": 0
          },
          "size": 12,
          "symbol": "arrow-left"
         },
         "mode": "markers",
         "showlegend": false,
         "text": [
          "<Increase short #1 \n   -3.999410974161518797533630898 WETH at 1249.5590056352567 USD, success phase\n   collateral consumption: 4997.499999999999999947958296 aPolUSDC, collateral allocation: 0 aPolUSDC\n   reserve: 2500\n   >",
          "<Increase short #3 \n   -2.959790914138461655923278987 WETH at 1643.9090611300185 USD, success phase\n   collateral consumption: 4865.627102802517651475035983 aPolUSDC, collateral allocation: 0 aPolUSDC\n   reserve: 2434.03056668460112632601521909236907958984375\n   >",
          "<Increase short #5 \n   -2.851468837655686603372199769 WETH at 1665.4183106963999 USD, success phase\n   collateral consumption: 4748.888414611960097723227680 aPolUSDC, collateral allocation: 0 aPolUSDC\n   reserve: 2375.63202331763886832050047814846038818359375\n   >",
          "<Increase short #7 \n   -3.031187277606423684670087025 WETH at 1638.6572221456954 USD, success phase\n   collateral consumption: 4967.076924125914920699076792 aPolUSDC, collateral allocation: 0 aPolUSDC\n   reserve: 2484.78085248920206140610389411449432373046875\n   >",
          "<Increase short #9 \n   -2.837189118886204059978404810 WETH at 1705.8698039755393 USD, success phase\n   collateral consumption: 4839.875246075941937255797089 aPolUSDC, collateral allocation: 0 aPolUSDC\n   reserve: 2421.14819713653923827223479747772216796875\n   >",
          "<Increase short #11 \n   -2.872418443988044172247054216 WETH at 1762.7471797878877 USD, success phase\n   collateral consumption: 5063.347511310637214084659352 aPolUSDC, collateral allocation: 0 aPolUSDC\n   reserve: 2532.94022576820270842290483415126800537109375\n   >",
          "<Increase short #13 \n   -2.772286110763088337172223894 WETH at 1785.8113321239234 USD, success phase\n   collateral consumption: 4950.779952490481009538884316 aPolUSDC, collateral allocation: 0 aPolUSDC\n   reserve: 2476.628290390435722656548023223876953125\n   >",
          "<Increase short #15 \n   -2.588323909465859628148675462 WETH at 1871.3694703453768 USD, success phase\n   collateral consumption: 4843.710343539400304002393026 aPolUSDC, collateral allocation: 0 aPolUSDC\n   reserve: 2423.06670512226128266775049269199371337890625\n   >",
          "<Increase short #17 \n   -2.501039925100904533571237454 WETH at 1891.3104903981964 USD, success phase\n   collateral consumption: 4730.243047248060110128644358 aPolUSDC, collateral allocation: 0 aPolUSDC\n   reserve: 2366.3046759620110606192611157894134521484375\n   >"
         ],
         "type": "scatter",
         "x": [
          "2023-01-06T00:00:00",
          "2023-02-03T00:00:00",
          "2023-02-05T00:00:00",
          "2023-02-17T00:00:00",
          "2023-03-15T00:00:00",
          "2023-03-19T00:00:00",
          "2023-03-20T00:00:00",
          "2023-04-07T00:00:00",
          "2023-04-12T00:00:00"
         ],
         "y": [
          1249.5590056352567,
          1643.9090611300185,
          1665.4183106963999,
          1638.6572221456954,
          1705.8698039755393,
          1762.7471797878877,
          1785.8113321239234,
          1871.3694703453768,
          1891.3104903981964
         ]
        }
       ],
       "layout": {
        "annotations": [
         {
          "font": {
           "size": 11
          },
          "showarrow": false,
          "text": "RSI",
          "textangle": 90,
          "x": 0.98,
          "xanchor": "left",
          "xref": "paper",
          "y": 0.07916666666666668,
          "yanchor": "middle",
          "yref": "paper"
         }
        ],
        "height": 800,
        "hovermode": "x unified",
        "legend": {
         "orientation": "h",
         "x": 1,
         "xanchor": "right",
         "y": 1.09,
         "yanchor": "top"
        },
        "margin": {
         "t": 150
        },
        "shapes": [
         {
          "fillcolor": "LightPink",
          "layer": "below",
          "line": {
           "width": 0
          },
          "opacity": 0.5,
          "type": "rect",
          "x0": "2023-01-06T00:00:00",
          "x1": "2023-01-08T23:15:00",
          "xref": "x",
          "y0": 0,
          "y1": 1,
          "yref": "y domain"
         },
         {
          "line": {
           "color": "black",
           "width": 1
          },
          "type": "line",
          "x0": "2023-01-06T00:00:00",
          "x1": "2023-01-06T00:00:00",
          "xref": "x",
          "y0": 1249.5590056352567,
          "y1": 1249.5590056352567,
          "yref": "y"
         },
         {
          "line": {
           "color": "black",
           "width": 1
          },
          "type": "line",
          "x0": "2023-01-08T23:15:00",
          "x1": "2023-01-08T23:15:00",
          "xref": "x",
          "y0": 1282.4719721399874,
          "y1": 1282.4719721399874,
          "yref": "y"
         },
         {
          "fillcolor": "LightPink",
          "layer": "below",
          "line": {
           "width": 0
          },
          "opacity": 0.5,
          "type": "rect",
          "x0": "2023-02-03T00:00:00",
          "x1": "2023-02-04T13:15:00",
          "xref": "x",
          "y0": 0,
          "y1": 1,
          "yref": "y domain"
         },
         {
          "line": {
           "color": "black",
           "width": 1
          },
          "type": "line",
          "x0": "2023-02-03T00:00:00",
          "x1": "2023-02-03T00:00:00",
          "xref": "x",
          "y0": 1643.9090611300185,
          "y1": 1643.9090611300185,
          "yref": "y"
         },
         {
          "line": {
           "color": "black",
           "width": 1
          },
          "type": "line",
          "x0": "2023-02-04T13:15:00",
          "x1": "2023-02-04T13:15:00",
          "xref": "x",
          "y0": 1683.3331482163558,
          "y1": 1683.3331482163558,
          "yref": "y"
         },
         {
          "fillcolor": "LightGreen",
          "layer": "below",
          "line": {
           "width": 0
          },
          "opacity": 0.5,
          "type": "rect",
          "x0": "2023-02-05T00:00:00",
          "x1": "2023-02-09T19:30:00",
          "xref": "x",
          "y0": 0,
          "y1": 1,
          "yref": "y domain"
         },
         {
          "line": {
           "color": "black",
           "width": 1
          },
          "type": "line",
          "x0": "2023-02-05T00:00:00",
          "x1": "2023-02-05T00:00:00",
          "xref": "x",
          "y0": 1665.4183106963999,
          "y1": 1665.4183106963999,
          "yref": "y"
         },
         {
          "line": {
           "color": "black",
           "width": 1
          },
          "type": "line",
          "x0": "2023-02-09T19:30:00",
          "x1": "2023-02-09T19:30:00",
          "xref": "x",
          "y0": 1588.6406913008896,
          "y1": 1588.6406913008896,
          "yref": "y"
         },
         {
          "fillcolor": "LightPink",
          "layer": "below",
          "line": {
           "width": 0
          },
          "opacity": 0.5,
          "type": "rect",
          "x0": "2023-02-17T00:00:00",
          "x1": "2023-02-17T14:45:00",
          "xref": "x",
          "y0": 0,
          "y1": 1,
          "yref": "y domain"
         },
         {
          "line": {
           "color": "black",
           "width": 1
          },
          "type": "line",
          "x0": "2023-02-17T00:00:00",
          "x1": "2023-02-17T00:00:00",
          "xref": "x",
          "y0": 1638.6572221456954,
          "y1": 1638.6572221456954,
          "yref": "y"
         },
         {
          "line": {
           "color": "black",
           "width": 1
          },
          "type": "line",
          "x0": "2023-02-17T14:45:00",
          "x1": "2023-02-17T14:45:00",
          "xref": "x",
          "y0": 1680.6421031393438,
          "y1": 1680.6421031393438,
          "yref": "y"
         },
         {
          "fillcolor": "LightGreen",
          "layer": "below",
          "line": {
           "width": 0
          },
          "opacity": 0.5,
          "type": "rect",
          "x0": "2023-03-15T00:00:00",
          "x1": "2023-03-15T16:45:00",
          "xref": "x",
          "y0": 0,
          "y1": 1,
          "yref": "y domain"
         },
         {
          "line": {
           "color": "black",
           "width": 1
          },
          "type": "line",
          "x0": "2023-03-15T00:00:00",
          "x1": "2023-03-15T00:00:00",
          "xref": "x",
          "y0": 1705.8698039755393,
          "y1": 1705.8698039755393,
          "yref": "y"
         },
         {
          "line": {
           "color": "black",
           "width": 1
          },
          "type": "line",
          "x0": "2023-03-15T16:45:00",
          "x1": "2023-03-15T16:45:00",
          "xref": "x",
          "y0": 1627.0646197007957,
          "y1": 1627.0646197007957,
          "yref": "y"
         },
         {
          "fillcolor": "LightPink",
          "layer": "below",
          "line": {
           "width": 0
          },
          "opacity": 0.5,
          "type": "rect",
          "x0": "2023-03-19T00:00:00",
          "x1": "2023-03-19T16:00:00",
          "xref": "x",
          "y0": 0,
          "y1": 1,
          "yref": "y domain"
         },
         {
          "line": {
           "color": "black",
           "width": 1
          },
          "type": "line",
          "x0": "2023-03-19T00:00:00",
          "x1": "2023-03-19T00:00:00",
          "xref": "x",
          "y0": 1762.7471797878877,
          "y1": 1762.7471797878877,
          "yref": "y"
         },
         {
          "line": {
           "color": "black",
           "width": 1
          },
          "type": "line",
          "x0": "2023-03-19T16:00:00",
          "x1": "2023-03-19T16:00:00",
          "xref": "x",
          "y0": 1801.955456353026,
          "y1": 1801.955456353026,
          "yref": "y"
         },
         {
          "fillcolor": "LightPink",
          "layer": "below",
          "line": {
           "width": 0
          },
          "opacity": 0.5,
          "type": "rect",
          "x0": "2023-03-20T00:00:00",
          "x1": "2023-03-21T14:00:00",
          "xref": "x",
          "y0": 0,
          "y1": 1,
          "yref": "y domain"
         },
         {
          "line": {
           "color": "black",
           "width": 1
          },
          "type": "line",
          "x0": "2023-03-20T00:00:00",
          "x1": "2023-03-20T00:00:00",
          "xref": "x",
          "y0": 1785.8113321239234,
          "y1": 1785.8113321239234,
          "yref": "y"
         },
         {
          "line": {
           "color": "black",
           "width": 1
          },
          "type": "line",
          "x0": "2023-03-21T14:00:00",
          "x1": "2023-03-21T14:00:00",
          "xref": "x",
          "y0": 1824.4376816590614,
          "y1": 1824.4376816590614,
          "yref": "y"
         },
         {
          "fillcolor": "LightPink",
          "layer": "below",
          "line": {
           "width": 0
          },
          "opacity": 0.5,
          "type": "rect",
          "x0": "2023-04-07T00:00:00",
          "x1": "2023-04-10T23:15:00",
          "xref": "x",
          "y0": 0,
          "y1": 1,
          "yref": "y domain"
         },
         {
          "line": {
           "color": "black",
           "width": 1
          },
          "type": "line",
          "x0": "2023-04-07T00:00:00",
          "x1": "2023-04-07T00:00:00",
          "xref": "x",
          "y0": 1871.3694703453768,
          "y1": 1871.3694703453768,
          "yref": "y"
         },
         {
          "line": {
           "color": "black",
           "width": 1
          },
          "type": "line",
          "x0": "2023-04-10T23:15:00",
          "x1": "2023-04-10T23:15:00",
          "xref": "x",
          "y0": 1915.482185780985,
          "y1": 1915.482185780985,
          "yref": "y"
         },
         {
          "fillcolor": "LightPink",
          "layer": "below",
          "line": {
           "width": 0
          },
          "opacity": 0.5,
          "type": "rect",
          "x0": "2023-04-12T00:00:00",
          "x1": "2023-04-13T08:45:00",
          "xref": "x",
          "y0": 0,
          "y1": 1,
          "yref": "y domain"
         },
         {
          "line": {
           "color": "black",
           "width": 1
          },
          "type": "line",
          "x0": "2023-04-12T00:00:00",
          "x1": "2023-04-12T00:00:00",
          "xref": "x",
          "y0": 1891.3104903981964,
          "y1": 1891.3104903981964,
          "yref": "y"
         },
         {
          "line": {
           "color": "black",
           "width": 1
          },
          "type": "line",
          "x0": "2023-04-13T08:45:00",
          "x1": "2023-04-13T08:45:00",
          "xref": "x",
          "y0": 1949.101535043209,
          "y1": 1949.101535043209,
          "yref": "y"
         }
        ],
        "template": {
         "data": {
          "bar": [
           {
            "error_x": {
             "color": "#2a3f5f"
            },
            "error_y": {
             "color": "#2a3f5f"
            },
            "marker": {
             "line": {
              "color": "white",
              "width": 0.5
             },
             "pattern": {
              "fillmode": "overlay",
              "size": 10,
              "solidity": 0.2
             }
            },
            "type": "bar"
           }
          ],
          "barpolar": [
           {
            "marker": {
             "line": {
              "color": "white",
              "width": 0.5
             },
             "pattern": {
              "fillmode": "overlay",
              "size": 10,
              "solidity": 0.2
             }
            },
            "type": "barpolar"
           }
          ],
          "carpet": [
           {
            "aaxis": {
             "endlinecolor": "#2a3f5f",
             "gridcolor": "#C8D4E3",
             "linecolor": "#C8D4E3",
             "minorgridcolor": "#C8D4E3",
             "startlinecolor": "#2a3f5f"
            },
            "baxis": {
             "endlinecolor": "#2a3f5f",
             "gridcolor": "#C8D4E3",
             "linecolor": "#C8D4E3",
             "minorgridcolor": "#C8D4E3",
             "startlinecolor": "#2a3f5f"
            },
            "type": "carpet"
           }
          ],
          "choropleth": [
           {
            "colorbar": {
             "outlinewidth": 0,
             "ticks": ""
            },
            "type": "choropleth"
           }
          ],
          "contour": [
           {
            "colorbar": {
             "outlinewidth": 0,
             "ticks": ""
            },
            "colorscale": [
             [
              0,
              "#0d0887"
             ],
             [
              0.1111111111111111,
              "#46039f"
             ],
             [
              0.2222222222222222,
              "#7201a8"
             ],
             [
              0.3333333333333333,
              "#9c179e"
             ],
             [
              0.4444444444444444,
              "#bd3786"
             ],
             [
              0.5555555555555556,
              "#d8576b"
             ],
             [
              0.6666666666666666,
              "#ed7953"
             ],
             [
              0.7777777777777778,
              "#fb9f3a"
             ],
             [
              0.8888888888888888,
              "#fdca26"
             ],
             [
              1,
              "#f0f921"
             ]
            ],
            "type": "contour"
           }
          ],
          "contourcarpet": [
           {
            "colorbar": {
             "outlinewidth": 0,
             "ticks": ""
            },
            "type": "contourcarpet"
           }
          ],
          "heatmap": [
           {
            "colorbar": {
             "outlinewidth": 0,
             "ticks": ""
            },
            "colorscale": [
             [
              0,
              "#0d0887"
             ],
             [
              0.1111111111111111,
              "#46039f"
             ],
             [
              0.2222222222222222,
              "#7201a8"
             ],
             [
              0.3333333333333333,
              "#9c179e"
             ],
             [
              0.4444444444444444,
              "#bd3786"
             ],
             [
              0.5555555555555556,
              "#d8576b"
             ],
             [
              0.6666666666666666,
              "#ed7953"
             ],
             [
              0.7777777777777778,
              "#fb9f3a"
             ],
             [
              0.8888888888888888,
              "#fdca26"
             ],
             [
              1,
              "#f0f921"
             ]
            ],
            "type": "heatmap"
           }
          ],
          "heatmapgl": [
           {
            "colorbar": {
             "outlinewidth": 0,
             "ticks": ""
            },
            "colorscale": [
             [
              0,
              "#0d0887"
             ],
             [
              0.1111111111111111,
              "#46039f"
             ],
             [
              0.2222222222222222,
              "#7201a8"
             ],
             [
              0.3333333333333333,
              "#9c179e"
             ],
             [
              0.4444444444444444,
              "#bd3786"
             ],
             [
              0.5555555555555556,
              "#d8576b"
             ],
             [
              0.6666666666666666,
              "#ed7953"
             ],
             [
              0.7777777777777778,
              "#fb9f3a"
             ],
             [
              0.8888888888888888,
              "#fdca26"
             ],
             [
              1,
              "#f0f921"
             ]
            ],
            "type": "heatmapgl"
           }
          ],
          "histogram": [
           {
            "marker": {
             "pattern": {
              "fillmode": "overlay",
              "size": 10,
              "solidity": 0.2
             }
            },
            "type": "histogram"
           }
          ],
          "histogram2d": [
           {
            "colorbar": {
             "outlinewidth": 0,
             "ticks": ""
            },
            "colorscale": [
             [
              0,
              "#0d0887"
             ],
             [
              0.1111111111111111,
              "#46039f"
             ],
             [
              0.2222222222222222,
              "#7201a8"
             ],
             [
              0.3333333333333333,
              "#9c179e"
             ],
             [
              0.4444444444444444,
              "#bd3786"
             ],
             [
              0.5555555555555556,
              "#d8576b"
             ],
             [
              0.6666666666666666,
              "#ed7953"
             ],
             [
              0.7777777777777778,
              "#fb9f3a"
             ],
             [
              0.8888888888888888,
              "#fdca26"
             ],
             [
              1,
              "#f0f921"
             ]
            ],
            "type": "histogram2d"
           }
          ],
          "histogram2dcontour": [
           {
            "colorbar": {
             "outlinewidth": 0,
             "ticks": ""
            },
            "colorscale": [
             [
              0,
              "#0d0887"
             ],
             [
              0.1111111111111111,
              "#46039f"
             ],
             [
              0.2222222222222222,
              "#7201a8"
             ],
             [
              0.3333333333333333,
              "#9c179e"
             ],
             [
              0.4444444444444444,
              "#bd3786"
             ],
             [
              0.5555555555555556,
              "#d8576b"
             ],
             [
              0.6666666666666666,
              "#ed7953"
             ],
             [
              0.7777777777777778,
              "#fb9f3a"
             ],
             [
              0.8888888888888888,
              "#fdca26"
             ],
             [
              1,
              "#f0f921"
             ]
            ],
            "type": "histogram2dcontour"
           }
          ],
          "mesh3d": [
           {
            "colorbar": {
             "outlinewidth": 0,
             "ticks": ""
            },
            "type": "mesh3d"
           }
          ],
          "parcoords": [
           {
            "line": {
             "colorbar": {
              "outlinewidth": 0,
              "ticks": ""
             }
            },
            "type": "parcoords"
           }
          ],
          "pie": [
           {
            "automargin": true,
            "type": "pie"
           }
          ],
          "scatter": [
           {
            "fillpattern": {
             "fillmode": "overlay",
             "size": 10,
             "solidity": 0.2
            },
            "type": "scatter"
           }
          ],
          "scatter3d": [
           {
            "line": {
             "colorbar": {
              "outlinewidth": 0,
              "ticks": ""
             }
            },
            "marker": {
             "colorbar": {
              "outlinewidth": 0,
              "ticks": ""
             }
            },
            "type": "scatter3d"
           }
          ],
          "scattercarpet": [
           {
            "marker": {
             "colorbar": {
              "outlinewidth": 0,
              "ticks": ""
             }
            },
            "type": "scattercarpet"
           }
          ],
          "scattergeo": [
           {
            "marker": {
             "colorbar": {
              "outlinewidth": 0,
              "ticks": ""
             }
            },
            "type": "scattergeo"
           }
          ],
          "scattergl": [
           {
            "marker": {
             "colorbar": {
              "outlinewidth": 0,
              "ticks": ""
             }
            },
            "type": "scattergl"
           }
          ],
          "scattermapbox": [
           {
            "marker": {
             "colorbar": {
              "outlinewidth": 0,
              "ticks": ""
             }
            },
            "type": "scattermapbox"
           }
          ],
          "scatterpolar": [
           {
            "marker": {
             "colorbar": {
              "outlinewidth": 0,
              "ticks": ""
             }
            },
            "type": "scatterpolar"
           }
          ],
          "scatterpolargl": [
           {
            "marker": {
             "colorbar": {
              "outlinewidth": 0,
              "ticks": ""
             }
            },
            "type": "scatterpolargl"
           }
          ],
          "scatterternary": [
           {
            "marker": {
             "colorbar": {
              "outlinewidth": 0,
              "ticks": ""
             }
            },
            "type": "scatterternary"
           }
          ],
          "surface": [
           {
            "colorbar": {
             "outlinewidth": 0,
             "ticks": ""
            },
            "colorscale": [
             [
              0,
              "#0d0887"
             ],
             [
              0.1111111111111111,
              "#46039f"
             ],
             [
              0.2222222222222222,
              "#7201a8"
             ],
             [
              0.3333333333333333,
              "#9c179e"
             ],
             [
              0.4444444444444444,
              "#bd3786"
             ],
             [
              0.5555555555555556,
              "#d8576b"
             ],
             [
              0.6666666666666666,
              "#ed7953"
             ],
             [
              0.7777777777777778,
              "#fb9f3a"
             ],
             [
              0.8888888888888888,
              "#fdca26"
             ],
             [
              1,
              "#f0f921"
             ]
            ],
            "type": "surface"
           }
          ],
          "table": [
           {
            "cells": {
             "fill": {
              "color": "#EBF0F8"
             },
             "line": {
              "color": "white"
             }
            },
            "header": {
             "fill": {
              "color": "#C8D4E3"
             },
             "line": {
              "color": "white"
             }
            },
            "type": "table"
           }
          ]
         },
         "layout": {
          "annotationdefaults": {
           "arrowcolor": "#2a3f5f",
           "arrowhead": 0,
           "arrowwidth": 1
          },
          "autotypenumbers": "strict",
          "coloraxis": {
           "colorbar": {
            "outlinewidth": 0,
            "ticks": ""
           }
          },
          "colorscale": {
           "diverging": [
            [
             0,
             "#8e0152"
            ],
            [
             0.1,
             "#c51b7d"
            ],
            [
             0.2,
             "#de77ae"
            ],
            [
             0.3,
             "#f1b6da"
            ],
            [
             0.4,
             "#fde0ef"
            ],
            [
             0.5,
             "#f7f7f7"
            ],
            [
             0.6,
             "#e6f5d0"
            ],
            [
             0.7,
             "#b8e186"
            ],
            [
             0.8,
             "#7fbc41"
            ],
            [
             0.9,
             "#4d9221"
            ],
            [
             1,
             "#276419"
            ]
           ],
           "sequential": [
            [
             0,
             "#0d0887"
            ],
            [
             0.1111111111111111,
             "#46039f"
            ],
            [
             0.2222222222222222,
             "#7201a8"
            ],
            [
             0.3333333333333333,
             "#9c179e"
            ],
            [
             0.4444444444444444,
             "#bd3786"
            ],
            [
             0.5555555555555556,
             "#d8576b"
            ],
            [
             0.6666666666666666,
             "#ed7953"
            ],
            [
             0.7777777777777778,
             "#fb9f3a"
            ],
            [
             0.8888888888888888,
             "#fdca26"
            ],
            [
             1,
             "#f0f921"
            ]
           ],
           "sequentialminus": [
            [
             0,
             "#0d0887"
            ],
            [
             0.1111111111111111,
             "#46039f"
            ],
            [
             0.2222222222222222,
             "#7201a8"
            ],
            [
             0.3333333333333333,
             "#9c179e"
            ],
            [
             0.4444444444444444,
             "#bd3786"
            ],
            [
             0.5555555555555556,
             "#d8576b"
            ],
            [
             0.6666666666666666,
             "#ed7953"
            ],
            [
             0.7777777777777778,
             "#fb9f3a"
            ],
            [
             0.8888888888888888,
             "#fdca26"
            ],
            [
             1,
             "#f0f921"
            ]
           ]
          },
          "colorway": [
           "#636efa",
           "#EF553B",
           "#00cc96",
           "#ab63fa",
           "#FFA15A",
           "#19d3f3",
           "#FF6692",
           "#B6E880",
           "#FF97FF",
           "#FECB52"
          ],
          "font": {
           "color": "#2a3f5f"
          },
          "geo": {
           "bgcolor": "white",
           "lakecolor": "white",
           "landcolor": "white",
           "showlakes": true,
           "showland": true,
           "subunitcolor": "#C8D4E3"
          },
          "hoverlabel": {
           "align": "left"
          },
          "hovermode": "closest",
          "mapbox": {
           "style": "light"
          },
          "paper_bgcolor": "white",
          "plot_bgcolor": "white",
          "polar": {
           "angularaxis": {
            "gridcolor": "#EBF0F8",
            "linecolor": "#EBF0F8",
            "ticks": ""
           },
           "bgcolor": "white",
           "radialaxis": {
            "gridcolor": "#EBF0F8",
            "linecolor": "#EBF0F8",
            "ticks": ""
           }
          },
          "scene": {
           "xaxis": {
            "backgroundcolor": "white",
            "gridcolor": "#DFE8F3",
            "gridwidth": 2,
            "linecolor": "#EBF0F8",
            "showbackground": true,
            "ticks": "",
            "zerolinecolor": "#EBF0F8"
           },
           "yaxis": {
            "backgroundcolor": "white",
            "gridcolor": "#DFE8F3",
            "gridwidth": 2,
            "linecolor": "#EBF0F8",
            "showbackground": true,
            "ticks": "",
            "zerolinecolor": "#EBF0F8"
           },
           "zaxis": {
            "backgroundcolor": "white",
            "gridcolor": "#DFE8F3",
            "gridwidth": 2,
            "linecolor": "#EBF0F8",
            "showbackground": true,
            "ticks": "",
            "zerolinecolor": "#EBF0F8"
           }
          },
          "shapedefaults": {
           "line": {
            "color": "#2a3f5f"
           }
          },
          "ternary": {
           "aaxis": {
            "gridcolor": "#DFE8F3",
            "linecolor": "#A2B1C6",
            "ticks": ""
           },
           "baxis": {
            "gridcolor": "#DFE8F3",
            "linecolor": "#A2B1C6",
            "ticks": ""
           },
           "bgcolor": "white",
           "caxis": {
            "gridcolor": "#DFE8F3",
            "linecolor": "#A2B1C6",
            "ticks": ""
           }
          },
          "title": {
           "x": 0.05
          },
          "xaxis": {
           "automargin": true,
           "gridcolor": "#EBF0F8",
           "linecolor": "#EBF0F8",
           "ticks": "",
           "title": {
            "standoff": 15
           },
           "zerolinecolor": "#EBF0F8",
           "zerolinewidth": 2
          },
          "yaxis": {
           "automargin": true,
           "gridcolor": "#EBF0F8",
           "linecolor": "#EBF0F8",
           "ticks": "",
           "title": {
            "standoff": 15
           },
           "zerolinecolor": "#EBF0F8",
           "zerolinewidth": 2
          }
         }
        },
        "title": {
         "text": "BB short example",
         "y": 0.95
        },
        "xaxis": {
         "anchor": "y",
         "domain": [
          0,
          0.98
         ],
         "matches": "x2",
         "rangeslider": {
          "visible": false
         },
         "showticklabels": false
        },
        "xaxis2": {
         "anchor": "y2",
         "domain": [
          0,
          0.98
         ],
         "rangeslider": {
          "visible": false
         }
        },
        "yaxis": {
         "anchor": "x",
         "domain": [
          0.20833333333333337,
          1
         ],
         "showspikes": true,
         "spikedash": "dot",
         "spikemode": "across",
         "spikesnap": "cursor",
         "spikethickness": 1
        },
        "yaxis2": {
         "anchor": "x2",
         "domain": [
          0,
          0.15833333333333335
         ],
         "showspikes": true,
         "spikedash": "dot",
         "spikemode": "across",
         "spikesnap": "cursor",
         "spikethickness": 1
        }
       }
      }
     },
     "metadata": {},
     "output_type": "display_data"
    }
   ],
   "source": [
    "candles = universe.universe.candles.get_candles_by_pair(universe.get_single_pair().internal_id)\n",
    "\n",
    "figure2 = visualise_single_pair_positions_with_duration_and_slippage(\n",
    "    state,\n",
    "    candles,\n",
    "    start_at=START_AT,\n",
    "    end_at=END_AT,\n",
    ")\n",
    "\n",
    "figure2.show()"
   ]
  },
  {
   "cell_type": "markdown",
   "metadata": {},
   "source": [
    "## Benchmarking the strategy performance\n",
    "\n",
    "Here we benchmark the strategy performance against some baseline scenarios.\n",
    "\n",
    "- Buy and hold US dollar\n",
    "- Buy and hold the underlying trading pair base asset\n"
   ]
  },
  {
   "cell_type": "code",
   "execution_count": 22,
   "metadata": {
    "tags": []
   },
   "outputs": [
    {
     "data": {
      "application/vnd.plotly.v1+json": {
       "config": {
        "plotlyServerURL": "https://plot.ly"
       },
       "data": [
        {
         "line": {
          "color": "#008800"
         },
         "mode": "lines",
         "name": "Example short strategy",
         "type": "scatter",
         "x": [
          "2023-01-01T00:00:00",
          "2023-01-01T00:00:00",
          "2023-01-02T00:00:00",
          "2023-01-03T00:00:00",
          "2023-01-04T00:00:00",
          "2023-01-05T00:00:00",
          "2023-01-06T00:00:00",
          "2023-01-07T00:00:00",
          "2023-01-08T00:00:00",
          "2023-01-09T00:00:00",
          "2023-01-10T00:00:00",
          "2023-01-11T00:00:00",
          "2023-01-12T00:00:00",
          "2023-01-13T00:00:00",
          "2023-01-14T00:00:00",
          "2023-01-15T00:00:00",
          "2023-01-16T00:00:00",
          "2023-01-17T00:00:00",
          "2023-01-18T00:00:00",
          "2023-01-19T00:00:00",
          "2023-01-20T00:00:00",
          "2023-01-21T00:00:00",
          "2023-01-22T00:00:00",
          "2023-01-23T00:00:00",
          "2023-01-24T00:00:00",
          "2023-01-25T00:00:00",
          "2023-01-26T00:00:00",
          "2023-01-27T00:00:00",
          "2023-01-28T00:00:00",
          "2023-01-29T00:00:00",
          "2023-01-30T00:00:00",
          "2023-01-31T00:00:00",
          "2023-02-01T00:00:00",
          "2023-02-02T00:00:00",
          "2023-02-03T00:00:00",
          "2023-02-04T00:00:00",
          "2023-02-05T00:00:00",
          "2023-02-06T00:00:00",
          "2023-02-07T00:00:00",
          "2023-02-08T00:00:00",
          "2023-02-09T00:00:00",
          "2023-02-10T00:00:00",
          "2023-02-11T00:00:00",
          "2023-02-12T00:00:00",
          "2023-02-13T00:00:00",
          "2023-02-14T00:00:00",
          "2023-02-15T00:00:00",
          "2023-02-16T00:00:00",
          "2023-02-17T00:00:00",
          "2023-02-18T00:00:00",
          "2023-02-19T00:00:00",
          "2023-02-20T00:00:00",
          "2023-02-21T00:00:00",
          "2023-02-22T00:00:00",
          "2023-02-23T00:00:00",
          "2023-02-24T00:00:00",
          "2023-02-25T00:00:00",
          "2023-02-26T00:00:00",
          "2023-02-27T00:00:00",
          "2023-02-28T00:00:00",
          "2023-03-01T00:00:00",
          "2023-03-02T00:00:00",
          "2023-03-03T00:00:00",
          "2023-03-04T00:00:00",
          "2023-03-05T00:00:00",
          "2023-03-06T00:00:00",
          "2023-03-07T00:00:00",
          "2023-03-08T00:00:00",
          "2023-03-09T00:00:00",
          "2023-03-10T00:00:00",
          "2023-03-11T00:00:00",
          "2023-03-12T00:00:00",
          "2023-03-13T00:00:00",
          "2023-03-14T00:00:00",
          "2023-03-15T00:00:00",
          "2023-03-16T00:00:00",
          "2023-03-17T00:00:00",
          "2023-03-18T00:00:00",
          "2023-03-19T00:00:00",
          "2023-03-20T00:00:00",
          "2023-03-21T00:00:00",
          "2023-03-22T00:00:00",
          "2023-03-23T00:00:00",
          "2023-03-24T00:00:00",
          "2023-03-25T00:00:00",
          "2023-03-26T00:00:00",
          "2023-03-27T00:00:00",
          "2023-03-28T00:00:00",
          "2023-03-29T00:00:00",
          "2023-03-30T00:00:00",
          "2023-03-31T00:00:00",
          "2023-04-01T00:00:00",
          "2023-04-02T00:00:00",
          "2023-04-03T00:00:00",
          "2023-04-04T00:00:00",
          "2023-04-05T00:00:00",
          "2023-04-06T00:00:00",
          "2023-04-07T00:00:00",
          "2023-04-08T00:00:00",
          "2023-04-09T00:00:00",
          "2023-04-10T00:00:00",
          "2023-04-11T00:00:00",
          "2023-04-12T00:00:00",
          "2023-04-13T00:00:00",
          "2023-04-14T00:00:00",
          "2023-04-15T00:00:00",
          "2023-04-16T00:00:00",
          "2023-04-17T00:00:00",
          "2023-04-18T00:00:00",
          "2023-04-19T00:00:00",
          "2023-04-20T00:00:00",
          "2023-04-21T00:00:00",
          "2023-04-22T00:00:00",
          "2023-04-23T00:00:00",
          "2023-04-24T00:00:00",
          "2023-04-25T00:00:00",
          "2023-04-26T00:00:00",
          "2023-04-27T00:00:00",
          "2023-04-28T00:00:00",
          "2023-04-29T00:00:00",
          "2023-04-30T00:00:00",
          "2023-05-01T00:00:00",
          "2023-05-02T00:00:00",
          "2023-05-03T00:00:00",
          "2023-05-04T00:00:00",
          "2023-05-05T00:00:00",
          "2023-05-06T00:00:00",
          "2023-05-07T00:00:00",
          "2023-05-08T00:00:00",
          "2023-05-09T00:00:00",
          "2023-05-10T00:00:00",
          "2023-05-11T00:00:00",
          "2023-05-12T00:00:00",
          "2023-05-13T00:00:00",
          "2023-05-14T00:00:00",
          "2023-05-15T00:00:00",
          "2023-05-16T00:00:00",
          "2023-05-17T00:00:00",
          "2023-05-18T00:00:00",
          "2023-05-19T00:00:00",
          "2023-05-20T00:00:00",
          "2023-05-21T00:00:00",
          "2023-05-22T00:00:00",
          "2023-05-23T00:00:00",
          "2023-05-24T00:00:00",
          "2023-05-25T00:00:00",
          "2023-05-26T00:00:00",
          "2023-05-27T00:00:00",
          "2023-05-28T00:00:00",
          "2023-05-29T00:00:00",
          "2023-05-30T00:00:00",
          "2023-05-31T00:00:00"
         ],
         "y": [
          5000,
          5000,
          5000,
          5000,
          5000,
          5000,
          5000,
          4923.820175556861,
          4947.966447227419,
          4868.061133369202,
          4868.061133369202,
          4868.061133369202,
          4868.061133369202,
          4868.061133369202,
          4868.061133369202,
          4868.061133369202,
          4868.061133369202,
          4868.061133369202,
          4868.061133369202,
          4868.061133369202,
          4868.061133369202,
          4868.061133369202,
          4868.061133369202,
          4868.061133369202,
          4868.061133369202,
          4868.061133369202,
          4868.061133369202,
          4868.061133369202,
          4868.061133369202,
          4868.061133369202,
          4868.061133369202,
          4868.061133369202,
          4868.061133369202,
          4868.061133369202,
          4868.061133369203,
          4808.2346044338865,
          4751.264046635277,
          4854.958845743859,
          4897.33189576459,
          4734.596308220587,
          4796.420543585795,
          4969.561704978404,
          4969.561704978404,
          4969.561704978404,
          4969.561704978404,
          4969.561704978404,
          4969.561704978404,
          4969.561704978404,
          4969.561704978403,
          4842.2963942730785,
          4842.2963942730785,
          4842.2963942730785,
          4842.2963942730785,
          4842.2963942730785,
          4842.2963942730785,
          4842.2963942730785,
          4842.2963942730785,
          4842.2963942730785,
          4842.2963942730785,
          4842.2963942730785,
          4842.2963942730785,
          4842.2963942730785,
          4842.2963942730785,
          4842.2963942730785,
          4842.2963942730785,
          4842.2963942730785,
          4842.2963942730785,
          4842.2963942730785,
          4842.2963942730785,
          4842.2963942730785,
          4842.2963942730785,
          4842.2963942730785,
          4842.2963942730785,
          4842.2963942730785,
          4842.2963942730785,
          5065.880451536405,
          5065.880451536405,
          5065.880451536405,
          5065.8804515364045,
          4953.256580780871,
          5083.663246948612,
          4846.133410244523,
          4846.133410244523,
          4846.133410244523,
          4846.133410244523,
          4846.133410244523,
          4846.133410244523,
          4846.133410244523,
          4846.133410244523,
          4846.133410244523,
          4846.133410244523,
          4846.133410244523,
          4846.133410244523,
          4846.133410244523,
          4846.133410244523,
          4846.133410244523,
          4846.133410244523,
          4846.1334102445235,
          4863.295301759032,
          4901.980331123457,
          4879.629661710742,
          4732.609351924022,
          4732.609351924022,
          4666.093034996292,
          4588.236612101093,
          4588.236612101093,
          4588.236612101093,
          4588.236612101093,
          4588.236612101093,
          4588.236612101093,
          4588.236612101093,
          4588.236612101093,
          4588.236612101093,
          4588.236612101093,
          4588.236612101093,
          4588.236612101093,
          4588.236612101093,
          4588.236612101093,
          4588.236612101093,
          4588.236612101093,
          4588.236612101093,
          4588.236612101093,
          4588.236612101093,
          4588.236612101093,
          4588.236612101093,
          4588.236612101093,
          4588.236612101093,
          4588.236612101093,
          4588.236612101093,
          4588.236612101093,
          4588.236612101093,
          4588.236612101093,
          4588.236612101093,
          4588.236612101093,
          4588.236612101093,
          4588.236612101093,
          4588.236612101093,
          4588.236612101093,
          4588.236612101093,
          4588.236612101093,
          4588.236612101093,
          4588.236612101093,
          4588.236612101093,
          4588.236612101093,
          4588.236612101093,
          4588.236612101093,
          4588.236612101093,
          4588.236612101093,
          4588.236612101093,
          4588.236612101093,
          4588.236612101093,
          4588.236612101093
         ]
        },
        {
         "line": {
          "color": "#000088"
         },
         "mode": "lines",
         "name": "Hold cash",
         "type": "scatter",
         "x": [
          "2023-01-01T00:00:00",
          "2023-05-31T00:00:00"
         ],
         "y": [
          5000,
          5000
         ]
        },
        {
         "line": {
          "color": "#880000"
         },
         "mode": "lines",
         "name": "Buy and hold WETH",
         "type": "scatter",
         "x": [
          "2023-01-01T00:00:00",
          "2023-01-02T00:00:00",
          "2023-01-03T00:00:00",
          "2023-01-04T00:00:00",
          "2023-01-05T00:00:00",
          "2023-01-06T00:00:00",
          "2023-01-07T00:00:00",
          "2023-01-08T00:00:00",
          "2023-01-09T00:00:00",
          "2023-01-10T00:00:00",
          "2023-01-11T00:00:00",
          "2023-01-12T00:00:00",
          "2023-01-13T00:00:00",
          "2023-01-14T00:00:00",
          "2023-01-15T00:00:00",
          "2023-01-16T00:00:00",
          "2023-01-17T00:00:00",
          "2023-01-18T00:00:00",
          "2023-01-19T00:00:00",
          "2023-01-20T00:00:00",
          "2023-01-21T00:00:00",
          "2023-01-22T00:00:00",
          "2023-01-23T00:00:00",
          "2023-01-24T00:00:00",
          "2023-01-25T00:00:00",
          "2023-01-26T00:00:00",
          "2023-01-27T00:00:00",
          "2023-01-28T00:00:00",
          "2023-01-29T00:00:00",
          "2023-01-30T00:00:00",
          "2023-01-31T00:00:00",
          "2023-02-01T00:00:00",
          "2023-02-02T00:00:00",
          "2023-02-03T00:00:00",
          "2023-02-04T00:00:00",
          "2023-02-05T00:00:00",
          "2023-02-06T00:00:00",
          "2023-02-07T00:00:00",
          "2023-02-08T00:00:00",
          "2023-02-09T00:00:00",
          "2023-02-10T00:00:00",
          "2023-02-11T00:00:00",
          "2023-02-12T00:00:00",
          "2023-02-13T00:00:00",
          "2023-02-14T00:00:00",
          "2023-02-15T00:00:00",
          "2023-02-16T00:00:00",
          "2023-02-17T00:00:00",
          "2023-02-18T00:00:00",
          "2023-02-19T00:00:00",
          "2023-02-20T00:00:00",
          "2023-02-21T00:00:00",
          "2023-02-22T00:00:00",
          "2023-02-23T00:00:00",
          "2023-02-24T00:00:00",
          "2023-02-25T00:00:00",
          "2023-02-26T00:00:00",
          "2023-02-27T00:00:00",
          "2023-02-28T00:00:00",
          "2023-03-01T00:00:00",
          "2023-03-02T00:00:00",
          "2023-03-03T00:00:00",
          "2023-03-04T00:00:00",
          "2023-03-05T00:00:00",
          "2023-03-06T00:00:00",
          "2023-03-07T00:00:00",
          "2023-03-08T00:00:00",
          "2023-03-09T00:00:00",
          "2023-03-10T00:00:00",
          "2023-03-11T00:00:00",
          "2023-03-12T00:00:00",
          "2023-03-13T00:00:00",
          "2023-03-14T00:00:00",
          "2023-03-15T00:00:00",
          "2023-03-16T00:00:00",
          "2023-03-17T00:00:00",
          "2023-03-18T00:00:00",
          "2023-03-19T00:00:00",
          "2023-03-20T00:00:00",
          "2023-03-21T00:00:00",
          "2023-03-22T00:00:00",
          "2023-03-23T00:00:00",
          "2023-03-24T00:00:00",
          "2023-03-25T00:00:00",
          "2023-03-26T00:00:00",
          "2023-03-27T00:00:00",
          "2023-03-28T00:00:00",
          "2023-03-29T00:00:00",
          "2023-03-30T00:00:00",
          "2023-03-31T00:00:00",
          "2023-04-01T00:00:00",
          "2023-04-02T00:00:00",
          "2023-04-03T00:00:00",
          "2023-04-04T00:00:00",
          "2023-04-05T00:00:00",
          "2023-04-06T00:00:00",
          "2023-04-07T00:00:00",
          "2023-04-08T00:00:00",
          "2023-04-09T00:00:00",
          "2023-04-10T00:00:00",
          "2023-04-11T00:00:00",
          "2023-04-12T00:00:00",
          "2023-04-13T00:00:00",
          "2023-04-14T00:00:00",
          "2023-04-15T00:00:00",
          "2023-04-16T00:00:00",
          "2023-04-17T00:00:00",
          "2023-04-18T00:00:00",
          "2023-04-19T00:00:00",
          "2023-04-20T00:00:00",
          "2023-04-21T00:00:00",
          "2023-04-22T00:00:00",
          "2023-04-23T00:00:00",
          "2023-04-24T00:00:00",
          "2023-04-25T00:00:00",
          "2023-04-26T00:00:00",
          "2023-04-27T00:00:00",
          "2023-04-28T00:00:00",
          "2023-04-29T00:00:00",
          "2023-04-30T00:00:00",
          "2023-05-01T00:00:00",
          "2023-05-02T00:00:00",
          "2023-05-03T00:00:00",
          "2023-05-04T00:00:00",
          "2023-05-05T00:00:00",
          "2023-05-06T00:00:00",
          "2023-05-07T00:00:00",
          "2023-05-08T00:00:00",
          "2023-05-09T00:00:00",
          "2023-05-10T00:00:00",
          "2023-05-11T00:00:00",
          "2023-05-12T00:00:00",
          "2023-05-13T00:00:00",
          "2023-05-14T00:00:00",
          "2023-05-15T00:00:00",
          "2023-05-16T00:00:00",
          "2023-05-17T00:00:00",
          "2023-05-18T00:00:00",
          "2023-05-19T00:00:00",
          "2023-05-20T00:00:00",
          "2023-05-21T00:00:00",
          "2023-05-22T00:00:00",
          "2023-05-23T00:00:00",
          "2023-05-24T00:00:00",
          "2023-05-25T00:00:00",
          "2023-05-26T00:00:00",
          "2023-05-27T00:00:00",
          "2023-05-28T00:00:00",
          "2023-05-29T00:00:00",
          "2023-05-30T00:00:00",
          "2023-05-31T00:00:00"
         ],
         "y": [
          5000,
          5058.33477088815,
          5061.370530602072,
          5234.313099282488,
          5210.291751528506,
          5290.618128980098,
          5264.758800186135,
          5370.034551503642,
          5506.521338460496,
          5567.981123179073,
          5787.095951163303,
          5906.949729662752,
          6046.795172087347,
          6462.55715107931,
          6470.9635180190435,
          6571.382577577547,
          6524.893317856712,
          6303.003924722023,
          6469.022617156749,
          6917.965188720854,
          6776.91991187751,
          6785.056690030162,
          6781.665179206221,
          6483.269420323767,
          6714.861259069948,
          6680.036344984277,
          6659.36132887978,
          6557.597842427451,
          6863.531282397127,
          6529.462113635201,
          6611.588504449317,
          6845.71016958906,
          6851.873773772476,
          6939.443080462046,
          6944.996578359134,
          6793.20323768866,
          6731.668572254077,
          6968.6485697474445,
          6877.9591206384575,
          6441.911051859488,
          6308.0480930559115,
          6413.630320477304,
          6316.253477658948,
          6281.611169289471,
          6486.511703425706,
          6982.599115266857,
          6833.3995896481765,
          7064.771185663354,
          7055.5934088505865,
          7010.5840450529595,
          7101.601831017609,
          6918.656985239726,
          6850.503604546531,
          6878.646916550522,
          6698.09590959414,
          6648.05059699382,
          6838.868223054497,
          6810.2066410255575,
          6687.388060086175,
          6939.443080462046,
          6866.9637344600915,
          6538.6093047821905,
          6528.80923271193,
          6522.936241289714,
          6526.850981605392,
          6509.904056933695,
          6392.501278946371,
          5993.8194583075665,
          5971.684408139839,
          6385.4737447627585,
          6674.027317188272,
          7002.176809903557,
          7115.107025119879,
          6899.312807360425,
          6994.479034847437,
          7470.917631027665,
          7350.869780589808,
          7447.050096386589,
          7250.854533952891,
          7534.68788206851,
          7249.404580542736,
          7577.756077377802,
          7299.595923632767,
          7266.823174573181,
          7401.023516907015,
          7152.9153054148655,
          7391.4089179003195,
          7473.1591304519725,
          7476.896457407846,
          7599.762363398998,
          7590.648573612289,
          7483.62835653039,
          7543.734482078997,
          7800.717166692,
          7962.274091844697,
          7803.837921632911,
          7777.351249867094,
          7714.612277485469,
          7750.954475378524,
          7964.663012948435,
          7886.994396583588,
          7998.183264874904,
          8391.439039278643,
          8762.750671928083,
          8724.281187340846,
          8834.89701595195,
          8653.0381393725,
          8772.394518626215,
          8081.794213711458,
          8098.7829640817245,
          7707.672596738728,
          7814.770399057082,
          7764.141644557247,
          7679.208322699117,
          7782.018827375259,
          7778.12898499208,
          7960.681875862706,
          7890.938682560191,
          7957.498399021362,
          7799.1572572489795,
          7633.273312304411,
          7796.81797794326,
          7937.630491634209,
          7823.370945909459,
          8307.94697944965,
          7921.7718874580505,
          7807.740621055561,
          7709.985129755636,
          7703.819916321533,
          7678.4404786512505,
          7488.1196562382465,
          7536.194894991801,
          7487.370919146332,
          7502.359895528601,
          7576.240753464702,
          7604.323360933399,
          7595.963621915715,
          7510.61661894976,
          7555.058008156749,
          7584.578786476258,
          7521.89043344399,
          7580.7876345044315,
          7729.283240278133,
          7506.111825787381,
          7530.921668066996,
          7624.11933550536,
          7633.273312304411,
          7958.294148861266,
          7890.149667593433,
          7922.564064646794,
          7812.426436745454
         ]
        }
       ],
       "layout": {
        "height": 800,
        "legend": {
         "orientation": "h",
         "x": 1,
         "xanchor": "right",
         "y": 1.02,
         "yanchor": "bottom"
        },
        "template": {
         "data": {
          "bar": [
           {
            "error_x": {
             "color": "#2a3f5f"
            },
            "error_y": {
             "color": "#2a3f5f"
            },
            "marker": {
             "line": {
              "color": "#E5ECF6",
              "width": 0.5
             },
             "pattern": {
              "fillmode": "overlay",
              "size": 10,
              "solidity": 0.2
             }
            },
            "type": "bar"
           }
          ],
          "barpolar": [
           {
            "marker": {
             "line": {
              "color": "#E5ECF6",
              "width": 0.5
             },
             "pattern": {
              "fillmode": "overlay",
              "size": 10,
              "solidity": 0.2
             }
            },
            "type": "barpolar"
           }
          ],
          "carpet": [
           {
            "aaxis": {
             "endlinecolor": "#2a3f5f",
             "gridcolor": "white",
             "linecolor": "white",
             "minorgridcolor": "white",
             "startlinecolor": "#2a3f5f"
            },
            "baxis": {
             "endlinecolor": "#2a3f5f",
             "gridcolor": "white",
             "linecolor": "white",
             "minorgridcolor": "white",
             "startlinecolor": "#2a3f5f"
            },
            "type": "carpet"
           }
          ],
          "choropleth": [
           {
            "colorbar": {
             "outlinewidth": 0,
             "ticks": ""
            },
            "type": "choropleth"
           }
          ],
          "contour": [
           {
            "colorbar": {
             "outlinewidth": 0,
             "ticks": ""
            },
            "colorscale": [
             [
              0,
              "#0d0887"
             ],
             [
              0.1111111111111111,
              "#46039f"
             ],
             [
              0.2222222222222222,
              "#7201a8"
             ],
             [
              0.3333333333333333,
              "#9c179e"
             ],
             [
              0.4444444444444444,
              "#bd3786"
             ],
             [
              0.5555555555555556,
              "#d8576b"
             ],
             [
              0.6666666666666666,
              "#ed7953"
             ],
             [
              0.7777777777777778,
              "#fb9f3a"
             ],
             [
              0.8888888888888888,
              "#fdca26"
             ],
             [
              1,
              "#f0f921"
             ]
            ],
            "type": "contour"
           }
          ],
          "contourcarpet": [
           {
            "colorbar": {
             "outlinewidth": 0,
             "ticks": ""
            },
            "type": "contourcarpet"
           }
          ],
          "heatmap": [
           {
            "colorbar": {
             "outlinewidth": 0,
             "ticks": ""
            },
            "colorscale": [
             [
              0,
              "#0d0887"
             ],
             [
              0.1111111111111111,
              "#46039f"
             ],
             [
              0.2222222222222222,
              "#7201a8"
             ],
             [
              0.3333333333333333,
              "#9c179e"
             ],
             [
              0.4444444444444444,
              "#bd3786"
             ],
             [
              0.5555555555555556,
              "#d8576b"
             ],
             [
              0.6666666666666666,
              "#ed7953"
             ],
             [
              0.7777777777777778,
              "#fb9f3a"
             ],
             [
              0.8888888888888888,
              "#fdca26"
             ],
             [
              1,
              "#f0f921"
             ]
            ],
            "type": "heatmap"
           }
          ],
          "heatmapgl": [
           {
            "colorbar": {
             "outlinewidth": 0,
             "ticks": ""
            },
            "colorscale": [
             [
              0,
              "#0d0887"
             ],
             [
              0.1111111111111111,
              "#46039f"
             ],
             [
              0.2222222222222222,
              "#7201a8"
             ],
             [
              0.3333333333333333,
              "#9c179e"
             ],
             [
              0.4444444444444444,
              "#bd3786"
             ],
             [
              0.5555555555555556,
              "#d8576b"
             ],
             [
              0.6666666666666666,
              "#ed7953"
             ],
             [
              0.7777777777777778,
              "#fb9f3a"
             ],
             [
              0.8888888888888888,
              "#fdca26"
             ],
             [
              1,
              "#f0f921"
             ]
            ],
            "type": "heatmapgl"
           }
          ],
          "histogram": [
           {
            "marker": {
             "pattern": {
              "fillmode": "overlay",
              "size": 10,
              "solidity": 0.2
             }
            },
            "type": "histogram"
           }
          ],
          "histogram2d": [
           {
            "colorbar": {
             "outlinewidth": 0,
             "ticks": ""
            },
            "colorscale": [
             [
              0,
              "#0d0887"
             ],
             [
              0.1111111111111111,
              "#46039f"
             ],
             [
              0.2222222222222222,
              "#7201a8"
             ],
             [
              0.3333333333333333,
              "#9c179e"
             ],
             [
              0.4444444444444444,
              "#bd3786"
             ],
             [
              0.5555555555555556,
              "#d8576b"
             ],
             [
              0.6666666666666666,
              "#ed7953"
             ],
             [
              0.7777777777777778,
              "#fb9f3a"
             ],
             [
              0.8888888888888888,
              "#fdca26"
             ],
             [
              1,
              "#f0f921"
             ]
            ],
            "type": "histogram2d"
           }
          ],
          "histogram2dcontour": [
           {
            "colorbar": {
             "outlinewidth": 0,
             "ticks": ""
            },
            "colorscale": [
             [
              0,
              "#0d0887"
             ],
             [
              0.1111111111111111,
              "#46039f"
             ],
             [
              0.2222222222222222,
              "#7201a8"
             ],
             [
              0.3333333333333333,
              "#9c179e"
             ],
             [
              0.4444444444444444,
              "#bd3786"
             ],
             [
              0.5555555555555556,
              "#d8576b"
             ],
             [
              0.6666666666666666,
              "#ed7953"
             ],
             [
              0.7777777777777778,
              "#fb9f3a"
             ],
             [
              0.8888888888888888,
              "#fdca26"
             ],
             [
              1,
              "#f0f921"
             ]
            ],
            "type": "histogram2dcontour"
           }
          ],
          "mesh3d": [
           {
            "colorbar": {
             "outlinewidth": 0,
             "ticks": ""
            },
            "type": "mesh3d"
           }
          ],
          "parcoords": [
           {
            "line": {
             "colorbar": {
              "outlinewidth": 0,
              "ticks": ""
             }
            },
            "type": "parcoords"
           }
          ],
          "pie": [
           {
            "automargin": true,
            "type": "pie"
           }
          ],
          "scatter": [
           {
            "fillpattern": {
             "fillmode": "overlay",
             "size": 10,
             "solidity": 0.2
            },
            "type": "scatter"
           }
          ],
          "scatter3d": [
           {
            "line": {
             "colorbar": {
              "outlinewidth": 0,
              "ticks": ""
             }
            },
            "marker": {
             "colorbar": {
              "outlinewidth": 0,
              "ticks": ""
             }
            },
            "type": "scatter3d"
           }
          ],
          "scattercarpet": [
           {
            "marker": {
             "colorbar": {
              "outlinewidth": 0,
              "ticks": ""
             }
            },
            "type": "scattercarpet"
           }
          ],
          "scattergeo": [
           {
            "marker": {
             "colorbar": {
              "outlinewidth": 0,
              "ticks": ""
             }
            },
            "type": "scattergeo"
           }
          ],
          "scattergl": [
           {
            "marker": {
             "colorbar": {
              "outlinewidth": 0,
              "ticks": ""
             }
            },
            "type": "scattergl"
           }
          ],
          "scattermapbox": [
           {
            "marker": {
             "colorbar": {
              "outlinewidth": 0,
              "ticks": ""
             }
            },
            "type": "scattermapbox"
           }
          ],
          "scatterpolar": [
           {
            "marker": {
             "colorbar": {
              "outlinewidth": 0,
              "ticks": ""
             }
            },
            "type": "scatterpolar"
           }
          ],
          "scatterpolargl": [
           {
            "marker": {
             "colorbar": {
              "outlinewidth": 0,
              "ticks": ""
             }
            },
            "type": "scatterpolargl"
           }
          ],
          "scatterternary": [
           {
            "marker": {
             "colorbar": {
              "outlinewidth": 0,
              "ticks": ""
             }
            },
            "type": "scatterternary"
           }
          ],
          "surface": [
           {
            "colorbar": {
             "outlinewidth": 0,
             "ticks": ""
            },
            "colorscale": [
             [
              0,
              "#0d0887"
             ],
             [
              0.1111111111111111,
              "#46039f"
             ],
             [
              0.2222222222222222,
              "#7201a8"
             ],
             [
              0.3333333333333333,
              "#9c179e"
             ],
             [
              0.4444444444444444,
              "#bd3786"
             ],
             [
              0.5555555555555556,
              "#d8576b"
             ],
             [
              0.6666666666666666,
              "#ed7953"
             ],
             [
              0.7777777777777778,
              "#fb9f3a"
             ],
             [
              0.8888888888888888,
              "#fdca26"
             ],
             [
              1,
              "#f0f921"
             ]
            ],
            "type": "surface"
           }
          ],
          "table": [
           {
            "cells": {
             "fill": {
              "color": "#EBF0F8"
             },
             "line": {
              "color": "white"
             }
            },
            "header": {
             "fill": {
              "color": "#C8D4E3"
             },
             "line": {
              "color": "white"
             }
            },
            "type": "table"
           }
          ]
         },
         "layout": {
          "annotationdefaults": {
           "arrowcolor": "#2a3f5f",
           "arrowhead": 0,
           "arrowwidth": 1
          },
          "autotypenumbers": "strict",
          "coloraxis": {
           "colorbar": {
            "outlinewidth": 0,
            "ticks": ""
           }
          },
          "colorscale": {
           "diverging": [
            [
             0,
             "#8e0152"
            ],
            [
             0.1,
             "#c51b7d"
            ],
            [
             0.2,
             "#de77ae"
            ],
            [
             0.3,
             "#f1b6da"
            ],
            [
             0.4,
             "#fde0ef"
            ],
            [
             0.5,
             "#f7f7f7"
            ],
            [
             0.6,
             "#e6f5d0"
            ],
            [
             0.7,
             "#b8e186"
            ],
            [
             0.8,
             "#7fbc41"
            ],
            [
             0.9,
             "#4d9221"
            ],
            [
             1,
             "#276419"
            ]
           ],
           "sequential": [
            [
             0,
             "#0d0887"
            ],
            [
             0.1111111111111111,
             "#46039f"
            ],
            [
             0.2222222222222222,
             "#7201a8"
            ],
            [
             0.3333333333333333,
             "#9c179e"
            ],
            [
             0.4444444444444444,
             "#bd3786"
            ],
            [
             0.5555555555555556,
             "#d8576b"
            ],
            [
             0.6666666666666666,
             "#ed7953"
            ],
            [
             0.7777777777777778,
             "#fb9f3a"
            ],
            [
             0.8888888888888888,
             "#fdca26"
            ],
            [
             1,
             "#f0f921"
            ]
           ],
           "sequentialminus": [
            [
             0,
             "#0d0887"
            ],
            [
             0.1111111111111111,
             "#46039f"
            ],
            [
             0.2222222222222222,
             "#7201a8"
            ],
            [
             0.3333333333333333,
             "#9c179e"
            ],
            [
             0.4444444444444444,
             "#bd3786"
            ],
            [
             0.5555555555555556,
             "#d8576b"
            ],
            [
             0.6666666666666666,
             "#ed7953"
            ],
            [
             0.7777777777777778,
             "#fb9f3a"
            ],
            [
             0.8888888888888888,
             "#fdca26"
            ],
            [
             1,
             "#f0f921"
            ]
           ]
          },
          "colorway": [
           "#636efa",
           "#EF553B",
           "#00cc96",
           "#ab63fa",
           "#FFA15A",
           "#19d3f3",
           "#FF6692",
           "#B6E880",
           "#FF97FF",
           "#FECB52"
          ],
          "font": {
           "color": "#2a3f5f"
          },
          "geo": {
           "bgcolor": "white",
           "lakecolor": "white",
           "landcolor": "#E5ECF6",
           "showlakes": true,
           "showland": true,
           "subunitcolor": "white"
          },
          "hoverlabel": {
           "align": "left"
          },
          "hovermode": "closest",
          "mapbox": {
           "style": "light"
          },
          "paper_bgcolor": "white",
          "plot_bgcolor": "#E5ECF6",
          "polar": {
           "angularaxis": {
            "gridcolor": "white",
            "linecolor": "white",
            "ticks": ""
           },
           "bgcolor": "#E5ECF6",
           "radialaxis": {
            "gridcolor": "white",
            "linecolor": "white",
            "ticks": ""
           }
          },
          "scene": {
           "xaxis": {
            "backgroundcolor": "#E5ECF6",
            "gridcolor": "white",
            "gridwidth": 2,
            "linecolor": "white",
            "showbackground": true,
            "ticks": "",
            "zerolinecolor": "white"
           },
           "yaxis": {
            "backgroundcolor": "#E5ECF6",
            "gridcolor": "white",
            "gridwidth": 2,
            "linecolor": "white",
            "showbackground": true,
            "ticks": "",
            "zerolinecolor": "white"
           },
           "zaxis": {
            "backgroundcolor": "#E5ECF6",
            "gridcolor": "white",
            "gridwidth": 2,
            "linecolor": "white",
            "showbackground": true,
            "ticks": "",
            "zerolinecolor": "white"
           }
          },
          "shapedefaults": {
           "line": {
            "color": "#2a3f5f"
           }
          },
          "ternary": {
           "aaxis": {
            "gridcolor": "white",
            "linecolor": "white",
            "ticks": ""
           },
           "baxis": {
            "gridcolor": "white",
            "linecolor": "white",
            "ticks": ""
           },
           "bgcolor": "#E5ECF6",
           "caxis": {
            "gridcolor": "white",
            "linecolor": "white",
            "ticks": ""
           }
          },
          "title": {
           "x": 0.05
          },
          "xaxis": {
           "automargin": true,
           "gridcolor": "white",
           "linecolor": "white",
           "ticks": "",
           "title": {
            "standoff": 15
           },
           "zerolinecolor": "white",
           "zerolinewidth": 2
          },
          "yaxis": {
           "automargin": true,
           "gridcolor": "white",
           "linecolor": "white",
           "ticks": "",
           "title": {
            "standoff": 15
           },
           "zerolinecolor": "white",
           "zerolinewidth": 2
          }
         }
        },
        "title": {
         "text": "Example short strategy"
        },
        "xaxis": {
         "rangeslider": {
          "visible": false
         }
        },
        "yaxis": {
         "showgrid": false,
         "title": {
          "text": "Value $"
         }
        }
       }
      }
     },
     "metadata": {},
     "output_type": "display_data"
    }
   ],
   "source": [
    "from tradeexecutor.visual.benchmark import visualise_benchmark\n",
    "\n",
    "traded_pair = universe.universe.pairs.get_single()\n",
    "\n",
    "fig = visualise_benchmark(\n",
    "    \"Example short strategy\",\n",
    "    portfolio_statistics=state.stats.portfolio,\n",
    "    all_cash=state.portfolio.get_initial_deposit(),\n",
    "    buy_and_hold_asset_name=traded_pair.base_token_symbol,\n",
    "    buy_and_hold_price_series=universe.universe.candles.get_single_pair_data()[\"close\"],\n",
    "    start_at=START_AT,\n",
    "    end_at=END_AT,\n",
    "    height=800\n",
    ")\n",
    "\n",
    "fig.show()"
   ]
  },
  {
   "cell_type": "markdown",
   "metadata": {},
   "source": [
    "## Analysing  the strategy success\n",
    "\n",
    "Here we calculate statistics on how well the strategy performed.\n",
    "\n",
    "- Won/lost trades\n",
    "- Timeline of taken positions with color coding of trade performance\n"
   ]
  },
  {
   "cell_type": "code",
   "execution_count": 23,
   "metadata": {
    "collapsed": false,
    "jupyter": {
     "outputs_hidden": false
    }
   },
   "outputs": [],
   "source": [
    "from tradeexecutor.analysis.trade_analyser import build_trade_analysis\n",
    "\n",
    "analysis = build_trade_analysis(state.portfolio)"
   ]
  },
  {
   "cell_type": "markdown",
   "metadata": {},
   "source": [
    "### Strategy summary\n",
    "\n",
    "Overview of strategy performance\n",
    "\n"
   ]
  },
  {
   "cell_type": "code",
   "execution_count": 24,
   "metadata": {
    "collapsed": false,
    "jupyter": {
     "outputs_hidden": false
    }
   },
   "outputs": [
    {
     "data": {
      "text/html": [
       "<table border=\"1\" class=\"dataframe\">\n",
       "  <thead>\n",
       "    <tr style=\"text-align: right;\">\n",
       "      <th></th>\n",
       "      <th>0</th>\n",
       "    </tr>\n",
       "  </thead>\n",
       "  <tbody>\n",
       "    <tr>\n",
       "      <th>Trading period length</th>\n",
       "      <td>97 days 8 hours</td>\n",
       "    </tr>\n",
       "    <tr>\n",
       "      <th><a href=\"https://tradingstrategy.ai/glossary/aggregate-return\">Return %</a></th>\n",
       "      <td>-8.24%</td>\n",
       "    </tr>\n",
       "    <tr>\n",
       "      <th>Annualised return %</th>\n",
       "      <td>-30.87%</td>\n",
       "    </tr>\n",
       "    <tr>\n",
       "      <th>Cash at start</th>\n",
       "      <td>$5,000.00</td>\n",
       "    </tr>\n",
       "    <tr>\n",
       "      <th>Value at end</th>\n",
       "      <td>$4,588.24</td>\n",
       "    </tr>\n",
       "    <tr>\n",
       "      <th><a href=\"https://tradingstrategy.ai/glossary/volume\">Trade volume</a></th>\n",
       "      <td>$88,428.96</td>\n",
       "    </tr>\n",
       "    <tr>\n",
       "      <th><a href=\"https://tradingstrategy.ai/glossary/position\">Position win percent</a></th>\n",
       "      <td>22.22%</td>\n",
       "    </tr>\n",
       "    <tr>\n",
       "      <th><a href=\"https://tradingstrategy.ai/glossary/position\">Total positions</a></th>\n",
       "      <td>9</td>\n",
       "    </tr>\n",
       "    <tr>\n",
       "      <th><a href=\"https://tradingstrategy.ai/glossary/position\">Won positions</a></th>\n",
       "      <td>2</td>\n",
       "    </tr>\n",
       "    <tr>\n",
       "      <th><a href=\"https://tradingstrategy.ai/glossary/position\">Lost positions</a></th>\n",
       "      <td>7</td>\n",
       "    </tr>\n",
       "    <tr>\n",
       "      <th><a href=\"https://tradingstrategy.ai/glossary/stop-loss\">Stop losses triggered</a></th>\n",
       "      <td>7</td>\n",
       "    </tr>\n",
       "    <tr>\n",
       "      <th><a href=\"https://tradingstrategy.ai/glossary/stop-loss\">Stop loss % of all</a></th>\n",
       "      <td>77.78%</td>\n",
       "    </tr>\n",
       "    <tr>\n",
       "      <th><a href=\"https://tradingstrategy.ai/glossary/stop-loss\">Stop loss % of lost</a></th>\n",
       "      <td>100.00%</td>\n",
       "    </tr>\n",
       "    <tr>\n",
       "      <th><a href=\"https://tradingstrategy.ai/glossary/stop-loss\">Winning stop losses</a></th>\n",
       "      <td>0</td>\n",
       "    </tr>\n",
       "    <tr>\n",
       "      <th><a href=\"https://tradingstrategy.ai/glossary/stop-loss\">Winning stop losses percent</a></th>\n",
       "      <td>0.00%</td>\n",
       "    </tr>\n",
       "    <tr>\n",
       "      <th><a href=\"https://tradingstrategy.ai/glossary/stop-loss\">Losing stop losses</a></th>\n",
       "      <td>7</td>\n",
       "    </tr>\n",
       "    <tr>\n",
       "      <th><a href=\"https://tradingstrategy.ai/glossary/stop-loss\">Losing stop losses percent</a></th>\n",
       "      <td>100.00%</td>\n",
       "    </tr>\n",
       "    <tr>\n",
       "      <th><a href=\"https://tradingstrategy.ai/glossary/take-profit\">Take profits triggered</a></th>\n",
       "      <td>2</td>\n",
       "    </tr>\n",
       "    <tr>\n",
       "      <th><a href=\"https://tradingstrategy.ai/glossary/take-profit\">Take profit % of all</a></th>\n",
       "      <td>22.22%</td>\n",
       "    </tr>\n",
       "    <tr>\n",
       "      <th><a href=\"https://tradingstrategy.ai/glossary/take-profit\">Take profit % of won</a></th>\n",
       "      <td>100.00%</td>\n",
       "    </tr>\n",
       "    <tr>\n",
       "      <th><a href=\"https://tradingstrategy.ai/glossary/position\">Zero profit positions</a></th>\n",
       "      <td>0</td>\n",
       "    </tr>\n",
       "    <tr>\n",
       "      <th><a href=\"https://tradingstrategy.ai/glossary/open-position\">Positions open at the end</a></th>\n",
       "      <td>0</td>\n",
       "    </tr>\n",
       "    <tr>\n",
       "      <th><a href=\"https://tradingstrategy.ai/glossary/realised-profit-and-loss\">Realised profit and loss</a></th>\n",
       "      <td>$-411.73</td>\n",
       "    </tr>\n",
       "    <tr>\n",
       "      <th><a href=\"https://tradingstrategy.ai/glossary/unrealised-profit-and-loss\">Unrealised profit and loss</a></th>\n",
       "      <td>$0.00</td>\n",
       "    </tr>\n",
       "    <tr>\n",
       "      <th><a href=\"https://tradingstrategy.ai/glossary/unrealised-profit-and-loss\">Portfolio unrealised value</a></th>\n",
       "      <td>$0.00</td>\n",
       "    </tr>\n",
       "    <tr>\n",
       "      <th><a href=\"https://tradingstrategy.ai/glossary/lending-pool\">Extra returns on lending pool interest</a></th>\n",
       "      <td>$0.00</td>\n",
       "    </tr>\n",
       "    <tr>\n",
       "      <th>Cash left at the end</th>\n",
       "      <td>$4,588.24</td>\n",
       "    </tr>\n",
       "    <tr>\n",
       "      <th>Average winning position profit %</th>\n",
       "      <td>4.82%</td>\n",
       "    </tr>\n",
       "    <tr>\n",
       "      <th>Average losing position loss %</th>\n",
       "      <td>-2.43%</td>\n",
       "    </tr>\n",
       "    <tr>\n",
       "      <th>Biggest winning position %</th>\n",
       "      <td>4.84%</td>\n",
       "    </tr>\n",
       "    <tr>\n",
       "      <th>Biggest losing position %</th>\n",
       "      <td>-2.97%</td>\n",
       "    </tr>\n",
       "    <tr>\n",
       "      <th>Average duration of winning positions</th>\n",
       "      <td>2 days 18 hours</td>\n",
       "    </tr>\n",
       "    <tr>\n",
       "      <th>Average duration of losing positions</th>\n",
       "      <td>1 days 19 hours</td>\n",
       "    </tr>\n",
       "    <tr>\n",
       "      <th><a href=\"https://tradingstrategy.ai/glossary/liquidity-provider\">LP fees paid</a></th>\n",
       "      <td>$44.23</td>\n",
       "    </tr>\n",
       "    <tr>\n",
       "      <th><a href=\"https://tradingstrategy.ai/glossary/liquidity-provider\">LP fees paid % of volume</a></th>\n",
       "      <td>0.05%</td>\n",
       "    </tr>\n",
       "    <tr>\n",
       "      <th><a href=\"https://tradingstrategy.ai/glossary/mean\">Average position</a></th>\n",
       "      <td>-0.82%</td>\n",
       "    </tr>\n",
       "    <tr>\n",
       "      <th><a href=\"https://tradingstrategy.ai/glossary/median\">Median position</a></th>\n",
       "      <td>-2.31%</td>\n",
       "    </tr>\n",
       "    <tr>\n",
       "      <th>Most consecutive wins</th>\n",
       "      <td>1</td>\n",
       "    </tr>\n",
       "    <tr>\n",
       "      <th>Most consecutive losses</th>\n",
       "      <td>4</td>\n",
       "    </tr>\n",
       "    <tr>\n",
       "      <th><a href=\"https://tradingstrategy.ai/glossary/realised-risk\">Biggest realised risk</a></th>\n",
       "      <td>-3.05%</td>\n",
       "    </tr>\n",
       "    <tr>\n",
       "      <th><a href=\"https://tradingstrategy.ai/glossary/realised-risk\">Avg realised risk</a></th>\n",
       "      <td>-2.48%</td>\n",
       "    </tr>\n",
       "    <tr>\n",
       "      <th><a href=\"https://tradingstrategy.ai/glossary/maximum-pullback\">Max pullback of total capital</a></th>\n",
       "      <td>-10.41%</td>\n",
       "    </tr>\n",
       "    <tr>\n",
       "      <th>Max loss risk at opening of position</th>\n",
       "      <td>-2.05%</td>\n",
       "    </tr>\n",
       "  </tbody>\n",
       "</table>"
      ],
      "text/plain": [
       "<IPython.core.display.HTML object>"
      ]
     },
     "metadata": {},
     "output_type": "display_data"
    }
   ],
   "source": [
    "from IPython.core.display_functions import display\n",
    "\n",
    "summary = analysis.calculate_summary_statistics()\n",
    "\n",
    "with pd.option_context(\"display.max_row\", None):\n",
    "    display(summary.to_dataframe())"
   ]
  },
  {
   "cell_type": "markdown",
   "metadata": {},
   "source": [
    "### Position and trade timeline\n",
    "\n",
    "Display all positions and how much profit they made."
   ]
  },
  {
   "cell_type": "code",
   "execution_count": 25,
   "metadata": {
    "collapsed": false,
    "jupyter": {
     "outputs_hidden": false
    }
   },
   "outputs": [
    {
     "data": {
      "text/html": [
       "<style type=\"text/css\">\n",
       "#T_d8e5b td.col3 {\n",
       "  white-space: nowrap;\n",
       "}\n",
       "#T_d8e5b td.col5 {\n",
       "  white-space: nowrap;\n",
       "}\n",
       "#T_d8e5b_row0_col1, #T_d8e5b_row0_col2, #T_d8e5b_row0_col3, #T_d8e5b_row0_col4, #T_d8e5b_row0_col5, #T_d8e5b_row0_col6, #T_d8e5b_row0_col7, #T_d8e5b_row0_col8, #T_d8e5b_row0_col9, #T_d8e5b_row0_col10, #T_d8e5b_row0_col12, #T_d8e5b_row0_col13, #T_d8e5b_row0_col14, #T_d8e5b_row0_col15, #T_d8e5b_row1_col1, #T_d8e5b_row1_col2, #T_d8e5b_row1_col3, #T_d8e5b_row1_col4, #T_d8e5b_row1_col5, #T_d8e5b_row1_col6, #T_d8e5b_row1_col7, #T_d8e5b_row1_col8, #T_d8e5b_row1_col9, #T_d8e5b_row1_col10, #T_d8e5b_row1_col12, #T_d8e5b_row1_col13, #T_d8e5b_row1_col14, #T_d8e5b_row1_col15, #T_d8e5b_row3_col1, #T_d8e5b_row3_col2, #T_d8e5b_row3_col3, #T_d8e5b_row3_col4, #T_d8e5b_row3_col5, #T_d8e5b_row3_col6, #T_d8e5b_row3_col7, #T_d8e5b_row3_col8, #T_d8e5b_row3_col9, #T_d8e5b_row3_col10, #T_d8e5b_row3_col12, #T_d8e5b_row3_col13, #T_d8e5b_row3_col14, #T_d8e5b_row3_col15, #T_d8e5b_row5_col1, #T_d8e5b_row5_col2, #T_d8e5b_row5_col3, #T_d8e5b_row5_col4, #T_d8e5b_row5_col5, #T_d8e5b_row5_col6, #T_d8e5b_row5_col7, #T_d8e5b_row5_col8, #T_d8e5b_row5_col9, #T_d8e5b_row5_col10, #T_d8e5b_row5_col12, #T_d8e5b_row5_col13, #T_d8e5b_row5_col14, #T_d8e5b_row5_col15, #T_d8e5b_row6_col1, #T_d8e5b_row6_col2, #T_d8e5b_row6_col3, #T_d8e5b_row6_col4, #T_d8e5b_row6_col5, #T_d8e5b_row6_col6, #T_d8e5b_row6_col7, #T_d8e5b_row6_col8, #T_d8e5b_row6_col9, #T_d8e5b_row6_col10, #T_d8e5b_row6_col12, #T_d8e5b_row6_col13, #T_d8e5b_row6_col14, #T_d8e5b_row6_col15, #T_d8e5b_row7_col1, #T_d8e5b_row7_col2, #T_d8e5b_row7_col3, #T_d8e5b_row7_col4, #T_d8e5b_row7_col5, #T_d8e5b_row7_col6, #T_d8e5b_row7_col7, #T_d8e5b_row7_col8, #T_d8e5b_row7_col9, #T_d8e5b_row7_col10, #T_d8e5b_row7_col12, #T_d8e5b_row7_col13, #T_d8e5b_row7_col14, #T_d8e5b_row7_col15, #T_d8e5b_row8_col1, #T_d8e5b_row8_col2, #T_d8e5b_row8_col3, #T_d8e5b_row8_col4, #T_d8e5b_row8_col5, #T_d8e5b_row8_col6, #T_d8e5b_row8_col7, #T_d8e5b_row8_col8, #T_d8e5b_row8_col9, #T_d8e5b_row8_col10, #T_d8e5b_row8_col12, #T_d8e5b_row8_col13, #T_d8e5b_row8_col14, #T_d8e5b_row8_col15 {\n",
       "  background-color: LightSalmon;\n",
       "}\n",
       "#T_d8e5b_row2_col1, #T_d8e5b_row2_col2, #T_d8e5b_row2_col3, #T_d8e5b_row2_col4, #T_d8e5b_row2_col5, #T_d8e5b_row2_col6, #T_d8e5b_row2_col7, #T_d8e5b_row2_col8, #T_d8e5b_row2_col9, #T_d8e5b_row2_col10, #T_d8e5b_row2_col12, #T_d8e5b_row2_col13, #T_d8e5b_row2_col14, #T_d8e5b_row2_col15, #T_d8e5b_row4_col1, #T_d8e5b_row4_col2, #T_d8e5b_row4_col3, #T_d8e5b_row4_col4, #T_d8e5b_row4_col5, #T_d8e5b_row4_col6, #T_d8e5b_row4_col7, #T_d8e5b_row4_col8, #T_d8e5b_row4_col9, #T_d8e5b_row4_col10, #T_d8e5b_row4_col12, #T_d8e5b_row4_col13, #T_d8e5b_row4_col14, #T_d8e5b_row4_col15 {\n",
       "  background-color: PaleGreen;\n",
       "}\n",
       "</style>\n",
       "<table id=\"T_d8e5b\">\n",
       "  <thead>\n",
       "    <tr>\n",
       "      <th id=\"T_d8e5b_level0_col1\" class=\"col_heading level0 col1\" >Remarks</th>\n",
       "      <th id=\"T_d8e5b_level0_col2\" class=\"col_heading level0 col2\" >Type</th>\n",
       "      <th id=\"T_d8e5b_level0_col3\" class=\"col_heading level0 col3\" >Opened at</th>\n",
       "      <th id=\"T_d8e5b_level0_col4\" class=\"col_heading level0 col4\" >Duration</th>\n",
       "      <th id=\"T_d8e5b_level0_col5\" class=\"col_heading level0 col5\" >Exchange</th>\n",
       "      <th id=\"T_d8e5b_level0_col6\" class=\"col_heading level0 col6\" >Base asset</th>\n",
       "      <th id=\"T_d8e5b_level0_col7\" class=\"col_heading level0 col7\" >Quote asset</th>\n",
       "      <th id=\"T_d8e5b_level0_col8\" class=\"col_heading level0 col8\" >Position max value</th>\n",
       "      <th id=\"T_d8e5b_level0_col9\" class=\"col_heading level0 col9\" >PnL USD</th>\n",
       "      <th id=\"T_d8e5b_level0_col10\" class=\"col_heading level0 col10\" >PnL %</th>\n",
       "      <th id=\"T_d8e5b_level0_col12\" class=\"col_heading level0 col12\" >Open mid price USD</th>\n",
       "      <th id=\"T_d8e5b_level0_col13\" class=\"col_heading level0 col13\" >Close mid price USD</th>\n",
       "      <th id=\"T_d8e5b_level0_col14\" class=\"col_heading level0 col14\" >Trade count</th>\n",
       "      <th id=\"T_d8e5b_level0_col15\" class=\"col_heading level0 col15\" >LP fees</th>\n",
       "    </tr>\n",
       "  </thead>\n",
       "  <tbody>\n",
       "    <tr>\n",
       "      <td id=\"T_d8e5b_row0_col1\" class=\"data row0 col1\" >SL</td>\n",
       "      <td id=\"T_d8e5b_row0_col2\" class=\"data row0 col2\" >Short</td>\n",
       "      <td id=\"T_d8e5b_row0_col3\" class=\"data row0 col3\" >2023-01-06</td>\n",
       "      <td id=\"T_d8e5b_row0_col4\" class=\"data row0 col4\" >2 days 23 hours 15 mins    </td>\n",
       "      <td id=\"T_d8e5b_row0_col5\" class=\"data row0 col5\" >Uniswap v3</td>\n",
       "      <td id=\"T_d8e5b_row0_col6\" class=\"data row0 col6\" >WETH</td>\n",
       "      <td id=\"T_d8e5b_row0_col7\" class=\"data row0 col7\" >USDC</td>\n",
       "      <td id=\"T_d8e5b_row0_col8\" class=\"data row0 col8\" >$4,997.50</td>\n",
       "      <td id=\"T_d8e5b_row0_col9\" class=\"data row0 col9\" >$-131.95</td>\n",
       "      <td id=\"T_d8e5b_row0_col10\" class=\"data row0 col10\" >-2.58%</td>\n",
       "      <td id=\"T_d8e5b_row0_col12\" class=\"data row0 col12\" >$1,249.559006</td>\n",
       "      <td id=\"T_d8e5b_row0_col13\" class=\"data row0 col13\" >$1,282.471972</td>\n",
       "      <td id=\"T_d8e5b_row0_col14\" class=\"data row0 col14\" >2</td>\n",
       "      <td id=\"T_d8e5b_row0_col15\" class=\"data row0 col15\" >$5.06</td>\n",
       "    </tr>\n",
       "    <tr>\n",
       "      <td id=\"T_d8e5b_row1_col1\" class=\"data row1 col1\" >SL</td>\n",
       "      <td id=\"T_d8e5b_row1_col2\" class=\"data row1 col2\" >Short</td>\n",
       "      <td id=\"T_d8e5b_row1_col3\" class=\"data row1 col3\" >2023-02-03</td>\n",
       "      <td id=\"T_d8e5b_row1_col4\" class=\"data row1 col4\" >1 days 13 hours 15 mins    </td>\n",
       "      <td id=\"T_d8e5b_row1_col5\" class=\"data row1 col5\" >Uniswap v3</td>\n",
       "      <td id=\"T_d8e5b_row1_col6\" class=\"data row1 col6\" >WETH</td>\n",
       "      <td id=\"T_d8e5b_row1_col7\" class=\"data row1 col7\" >USDC</td>\n",
       "      <td id=\"T_d8e5b_row1_col8\" class=\"data row1 col8\" >$4,865.63</td>\n",
       "      <td id=\"T_d8e5b_row1_col9\" class=\"data row1 col9\" >$-116.80</td>\n",
       "      <td id=\"T_d8e5b_row1_col10\" class=\"data row1 col10\" >-2.35%</td>\n",
       "      <td id=\"T_d8e5b_row1_col12\" class=\"data row1 col12\" >$1,643.909061</td>\n",
       "      <td id=\"T_d8e5b_row1_col13\" class=\"data row1 col13\" >$1,683.333148</td>\n",
       "      <td id=\"T_d8e5b_row1_col14\" class=\"data row1 col14\" >2</td>\n",
       "      <td id=\"T_d8e5b_row1_col15\" class=\"data row1 col15\" >$4.93</td>\n",
       "    </tr>\n",
       "    <tr>\n",
       "      <td id=\"T_d8e5b_row2_col1\" class=\"data row2 col1\" >TP</td>\n",
       "      <td id=\"T_d8e5b_row2_col2\" class=\"data row2 col2\" >Short</td>\n",
       "      <td id=\"T_d8e5b_row2_col3\" class=\"data row2 col3\" >2023-02-05</td>\n",
       "      <td id=\"T_d8e5b_row2_col4\" class=\"data row2 col4\" >4 days 19 hours 30 mins    </td>\n",
       "      <td id=\"T_d8e5b_row2_col5\" class=\"data row2 col5\" >Uniswap v3</td>\n",
       "      <td id=\"T_d8e5b_row2_col6\" class=\"data row2 col6\" >WETH</td>\n",
       "      <td id=\"T_d8e5b_row2_col7\" class=\"data row2 col7\" >USDC</td>\n",
       "      <td id=\"T_d8e5b_row2_col8\" class=\"data row2 col8\" >$4,748.89</td>\n",
       "      <td id=\"T_d8e5b_row2_col9\" class=\"data row2 col9\" >$218.37</td>\n",
       "      <td id=\"T_d8e5b_row2_col10\" class=\"data row2 col10\" >4.80%</td>\n",
       "      <td id=\"T_d8e5b_row2_col12\" class=\"data row2 col12\" >$1,665.418311</td>\n",
       "      <td id=\"T_d8e5b_row2_col13\" class=\"data row2 col13\" >$1,588.640691</td>\n",
       "      <td id=\"T_d8e5b_row2_col14\" class=\"data row2 col14\" >2</td>\n",
       "      <td id=\"T_d8e5b_row2_col15\" class=\"data row2 col15\" >$4.64</td>\n",
       "    </tr>\n",
       "    <tr>\n",
       "      <td id=\"T_d8e5b_row3_col1\" class=\"data row3 col1\" >SL</td>\n",
       "      <td id=\"T_d8e5b_row3_col2\" class=\"data row3 col2\" >Short</td>\n",
       "      <td id=\"T_d8e5b_row3_col3\" class=\"data row3 col3\" >2023-02-17</td>\n",
       "      <td id=\"T_d8e5b_row3_col4\" class=\"data row3 col4\" > 14 hours 45 mins    </td>\n",
       "      <td id=\"T_d8e5b_row3_col5\" class=\"data row3 col5\" >Uniswap v3</td>\n",
       "      <td id=\"T_d8e5b_row3_col6\" class=\"data row3 col6\" >WETH</td>\n",
       "      <td id=\"T_d8e5b_row3_col7\" class=\"data row3 col7\" >USDC</td>\n",
       "      <td id=\"T_d8e5b_row3_col8\" class=\"data row3 col8\" >$4,967.08</td>\n",
       "      <td id=\"T_d8e5b_row3_col9\" class=\"data row3 col9\" >$-127.26</td>\n",
       "      <td id=\"T_d8e5b_row3_col10\" class=\"data row3 col10\" >-2.50%</td>\n",
       "      <td id=\"T_d8e5b_row3_col12\" class=\"data row3 col12\" >$1,638.657222</td>\n",
       "      <td id=\"T_d8e5b_row3_col13\" class=\"data row3 col13\" >$1,680.642103</td>\n",
       "      <td id=\"T_d8e5b_row3_col14\" class=\"data row3 col14\" >2</td>\n",
       "      <td id=\"T_d8e5b_row3_col15\" class=\"data row3 col15\" >$5.03</td>\n",
       "    </tr>\n",
       "    <tr>\n",
       "      <td id=\"T_d8e5b_row4_col1\" class=\"data row4 col1\" >TP</td>\n",
       "      <td id=\"T_d8e5b_row4_col2\" class=\"data row4 col2\" >Short</td>\n",
       "      <td id=\"T_d8e5b_row4_col3\" class=\"data row4 col3\" >2023-03-15</td>\n",
       "      <td id=\"T_d8e5b_row4_col4\" class=\"data row4 col4\" > 16 hours 45 mins    </td>\n",
       "      <td id=\"T_d8e5b_row4_col5\" class=\"data row4 col5\" >Uniswap v3</td>\n",
       "      <td id=\"T_d8e5b_row4_col6\" class=\"data row4 col6\" >WETH</td>\n",
       "      <td id=\"T_d8e5b_row4_col7\" class=\"data row4 col7\" >USDC</td>\n",
       "      <td id=\"T_d8e5b_row4_col8\" class=\"data row4 col8\" >$4,839.88</td>\n",
       "      <td id=\"T_d8e5b_row4_col9\" class=\"data row4 col9\" >$223.59</td>\n",
       "      <td id=\"T_d8e5b_row4_col10\" class=\"data row4 col10\" >4.84%</td>\n",
       "      <td id=\"T_d8e5b_row4_col12\" class=\"data row4 col12\" >$1,705.869804</td>\n",
       "      <td id=\"T_d8e5b_row4_col13\" class=\"data row4 col13\" >$1,627.064620</td>\n",
       "      <td id=\"T_d8e5b_row4_col14\" class=\"data row4 col14\" >2</td>\n",
       "      <td id=\"T_d8e5b_row4_col15\" class=\"data row4 col15\" >$4.73</td>\n",
       "    </tr>\n",
       "    <tr>\n",
       "      <td id=\"T_d8e5b_row5_col1\" class=\"data row5 col1\" >SL</td>\n",
       "      <td id=\"T_d8e5b_row5_col2\" class=\"data row5 col2\" >Short</td>\n",
       "      <td id=\"T_d8e5b_row5_col3\" class=\"data row5 col3\" >2023-03-19</td>\n",
       "      <td id=\"T_d8e5b_row5_col4\" class=\"data row5 col4\" > 16 hours     </td>\n",
       "      <td id=\"T_d8e5b_row5_col5\" class=\"data row5 col5\" >Uniswap v3</td>\n",
       "      <td id=\"T_d8e5b_row5_col6\" class=\"data row5 col6\" >WETH</td>\n",
       "      <td id=\"T_d8e5b_row5_col7\" class=\"data row5 col7\" >USDC</td>\n",
       "      <td id=\"T_d8e5b_row5_col8\" class=\"data row5 col8\" >$5,063.35</td>\n",
       "      <td id=\"T_d8e5b_row5_col9\" class=\"data row5 col9\" >$-112.62</td>\n",
       "      <td id=\"T_d8e5b_row5_col10\" class=\"data row5 col10\" >-2.18%</td>\n",
       "      <td id=\"T_d8e5b_row5_col12\" class=\"data row5 col12\" >$1,762.747180</td>\n",
       "      <td id=\"T_d8e5b_row5_col13\" class=\"data row5 col13\" >$1,801.955456</td>\n",
       "      <td id=\"T_d8e5b_row5_col14\" class=\"data row5 col14\" >2</td>\n",
       "      <td id=\"T_d8e5b_row5_col15\" class=\"data row5 col15\" >$5.12</td>\n",
       "    </tr>\n",
       "    <tr>\n",
       "      <td id=\"T_d8e5b_row6_col1\" class=\"data row6 col1\" >SL</td>\n",
       "      <td id=\"T_d8e5b_row6_col2\" class=\"data row6 col2\" >Short</td>\n",
       "      <td id=\"T_d8e5b_row6_col3\" class=\"data row6 col3\" >2023-03-20</td>\n",
       "      <td id=\"T_d8e5b_row6_col4\" class=\"data row6 col4\" >1 days 14 hours     </td>\n",
       "      <td id=\"T_d8e5b_row6_col5\" class=\"data row6 col5\" >Uniswap v3</td>\n",
       "      <td id=\"T_d8e5b_row6_col6\" class=\"data row6 col6\" >WETH</td>\n",
       "      <td id=\"T_d8e5b_row6_col7\" class=\"data row6 col7\" >USDC</td>\n",
       "      <td id=\"T_d8e5b_row6_col8\" class=\"data row6 col8\" >$4,950.78</td>\n",
       "      <td id=\"T_d8e5b_row6_col9\" class=\"data row6 col9\" >$-107.13</td>\n",
       "      <td id=\"T_d8e5b_row6_col10\" class=\"data row6 col10\" >-2.12%</td>\n",
       "      <td id=\"T_d8e5b_row6_col12\" class=\"data row6 col12\" >$1,785.811332</td>\n",
       "      <td id=\"T_d8e5b_row6_col13\" class=\"data row6 col13\" >$1,824.437682</td>\n",
       "      <td id=\"T_d8e5b_row6_col14\" class=\"data row6 col14\" >2</td>\n",
       "      <td id=\"T_d8e5b_row6_col15\" class=\"data row6 col15\" >$5.01</td>\n",
       "    </tr>\n",
       "    <tr>\n",
       "      <td id=\"T_d8e5b_row7_col1\" class=\"data row7 col1\" >SL</td>\n",
       "      <td id=\"T_d8e5b_row7_col2\" class=\"data row7 col2\" >Short</td>\n",
       "      <td id=\"T_d8e5b_row7_col3\" class=\"data row7 col3\" >2023-04-07</td>\n",
       "      <td id=\"T_d8e5b_row7_col4\" class=\"data row7 col4\" >3 days 23 hours 15 mins    </td>\n",
       "      <td id=\"T_d8e5b_row7_col5\" class=\"data row7 col5\" >Uniswap v3</td>\n",
       "      <td id=\"T_d8e5b_row7_col6\" class=\"data row7 col6\" >WETH</td>\n",
       "      <td id=\"T_d8e5b_row7_col7\" class=\"data row7 col7\" >USDC</td>\n",
       "      <td id=\"T_d8e5b_row7_col8\" class=\"data row7 col8\" >$4,843.71</td>\n",
       "      <td id=\"T_d8e5b_row7_col9\" class=\"data row7 col9\" >$-113.54</td>\n",
       "      <td id=\"T_d8e5b_row7_col10\" class=\"data row7 col10\" >-2.31%</td>\n",
       "      <td id=\"T_d8e5b_row7_col12\" class=\"data row7 col12\" >$1,871.369470</td>\n",
       "      <td id=\"T_d8e5b_row7_col13\" class=\"data row7 col13\" >$1,915.482186</td>\n",
       "      <td id=\"T_d8e5b_row7_col14\" class=\"data row7 col14\" >2</td>\n",
       "      <td id=\"T_d8e5b_row7_col15\" class=\"data row7 col15\" >$4.90</td>\n",
       "    </tr>\n",
       "    <tr>\n",
       "      <td id=\"T_d8e5b_row8_col1\" class=\"data row8 col1\" >SL</td>\n",
       "      <td id=\"T_d8e5b_row8_col2\" class=\"data row8 col2\" >Short</td>\n",
       "      <td id=\"T_d8e5b_row8_col3\" class=\"data row8 col3\" >2023-04-12</td>\n",
       "      <td id=\"T_d8e5b_row8_col4\" class=\"data row8 col4\" >1 days 8 hours 45 mins    </td>\n",
       "      <td id=\"T_d8e5b_row8_col5\" class=\"data row8 col5\" >Uniswap v3</td>\n",
       "      <td id=\"T_d8e5b_row8_col6\" class=\"data row8 col6\" >WETH</td>\n",
       "      <td id=\"T_d8e5b_row8_col7\" class=\"data row8 col7\" >USDC</td>\n",
       "      <td id=\"T_d8e5b_row8_col8\" class=\"data row8 col8\" >$4,730.24</td>\n",
       "      <td id=\"T_d8e5b_row8_col9\" class=\"data row8 col9\" >$-144.38</td>\n",
       "      <td id=\"T_d8e5b_row8_col10\" class=\"data row8 col10\" >-2.97%</td>\n",
       "      <td id=\"T_d8e5b_row8_col12\" class=\"data row8 col12\" >$1,891.310490</td>\n",
       "      <td id=\"T_d8e5b_row8_col13\" class=\"data row8 col13\" >$1,949.101535</td>\n",
       "      <td id=\"T_d8e5b_row8_col14\" class=\"data row8 col14\" >2</td>\n",
       "      <td id=\"T_d8e5b_row8_col15\" class=\"data row8 col15\" >$4.80</td>\n",
       "    </tr>\n",
       "  </tbody>\n",
       "</table>\n"
      ],
      "text/plain": [
       "<pandas.io.formats.style.Styler at 0x28d079b40>"
      ]
     },
     "metadata": {},
     "output_type": "display_data"
    }
   ],
   "source": [
    "from tradeexecutor.analysis.trade_analyser import expand_timeline\n",
    "\n",
    "timeline = analysis.create_timeline()\n",
    "\n",
    "expanded_timeline, apply_styles = expand_timeline(\n",
    "        universe.universe.exchanges,\n",
    "        universe.universe.pairs,\n",
    "        timeline)\n",
    "\n",
    "# Do not truncate the row output\n",
    "with pd.option_context(\"display.max_row\", None):\n",
    "    display(apply_styles(expanded_timeline))\n"
   ]
  },
  {
   "cell_type": "markdown",
   "metadata": {},
   "source": [
    "## Finishing notes\n",
    "\n",
    "Print out a line to signal the notebook finished the execution successfully."
   ]
  },
  {
   "cell_type": "code",
   "execution_count": 26,
   "metadata": {
    "collapsed": false,
    "jupyter": {
     "outputs_hidden": false
    },
    "tags": []
   },
   "outputs": [
    {
     "name": "stdout",
     "output_type": "stream",
     "text": [
      "All ok\n"
     ]
    }
   ],
   "source": [
    "print(\"All ok\")"
   ]
  }
 ],
 "metadata": {
  "kernelspec": {
   "display_name": "Python 3 (ipykernel)",
   "language": "python",
   "name": "python3"
  },
  "language_info": {
   "codemirror_mode": {
    "name": "ipython",
    "version": 3
   },
   "file_extension": ".py",
   "mimetype": "text/x-python",
   "name": "python",
   "nbconvert_exporter": "python",
   "pygments_lexer": "ipython3",
   "version": "3.10.6"
  },
  "vscode": {
   "interpreter": {
    "hash": "f45fb66dacef78c495ceec56f258b06b84bd9cb2c0a9a6d3656125fb3c018996"
   }
  }
 },
 "nbformat": 4,
 "nbformat_minor": 4
}

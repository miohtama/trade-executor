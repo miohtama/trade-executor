{
 "cells": [
  {
   "attachments": {},
   "cell_type": "markdown",
   "metadata": {},
   "source": [
    "# Long/short portfolio construction model trading strategy example\n",
    "\n",
    "This is an example notebook how to construct a momentum based portfolio construction strategy\n",
    "using [Trading Strategy framework](https://tradingstrategy.ai/docs/) and backtest it for DeFi tokens.\n",
    "\n",
    "This backtest uses alpha model approach where each trading pair has a signal\n",
    "and based on the signal strenghts we construct new portfolio weightings\n",
    "for the upcoming week.\n"
   ]
  },
  {
   "cell_type": "markdown",
   "metadata": {},
   "source": [
    "## Strategy parameter set up\n",
    "\n",
    "Set up the parameters used in in this strategy backtest study.\n",
    "\n",
    "- Backtested blockchain, exchange and trading pair\n",
    "- Backtesting period\n",
    "- Strategy parameters for EMA crossovers"
   ]
  },
  {
   "cell_type": "code",
   "execution_count": 1,
   "metadata": {
    "collapsed": false,
    "jupyter": {
     "outputs_hidden": false
    },
    "ExecuteTime": {
     "end_time": "2023-10-13T23:52:40.736690Z",
     "start_time": "2023-10-13T23:52:38.911654Z"
    }
   },
   "outputs": [],
   "source": [
    "import datetime\n",
    "import pandas as pd\n",
    "\n",
    "from tradingstrategy.chain import ChainId\n",
    "from tradingstrategy.timebucket import TimeBucket\n",
    "from tradeexecutor.strategy.cycle import CycleDuration\n",
    "from tradeexecutor.strategy.strategy_module import StrategyType, TradeRouting, ReserveCurrency\n",
    "\n",
    "# Tell what trade execution engine version this strategy needs to use\n",
    "trading_strategy_engine_version = \"0.3\"\n",
    "\n",
    "# What kind of strategy we are running.\n",
    "# This tells we are going to use\n",
    "trading_strategy_type = StrategyType.managed_positions\n",
    "\n",
    "# How our trades are routed.\n",
    "# PancakeSwap basic routing supports two way trades with BUSD\n",
    "# and three way trades with BUSD-BNB hop.\n",
    "trade_routing = TradeRouting.ignore\n",
    "\n",
    "# Set cycle to 7 days and look back the momentum of the previous candle\n",
    "trading_strategy_cycle = CycleDuration.cycle_7d\n",
    "momentum_lookback_period = datetime.timedelta(days=7)\n",
    "\n",
    "# Hold top 3 coins for every cycle\n",
    "max_assets_in_portfolio = 4\n",
    "\n",
    "# Leave 20% cash buffer\n",
    "value_allocated_to_positions = 0.80\n",
    "\n",
    "# Set 33% stop loss over mid price\n",
    "stop_loss = None\n",
    "\n",
    "# Set 5% take profit over mid price\n",
    "take_profit = None\n",
    "\n",
    "# The weekly price must be up 2.5% for us to take a long position\n",
    "minimum_mometum_threshold = 0.025\n",
    "\n",
    "# Don't bother with trades that would move position\n",
    "# less than 300 USD\n",
    "minimum_rebalance_trade_threshold = 300\n",
    "\n",
    "# Use hourly candles to trigger the stop loss\n",
    "stop_loss_data_granularity = TimeBucket.h1\n",
    "\n",
    "# Strategy keeps its cash in USDC\n",
    "reserve_currency = ReserveCurrency.usdc\n",
    "\n",
    "# The duration of the backtesting period\n",
    "backtest_start_at = datetime.datetime(2020, 11, 1)\n",
    "backtest_end_at = datetime.datetime(2023, 1, 31)\n",
    "\n",
    "# Start with 10,000 USD\n",
    "initial_deposit = 10_000\n"
   ]
  },
  {
   "cell_type": "markdown",
   "metadata": {},
   "source": [
    "## Strategy logic and trade decisions\n",
    "\n",
    "`decide_trades` function decide what trades to take.\n",
    "In this example, we calculate two exponential moving averages\n",
    "(EMAs) and make decisions based on those.\n"
   ]
  },
  {
   "cell_type": "code",
   "execution_count": 2,
   "metadata": {
    "collapsed": false,
    "jupyter": {
     "outputs_hidden": false
    },
    "ExecuteTime": {
     "end_time": "2023-10-13T23:52:40.745380Z",
     "start_time": "2023-10-13T23:52:40.743962Z"
    }
   },
   "outputs": [],
   "source": [
    "from tradeexecutor.strategy.trading_strategy_universe import translate_trading_pair, TradingStrategyUniverse\n",
    "from typing import List, Dict, Counter\n",
    "\n",
    "from tradingstrategy.universe import Universe\n",
    "from tradeexecutor.strategy.weighting import weight_by_1_slash_n\n",
    "from tradeexecutor.strategy.alpha_model import AlphaModel\n",
    "from tradeexecutor.state.trade import TradeExecution\n",
    "from tradeexecutor.strategy.pricing_model import PricingModel\n",
    "from tradeexecutor.strategy.pandas_trader.position_manager import PositionManager\n",
    "from tradeexecutor.state.state import State\n",
    "\n",
    "\n",
    "def decide_trades(\n",
    "        timestamp: pd.Timestamp,\n",
    "        universe: TradingStrategyUniverse,\n",
    "        state: State,\n",
    "        pricing_model: PricingModel,\n",
    "        cycle_debug_data: Dict) -> List[TradeExecution]:\n",
    "\n",
    "    # Create a position manager helper class that allows us easily to create\n",
    "    # opening/closing trades for different positions\n",
    "    position_manager = PositionManager(timestamp, universe, state, pricing_model)\n",
    "\n",
    "    alpha_model = AlphaModel(timestamp)\n",
    "\n",
    "    # Watch out for the inclusive range and include and avoid peeking in the future\n",
    "    adjusted_timestamp = timestamp - pd.Timedelta(seconds=1)\n",
    "    start = adjusted_timestamp - momentum_lookback_period - datetime.timedelta(seconds=1)\n",
    "    end = adjusted_timestamp \n",
    "\n",
    "    candle_universe = universe.candles\n",
    "    pair_universe = universe.pairs\n",
    "\n",
    "    # Get candle data for all candles, inclusive time range\n",
    "    candle_data = candle_universe.iterate_samples_by_pair_range(start, end)\n",
    "\n",
    "    # Iterate over all candles for all pairs in this timestamp (ts)\n",
    "    for pair_id, pair_df in candle_data:\n",
    "\n",
    "        # We should have candles for range start - end,\n",
    "        # where end is the current strategy cycle timestamp \n",
    "        # and start is one week before end.\n",
    "        # Because of sparse data we may have 0, 1 or 2 candles\n",
    "        first_candle = pair_df.iloc[0]\n",
    "        last_candle = pair_df.iloc[-1]\n",
    "\n",
    "        # How many candles we are going to evaluate\n",
    "        candle_count = len(pair_df)\n",
    "\n",
    "        assert last_candle[\"timestamp\"] < timestamp, \"Something wrong with the data - we should not be able to peek the candle of the current timestamp, but always use the previous candle\"\n",
    "\n",
    "        open = last_candle[\"open\"]\n",
    "        close = last_candle[\"close\"]\n",
    "\n",
    "        # DEXPair instance contains more data than internal TradingPairIdentifier\n",
    "        # we use to store this pair across the strategy\n",
    "        dex_pair = pair_universe.get_pair_by_id(pair_id)\n",
    "        pair = translate_trading_pair(dex_pair)\n",
    "\n",
    "        # We define momentum as how many % the trading pair price gained during\n",
    "        # the momentum window\n",
    "        momentum = (close - open) / open\n",
    "        \n",
    "        # This pair has not positive momentum,\n",
    "        # we only buy when stuff goes up\n",
    "        if momentum <= minimum_mometum_threshold:\n",
    "            continue\n",
    "\n",
    "        if momentum < 0:\n",
    "            if not universe.can_open_short(\n",
    "                timestamp,\n",
    "                pair\n",
    "            ):\n",
    "                # Lending markets are not yet available at this point of time\n",
    "                # for this trading pair\n",
    "                continue\n",
    "\n",
    "        alpha_model.set_signal(\n",
    "            pair,\n",
    "            momentum,\n",
    "            stop_loss=stop_loss,\n",
    "            take_profit=take_profit,\n",
    "        )\n",
    "\n",
    "    # Select max_assets_in_portfolio assets in which we are going to invest\n",
    "    # Calculate a weight for ecah asset in the portfolio using 1/N method based on the raw signal\n",
    "    alpha_model.select_top_signals(max_assets_in_portfolio)\n",
    "    alpha_model.assign_weights(method=weight_by_1_slash_n)\n",
    "    alpha_model.normalise_weights()\n",
    "\n",
    "    # Load in old weight for each trading pair signal,\n",
    "    # so we can calculate the adjustment trade size\n",
    "    alpha_model.update_old_weights(state.portfolio)\n",
    "\n",
    "    # Calculate how much dollar value we want each individual position to be on this strategy cycle,\n",
    "    # based on our total available equity\n",
    "    portfolio = position_manager.get_current_portfolio()\n",
    "    portfolio_target_value = portfolio.get_total_equity() * value_allocated_to_positions\n",
    "    alpha_model.calculate_target_positions(position_manager, portfolio_target_value)\n",
    "\n",
    "    # Shift portfolio from current positions to target positions\n",
    "    # determined by the alpha signals (momentum)\n",
    "    trades = alpha_model.generate_rebalance_trades_and_triggers(\n",
    "        position_manager,\n",
    "        min_trade_threshold=minimum_rebalance_trade_threshold,  # Don't bother with trades under 300 USD\n",
    "    )\n",
    "\n",
    "    # Record alpha model state so we can later visualise our alpha model thinking better\n",
    "    state.visualisation.add_calculations(timestamp, alpha_model.to_dict())\n",
    "\n",
    "    return trades\n"
   ]
  },
  {
   "cell_type": "markdown",
   "metadata": {},
   "source": [
    "## Set up the market data client\n",
    "\n",
    "The [Trading Strategy market data client](https://tradingstrategy.ai/docs/programming/api/client/index.html)\n",
    "is the Python library responsible for managing the data feeds needed to run the backtest.None\n",
    "\n",
    "We set up the market data client with an API key.\n",
    "\n",
    "[If you do not have an API key yet, you can register one](https://tradingstrategy.ai/trading-view/backtesting)."
   ]
  },
  {
   "cell_type": "code",
   "execution_count": 3,
   "metadata": {
    "collapsed": false,
    "jupyter": {
     "outputs_hidden": false
    },
    "ExecuteTime": {
     "end_time": "2023-10-13T23:52:40.749754Z",
     "start_time": "2023-10-13T23:52:40.746426Z"
    }
   },
   "outputs": [
    {
     "name": "stdout",
     "output_type": "stream",
     "text": [
      "Started Trading Strategy in Jupyter notebook environment, configuration is stored in /Users/moo/.tradingstrategy\n"
     ]
    }
   ],
   "source": [
    "from tradingstrategy.client import Client\n",
    "\n",
    "client = Client.create_jupyter_client()"
   ]
  },
  {
   "attachments": {},
   "cell_type": "markdown",
   "metadata": {},
   "source": []
  },
  {
   "attachments": {},
   "cell_type": "markdown",
   "metadata": {},
   "source": [
    "## Setup trading universe\n",
    "\n",
    "- Load all lending reserves for our chain\n",
    "- Load matching trading pairs we can use to do our long/short trades"
   ]
  },
  {
   "cell_type": "code",
   "execution_count": 4,
   "metadata": {
    "collapsed": false,
    "jupyter": {
     "outputs_hidden": false
    },
    "ExecuteTime": {
     "end_time": "2023-10-13T23:52:41.736624Z",
     "start_time": "2023-10-13T23:52:40.750807Z"
    }
   },
   "outputs": [
    {
     "name": "stdout",
     "output_type": "stream",
     "text": [
      "<LendingReserve #2 for asset LINK in protocol aave_v3 on Polygon >\n",
      "<LendingReserve #3 for asset USDC in protocol aave_v3 on Polygon >\n",
      "<LendingReserve #5 for asset WETH in protocol aave_v3 on Polygon >\n",
      "<LendingReserve #8 for asset WMATIC in protocol aave_v3 on Polygon >\n"
     ]
    },
    {
     "data": {
      "text/plain": "Downloading interest rate data for 4 assets:   0%|          | 0/8 [00:00<?, ?it/s]",
      "application/vnd.jupyter.widget-view+json": {
       "version_major": 2,
       "version_minor": 0,
       "model_id": "992898f1e656484280fb933cc4c99971"
      }
     },
     "metadata": {},
     "output_type": "display_data"
    }
   ],
   "source": [
    "from tradingstrategy.client import Client\n",
    "\n",
    "from tradeexecutor.strategy.trading_strategy_universe import TradingStrategyUniverse, load_trading_and_lending_data\n",
    "from tradeexecutor.strategy.execution_context import ExecutionContext\n",
    "from tradeexecutor.strategy.execution_context import ExecutionMode\n",
    "from tradeexecutor.strategy.universe_model import UniverseOptions\n",
    "\n",
    "def create_trading_universe(\n",
    "        ts: datetime.datetime,\n",
    "        client: Client,\n",
    "        execution_context: ExecutionContext,\n",
    "        universe_options: UniverseOptions,\n",
    ") -> TradingStrategyUniverse:\n",
    "\n",
    "    # for all lending markets on a relevant time period\n",
    "    dataset = load_trading_and_lending_data(\n",
    "        client,\n",
    "        execution_context=ExecutionContext(mode=ExecutionMode.data_research),\n",
    "        universe_options=universe_options,\n",
    "        # Ask for all Polygon data\n",
    "        chain_id=ChainId.polygon,\n",
    "        # We limit ourselves to price feeds on Uniswap v3 and Quickswap on Polygon,\n",
    "        # as there are multiple small or dead DEXes on Polygon\n",
    "        # which also have price feeds but not interesting liquidity\n",
    "        exchange_slugs={\"uniswap-v3\", \"quickswap\"},\n",
    "        reserve_asset_symbols={\"USDC\"},\n",
    "        asset_symbols={\"LINK\", \"WMATIC\", \"WETH\"},\n",
    "        volatile_only=True,\n",
    "    )\n",
    "\n",
    "    # Filter down the dataset to the pairs we specified\n",
    "    universe = TradingStrategyUniverse.create_from_dataset(dataset)\n",
    "\n",
    "    return universe\n",
    "\n",
    "universe = create_trading_universe(\n",
    "    datetime.datetime.utcnow(),\n",
    "    client,\n",
    "    ExecutionContext(mode=ExecutionMode.backtesting),\n",
    "    UniverseOptions(start_at=backtest_start_at, end_at=backtest_end_at),\n",
    ")\n"
   ]
  },
  {
   "cell_type": "markdown",
   "source": [
    "## Available trading universe\n",
    "\n",
    "Inspect trading pairs and lending markets we are going to backtest.\n"
   ],
   "metadata": {
    "collapsed": false
   }
  },
  {
   "cell_type": "code",
   "execution_count": 5,
   "outputs": [
    {
     "data": {
      "text/plain": "<IPython.core.display.HTML object>",
      "text/html": "<table border=\"1\" class=\"dataframe\">\n  <thead>\n    <tr style=\"text-align: right;\">\n      <th></th>\n      <th>Lending asset</th>\n      <th>Stablecoin</th>\n      <th>Best trading pair</th>\n      <th>Lending available at</th>\n      <th>Trading available at</th>\n      <th>Price data page</th>\n      <th>Lending rate page</th>\n    </tr>\n  </thead>\n  <tbody>\n    <tr>\n      <th>0</th>\n      <td>LINK</td>\n      <td>no</td>\n      <td>LINK-USDC at 5 BPS fee tier on Uniswap v3</td>\n      <td>2022-03-16</td>\n      <td>2022-08-21</td>\n      <td><a target=\"_blank\" href=\"https://tradingstrategy.ai/trading-view/polygon/uniswap-v3/link-usdc-fee-5\">View</a></td>\n      <td><a target=\"_blank\" href=\"https://tradingstrategy.ai/trading-view/polygon/lending/aave_v3/link\">View</a></td>\n    </tr>\n    <tr>\n      <th>1</th>\n      <td>USDC</td>\n      <td>yes</td>\n      <td>No AMM pools found</td>\n      <td>2022-03-16</td>\n      <td>-</td>\n      <td><a target=\"_blank\" href=\"-\">View</a></td>\n      <td><a target=\"_blank\" href=\"https://tradingstrategy.ai/trading-view/polygon/lending/aave_v3/usdc\">View</a></td>\n    </tr>\n    <tr>\n      <th>2</th>\n      <td>WETH</td>\n      <td>no</td>\n      <td>WETH-USDC at 5 BPS fee tier on Uniswap v3</td>\n      <td>2022-03-16</td>\n      <td>2021-12-21</td>\n      <td><a target=\"_blank\" href=\"https://tradingstrategy.ai/trading-view/polygon/uniswap-v3/eth-usdc-fee-5\">View</a></td>\n      <td><a target=\"_blank\" href=\"https://tradingstrategy.ai/trading-view/polygon/lending/aave_v3/weth\">View</a></td>\n    </tr>\n    <tr>\n      <th>3</th>\n      <td>WMATIC</td>\n      <td>no</td>\n      <td>WMATIC-USDC at 5 BPS fee tier on Uniswap v3</td>\n      <td>2022-03-12</td>\n      <td>2022-07-07</td>\n      <td><a target=\"_blank\" href=\"https://tradingstrategy.ai/trading-view/polygon/uniswap-v3/matic-usdc-fee-5\">View</a></td>\n      <td><a target=\"_blank\" href=\"https://tradingstrategy.ai/trading-view/polygon/lending/aave_v3/wmatic\">View</a></td>\n    </tr>\n  </tbody>\n</table>"
     },
     "metadata": {},
     "output_type": "display_data"
    }
   ],
   "source": [
    "from IPython.display import HTML\n",
    "\n",
    "from tradeexecutor.analysis.universe import analyse_long_short_universe\n",
    "from tradingstrategy.utils.jupyter import format_links_for_html_output\n",
    "\n",
    "df = analyse_long_short_universe(universe)\n",
    "df = format_links_for_html_output(df, (\"Price data page\", \"Lending rate page\",))\n",
    "\n",
    "display(HTML(df.to_html(escape=False)))"
   ],
   "metadata": {
    "collapsed": false,
    "ExecuteTime": {
     "end_time": "2023-10-13T23:52:41.737061Z",
     "start_time": "2023-10-13T23:52:41.715766Z"
    }
   }
  },
  {
   "cell_type": "markdown",
   "metadata": {},
   "source": [
    "## Run backtest\n",
    "\n",
    "Run backtest using giving trading universe and strategy function.\n",
    "\n",
    "- Running the backtest outputs `state` object that contains all the information\n",
    "on the backtesting position and trades.\n",
    "- The trade execution engine will download the necessary datasets to run the backtest.\n",
    "  The datasets may be large, several gigabytes.\n"
   ]
  },
  {
   "cell_type": "code",
   "execution_count": 6,
   "metadata": {
    "collapsed": false,
    "jupyter": {
     "outputs_hidden": false
    },
    "ExecuteTime": {
     "end_time": "2023-10-13T23:52:42.407977Z",
     "start_time": "2023-10-13T23:52:41.729909Z"
    }
   },
   "outputs": [
    {
     "data": {
      "text/plain": "  0%|          | 0/70934400 [00:00<?, ?it/s]",
      "application/vnd.jupyter.widget-view+json": {
       "version_major": 2,
       "version_minor": 0,
       "model_id": "0da27f1852994bef9ab6452b42f3cd0b"
      }
     },
     "metadata": {},
     "output_type": "display_data"
    },
    {
     "ename": "CandleSampleUnavailable",
     "evalue": "Could not fetch price for <Pair LINK-USDC spot_market_hold at 0x70cee55c98f6da2685807611f115ea737d4a248e (0.3000% fee) on exchange 0x5757371414417b8c6caad45baef941abc7d3ab32> at 2021-03-15 00:00:00\n\nThis is usually due to sparse candle data - trades have not been made or the blockchain was halted during the price look-up period.\nBecause there are no trades we cannot determine what was the correct asset price using 2 days 00:00:00 data tolerance delay.\n\nYou can work around this by checking that any trading pair candles are fresh enough in your decide_trades() function\nor increase the parameter in BacktestSimplePricingModel(data_delay_tolerance) or run_backtest_inline(data_delay_tolerance)\n",
     "output_type": "error",
     "traceback": [
      "\u001B[0;31m---------------------------------------------------------------------------\u001B[0m",
      "\u001B[0;31mCandleSampleUnavailable\u001B[0m                   Traceback (most recent call last)",
      "File \u001B[0;32m~/code/ts/trade-executor/tradeexecutor/strategy/pandas_trader/position_manager.py:676\u001B[0m, in \u001B[0;36mPositionManager.adjust_position\u001B[0;34m(self, pair, dollar_delta, quantity_delta, weight, stop_loss, take_profit, trailing_stop_loss, slippage_tolerance, override_stop_loss)\u001B[0m\n\u001B[1;32m    675\u001B[0m     dollar_delta \u001B[38;5;241m=\u001B[39m Decimal(dollar_delta) \u001B[38;5;28;01mif\u001B[39;00m \u001B[38;5;28misinstance\u001B[39m(dollar_delta, \u001B[38;5;28mfloat\u001B[39m \u001B[38;5;241m|\u001B[39m \u001B[38;5;28mint\u001B[39m) \u001B[38;5;28;01melse\u001B[39;00m dollar_delta\n\u001B[0;32m--> 676\u001B[0m     price_structure \u001B[38;5;241m=\u001B[39m \u001B[38;5;28;43mself\u001B[39;49m\u001B[38;5;241;43m.\u001B[39;49m\u001B[43mpricing_model\u001B[49m\u001B[38;5;241;43m.\u001B[39;49m\u001B[43mget_buy_price\u001B[49m\u001B[43m(\u001B[49m\u001B[38;5;28;43mself\u001B[39;49m\u001B[38;5;241;43m.\u001B[39;49m\u001B[43mtimestamp\u001B[49m\u001B[43m,\u001B[49m\u001B[43m \u001B[49m\u001B[43mpair\u001B[49m\u001B[43m,\u001B[49m\u001B[43m \u001B[49m\u001B[43mdollar_delta\u001B[49m\u001B[43m)\u001B[49m\n\u001B[1;32m    677\u001B[0m \u001B[38;5;28;01melse\u001B[39;00m:\n",
      "File \u001B[0;32m~/code/ts/trade-executor/tradeexecutor/backtest/backtest_pricing.py:184\u001B[0m, in \u001B[0;36mBacktestSimplePricingModel.get_buy_price\u001B[0;34m(self, ts, pair, reserve)\u001B[0m\n\u001B[1;32m    182\u001B[0m pair_id \u001B[38;5;241m=\u001B[39m pair\u001B[38;5;241m.\u001B[39minternal_id\n\u001B[0;32m--> 184\u001B[0m mid_price, delay \u001B[38;5;241m=\u001B[39m \u001B[38;5;28;43mself\u001B[39;49m\u001B[38;5;241;43m.\u001B[39;49m\u001B[43mcandle_universe\u001B[49m\u001B[38;5;241;43m.\u001B[39;49m\u001B[43mget_price_with_tolerance\u001B[49m\u001B[43m(\u001B[49m\n\u001B[1;32m    185\u001B[0m \u001B[43m    \u001B[49m\u001B[43mpair_id\u001B[49m\u001B[43m,\u001B[49m\n\u001B[1;32m    186\u001B[0m \u001B[43m    \u001B[49m\u001B[43mts\u001B[49m\u001B[43m,\u001B[49m\n\u001B[1;32m    187\u001B[0m \u001B[43m    \u001B[49m\u001B[43mtolerance\u001B[49m\u001B[38;5;241;43m=\u001B[39;49m\u001B[38;5;28;43mself\u001B[39;49m\u001B[38;5;241;43m.\u001B[39;49m\u001B[43mdata_delay_tolerance\u001B[49m\u001B[43m,\u001B[49m\n\u001B[1;32m    188\u001B[0m \u001B[43m    \u001B[49m\u001B[43mkind\u001B[49m\u001B[38;5;241;43m=\u001B[39;49m\u001B[38;5;28;43mself\u001B[39;49m\u001B[38;5;241;43m.\u001B[39;49m\u001B[43mcandle_timepoint_kind\u001B[49m\u001B[43m,\u001B[49m\n\u001B[1;32m    189\u001B[0m \u001B[43m\u001B[49m\u001B[43m)\u001B[49m\n\u001B[1;32m    191\u001B[0m \u001B[38;5;28;01massert\u001B[39;00m mid_price \u001B[38;5;129;01mnot\u001B[39;00m \u001B[38;5;129;01min\u001B[39;00m (\u001B[38;5;241m0\u001B[39m, math\u001B[38;5;241m.\u001B[39mnan), \u001B[38;5;124mf\u001B[39m\u001B[38;5;124m\"\u001B[39m\u001B[38;5;124mGot bad mid price: \u001B[39m\u001B[38;5;132;01m{\u001B[39;00mmid_price\u001B[38;5;132;01m}\u001B[39;00m\u001B[38;5;124m\"\u001B[39m\n",
      "File \u001B[0;32m~/code/ts/trade-executor/deps/trading-strategy/tradingstrategy/candle.py:576\u001B[0m, in \u001B[0;36mGroupedCandleUniverse.get_price_with_tolerance\u001B[0;34m(self, pair, when, tolerance, kind)\u001B[0m\n\u001B[1;32m    574\u001B[0m last_sample_timestamp \u001B[38;5;241m=\u001B[39m timestamp_index[\u001B[38;5;241m-\u001B[39m\u001B[38;5;241m1\u001B[39m]\n\u001B[0;32m--> 576\u001B[0m \u001B[38;5;28;01mraise\u001B[39;00m CandleSampleUnavailable(\n\u001B[1;32m    577\u001B[0m     \u001B[38;5;124mf\u001B[39m\u001B[38;5;124m\"\u001B[39m\u001B[38;5;124mCould not find candle data for pair \u001B[39m\u001B[38;5;132;01m{\u001B[39;00mpair_name\u001B[38;5;132;01m}\u001B[39;00m\u001B[38;5;130;01m\\n\u001B[39;00m\u001B[38;5;124m\"\u001B[39m\n\u001B[1;32m    578\u001B[0m     \u001B[38;5;124mf\u001B[39m\u001B[38;5;124m\"\u001B[39m\u001B[38;5;124m- Column \u001B[39m\u001B[38;5;124m'\u001B[39m\u001B[38;5;132;01m{\u001B[39;00mkind\u001B[38;5;132;01m}\u001B[39;00m\u001B[38;5;124m'\u001B[39m\u001B[38;5;130;01m\\n\u001B[39;00m\u001B[38;5;124m\"\u001B[39m\n\u001B[1;32m    579\u001B[0m     \u001B[38;5;124mf\u001B[39m\u001B[38;5;124m\"\u001B[39m\u001B[38;5;124m- At \u001B[39m\u001B[38;5;132;01m{\u001B[39;00mwhen\u001B[38;5;132;01m}\u001B[39;00m\u001B[38;5;130;01m\\n\u001B[39;00m\u001B[38;5;124m\"\u001B[39m\n\u001B[1;32m    580\u001B[0m     \u001B[38;5;124mf\u001B[39m\u001B[38;5;124m\"\u001B[39m\u001B[38;5;124m- Lower bound of time range tolerance \u001B[39m\u001B[38;5;132;01m{\u001B[39;00mlast_allowed_timestamp\u001B[38;5;132;01m}\u001B[39;00m\u001B[38;5;130;01m\\n\u001B[39;00m\u001B[38;5;124m\"\u001B[39m\n\u001B[1;32m    581\u001B[0m     \u001B[38;5;124mf\u001B[39m\u001B[38;5;124m\"\u001B[39m\u001B[38;5;130;01m\\n\u001B[39;00m\u001B[38;5;124m\"\u001B[39m\n\u001B[1;32m    582\u001B[0m     \u001B[38;5;124mf\u001B[39m\u001B[38;5;124m\"\u001B[39m\u001B[38;5;124m- Data lag tolerance is set to \u001B[39m\u001B[38;5;132;01m{\u001B[39;00mtolerance\u001B[38;5;132;01m}\u001B[39;00m\u001B[38;5;130;01m\\n\u001B[39;00m\u001B[38;5;124m\"\u001B[39m\n\u001B[1;32m    583\u001B[0m     \u001B[38;5;124mf\u001B[39m\u001B[38;5;124m\"\u001B[39m\u001B[38;5;124m- The pair has \u001B[39m\u001B[38;5;132;01m{\u001B[39;00m\u001B[38;5;28mlen\u001B[39m(samples_per_kind)\u001B[38;5;132;01m}\u001B[39;00m\u001B[38;5;124m candles between \u001B[39m\u001B[38;5;132;01m{\u001B[39;00mfirst_sample_timestamp\u001B[38;5;132;01m}\u001B[39;00m\u001B[38;5;124m - \u001B[39m\u001B[38;5;132;01m{\u001B[39;00mlast_sample_timestamp\u001B[38;5;132;01m}\u001B[39;00m\u001B[38;5;130;01m\\n\u001B[39;00m\u001B[38;5;124m\"\u001B[39m\n\u001B[1;32m    584\u001B[0m     \u001B[38;5;124mf\u001B[39m\u001B[38;5;124m\"\u001B[39m\u001B[38;5;130;01m\\n\u001B[39;00m\u001B[38;5;124m\"\u001B[39m\n\u001B[1;32m    585\u001B[0m     \u001B[38;5;124mf\u001B[39m\u001B[38;5;124m\"\u001B[39m\u001B[38;5;124mData unavailability might be due to several reasons:\u001B[39m\u001B[38;5;130;01m\\n\u001B[39;00m\u001B[38;5;124m\"\u001B[39m\n\u001B[1;32m    586\u001B[0m     \u001B[38;5;124mf\u001B[39m\u001B[38;5;124m\"\u001B[39m\u001B[38;5;130;01m\\n\u001B[39;00m\u001B[38;5;124m\"\u001B[39m\n\u001B[1;32m    587\u001B[0m     \u001B[38;5;124mf\u001B[39m\u001B[38;5;124m\"\u001B[39m\u001B[38;5;124m- You are handling sparse data - trades have not been made or the blockchain was halted during the price look-up period.\u001B[39m\u001B[38;5;130;01m\\n\u001B[39;00m\u001B[38;5;124m\"\u001B[39m\n\u001B[1;32m    588\u001B[0m     \u001B[38;5;124mf\u001B[39m\u001B[38;5;124m\"\u001B[39m\u001B[38;5;124m  Try to increase \u001B[39m\u001B[38;5;124m'\u001B[39m\u001B[38;5;124mtolerance\u001B[39m\u001B[38;5;124m'\u001B[39m\u001B[38;5;124m argument time window.\u001B[39m\u001B[38;5;130;01m\\n\u001B[39;00m\u001B[38;5;124m\"\u001B[39m\n\u001B[1;32m    589\u001B[0m     \u001B[38;5;124mf\u001B[39m\u001B[38;5;124m\"\u001B[39m\u001B[38;5;124m- You are asking historical data when the trading pair was not yet live.\u001B[39m\u001B[38;5;130;01m\\n\u001B[39;00m\u001B[38;5;124m\"\u001B[39m\n\u001B[1;32m    590\u001B[0m     \u001B[38;5;124mf\u001B[39m\u001B[38;5;124m\"\u001B[39m\u001B[38;5;124m- Your backtest is using indicators that need more lookback buffer than you are giving to them.\u001B[39m\u001B[38;5;130;01m\\n\u001B[39;00m\u001B[38;5;124m\"\u001B[39m\n\u001B[1;32m    591\u001B[0m     \u001B[38;5;124mf\u001B[39m\u001B[38;5;124m\"\u001B[39m\u001B[38;5;124m  Try set your data load range earlier or your backtesting starting later.\u001B[39m\u001B[38;5;130;01m\\n\u001B[39;00m\u001B[38;5;124m\"\u001B[39m\n\u001B[1;32m    592\u001B[0m     \u001B[38;5;124mf\u001B[39m\u001B[38;5;124m\"\u001B[39m\u001B[38;5;130;01m\\n\u001B[39;00m\u001B[38;5;124m\"\u001B[39m,\n\u001B[1;32m    593\u001B[0m     \u001B[38;5;124mf\u001B[39m\u001B[38;5;124m\"\u001B[39m\u001B[38;5;124mTrading pair page link: \u001B[39m\u001B[38;5;132;01m{\u001B[39;00mlink\u001B[38;5;132;01m}\u001B[39;00m\u001B[38;5;124m\"\u001B[39m\n\u001B[1;32m    594\u001B[0m     )\n",
      "\u001B[0;31mCandleSampleUnavailable\u001B[0m: (\"Could not find candle data for pair 93900\\n- Column 'open'\\n- At 2021-03-15 00:00:00\\n- Lower bound of time range tolerance 2021-03-13 00:00:00\\n\\n- Data lag tolerance is set to 2 days 00:00:00\\n- The pair has 391 candles between 2021-01-19 00:00:00 - 2023-01-31 00:00:00\\n\\nData unavailability might be due to several reasons:\\n\\n- You are handling sparse data - trades have not been made or the blockchain was halted during the price look-up period.\\n  Try to increase 'tolerance' argument time window.\\n- You are asking historical data when the trading pair was not yet live.\\n- Your backtest is using indicators that need more lookback buffer than you are giving to them.\\n  Try set your data load range earlier or your backtesting starting later.\\n\\n\", 'Trading pair page link: <link unavailable>')",
      "\nThe above exception was the direct cause of the following exception:\n",
      "\u001B[0;31mCandleSampleUnavailable\u001B[0m                   Traceback (most recent call last)",
      "Cell \u001B[0;32mIn[6], line 5\u001B[0m\n\u001B[1;32m      1\u001B[0m \u001B[38;5;28;01mimport\u001B[39;00m \u001B[38;5;21;01mlogging\u001B[39;00m\n\u001B[1;32m      3\u001B[0m \u001B[38;5;28;01mfrom\u001B[39;00m \u001B[38;5;21;01mtradeexecutor\u001B[39;00m\u001B[38;5;21;01m.\u001B[39;00m\u001B[38;5;21;01mbacktest\u001B[39;00m\u001B[38;5;21;01m.\u001B[39;00m\u001B[38;5;21;01mbacktest_runner\u001B[39;00m \u001B[38;5;28;01mimport\u001B[39;00m run_backtest_inline\n\u001B[0;32m----> 5\u001B[0m state, universe, debug_dump \u001B[38;5;241m=\u001B[39m \u001B[43mrun_backtest_inline\u001B[49m\u001B[43m(\u001B[49m\n\u001B[1;32m      6\u001B[0m \u001B[43m    \u001B[49m\u001B[43mname\u001B[49m\u001B[38;5;241;43m=\u001B[39;49m\u001B[38;5;124;43m\"\u001B[39;49m\u001B[38;5;124;43mPortfolio construction model example strategy\u001B[39;49m\u001B[38;5;124;43m\"\u001B[39;49m\u001B[43m,\u001B[49m\n\u001B[1;32m      7\u001B[0m \u001B[43m    \u001B[49m\u001B[43mstart_at\u001B[49m\u001B[38;5;241;43m=\u001B[39;49m\u001B[43mbacktest_start_at\u001B[49m\u001B[43m,\u001B[49m\n\u001B[1;32m      8\u001B[0m \u001B[43m    \u001B[49m\u001B[43mend_at\u001B[49m\u001B[38;5;241;43m=\u001B[39;49m\u001B[43mbacktest_end_at\u001B[49m\u001B[43m,\u001B[49m\n\u001B[1;32m      9\u001B[0m \u001B[43m    \u001B[49m\u001B[43mclient\u001B[49m\u001B[38;5;241;43m=\u001B[39;49m\u001B[43mclient\u001B[49m\u001B[43m,\u001B[49m\n\u001B[1;32m     10\u001B[0m \u001B[43m    \u001B[49m\u001B[43mcycle_duration\u001B[49m\u001B[38;5;241;43m=\u001B[39;49m\u001B[43mtrading_strategy_cycle\u001B[49m\u001B[43m,\u001B[49m\n\u001B[1;32m     11\u001B[0m \u001B[43m    \u001B[49m\u001B[43mdecide_trades\u001B[49m\u001B[38;5;241;43m=\u001B[39;49m\u001B[43mdecide_trades\u001B[49m\u001B[43m,\u001B[49m\n\u001B[1;32m     12\u001B[0m \u001B[43m    \u001B[49m\u001B[43mcreate_trading_universe\u001B[49m\u001B[38;5;241;43m=\u001B[39;49m\u001B[43mcreate_trading_universe\u001B[49m\u001B[43m,\u001B[49m\n\u001B[1;32m     13\u001B[0m \u001B[43m    \u001B[49m\u001B[43minitial_deposit\u001B[49m\u001B[38;5;241;43m=\u001B[39;49m\u001B[43minitial_deposit\u001B[49m\u001B[43m,\u001B[49m\n\u001B[1;32m     14\u001B[0m \u001B[43m    \u001B[49m\u001B[43mreserve_currency\u001B[49m\u001B[38;5;241;43m=\u001B[39;49m\u001B[43mreserve_currency\u001B[49m\u001B[43m,\u001B[49m\n\u001B[1;32m     15\u001B[0m \u001B[43m    \u001B[49m\u001B[43mtrade_routing\u001B[49m\u001B[38;5;241;43m=\u001B[39;49m\u001B[43mtrade_routing\u001B[49m\u001B[43m,\u001B[49m\n\u001B[1;32m     16\u001B[0m \u001B[43m    \u001B[49m\u001B[43mlog_level\u001B[49m\u001B[38;5;241;43m=\u001B[39;49m\u001B[43mlogging\u001B[49m\u001B[38;5;241;43m.\u001B[39;49m\u001B[43mWARNING\u001B[49m\u001B[43m,\u001B[49m\n\u001B[1;32m     17\u001B[0m \u001B[43m    \u001B[49m\u001B[43muniverse\u001B[49m\u001B[38;5;241;43m=\u001B[39;49m\u001B[43muniverse\u001B[49m\u001B[43m,\u001B[49m\n\u001B[1;32m     18\u001B[0m \u001B[43m)\u001B[49m\n\u001B[1;32m     20\u001B[0m trade_count \u001B[38;5;241m=\u001B[39m \u001B[38;5;28mlen\u001B[39m(\u001B[38;5;28mlist\u001B[39m(state\u001B[38;5;241m.\u001B[39mportfolio\u001B[38;5;241m.\u001B[39mget_all_trades()))\n\u001B[1;32m     21\u001B[0m \u001B[38;5;28mprint\u001B[39m(\u001B[38;5;124mf\u001B[39m\u001B[38;5;124m\"\u001B[39m\u001B[38;5;124mBacktesting completed, backtested strategy made \u001B[39m\u001B[38;5;132;01m{\u001B[39;00mtrade_count\u001B[38;5;132;01m}\u001B[39;00m\u001B[38;5;124m trades\u001B[39m\u001B[38;5;124m\"\u001B[39m)\n",
      "File \u001B[0;32m~/code/ts/trade-executor/tradeexecutor/backtest/backtest_runner.py:603\u001B[0m, in \u001B[0;36mrun_backtest_inline\u001B[0;34m(start_at, end_at, minimum_data_lookback_range, client, decide_trades, cycle_duration, initial_deposit, reserve_currency, trade_routing, create_trading_universe, universe, routing_model, max_slippage, candle_time_frame, log_level, data_preload, data_delay_tolerance, name, allow_missing_fees, engine_version, *ignore)\u001B[0m\n\u001B[1;32m    574\u001B[0m universe_options \u001B[38;5;241m=\u001B[39m UniverseOptions(\n\u001B[1;32m    575\u001B[0m     candle_time_bucket_override\u001B[38;5;241m=\u001B[39mcandle_time_frame,\n\u001B[1;32m    576\u001B[0m     start_at\u001B[38;5;241m=\u001B[39mstart_at,\n\u001B[1;32m    577\u001B[0m     end_at\u001B[38;5;241m=\u001B[39mend_at,\n\u001B[1;32m    578\u001B[0m )\n\u001B[1;32m    580\u001B[0m backtest_setup \u001B[38;5;241m=\u001B[39m BacktestSetup(\n\u001B[1;32m    581\u001B[0m     start_at,\n\u001B[1;32m    582\u001B[0m     end_at,\n\u001B[0;32m   (...)\u001B[0m\n\u001B[1;32m    600\u001B[0m     engine_version\u001B[38;5;241m=\u001B[39mengine_version,\n\u001B[1;32m    601\u001B[0m )\n\u001B[0;32m--> 603\u001B[0m state, universe, debug_dump \u001B[38;5;241m=\u001B[39m \u001B[43mrun_backtest\u001B[49m\u001B[43m(\u001B[49m\u001B[43mbacktest_setup\u001B[49m\u001B[43m,\u001B[49m\u001B[43m \u001B[49m\u001B[43mclient\u001B[49m\u001B[43m,\u001B[49m\u001B[43m \u001B[49m\u001B[43mallow_missing_fees\u001B[49m\u001B[38;5;241;43m=\u001B[39;49m\u001B[38;5;28;43;01mTrue\u001B[39;49;00m\u001B[43m)\u001B[49m\n\u001B[1;32m    605\u001B[0m debug_dump[\u001B[38;5;124m\"\u001B[39m\u001B[38;5;124mwallet\u001B[39m\u001B[38;5;124m\"\u001B[39m] \u001B[38;5;241m=\u001B[39m wallet\n\u001B[1;32m    607\u001B[0m \u001B[38;5;28;01mreturn\u001B[39;00m state, universe, debug_dump\n",
      "File \u001B[0;32m~/code/ts/trade-executor/tradeexecutor/backtest/backtest_runner.py:407\u001B[0m, in \u001B[0;36mrun_backtest\u001B[0;34m(setup, client, allow_missing_fees, execution_test_hook)\u001B[0m\n\u001B[1;32m    373\u001B[0m execution_context \u001B[38;5;241m=\u001B[39m ExecutionContext(\n\u001B[1;32m    374\u001B[0m     mode\u001B[38;5;241m=\u001B[39mExecutionMode\u001B[38;5;241m.\u001B[39mbacktesting,\n\u001B[1;32m    375\u001B[0m     timed_task_context_manager\u001B[38;5;241m=\u001B[39mtimed_task,\n\u001B[1;32m    376\u001B[0m     engine_version\u001B[38;5;241m=\u001B[39msetup\u001B[38;5;241m.\u001B[39mengine_version,\n\u001B[1;32m    377\u001B[0m )\n\u001B[1;32m    379\u001B[0m main_loop \u001B[38;5;241m=\u001B[39m ExecutionLoop(\n\u001B[1;32m    380\u001B[0m     name\u001B[38;5;241m=\u001B[39msetup\u001B[38;5;241m.\u001B[39mname,\n\u001B[1;32m    381\u001B[0m     command_queue\u001B[38;5;241m=\u001B[39mQueue(),\n\u001B[0;32m   (...)\u001B[0m\n\u001B[1;32m    404\u001B[0m     universe_options\u001B[38;5;241m=\u001B[39msetup\u001B[38;5;241m.\u001B[39muniverse_options,\n\u001B[1;32m    405\u001B[0m )\n\u001B[0;32m--> 407\u001B[0m debug_dump \u001B[38;5;241m=\u001B[39m \u001B[43mmain_loop\u001B[49m\u001B[38;5;241;43m.\u001B[39;49m\u001B[43mrun_and_setup_backtest\u001B[49m\u001B[43m(\u001B[49m\u001B[43m)\u001B[49m\n\u001B[1;32m    409\u001B[0m \u001B[38;5;28;01mreturn\u001B[39;00m setup\u001B[38;5;241m.\u001B[39mstate, backtest_universe, debug_dump\n",
      "File \u001B[0;32m~/code/ts/trade-executor/tradeexecutor/cli/loop.py:1233\u001B[0m, in \u001B[0;36mExecutionLoop.run_and_setup_backtest\u001B[0;34m(self)\u001B[0m\n\u001B[1;32m   1231\u001B[0m \u001B[38;5;28;01mdef\u001B[39;00m \u001B[38;5;21mrun_and_setup_backtest\u001B[39m(\u001B[38;5;28mself\u001B[39m):\n\u001B[1;32m   1232\u001B[0m     state \u001B[38;5;241m=\u001B[39m \u001B[38;5;28mself\u001B[39m\u001B[38;5;241m.\u001B[39msetup()\n\u001B[0;32m-> 1233\u001B[0m     \u001B[38;5;28;01mreturn\u001B[39;00m \u001B[38;5;28;43mself\u001B[39;49m\u001B[38;5;241;43m.\u001B[39;49m\u001B[43mrun_backtest\u001B[49m\u001B[43m(\u001B[49m\u001B[43mstate\u001B[49m\u001B[43m)\u001B[49m\n",
      "File \u001B[0;32m~/code/ts/trade-executor/tradeexecutor/cli/loop.py:789\u001B[0m, in \u001B[0;36mExecutionLoop.run_backtest\u001B[0;34m(self, state)\u001B[0m\n\u001B[1;32m    781\u001B[0m execution_test_hook\u001B[38;5;241m.\u001B[39mon_before_cycle(\n\u001B[1;32m    782\u001B[0m     cycle,\n\u001B[1;32m    783\u001B[0m     ts,\n\u001B[1;32m    784\u001B[0m     state,\n\u001B[1;32m    785\u001B[0m     \u001B[38;5;28mself\u001B[39m\u001B[38;5;241m.\u001B[39msync_model,\n\u001B[1;32m    786\u001B[0m )\n\u001B[1;32m    788\u001B[0m \u001B[38;5;66;03m# Decide trades and everything for this cycle\u001B[39;00m\n\u001B[0;32m--> 789\u001B[0m universe: TradingStrategyUniverse \u001B[38;5;241m=\u001B[39m \u001B[38;5;28;43mself\u001B[39;49m\u001B[38;5;241;43m.\u001B[39;49m\u001B[43mtick\u001B[49m\u001B[43m(\u001B[49m\n\u001B[1;32m    790\u001B[0m \u001B[43m    \u001B[49m\u001B[43mts\u001B[49m\u001B[43m,\u001B[49m\n\u001B[1;32m    791\u001B[0m \u001B[43m    \u001B[49m\u001B[43mbacktest_step\u001B[49m\u001B[43m,\u001B[49m\n\u001B[1;32m    792\u001B[0m \u001B[43m    \u001B[49m\u001B[43mstate\u001B[49m\u001B[43m,\u001B[49m\n\u001B[1;32m    793\u001B[0m \u001B[43m    \u001B[49m\u001B[43mcycle\u001B[49m\u001B[43m,\u001B[49m\n\u001B[1;32m    794\u001B[0m \u001B[43m    \u001B[49m\u001B[43mlive\u001B[49m\u001B[38;5;241;43m=\u001B[39;49m\u001B[38;5;28;43;01mFalse\u001B[39;49;00m\u001B[43m,\u001B[49m\n\u001B[1;32m    795\u001B[0m \u001B[43m    \u001B[49m\u001B[43mstrategy_cycle_timestamp\u001B[49m\u001B[38;5;241;43m=\u001B[39;49m\u001B[43mts\u001B[49m\u001B[43m,\u001B[49m\n\u001B[1;32m    796\u001B[0m \u001B[43m    \u001B[49m\u001B[43mexisting_universe\u001B[49m\u001B[38;5;241;43m=\u001B[39;49m\u001B[43muniverse\u001B[49m\u001B[43m)\u001B[49m\n\u001B[1;32m    798\u001B[0m \u001B[38;5;66;03m# Revalue our portfolio\u001B[39;00m\n\u001B[1;32m    799\u001B[0m \u001B[38;5;28mself\u001B[39m\u001B[38;5;241m.\u001B[39mupdate_position_valuations(ts, state, universe, \u001B[38;5;28mself\u001B[39m\u001B[38;5;241m.\u001B[39mexecution_context\u001B[38;5;241m.\u001B[39mmode)\n",
      "File \u001B[0;32m~/code/ts/trade-executor/tradeexecutor/cli/loop.py:467\u001B[0m, in \u001B[0;36mExecutionLoop.tick\u001B[0;34m(self, unrounded_timestamp, cycle_duration, state, cycle, live, existing_universe, strategy_cycle_timestamp, extra_debug_data)\u001B[0m\n\u001B[1;32m    464\u001B[0m     logger\u001B[38;5;241m.\u001B[39minfo(\u001B[38;5;124m\"\u001B[39m\u001B[38;5;124mGenerated \u001B[39m\u001B[38;5;132;01m%d\u001B[39;00m\u001B[38;5;124m sync interest events\u001B[39m\u001B[38;5;124m\"\u001B[39m, \u001B[38;5;28mlen\u001B[39m(sync_events))\n\u001B[1;32m    466\u001B[0m \u001B[38;5;66;03m# Execute the strategy tick and trades\u001B[39;00m\n\u001B[0;32m--> 467\u001B[0m \u001B[38;5;28;43mself\u001B[39;49m\u001B[38;5;241;43m.\u001B[39;49m\u001B[43mrunner\u001B[49m\u001B[38;5;241;43m.\u001B[39;49m\u001B[43mtick\u001B[49m\u001B[43m(\u001B[49m\n\u001B[1;32m    468\u001B[0m \u001B[43m    \u001B[49m\u001B[43mstrategy_cycle_timestamp\u001B[49m\u001B[38;5;241;43m=\u001B[39;49m\u001B[43mts\u001B[49m\u001B[43m,\u001B[49m\n\u001B[1;32m    469\u001B[0m \u001B[43m    \u001B[49m\u001B[43muniverse\u001B[49m\u001B[38;5;241;43m=\u001B[39;49m\u001B[43muniverse\u001B[49m\u001B[43m,\u001B[49m\n\u001B[1;32m    470\u001B[0m \u001B[43m    \u001B[49m\u001B[43mstate\u001B[49m\u001B[38;5;241;43m=\u001B[39;49m\u001B[43mstate\u001B[49m\u001B[43m,\u001B[49m\n\u001B[1;32m    471\u001B[0m \u001B[43m    \u001B[49m\u001B[43mdebug_details\u001B[49m\u001B[38;5;241;43m=\u001B[39;49m\u001B[43mdebug_details\u001B[49m\u001B[43m,\u001B[49m\n\u001B[1;32m    472\u001B[0m \u001B[43m    \u001B[49m\u001B[43mcycle_duration\u001B[49m\u001B[38;5;241;43m=\u001B[39;49m\u001B[43mcycle_duration\u001B[49m\u001B[43m,\u001B[49m\n\u001B[1;32m    473\u001B[0m \u001B[43m    \u001B[49m\u001B[43mcycle\u001B[49m\u001B[38;5;241;43m=\u001B[39;49m\u001B[43mcycle\u001B[49m\u001B[43m,\u001B[49m\n\u001B[1;32m    474\u001B[0m \u001B[43m\u001B[49m\u001B[43m)\u001B[49m\n\u001B[1;32m    476\u001B[0m \u001B[38;5;66;03m# Update portfolio and position historical data tracking.\u001B[39;00m\n\u001B[1;32m    477\u001B[0m \u001B[38;5;66;03m#\u001B[39;00m\n\u001B[1;32m    478\u001B[0m \u001B[38;5;66;03m# Statistics are updated on live_positions().\u001B[39;00m\n\u001B[0;32m   (...)\u001B[0m\n\u001B[1;32m    490\u001B[0m \u001B[38;5;66;03m# Rename other to avoid confusion.\u001B[39;00m\n\u001B[1;32m    491\u001B[0m \u001B[38;5;66;03m#\u001B[39;00m\n\u001B[1;32m    492\u001B[0m \u001B[38;5;28;01mif\u001B[39;00m live:\n\u001B[1;32m    493\u001B[0m     \u001B[38;5;66;03m# To be extra careful,\u001B[39;00m\n\u001B[1;32m    494\u001B[0m     \u001B[38;5;66;03m# save the state if we are going to crash\u001B[39;00m\n\u001B[1;32m    495\u001B[0m     \u001B[38;5;66;03m# in statistics calculations, so we have a trace\u001B[39;00m\n\u001B[1;32m    496\u001B[0m     \u001B[38;5;66;03m# of broadcasted transactions\u001B[39;00m\n",
      "File \u001B[0;32m~/code/ts/trade-executor/tradeexecutor/strategy/runner.py:513\u001B[0m, in \u001B[0;36mStrategyRunner.tick\u001B[0;34m(self, strategy_cycle_timestamp, universe, state, debug_details, cycle_duration, cycle)\u001B[0m\n\u001B[1;32m    509\u001B[0m \u001B[38;5;28;01mif\u001B[39;00m state\u001B[38;5;241m.\u001B[39mportfolio\u001B[38;5;241m.\u001B[39mhas_trading_capital() \u001B[38;5;129;01mor\u001B[39;00m execution_context\u001B[38;5;241m.\u001B[39mmode\u001B[38;5;241m.\u001B[39mis_unit_testing():\n\u001B[1;32m    510\u001B[0m \n\u001B[1;32m    511\u001B[0m     \u001B[38;5;66;03m# Run the strategy cycle main trading decision cycle\u001B[39;00m\n\u001B[1;32m    512\u001B[0m     \u001B[38;5;28;01mwith\u001B[39;00m \u001B[38;5;28mself\u001B[39m\u001B[38;5;241m.\u001B[39mtimed_task_context_manager(\u001B[38;5;124m\"\u001B[39m\u001B[38;5;124mdecide_trades\u001B[39m\u001B[38;5;124m\"\u001B[39m):\n\u001B[0;32m--> 513\u001B[0m         rebalance_trades \u001B[38;5;241m=\u001B[39m \u001B[38;5;28;43mself\u001B[39;49m\u001B[38;5;241;43m.\u001B[39;49m\u001B[43mon_clock\u001B[49m\u001B[43m(\u001B[49m\u001B[43mstrategy_cycle_timestamp\u001B[49m\u001B[43m,\u001B[49m\u001B[43m \u001B[49m\u001B[43muniverse\u001B[49m\u001B[43m,\u001B[49m\u001B[43m \u001B[49m\u001B[43mpricing_model\u001B[49m\u001B[43m,\u001B[49m\u001B[43m \u001B[49m\u001B[43mstate\u001B[49m\u001B[43m,\u001B[49m\u001B[43m \u001B[49m\u001B[43mdebug_details\u001B[49m\u001B[43m)\u001B[49m\n\u001B[1;32m    514\u001B[0m         \u001B[38;5;28;01massert\u001B[39;00m \u001B[38;5;28mtype\u001B[39m(rebalance_trades) \u001B[38;5;241m==\u001B[39m \u001B[38;5;28mlist\u001B[39m\n\u001B[1;32m    515\u001B[0m         debug_details[\u001B[38;5;124m\"\u001B[39m\u001B[38;5;124mrebalance_trades\u001B[39m\u001B[38;5;124m\"\u001B[39m] \u001B[38;5;241m=\u001B[39m rebalance_trades\n",
      "File \u001B[0;32m~/code/ts/trade-executor/tradeexecutor/strategy/pandas_trader/runner.py:75\u001B[0m, in \u001B[0;36mPandasTraderRunner.on_clock\u001B[0;34m(self, clock, strategy_universe, pricing_model, state, debug_details)\u001B[0m\n\u001B[1;32m     67\u001B[0m     \u001B[38;5;28;01mreturn\u001B[39;00m \u001B[38;5;28mself\u001B[39m\u001B[38;5;241m.\u001B[39mdecide_trades(\n\u001B[1;32m     68\u001B[0m         timestamp\u001B[38;5;241m=\u001B[39mpd_timestamp,\n\u001B[1;32m     69\u001B[0m         strategy_universe\u001B[38;5;241m=\u001B[39mstrategy_universe,\n\u001B[0;32m   (...)\u001B[0m\n\u001B[1;32m     72\u001B[0m         cycle_debug_data\u001B[38;5;241m=\u001B[39mdebug_details,\n\u001B[1;32m     73\u001B[0m     )\n\u001B[1;32m     74\u001B[0m \u001B[38;5;28;01melse\u001B[39;00m:\n\u001B[0;32m---> 75\u001B[0m     \u001B[38;5;28;01mreturn\u001B[39;00m \u001B[38;5;28;43mself\u001B[39;49m\u001B[38;5;241;43m.\u001B[39;49m\u001B[43mdecide_trades\u001B[49m\u001B[43m(\u001B[49m\n\u001B[1;32m     76\u001B[0m \u001B[43m        \u001B[49m\u001B[43mtimestamp\u001B[49m\u001B[38;5;241;43m=\u001B[39;49m\u001B[43mpd_timestamp\u001B[49m\u001B[43m,\u001B[49m\n\u001B[1;32m     77\u001B[0m \u001B[43m        \u001B[49m\u001B[43muniverse\u001B[49m\u001B[38;5;241;43m=\u001B[39;49m\u001B[43muniverse\u001B[49m\u001B[43m,\u001B[49m\n\u001B[1;32m     78\u001B[0m \u001B[43m        \u001B[49m\u001B[43mstate\u001B[49m\u001B[38;5;241;43m=\u001B[39;49m\u001B[43mstate\u001B[49m\u001B[43m,\u001B[49m\n\u001B[1;32m     79\u001B[0m \u001B[43m        \u001B[49m\u001B[43mpricing_model\u001B[49m\u001B[38;5;241;43m=\u001B[39;49m\u001B[43mpricing_model\u001B[49m\u001B[43m,\u001B[49m\n\u001B[1;32m     80\u001B[0m \u001B[43m        \u001B[49m\u001B[43mcycle_debug_data\u001B[49m\u001B[38;5;241;43m=\u001B[39;49m\u001B[43mdebug_details\u001B[49m\u001B[43m,\u001B[49m\n\u001B[1;32m     81\u001B[0m \u001B[43m    \u001B[49m\u001B[43m)\u001B[49m\n",
      "Cell \u001B[0;32mIn[2], line 103\u001B[0m, in \u001B[0;36mdecide_trades\u001B[0;34m(timestamp, universe, state, pricing_model, cycle_debug_data)\u001B[0m\n\u001B[1;32m     99\u001B[0m alpha_model\u001B[38;5;241m.\u001B[39mcalculate_target_positions(position_manager, portfolio_target_value)\n\u001B[1;32m    101\u001B[0m \u001B[38;5;66;03m# Shift portfolio from current positions to target positions\u001B[39;00m\n\u001B[1;32m    102\u001B[0m \u001B[38;5;66;03m# determined by the alpha signals (momentum)\u001B[39;00m\n\u001B[0;32m--> 103\u001B[0m trades \u001B[38;5;241m=\u001B[39m \u001B[43malpha_model\u001B[49m\u001B[38;5;241;43m.\u001B[39;49m\u001B[43mgenerate_rebalance_trades_and_triggers\u001B[49m\u001B[43m(\u001B[49m\n\u001B[1;32m    104\u001B[0m \u001B[43m    \u001B[49m\u001B[43mposition_manager\u001B[49m\u001B[43m,\u001B[49m\n\u001B[1;32m    105\u001B[0m \u001B[43m    \u001B[49m\u001B[43mmin_trade_threshold\u001B[49m\u001B[38;5;241;43m=\u001B[39;49m\u001B[43mminimum_rebalance_trade_threshold\u001B[49m\u001B[43m,\u001B[49m\u001B[43m  \u001B[49m\u001B[38;5;66;43;03m# Don't bother with trades under 300 USD\u001B[39;49;00m\n\u001B[1;32m    106\u001B[0m \u001B[43m\u001B[49m\u001B[43m)\u001B[49m\n\u001B[1;32m    108\u001B[0m \u001B[38;5;66;03m# Record alpha model state so we can later visualise our alpha model thinking better\u001B[39;00m\n\u001B[1;32m    109\u001B[0m state\u001B[38;5;241m.\u001B[39mvisualisation\u001B[38;5;241m.\u001B[39madd_calculations(timestamp, alpha_model\u001B[38;5;241m.\u001B[39mto_dict())\n",
      "File \u001B[0;32m~/code/ts/trade-executor/tradeexecutor/strategy/alpha_model.py:572\u001B[0m, in \u001B[0;36mAlphaModel.generate_rebalance_trades_and_triggers\u001B[0;34m(self, position_manager, min_trade_threshold)\u001B[0m\n\u001B[1;32m    565\u001B[0m         position_rebalance_trades \u001B[38;5;241m=\u001B[39m position_manager\u001B[38;5;241m.\u001B[39mclose_position(\n\u001B[1;32m    566\u001B[0m             position,\n\u001B[1;32m    567\u001B[0m             TradeType\u001B[38;5;241m.\u001B[39mrebalance,\n\u001B[1;32m    568\u001B[0m         )\n\u001B[1;32m    569\u001B[0m \u001B[38;5;28;01melse\u001B[39;00m:\n\u001B[1;32m    570\u001B[0m     \u001B[38;5;66;03m# Increase or decrease the position.\u001B[39;00m\n\u001B[1;32m    571\u001B[0m     \u001B[38;5;66;03m# Open new position if needed.\u001B[39;00m\n\u001B[0;32m--> 572\u001B[0m     position_rebalance_trades \u001B[38;5;241m=\u001B[39m \u001B[43mposition_manager\u001B[49m\u001B[38;5;241;43m.\u001B[39;49m\u001B[43madjust_position\u001B[49m\u001B[43m(\u001B[49m\n\u001B[1;32m    573\u001B[0m \u001B[43m        \u001B[49m\u001B[43mpair\u001B[49m\u001B[43m,\u001B[49m\n\u001B[1;32m    574\u001B[0m \u001B[43m        \u001B[49m\u001B[43mdollar_diff\u001B[49m\u001B[43m,\u001B[49m\n\u001B[1;32m    575\u001B[0m \u001B[43m        \u001B[49m\u001B[43mquantity_diff\u001B[49m\u001B[43m,\u001B[49m\n\u001B[1;32m    576\u001B[0m \u001B[43m        \u001B[49m\u001B[43msignal\u001B[49m\u001B[38;5;241;43m.\u001B[39;49m\u001B[43mnormalised_weight\u001B[49m\u001B[43m,\u001B[49m\n\u001B[1;32m    577\u001B[0m \u001B[43m        \u001B[49m\u001B[43mstop_loss\u001B[49m\u001B[38;5;241;43m=\u001B[39;49m\u001B[43msignal\u001B[49m\u001B[38;5;241;43m.\u001B[39;49m\u001B[43mstop_loss\u001B[49m\u001B[43m,\u001B[49m\n\u001B[1;32m    578\u001B[0m \u001B[43m        \u001B[49m\u001B[43mtake_profit\u001B[49m\u001B[38;5;241;43m=\u001B[39;49m\u001B[43msignal\u001B[49m\u001B[38;5;241;43m.\u001B[39;49m\u001B[43mtake_profit\u001B[49m\u001B[43m,\u001B[49m\n\u001B[1;32m    579\u001B[0m \u001B[43m        \u001B[49m\u001B[43mtrailing_stop_loss\u001B[49m\u001B[38;5;241;43m=\u001B[39;49m\u001B[43msignal\u001B[49m\u001B[38;5;241;43m.\u001B[39;49m\u001B[43mtrailing_stop_loss\u001B[49m\u001B[43m,\u001B[49m\n\u001B[1;32m    580\u001B[0m \u001B[43m        \u001B[49m\u001B[43moverride_stop_loss\u001B[49m\u001B[38;5;241;43m=\u001B[39;49m\u001B[38;5;28;43mself\u001B[39;49m\u001B[38;5;241;43m.\u001B[39;49m\u001B[43moverride_stop_loss\u001B[49m\u001B[43m,\u001B[49m\n\u001B[1;32m    581\u001B[0m \u001B[43m    \u001B[49m\u001B[43m)\u001B[49m\n\u001B[1;32m    583\u001B[0m \u001B[38;5;28;01massert\u001B[39;00m \u001B[38;5;28mlen\u001B[39m(position_rebalance_trades) \u001B[38;5;241m==\u001B[39m \u001B[38;5;241m1\u001B[39m, \u001B[38;5;124m\"\u001B[39m\u001B[38;5;124mAssuming always on trade for rebalance\u001B[39m\u001B[38;5;124m\"\u001B[39m\n\u001B[1;32m    585\u001B[0m \u001B[38;5;66;03m# Connect trading signal to its position\u001B[39;00m\n",
      "File \u001B[0;32m~/code/ts/trade-executor/tradeexecutor/strategy/pandas_trader/position_manager.py:685\u001B[0m, in \u001B[0;36mPositionManager.adjust_position\u001B[0;34m(self, pair, dollar_delta, quantity_delta, weight, stop_loss, take_profit, trailing_stop_loss, slippage_tolerance, override_stop_loss)\u001B[0m\n\u001B[1;32m    681\u001B[0m \u001B[38;5;28;01mexcept\u001B[39;00m CandleSampleUnavailable \u001B[38;5;28;01mas\u001B[39;00m e:\n\u001B[1;32m    682\u001B[0m     \u001B[38;5;66;03m# Backtesting cannot fetch price for an asset,\u001B[39;00m\n\u001B[1;32m    683\u001B[0m     \u001B[38;5;66;03m# probably not enough data and the pair is trading early?\u001B[39;00m\n\u001B[1;32m    684\u001B[0m     data_delay_tolerance \u001B[38;5;241m=\u001B[39m \u001B[38;5;28mgetattr\u001B[39m(\u001B[38;5;28mself\u001B[39m\u001B[38;5;241m.\u001B[39mpricing_model, \u001B[38;5;124m\"\u001B[39m\u001B[38;5;124mdata_delay_tolerance\u001B[39m\u001B[38;5;124m\"\u001B[39m, \u001B[38;5;28;01mNone\u001B[39;00m)\n\u001B[0;32m--> 685\u001B[0m     \u001B[38;5;28;01mraise\u001B[39;00m CandleSampleUnavailable(\n\u001B[1;32m    686\u001B[0m         \u001B[38;5;124mf\u001B[39m\u001B[38;5;124m\"\u001B[39m\u001B[38;5;124mCould not fetch price for \u001B[39m\u001B[38;5;132;01m{\u001B[39;00mpair\u001B[38;5;132;01m}\u001B[39;00m\u001B[38;5;124m at \u001B[39m\u001B[38;5;132;01m{\u001B[39;00m\u001B[38;5;28mself\u001B[39m\u001B[38;5;241m.\u001B[39mtimestamp\u001B[38;5;132;01m}\u001B[39;00m\u001B[38;5;130;01m\\n\u001B[39;00m\u001B[38;5;124m\"\u001B[39m\n\u001B[1;32m    687\u001B[0m         \u001B[38;5;124mf\u001B[39m\u001B[38;5;124m\"\u001B[39m\u001B[38;5;130;01m\\n\u001B[39;00m\u001B[38;5;124m\"\u001B[39m\n\u001B[1;32m    688\u001B[0m         \u001B[38;5;124mf\u001B[39m\u001B[38;5;124m\"\u001B[39m\u001B[38;5;124mThis is usually due to sparse candle data - trades have not been made or the blockchain was halted during the price look-up period.\u001B[39m\u001B[38;5;130;01m\\n\u001B[39;00m\u001B[38;5;124m\"\u001B[39m\n\u001B[1;32m    689\u001B[0m         \u001B[38;5;124mf\u001B[39m\u001B[38;5;124m\"\u001B[39m\u001B[38;5;124mBecause there are no trades we cannot determine what was the correct asset price using \u001B[39m\u001B[38;5;132;01m{\u001B[39;00mdata_delay_tolerance\u001B[38;5;132;01m}\u001B[39;00m\u001B[38;5;124m data tolerance delay.\u001B[39m\u001B[38;5;130;01m\\n\u001B[39;00m\u001B[38;5;124m\"\u001B[39m\n\u001B[1;32m    690\u001B[0m         \u001B[38;5;124mf\u001B[39m\u001B[38;5;124m\"\u001B[39m\u001B[38;5;130;01m\\n\u001B[39;00m\u001B[38;5;124m\"\u001B[39m\n\u001B[1;32m    691\u001B[0m         \u001B[38;5;124mf\u001B[39m\u001B[38;5;124m\"\u001B[39m\u001B[38;5;124mYou can work around this by checking that any trading pair candles are fresh enough in your decide_trades() function\u001B[39m\u001B[38;5;130;01m\\n\u001B[39;00m\u001B[38;5;124m\"\u001B[39m\n\u001B[1;32m    692\u001B[0m         \u001B[38;5;124mf\u001B[39m\u001B[38;5;124m\"\u001B[39m\u001B[38;5;124mor increase the parameter in BacktestSimplePricingModel(data_delay_tolerance) or run_backtest_inline(data_delay_tolerance)\u001B[39m\u001B[38;5;130;01m\\n\u001B[39;00m\u001B[38;5;124m\"\u001B[39m\n\u001B[1;32m    693\u001B[0m     ) \u001B[38;5;28;01mfrom\u001B[39;00m \u001B[38;5;21;01me\u001B[39;00m\n\u001B[1;32m    695\u001B[0m price \u001B[38;5;241m=\u001B[39m price_structure\u001B[38;5;241m.\u001B[39mprice\n\u001B[1;32m    697\u001B[0m reserve_asset, reserve_price \u001B[38;5;241m=\u001B[39m \u001B[38;5;28mself\u001B[39m\u001B[38;5;241m.\u001B[39mstate\u001B[38;5;241m.\u001B[39mportfolio\u001B[38;5;241m.\u001B[39mget_default_reserve_asset()\n",
      "\u001B[0;31mCandleSampleUnavailable\u001B[0m: Could not fetch price for <Pair LINK-USDC spot_market_hold at 0x70cee55c98f6da2685807611f115ea737d4a248e (0.3000% fee) on exchange 0x5757371414417b8c6caad45baef941abc7d3ab32> at 2021-03-15 00:00:00\n\nThis is usually due to sparse candle data - trades have not been made or the blockchain was halted during the price look-up period.\nBecause there are no trades we cannot determine what was the correct asset price using 2 days 00:00:00 data tolerance delay.\n\nYou can work around this by checking that any trading pair candles are fresh enough in your decide_trades() function\nor increase the parameter in BacktestSimplePricingModel(data_delay_tolerance) or run_backtest_inline(data_delay_tolerance)\n"
     ]
    }
   ],
   "source": [
    "import logging\n",
    "\n",
    "from tradeexecutor.backtest.backtest_runner import run_backtest_inline\n",
    "\n",
    "state, universe, debug_dump = run_backtest_inline(\n",
    "    name=\"Portfolio construction model example strategy\",\n",
    "    start_at=backtest_start_at,\n",
    "    end_at=backtest_end_at,\n",
    "    client=client,\n",
    "    cycle_duration=trading_strategy_cycle,\n",
    "    decide_trades=decide_trades,\n",
    "    create_trading_universe=create_trading_universe,\n",
    "    initial_deposit=initial_deposit,\n",
    "    reserve_currency=reserve_currency,\n",
    "    trade_routing=trade_routing,\n",
    "    log_level=logging.WARNING,\n",
    "    universe=universe,\n",
    ")\n",
    "\n",
    "trade_count = len(list(state.portfolio.get_all_trades()))\n",
    "print(f\"Backtesting completed, backtested strategy made {trade_count} trades\")"
   ]
  },
  {
   "attachments": {},
   "cell_type": "markdown",
   "metadata": {},
   "source": [
    "## Examine backtest results\n",
    "\n",
    "Examine `state` that contains \n",
    "- All actions the trade executor took\n",
    "- Visualisation and diagnostics data associated with the actity\n",
    "\n",
    "We plot out a chart that shows\n",
    "- The price action\n",
    "- When the strategy made buys or sells"
   ]
  },
  {
   "cell_type": "code",
   "execution_count": null,
   "metadata": {
    "collapsed": false,
    "jupyter": {
     "outputs_hidden": false
    },
    "ExecuteTime": {
     "start_time": "2023-10-13T23:52:42.404682Z"
    }
   },
   "outputs": [],
   "source": [
    "print(f\"Positions taken: {len(list(state.portfolio.get_all_positions()))}\")\n",
    "print(f\"Trades made: {len(list(state.portfolio.get_all_trades()))}\")"
   ]
  },
  {
   "cell_type": "markdown",
   "metadata": {
    "collapsed": false
   },
   "source": []
  },
  {
   "cell_type": "markdown",
   "metadata": {},
   "source": [
    "## Benchmarking the strategy performance\n",
    "\n",
    "Here we benchmark the strategy performance against some baseline scenarios.\n",
    "\n",
    "- Buy and hold ETH\n",
    "- Buy and hold US Dollar (do nothing)\n"
   ]
  },
  {
   "cell_type": "code",
   "execution_count": null,
   "metadata": {
    "collapsed": false,
    "jupyter": {
     "outputs_hidden": false
    },
    "pycharm": {
     "is_executing": true
    },
    "ExecuteTime": {
     "start_time": "2023-10-13T23:52:42.406373Z"
    }
   },
   "outputs": [],
   "source": [
    "from tradeexecutor.visual.benchmark import visualise_benchmark\n",
    "\n",
    "eth_usd = universe.get_pair_by_human_description((ChainId.ethereum, \"uniswap-v2\", \"WETH\", \"USDC\"))\n",
    "eth_candles = universe.universe.candles.get_candles_by_pair(eth_usd.internal_id)\n",
    "eth_price = eth_candles[\"close\"]\n",
    "\n",
    "fig = visualise_benchmark(\n",
    "    state.name,\n",
    "    portfolio_statistics=state.stats.portfolio,\n",
    "    all_cash=state.portfolio.get_initial_deposit(),\n",
    "    buy_and_hold_asset_name=\"ETH\",\n",
    "    buy_and_hold_price_series=eth_price,\n",
    "    start_at=backend_start_at,\n",
    "    end_at=backend_end_at\n",
    ")\n",
    "\n",
    "fig.show()"
   ]
  },
  {
   "attachments": {},
   "cell_type": "markdown",
   "metadata": {},
   "source": [
    "## Analysing  the strategy success\n",
    "\n",
    "Here we calculate statistics on how well the strategy performed.\n",
    "\n",
    "- Won/lost trades\n",
    "- Timeline of taken positions with color coding of trade performance\n"
   ]
  },
  {
   "cell_type": "code",
   "execution_count": null,
   "metadata": {
    "collapsed": false,
    "jupyter": {
     "outputs_hidden": false
    },
    "pycharm": {
     "is_executing": true
    },
    "ExecuteTime": {
     "start_time": "2023-10-13T23:52:42.407861Z"
    }
   },
   "outputs": [],
   "source": [
    "from tradeexecutor.analysis.trade_analyser import build_trade_analysis\n",
    "\n",
    "analysis = build_trade_analysis(state.portfolio)"
   ]
  },
  {
   "cell_type": "markdown",
   "metadata": {},
   "source": [
    "### Strategy summary\n",
    "\n",
    "Overview of strategy performance\n",
    "\n"
   ]
  },
  {
   "cell_type": "code",
   "execution_count": null,
   "metadata": {
    "collapsed": false,
    "jupyter": {
     "outputs_hidden": false
    },
    "pycharm": {
     "is_executing": true
    }
   },
   "outputs": [],
   "source": [
    "from IPython.core.display_functions import display\n",
    "\n",
    "summary = analysis.calculate_summary_statistics()\n",
    "\n",
    "with pd.option_context(\"display.max_row\", None):\n",
    "    display(summary.to_dataframe())"
   ]
  },
  {
   "cell_type": "markdown",
   "metadata": {},
   "source": []
  },
  {
   "attachments": {},
   "cell_type": "markdown",
   "metadata": {},
   "source": [
    "### Alpha model timeline analysis\n",
    "\n",
    "We display a table that shows how alpha model performermed over time.\n",
    "\n",
    "- Events are in the timeline order\n",
    "\n",
    "- Display portfolio weightings at each strategy cycle\n",
    "\n",
    "- Show performance of individidual positions taken during this cycle\n",
    "\n",
    "- Stop loss events are shown as their own rows\n",
    "\n",
    "The visualisation will have the a column for each asset being traded. The cell of a column contains the following elements\n",
    "\n",
    "- Asset **price change** (up/down) since the last strategy cycle\n",
    "\n",
    "- **Price** of the asset at the start of the strategy cycle\n",
    "\n",
    "- **Weight** % as the part of the portfolio that was chosen for the next cycle\n",
    "\n",
    "- **Open** value of the position as USD\n",
    "\n",
    "- **Adjust** value of the position as USD -  to get to the target weight - how much asset needs to be bought or sold\n",
    "\n",
    "- **Close** the remaining value of the position as USD \n",
    "\n",
    "- **Profit**: The life time profit of the position so far\n",
    "\n",
    "Position opening and closing rules\n",
    "\n",
    "- A position may contain multiple trades\n",
    "\n",
    "- Unlike on some exchanges, we adjust existing positions by increasing or decreasing them - a trade can count against existing position\n",
    "\n",
    "- Posions are opened if there are no existing holdings of an asset\n",
    "\n",
    "- The position is adjusted over the time\n",
    "\n",
    "- The position is closed when the remaining assets of the position are sold"
   ]
  },
  {
   "cell_type": "code",
   "execution_count": null,
   "metadata": {
    "collapsed": false,
    "jupyter": {
     "outputs_hidden": false
    },
    "pycharm": {
     "is_executing": true
    }
   },
   "outputs": [],
   "source": [
    "from tradeexecutor.analysis.alpha_model_analyser import render_alpha_model_plotly_table, create_alpha_model_timeline_all_assets\n",
    "\n",
    "timeline = create_alpha_model_timeline_all_assets(state, universe, new_line=\"<br>\")\n",
    "figure, table = render_alpha_model_plotly_table(timeline)\n",
    "\n",
    "figure.update_layout(\n",
    "    autosize=True,\n",
    "    height=800,)\n",
    "\n",
    "display(figure)"
   ]
  },
  {
   "attachments": {},
   "cell_type": "markdown",
   "metadata": {},
   "source": [
    "## Single pair trade, entry and exit analyses\n",
    "\n",
    "Plot a single pair from our trading universe and show our entries and exits for this particular pair.\n",
    "\n",
    "- Analyse ETH/USDC entries and exits\n",
    "- We use 1h candles, as weekly candles used for strategy decisions do not have enough time resolution - we downloaded 1h candles earlier to be used as a trigger signal for take profit/stop loss"
   ]
  },
  {
   "cell_type": "code",
   "execution_count": null,
   "metadata": {
    "pycharm": {
     "is_executing": true
    }
   },
   "outputs": [],
   "source": [
    "from tradeexecutor.visual.single_pair import visualise_single_pair\n",
    "from tradingstrategy.charting.candle_chart import VolumeBarMode\n",
    "\n",
    "eth_usd = universe.get_pair_by_human_description((ChainId.ethereum, \"uniswap-v2\", \"WETH\", \"USDC\"))\n",
    "eth_usd_candles = universe.backtest_stop_loss_candles.get_candles_by_pair(eth_usd.internal_id)\n",
    "\n",
    "fig = visualise_single_pair(\n",
    "    state,\n",
    "    pair_id=eth_usd.internal_id,\n",
    "    title=\"ETH/USDC individual trades\",\n",
    "    candle_universe=eth_usd_candles,\n",
    "    start_at=start_at,\n",
    "    end_at=end_at,\n",
    "    volume_bar_mode=VolumeBarMode.hidden,\n",
    ")\n",
    "\n",
    "fig.show()"
   ]
  },
  {
   "cell_type": "code",
   "execution_count": null,
   "metadata": {},
   "outputs": [],
   "source": [
    "from tradeexecutor.visual.single_pair import visualise_single_pair_positions_with_duration_and_slippage\n",
    "\n",
    "fig = visualise_single_pair_positions_with_duration_and_slippage(\n",
    "    state,\n",
    "    pair_id=eth_usd.internal_id,\n",
    "    title=\"ETH/USDC entries and exits\",\n",
    "    candles=eth_usd_candles,\n",
    "    start_at=start_at,\n",
    "    end_at=end_at,\n",
    ")\n",
    "\n",
    "fig.show()"
   ]
  },
  {
   "cell_type": "markdown",
   "metadata": {},
   "source": [
    "## Finishing notes\n",
    "\n",
    "Print out a line to signal the notebook finished the execution successfully."
   ]
  },
  {
   "cell_type": "code",
   "execution_count": null,
   "metadata": {
    "collapsed": false,
    "jupyter": {
     "outputs_hidden": false
    },
    "pycharm": {
     "is_executing": true
    }
   },
   "outputs": [],
   "source": [
    "print(\"All ok\")"
   ]
  }
 ],
 "metadata": {
  "kernelspec": {
   "display_name": "trade-executor-8Oz1GdY1-py3.10",
   "language": "python",
   "name": "python3"
  },
  "language_info": {
   "codemirror_mode": {
    "name": "ipython",
    "version": 3
   },
   "file_extension": ".py",
   "mimetype": "text/x-python",
   "name": "python",
   "nbconvert_exporter": "python",
   "pygments_lexer": "ipython3",
   "version": "3.10.10"
  },
  "vscode": {
   "interpreter": {
    "hash": "7adede735167b7e67e1575a49b63099e273f8f003d80ae98ec60bd132e113570"
   }
  }
 },
 "nbformat": 4,
 "nbformat_minor": 4
}

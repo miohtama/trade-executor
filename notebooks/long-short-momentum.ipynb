{
 "cells": [
  {
   "attachments": {},
   "cell_type": "markdown",
   "metadata": {},
   "source": [
    "# Long/short portfolio construction model trading strategy example\n",
    "\n",
    "This is an example notebook how to construct a momentum based portfolio construction strategy\n",
    "using [Trading Strategy framework](https://tradingstrategy.ai/docs/) and backtest it for DeFi tokens.\n",
    "\n",
    "This backtest uses alpha model approach where each trading pair has a signal\n",
    "and based on the signal strenghts we construct new portfolio weightings\n",
    "for the upcoming week.\n"
   ]
  },
  {
   "cell_type": "markdown",
   "metadata": {},
   "source": [
    "## Strategy parameter set up\n",
    "\n",
    "Set up the parameters used in in this strategy backtest study.\n",
    "\n",
    "- Backtested blockchain, exchange and trading pair\n",
    "- Backtesting period\n",
    "- Strategy parameters for EMA crossovers"
   ]
  },
  {
   "cell_type": "code",
   "execution_count": 1,
   "metadata": {
    "collapsed": false,
    "jupyter": {
     "outputs_hidden": false
    }
   },
   "outputs": [],
   "source": [
    "import datetime\n",
    "import pandas as pd\n",
    "\n",
    "from tradingstrategy.chain import ChainId\n",
    "from tradingstrategy.timebucket import TimeBucket\n",
    "from tradeexecutor.strategy.cycle import CycleDuration\n",
    "from tradeexecutor.strategy.strategy_module import StrategyType, TradeRouting, ReserveCurrency\n",
    "\n",
    "# Tell what trade execution engine version this strategy needs to use\n",
    "trading_strategy_engine_version = \"0.3\"\n",
    "\n",
    "# What kind of strategy we are running.\n",
    "# This tells we are going to use\n",
    "trading_strategy_type = StrategyType.managed_positions\n",
    "\n",
    "# How our trades are routed.\n",
    "# PancakeSwap basic routing supports two way trades with BUSD\n",
    "# and three way trades with BUSD-BNB hop.\n",
    "trade_routing = TradeRouting.ignore\n",
    "\n",
    "# Set cycle to 7 days and look back the momentum of the previous candle\n",
    "trading_strategy_cycle = CycleDuration.cycle_7d\n",
    "momentum_lookback_period = datetime.timedelta(days=7)\n",
    "\n",
    "# Hold top 3 coins for every cycle\n",
    "max_assets_in_portfolio = 4\n",
    "\n",
    "# Leave 20% cash buffer\n",
    "value_allocated_to_positions = 0.80\n",
    "\n",
    "# Set 33% stop loss over mid price\n",
    "stop_loss = 0.66\n",
    "\n",
    "# Set 5% take profit over mid price\n",
    "take_profit = 1.05\n",
    "\n",
    "# The weekly price must be up 2.5% for us to take a long position\n",
    "minimum_mometum_threshold = 0.025\n",
    "\n",
    "# Don't bother with trades that would move position\n",
    "# less than 300 USD\n",
    "minimum_rebalance_trade_threshold = 300\n",
    "\n",
    "# Use hourly candles to trigger the stop loss\n",
    "stop_loss_data_granularity = TimeBucket.h1\n",
    "\n",
    "# Strategy keeps its cash in USDC\n",
    "reserve_currency = ReserveCurrency.usdc\n",
    "\n",
    "# The duration of the backtesting period\n",
    "start_at = datetime.datetime(2020, 11, 1)\n",
    "end_at = datetime.datetime(2023, 1, 31)\n",
    "\n",
    "# Start with 10,000 USD\n",
    "initial_deposit = 10_000\n"
   ]
  },
  {
   "cell_type": "markdown",
   "metadata": {},
   "source": [
    "## Strategy logic and trade decisions\n",
    "\n",
    "`decide_trades` function decide what trades to take.\n",
    "In this example, we calculate two exponential moving averages\n",
    "(EMAs) and make decisions based on those.\n"
   ]
  },
  {
   "cell_type": "code",
   "execution_count": 2,
   "metadata": {
    "collapsed": false,
    "jupyter": {
     "outputs_hidden": false
    }
   },
   "outputs": [],
   "source": [
    "from tradeexecutor.strategy.trading_strategy_universe import translate_trading_pair\n",
    "from typing import List, Dict, Counter\n",
    "\n",
    "from tradingstrategy.universe import Universe\n",
    "from tradeexecutor.strategy.weighting import weight_by_1_slash_n\n",
    "from tradeexecutor.strategy.alpha_model import AlphaModel\n",
    "from tradeexecutor.state.trade import TradeExecution\n",
    "from tradeexecutor.strategy.pricing_model import PricingModel\n",
    "from tradeexecutor.strategy.pandas_trader.position_manager import PositionManager\n",
    "from tradeexecutor.state.state import State\n",
    "\n",
    "\n",
    "def decide_trades(\n",
    "        timestamp: pd.Timestamp,\n",
    "        universe: Universe,\n",
    "        state: State,\n",
    "        pricing_model: PricingModel,\n",
    "        cycle_debug_data: Dict) -> List[TradeExecution]:\n",
    "\n",
    "    # Create a position manager helper class that allows us easily to create\n",
    "    # opening/closing trades for different positions\n",
    "    position_manager = PositionManager(timestamp, universe, state, pricing_model)\n",
    "\n",
    "    alpha_model = AlphaModel(timestamp)\n",
    "\n",
    "    # Watch out for the inclusive range and include and avoid peeking in the future\n",
    "    adjusted_timestamp = timestamp - pd.Timedelta(seconds=1)\n",
    "    start = adjusted_timestamp - momentum_lookback_period - datetime.timedelta(seconds=1)\n",
    "    end = adjusted_timestamp \n",
    "\n",
    "    candle_universe = universe.candles\n",
    "    pair_universe = universe.pairs\n",
    "\n",
    "    # Get candle data for all candles, inclusive time range\n",
    "    candle_data = candle_universe.iterate_samples_by_pair_range(start, end)\n",
    "\n",
    "    # Iterate over all candles for all pairs in this timestamp (ts)\n",
    "    for pair_id, pair_df in candle_data:\n",
    "\n",
    "        # We should have candles for range start - end,\n",
    "        # where end is the current strategy cycle timestamp \n",
    "        # and start is one week before end.\n",
    "        # Because of sparse data we may have 0, 1 or 2 candles\n",
    "        first_candle = pair_df.iloc[0]\n",
    "        last_candle = pair_df.iloc[-1]\n",
    "\n",
    "        # How many candles we are going to evaluate\n",
    "        candle_count = len(pair_df)\n",
    "\n",
    "        assert last_candle[\"timestamp\"] < timestamp, \"Something wrong with the data - we should not be able to peek the candle of the current timestamp, but always use the previous candle\"\n",
    "\n",
    "        open = last_candle[\"open\"]\n",
    "        close = last_candle[\"close\"]\n",
    "\n",
    "        # DEXPair instance contains more data than internal TradingPairIdentifier\n",
    "        # we use to store this pair across the strategy\n",
    "        dex_pair = pair_universe.get_pair_by_id(pair_id)\n",
    "        pair = translate_trading_pair(dex_pair)\n",
    "\n",
    "        # We define momentum as how many % the trading pair price gained during\n",
    "        # the momentum window\n",
    "        momentum = (close - open) / open\n",
    "        \n",
    "        # This pair has not positive momentum,\n",
    "        # we only buy when stuff goes up\n",
    "        if momentum <= minimum_mometum_threshold:\n",
    "            continue\n",
    "\n",
    "        alpha_model.set_signal(\n",
    "            pair,\n",
    "            momentum,\n",
    "            stop_loss=stop_loss,\n",
    "            take_profit=take_profit,\n",
    "        )\n",
    "\n",
    "    # Select max_assets_in_portfolio assets in which we are going to invest\n",
    "    # Calculate a weight for ecah asset in the portfolio using 1/N method based on the raw signal\n",
    "    alpha_model.select_top_signals(max_assets_in_portfolio)\n",
    "    alpha_model.assign_weights(method=weight_by_1_slash_n)\n",
    "    alpha_model.normalise_weights()\n",
    "\n",
    "    # Load in old weight for each trading pair signal,\n",
    "    # so we can calculate the adjustment trade size\n",
    "    alpha_model.update_old_weights(state.portfolio)\n",
    "\n",
    "    # Calculate how much dollar value we want each individual position to be on this strategy cycle,\n",
    "    # based on our total available equity\n",
    "    portfolio = position_manager.get_current_portfolio()\n",
    "    portfolio_target_value = portfolio.get_total_equity() * value_allocated_to_positions\n",
    "    alpha_model.calculate_target_positions(position_manager, portfolio_target_value)\n",
    "\n",
    "    # Shift portfolio from current positions to target positions\n",
    "    # determined by the alpha signals (momentum)\n",
    "    trades = alpha_model.generate_rebalance_trades_and_triggers(\n",
    "        position_manager,\n",
    "        min_trade_threshold=minimum_rebalance_trade_threshold,  # Don't bother with trades under 300 USD\n",
    "    )\n",
    "\n",
    "    # Record alpha model state so we can later visualise our alpha model thinking better\n",
    "    state.visualisation.add_calculations(timestamp, alpha_model.to_dict())\n",
    "\n",
    "    return trades\n"
   ]
  },
  {
   "cell_type": "markdown",
   "metadata": {},
   "source": [
    "## Set up the market data client\n",
    "\n",
    "The [Trading Strategy market data client](https://tradingstrategy.ai/docs/programming/api/client/index.html)\n",
    "is the Python library responsible for managing the data feeds needed to run the backtest.None\n",
    "\n",
    "We set up the market data client with an API key.\n",
    "\n",
    "[If you do not have an API key yet, you can register one](https://tradingstrategy.ai/trading-view/backtesting)."
   ]
  },
  {
   "cell_type": "code",
   "execution_count": 3,
   "metadata": {
    "collapsed": false,
    "jupyter": {
     "outputs_hidden": false
    }
   },
   "outputs": [
    {
     "name": "stdout",
     "output_type": "stream",
     "text": [
      "Started Trading Strategy in Jupyter notebook environment, configuration is stored in /Users/moo/.tradingstrategy\n"
     ]
    }
   ],
   "source": [
    "from tradingstrategy.client import Client\n",
    "\n",
    "client = Client.create_jupyter_client()"
   ]
  },
  {
   "attachments": {},
   "cell_type": "markdown",
   "metadata": {},
   "source": []
  },
  {
   "attachments": {},
   "cell_type": "markdown",
   "metadata": {},
   "source": [
    "## Setup trading universe\n",
    "\n",
    "We setup the trading universe for the backtesting.\n",
    "\n",
    "- Read in a handwritten allowed trading pair universe list\n",
    "\n",
    "- Download candle data\n",
    "\n",
    "- Print out trading pair addresses and volumes as the sanity check the pair defintions look correct\n"
   ]
  },
  {
   "cell_type": "code",
   "execution_count": 4,
   "metadata": {
    "collapsed": false,
    "jupyter": {
     "outputs_hidden": false
    }
   },
   "outputs": [
    {
     "name": "stdout",
     "output_type": "stream",
     "text": [
      "Trading pair WETH (0xc02aaa39b223fe8d0a0e5c4f27ead9083c756cc2) - USDC (0xa0b86991c6218b36c1d19d4a2e9eb0ce3606eb48) - all time volume 21,349,838,848 USD\n",
      "Trading pair CRV (0xd533a949740bb3306d119cc777fa900ba034cd52) - WETH (0xc02aaa39b223fe8d0a0e5c4f27ead9083c756cc2) - all time volume 580,417,920 USD\n",
      "Trading pair SUSHI (0x6b3595068778dd592e39a122f4f5a5cf09c90fe2) - WETH (0xc02aaa39b223fe8d0a0e5c4f27ead9083c756cc2) - all time volume 7,749,442,048 USD\n",
      "Trading pair UNI (0x1f9840a85d5af5bf1d1762f925bdaddc4201f984) - WETH (0xc02aaa39b223fe8d0a0e5c4f27ead9083c756cc2) - all time volume 3,978,604,032 USD\n",
      "Trading pair AAVE (0x7fc66500c84a76ad7e9c93437bfc5ac33e2ddae9) - WETH (0xc02aaa39b223fe8d0a0e5c4f27ead9083c756cc2) - all time volume 1,641,289,856 USD\n",
      "Trading pair WMATIC (0x0d500b1d8e8ef31e21c99d1db9a6444d3adf1270) - USDC (0x2791bca1f2de4661ed88a30c99a7a9449aa84174) - all time volume 2,986,208,000 USD\n",
      "Trading pair Cake (0x0e09fabb73bd3ade0a17ecc321fd13a19e81ce82) - BUSD (0xe9e7cea3dedca5984780bafc599bd69add087d56) - all time volume 2,462,467,584 USD\n",
      "Trading pair WBNB (0xbb4cdb9cbd36b01bd1cbaebf2de08d9173bc095c) - BUSD (0xe9e7cea3dedca5984780bafc599bd69add087d56) - all time volume 30,676,156,416 USD\n",
      "Trading pair JOE (0x6e84a6216ea6dacc71ee8e6b0a5b7322eebc0fdd) - WAVAX (0xb31f66aa3c1e785363f0875a1b74e27b85fd66c7) - all time volume 1,220,083,328 USD\n",
      "Trading pair WAVAX (0xb31f66aa3c1e785363f0875a1b74e27b85fd66c7) - USDC (0xb97ef9ef8734c71904d8002f8b6bc66dd9c48a6e) - all time volume 1,580,345,216 USD\n"
     ]
    }
   ],
   "source": [
    "from tradingstrategy.client import Client\n",
    "\n",
    "from tradeexecutor.strategy.trading_strategy_universe import TradingStrategyUniverse\n",
    "from tradeexecutor.strategy.trading_strategy_universe import load_partial_data\n",
    "from tradeexecutor.strategy.execution_context import ExecutionContext\n",
    "from tradeexecutor.strategy.execution_context import ExecutionMode\n",
    "from tradeexecutor.strategy.universe_model import UniverseOptions\n",
    "\n",
    "\n",
    "# List of trading pairs that we consider \"DeFi blueschips\" for this strategy\n",
    "# For token ordering, wrappign see https://tradingstrategy.ai/docs/programming/market-data/trading-pairs.html\n",
    "pairs = (\n",
    "    (ChainId.ethereum, \"uniswap-v2\", \"WETH\", \"USDC\"),  # ETH\n",
    "    (ChainId.ethereum, \"sushi\", \"AAVE\", \"WETH\"),  # AAVE\n",
    "    (ChainId.ethereum, \"uniswap-v2\", \"UNI\", \"WETH\"),  # UNI\n",
    "    (ChainId.ethereum, \"uniswap-v2\", \"CRV\", \"WETH\"),  # Curve\n",
    "    (ChainId.ethereum, \"sushi\", \"SUSHI\", \"WETH\"),  # Sushi\n",
    "    (ChainId.bsc, \"pancakeswap-v2\", \"WBNB\", \"BUSD\"),  # BNB\n",
    "    (ChainId.bsc, \"pancakeswap-v2\", \"Cake\", \"BUSD\"),  # Cake\n",
    "    (ChainId.polygon, \"quickswap\", \"WMATIC\", \"USDC\"),  # Matic\n",
    "    (ChainId.avalanche, \"trader-joe\", \"WAVAX\", \"USDC\"),  # Avax\n",
    "    (ChainId.avalanche, \"trader-joe\", \"JOE\", \"WAVAX\"),  # TraderJoe\n",
    ")\n",
    "\n",
    "\n",
    "def create_trading_universe(\n",
    "        ts: datetime.datetime,\n",
    "        client: Client,\n",
    "        execution_context: ExecutionContext,\n",
    "        universe_options: UniverseOptions,\n",
    ") -> TradingStrategyUniverse:\n",
    "\n",
    "    # Load data for our trading pair whitelist\n",
    "    dataset = load_partial_data(\n",
    "        client=client,\n",
    "        time_bucket=trading_strategy_cycle.to_timebucket(),\n",
    "        pairs=pairs,\n",
    "        execution_context=execution_context,\n",
    "        universe_options=universe_options,\n",
    "        liquidity=False,\n",
    "        stop_loss_time_bucket=stop_loss_data_granularity,\n",
    "        start_at=start_at,\n",
    "        end_at=end_at,\n",
    "    )\n",
    "\n",
    "    # Filter down the dataset to the pairs we specified\n",
    "    universe = TradingStrategyUniverse.create_multichain_universe_by_pair_descriptions(\n",
    "        dataset,\n",
    "        pairs,\n",
    "        reserve_token_symbol=\"USDC\"  # Pick any USDC - does not matter as we do not route\n",
    "    )\n",
    "\n",
    "    return universe\n",
    "\n",
    "universe = create_trading_universe(\n",
    "    datetime.datetime.utcnow(),\n",
    "    client,\n",
    "    ExecutionContext(mode=ExecutionMode.backtesting),\n",
    "    UniverseOptions(),\n",
    ")\n",
    "\n",
    "for pair in universe.universe.pairs.iterate_pairs():\n",
    "    all_time_volume = pair.buy_volume_all_time\n",
    "    print(f\"Trading pair {pair.base_token_symbol} ({pair.base_token_address}) - {pair.quote_token_symbol} ({pair.quote_token_address}) - all time volume {all_time_volume:,.0f} USD\")"
   ]
  },
  {
   "cell_type": "markdown",
   "metadata": {},
   "source": [
    "## Run backtest\n",
    "\n",
    "Run backtest using giving trading universe and strategy function.\n",
    "\n",
    "- Running the backtest outputs `state` object that contains all the information\n",
    "on the backtesting position and trades.\n",
    "- The trade execution engine will download the necessary datasets to run the backtest.\n",
    "  The datasets may be large, several gigabytes.\n"
   ]
  },
  {
   "cell_type": "code",
   "execution_count": 5,
   "metadata": {
    "collapsed": false,
    "jupyter": {
     "outputs_hidden": false
    }
   },
   "outputs": [
    {
     "data": {
      "application/vnd.jupyter.widget-view+json": {
       "model_id": "0adddeb067044babac44a0d835b5d1a2",
       "version_major": 2,
       "version_minor": 0
      },
      "text/plain": [
       "  0%|          | 0/70934400 [00:00<?, ?it/s]"
      ]
     },
     "metadata": {},
     "output_type": "display_data"
    },
    {
     "name": "stdout",
     "output_type": "stream",
     "text": [
      "Backtesting completed, backtested strategy made 592 trades\n"
     ]
    }
   ],
   "source": [
    "import logging\n",
    "\n",
    "from tradeexecutor.backtest.backtest_runner import run_backtest_inline\n",
    "\n",
    "state, universe, debug_dump = run_backtest_inline(\n",
    "    name=\"Portfolio construction model example strategy\",\n",
    "    start_at=start_at,\n",
    "    end_at=end_at,\n",
    "    client=client,\n",
    "    cycle_duration=trading_strategy_cycle,\n",
    "    decide_trades=decide_trades,\n",
    "    create_trading_universe=create_trading_universe,\n",
    "    initial_deposit=initial_deposit,\n",
    "    reserve_currency=reserve_currency,\n",
    "    trade_routing=trade_routing,\n",
    "    log_level=logging.WARNING,\n",
    "    universe=universe,\n",
    ")\n",
    "\n",
    "trade_count = len(list(state.portfolio.get_all_trades()))\n",
    "print(f\"Backtesting completed, backtested strategy made {trade_count} trades\")"
   ]
  },
  {
   "attachments": {},
   "cell_type": "markdown",
   "metadata": {},
   "source": [
    "## Examine backtest results\n",
    "\n",
    "Examine `state` that contains \n",
    "- All actions the trade executor took\n",
    "- Visualisation and diagnostics data associated with the actity\n",
    "\n",
    "We plot out a chart that shows\n",
    "- The price action\n",
    "- When the strategy made buys or sells"
   ]
  },
  {
   "cell_type": "code",
   "execution_count": 6,
   "metadata": {
    "collapsed": false,
    "jupyter": {
     "outputs_hidden": false
    }
   },
   "outputs": [
    {
     "name": "stdout",
     "output_type": "stream",
     "text": [
      "Positions taken: 298\n",
      "Trades made: 592\n"
     ]
    }
   ],
   "source": [
    "print(f\"Positions taken: {len(list(state.portfolio.get_all_positions()))}\")\n",
    "print(f\"Trades made: {len(list(state.portfolio.get_all_trades()))}\")"
   ]
  },
  {
   "cell_type": "markdown",
   "metadata": {
    "collapsed": false
   },
   "source": []
  },
  {
   "cell_type": "markdown",
   "metadata": {},
   "source": [
    "## Benchmarking the strategy performance\n",
    "\n",
    "Here we benchmark the strategy performance against some baseline scenarios.\n",
    "\n",
    "- Buy and hold ETH\n",
    "- Buy and hold US Dollar (do nothing)\n"
   ]
  },
  {
   "cell_type": "code",
   "execution_count": 7,
   "metadata": {
    "collapsed": false,
    "jupyter": {
     "outputs_hidden": false
    },
    "pycharm": {
     "is_executing": true
    }
   },
   "outputs": [
    {
     "data": {
      "application/vnd.plotly.v1+json": {
       "config": {
        "plotlyServerURL": "https://plot.ly"
       },
       "data": [
        {
         "line": {
          "color": "#008800"
         },
         "mode": "lines",
         "name": "Portfolio construction model example strategy",
         "type": "scatter",
         "x": [
          "2020-10-26T00:00:00",
          "2020-11-02T00:00:00",
          "2020-11-09T00:00:00",
          "2020-11-16T00:00:00",
          "2020-11-23T00:00:00",
          "2020-11-30T00:00:00",
          "2020-12-07T00:00:00",
          "2020-12-14T00:00:00",
          "2020-12-21T00:00:00",
          "2020-12-28T00:00:00",
          "2021-01-04T00:00:00",
          "2021-01-11T00:00:00",
          "2021-01-18T00:00:00",
          "2021-01-25T00:00:00",
          "2021-02-01T00:00:00",
          "2021-02-08T00:00:00",
          "2021-02-15T00:00:00",
          "2021-02-22T00:00:00",
          "2021-03-01T00:00:00",
          "2021-03-08T00:00:00",
          "2021-03-15T00:00:00",
          "2021-03-22T00:00:00",
          "2021-03-29T00:00:00",
          "2021-04-05T00:00:00",
          "2021-04-12T00:00:00",
          "2021-04-19T00:00:00",
          "2021-04-26T00:00:00",
          "2021-05-03T00:00:00",
          "2021-05-10T00:00:00",
          "2021-05-17T00:00:00",
          "2021-05-24T00:00:00",
          "2021-05-31T00:00:00",
          "2021-06-07T00:00:00",
          "2021-06-14T00:00:00",
          "2021-06-21T00:00:00",
          "2021-06-28T00:00:00",
          "2021-07-05T00:00:00",
          "2021-07-12T00:00:00",
          "2021-07-19T00:00:00",
          "2021-07-26T00:00:00",
          "2021-08-02T00:00:00",
          "2021-08-09T00:00:00",
          "2021-08-16T00:00:00",
          "2021-08-23T00:00:00",
          "2021-08-30T00:00:00",
          "2021-09-06T00:00:00",
          "2021-09-13T00:00:00",
          "2021-09-20T00:00:00",
          "2021-09-27T00:00:00",
          "2021-10-04T00:00:00",
          "2021-10-11T00:00:00",
          "2021-10-18T00:00:00",
          "2021-10-25T00:00:00",
          "2021-11-01T00:00:00",
          "2021-11-08T00:00:00",
          "2021-11-15T00:00:00",
          "2021-11-22T00:00:00",
          "2021-11-29T00:00:00",
          "2021-12-06T00:00:00",
          "2021-12-13T00:00:00",
          "2021-12-20T00:00:00",
          "2021-12-27T00:00:00",
          "2022-01-03T00:00:00",
          "2022-01-10T00:00:00",
          "2022-01-17T00:00:00",
          "2022-01-24T00:00:00",
          "2022-01-31T00:00:00",
          "2022-02-07T00:00:00",
          "2022-02-14T00:00:00",
          "2022-02-21T00:00:00",
          "2022-02-28T00:00:00",
          "2022-03-07T00:00:00",
          "2022-03-14T00:00:00",
          "2022-03-21T00:00:00",
          "2022-03-28T00:00:00",
          "2022-04-04T00:00:00",
          "2022-04-11T00:00:00",
          "2022-04-18T00:00:00",
          "2022-04-25T00:00:00",
          "2022-05-02T00:00:00",
          "2022-05-09T00:00:00",
          "2022-05-16T00:00:00",
          "2022-05-23T00:00:00",
          "2022-05-30T00:00:00",
          "2022-06-06T00:00:00",
          "2022-06-13T00:00:00",
          "2022-06-20T00:00:00",
          "2022-06-27T00:00:00",
          "2022-07-04T00:00:00",
          "2022-07-11T00:00:00",
          "2022-07-18T00:00:00",
          "2022-07-25T00:00:00",
          "2022-08-01T00:00:00",
          "2022-08-08T00:00:00",
          "2022-08-15T00:00:00",
          "2022-08-22T00:00:00",
          "2022-08-29T00:00:00",
          "2022-09-05T00:00:00",
          "2022-09-12T00:00:00",
          "2022-09-19T00:00:00",
          "2022-09-26T00:00:00",
          "2022-10-03T00:00:00",
          "2022-10-10T00:00:00",
          "2022-10-17T00:00:00",
          "2022-10-24T00:00:00",
          "2022-10-31T00:00:00",
          "2022-11-07T00:00:00",
          "2022-11-14T00:00:00",
          "2022-11-21T00:00:00",
          "2022-11-28T00:00:00",
          "2022-12-05T00:00:00",
          "2022-12-12T00:00:00",
          "2022-12-19T00:00:00",
          "2022-12-26T00:00:00",
          "2023-01-02T00:00:00",
          "2023-01-09T00:00:00",
          "2023-01-16T00:00:00",
          "2023-01-23T00:00:00",
          "2023-01-30T00:00:00"
         ],
         "y": [
          10000,
          10000,
          9952.143569292124,
          10215.412144270735,
          10690.797349594475,
          10251.271049087043,
          10762.414751377693,
          10489.49548900725,
          11059.443636357955,
          11139.696479683378,
          11722.192075590363,
          12206.785425022781,
          12340.160004452191,
          13001.164868168344,
          13160.393495955239,
          13948.635877615992,
          14502.566435874822,
          15102.32104539758,
          12871.792188140258,
          13403.393372291646,
          13774.3828651274,
          13316.843074338045,
          14181.034531332183,
          14776.647017336436,
          14797.577995713113,
          15420.517313920109,
          16078.151999440368,
          16805.110595902835,
          17556.732883326407,
          18286.734701780988,
          19191.84304066301,
          19099.99772999982,
          20096.38374713006,
          18618.376385571875,
          18618.376385571875,
          18618.376385571875,
          18529.275481632947,
          18453.07085279006,
          16522.269824413695,
          16443.200138314805,
          17131.08449005999,
          17798.840573741858,
          18557.774365958703,
          18730.476495526105,
          20920.871957068164,
          20736.618222581143,
          18933.301934749135,
          19864.317316384913,
          23730.64910616284,
          25153.874693855363,
          25599.200183481145,
          25476.69154850537,
          26064.863255788987,
          27623.145751396638,
          28695.428120435165,
          28518.462708811385,
          28381.98352535945,
          29402.85965082381,
          30644.787216579865,
          31739.459565062898,
          35044.04376095726,
          38469.46611714936,
          38690.675760725164,
          38150.365440564274,
          37967.79140854563,
          28917.93527753262,
          28779.54436095021,
          29906.62599506975,
          30559.35994049925,
          30559.35994049925,
          30413.113751352295,
          31706.54944018172,
          33339.470191202745,
          33179.919386698486,
          34455.3382768126,
          35760.020973928025,
          31786.243529963125,
          31786.243529963125,
          31638.724043274244,
          25642.701183127403,
          25519.984367894092,
          39455.113565544634,
          39272.0029663021,
          40290.48844226897,
          40097.67254543659,
          39432.99943573093,
          39244.28717522096,
          41310.97450718176,
          39656.70755602546,
          41103.14671893227,
          42927.54001242448,
          44806.08193880332,
          50179.800844812424,
          51248.95630881731,
          65443.650600774854,
          56116.458874021795,
          56116.458874021795,
          55847.9055314542,
          57890.274151707825,
          66037.21442477657,
          65735.89520062273,
          68553.68241540785,
          70347.58673900513,
          68640.15103193652,
          68823.84974842222,
          71528.07669495094,
          72505.00937122612,
          72540.7919755495,
          72540.7919755495,
          72193.63763708227,
          75476.85548357667,
          74783.45413449685,
          74783.45413449685,
          74425.56721540853,
          73651.37907149082,
          73298.9098595834,
          77499.64180823807,
          81368.72317889803,
          82334.14149275588
         ]
        },
        {
         "line": {
          "color": "#000088"
         },
         "mode": "lines",
         "name": "All cash",
         "type": "scatter",
         "x": [
          "2020-11-01T00:00:00",
          "2023-01-31T00:00:00"
         ],
         "y": [
          10000,
          10000
         ]
        },
        {
         "line": {
          "color": "#880000"
         },
         "mode": "lines",
         "name": "Buy and hold ETH",
         "type": "scatter",
         "x": [
          "2020-11-02T00:00:00",
          "2020-11-09T00:00:00",
          "2020-11-16T00:00:00",
          "2020-11-23T00:00:00",
          "2020-11-30T00:00:00",
          "2020-12-07T00:00:00",
          "2020-12-14T00:00:00",
          "2020-12-21T00:00:00",
          "2020-12-28T00:00:00",
          "2021-01-04T00:00:00",
          "2021-01-11T00:00:00",
          "2021-01-18T00:00:00",
          "2021-01-25T00:00:00",
          "2021-02-01T00:00:00",
          "2021-02-08T00:00:00",
          "2021-02-15T00:00:00",
          "2021-02-22T00:00:00",
          "2021-03-01T00:00:00",
          "2021-03-08T00:00:00",
          "2021-03-15T00:00:00",
          "2021-03-22T00:00:00",
          "2021-03-29T00:00:00",
          "2021-04-05T00:00:00",
          "2021-04-12T00:00:00",
          "2021-04-19T00:00:00",
          "2021-04-26T00:00:00",
          "2021-05-03T00:00:00",
          "2021-05-10T00:00:00",
          "2021-05-17T00:00:00",
          "2021-05-24T00:00:00",
          "2021-05-31T00:00:00",
          "2021-06-07T00:00:00",
          "2021-06-14T00:00:00",
          "2021-06-21T00:00:00",
          "2021-06-28T00:00:00",
          "2021-07-05T00:00:00",
          "2021-07-12T00:00:00",
          "2021-07-19T00:00:00",
          "2021-07-26T00:00:00",
          "2021-08-02T00:00:00",
          "2021-08-09T00:00:00",
          "2021-08-16T00:00:00",
          "2021-08-23T00:00:00",
          "2021-08-30T00:00:00",
          "2021-09-06T00:00:00",
          "2021-09-13T00:00:00",
          "2021-09-20T00:00:00",
          "2021-09-27T00:00:00",
          "2021-10-04T00:00:00",
          "2021-10-11T00:00:00",
          "2021-10-18T00:00:00",
          "2021-10-25T00:00:00",
          "2021-11-01T00:00:00",
          "2021-11-08T00:00:00",
          "2021-11-15T00:00:00",
          "2021-11-22T00:00:00",
          "2021-11-29T00:00:00",
          "2021-12-06T00:00:00",
          "2021-12-13T00:00:00",
          "2021-12-20T00:00:00",
          "2021-12-27T00:00:00",
          "2022-01-03T00:00:00",
          "2022-01-10T00:00:00",
          "2022-01-17T00:00:00",
          "2022-01-24T00:00:00",
          "2022-01-31T00:00:00",
          "2022-02-07T00:00:00",
          "2022-02-14T00:00:00",
          "2022-02-21T00:00:00",
          "2022-02-28T00:00:00",
          "2022-03-07T00:00:00",
          "2022-03-14T00:00:00",
          "2022-03-21T00:00:00",
          "2022-03-28T00:00:00",
          "2022-04-04T00:00:00",
          "2022-04-11T00:00:00",
          "2022-04-18T00:00:00",
          "2022-04-25T00:00:00",
          "2022-05-02T00:00:00",
          "2022-05-09T00:00:00",
          "2022-05-16T00:00:00",
          "2022-05-23T00:00:00",
          "2022-05-30T00:00:00",
          "2022-06-06T00:00:00",
          "2022-06-13T00:00:00",
          "2022-06-20T00:00:00",
          "2022-06-27T00:00:00",
          "2022-07-04T00:00:00",
          "2022-07-11T00:00:00",
          "2022-07-18T00:00:00",
          "2022-07-25T00:00:00",
          "2022-08-01T00:00:00",
          "2022-08-08T00:00:00",
          "2022-08-15T00:00:00",
          "2022-08-22T00:00:00",
          "2022-08-29T00:00:00",
          "2022-09-05T00:00:00",
          "2022-09-12T00:00:00",
          "2022-09-19T00:00:00",
          "2022-09-26T00:00:00",
          "2022-10-03T00:00:00",
          "2022-10-10T00:00:00",
          "2022-10-17T00:00:00",
          "2022-10-24T00:00:00",
          "2022-10-31T00:00:00",
          "2022-11-07T00:00:00",
          "2022-11-14T00:00:00",
          "2022-11-21T00:00:00",
          "2022-11-28T00:00:00",
          "2022-12-05T00:00:00",
          "2022-12-12T00:00:00",
          "2022-12-19T00:00:00",
          "2022-12-26T00:00:00",
          "2023-01-02T00:00:00",
          "2023-01-09T00:00:00",
          "2023-01-16T00:00:00",
          "2023-01-23T00:00:00",
          "2023-01-30T00:00:00"
         ],
         "y": [
          10000,
          9842.077643133318,
          12281.64908050054,
          12592.81739711444,
          13217.395512772118,
          12903.917386801333,
          13956.43088076357,
          14998.628885226546,
          21438.325905566217,
          27590.811471253826,
          26976.242206042403,
          30586.527274915683,
          28742.08675325491,
          35528.78834677259,
          39672.00053743029,
          42275.40880839661,
          31144.5887665944,
          37888.37928125556,
          40594.197926014436,
          39091.02819482103,
          36963.448862276906,
          45229.707011769635,
          47036.45775210017,
          49033.830822762844,
          50733.83307651647,
          64665.277037182284,
          85962.44065843448,
          78551.8496649712,
          46133.16619964129,
          52429.26842176433,
          59330.67064829002,
          54969.189201364534,
          49108.20282743292,
          43376.884378109404,
          51043.78522616647,
          46964.72306439431,
          41604.82452789572,
          48013.97483480301,
          56241.813189001645,
          66051.10883196106,
          72484.48959427954,
          71171.3270736332,
          70893.37566164046,
          86653.25837790935,
          74735.29413429816,
          72712.25725483184,
          67032.27125196136,
          74853.99989396817,
          74973.83459445398,
          84441.07188125345,
          89498.38061672075,
          94543.72596015348,
          100815.5439890396,
          101121.31136841125,
          93681.28856663682,
          94121.89288219291,
          91853.25167366765,
          90672.16827107646,
          86167.28296592888,
          89098.93389788148,
          84074.66117795646,
          68803.99409821363,
          73420.20553260832,
          55570.11825935434,
          57208.308454493956,
          67190.6833470566,
          63012.68184255434,
          57690.07690782928,
          57411.022119754954,
          55915.58462192268,
          55136.806762857195,
          62687.38781278925,
          72286.31487244047,
          77221.31578368347,
          70327.37480961005,
          65459.00896499927,
          64211.45645471986,
          61949.595390073606,
          55168.371929979956,
          46999.45269841101,
          44886.99617826719,
          39769.161056306904,
          39607.59711694864,
          31377.30318088408,
          24659.300732544736,
          26288.30958796813,
          23516.168936237198,
          25565.644852660334,
          29367.74119701499,
          35043.9242693382,
          36914.204204232,
          37245.78806527345,
          42431.423385676804,
          35547.2484664741,
          31396.018913266867,
          34545.381470665794,
          38624.23356824165,
          29226.917790877324,
          28370.919498351235,
          27994.470549005186,
          28948.612678807116,
          28641.919352810244,
          29919.179020074167,
          34856.542830536775,
          34461.44479217611,
          26750.099561196555,
          25009.53291891067,
          26173.610724891932,
          28082.661801956303,
          27732.223614697414,
          25977.533448837352,
          26689.079041287456,
          26342.387677579514,
          28271.564486819596,
          34046.209203424296,
          35721.882749876124,
          36119.55252056109,
          35762.74576503215
         ]
        }
       ],
       "layout": {
        "height": 1200,
        "legend": {
         "orientation": "h",
         "x": 1,
         "xanchor": "right",
         "y": 1.02,
         "yanchor": "bottom"
        },
        "template": {
         "data": {
          "bar": [
           {
            "error_x": {
             "color": "#2a3f5f"
            },
            "error_y": {
             "color": "#2a3f5f"
            },
            "marker": {
             "line": {
              "color": "#E5ECF6",
              "width": 0.5
             },
             "pattern": {
              "fillmode": "overlay",
              "size": 10,
              "solidity": 0.2
             }
            },
            "type": "bar"
           }
          ],
          "barpolar": [
           {
            "marker": {
             "line": {
              "color": "#E5ECF6",
              "width": 0.5
             },
             "pattern": {
              "fillmode": "overlay",
              "size": 10,
              "solidity": 0.2
             }
            },
            "type": "barpolar"
           }
          ],
          "carpet": [
           {
            "aaxis": {
             "endlinecolor": "#2a3f5f",
             "gridcolor": "white",
             "linecolor": "white",
             "minorgridcolor": "white",
             "startlinecolor": "#2a3f5f"
            },
            "baxis": {
             "endlinecolor": "#2a3f5f",
             "gridcolor": "white",
             "linecolor": "white",
             "minorgridcolor": "white",
             "startlinecolor": "#2a3f5f"
            },
            "type": "carpet"
           }
          ],
          "choropleth": [
           {
            "colorbar": {
             "outlinewidth": 0,
             "ticks": ""
            },
            "type": "choropleth"
           }
          ],
          "contour": [
           {
            "colorbar": {
             "outlinewidth": 0,
             "ticks": ""
            },
            "colorscale": [
             [
              0,
              "#0d0887"
             ],
             [
              0.1111111111111111,
              "#46039f"
             ],
             [
              0.2222222222222222,
              "#7201a8"
             ],
             [
              0.3333333333333333,
              "#9c179e"
             ],
             [
              0.4444444444444444,
              "#bd3786"
             ],
             [
              0.5555555555555556,
              "#d8576b"
             ],
             [
              0.6666666666666666,
              "#ed7953"
             ],
             [
              0.7777777777777778,
              "#fb9f3a"
             ],
             [
              0.8888888888888888,
              "#fdca26"
             ],
             [
              1,
              "#f0f921"
             ]
            ],
            "type": "contour"
           }
          ],
          "contourcarpet": [
           {
            "colorbar": {
             "outlinewidth": 0,
             "ticks": ""
            },
            "type": "contourcarpet"
           }
          ],
          "heatmap": [
           {
            "colorbar": {
             "outlinewidth": 0,
             "ticks": ""
            },
            "colorscale": [
             [
              0,
              "#0d0887"
             ],
             [
              0.1111111111111111,
              "#46039f"
             ],
             [
              0.2222222222222222,
              "#7201a8"
             ],
             [
              0.3333333333333333,
              "#9c179e"
             ],
             [
              0.4444444444444444,
              "#bd3786"
             ],
             [
              0.5555555555555556,
              "#d8576b"
             ],
             [
              0.6666666666666666,
              "#ed7953"
             ],
             [
              0.7777777777777778,
              "#fb9f3a"
             ],
             [
              0.8888888888888888,
              "#fdca26"
             ],
             [
              1,
              "#f0f921"
             ]
            ],
            "type": "heatmap"
           }
          ],
          "heatmapgl": [
           {
            "colorbar": {
             "outlinewidth": 0,
             "ticks": ""
            },
            "colorscale": [
             [
              0,
              "#0d0887"
             ],
             [
              0.1111111111111111,
              "#46039f"
             ],
             [
              0.2222222222222222,
              "#7201a8"
             ],
             [
              0.3333333333333333,
              "#9c179e"
             ],
             [
              0.4444444444444444,
              "#bd3786"
             ],
             [
              0.5555555555555556,
              "#d8576b"
             ],
             [
              0.6666666666666666,
              "#ed7953"
             ],
             [
              0.7777777777777778,
              "#fb9f3a"
             ],
             [
              0.8888888888888888,
              "#fdca26"
             ],
             [
              1,
              "#f0f921"
             ]
            ],
            "type": "heatmapgl"
           }
          ],
          "histogram": [
           {
            "marker": {
             "pattern": {
              "fillmode": "overlay",
              "size": 10,
              "solidity": 0.2
             }
            },
            "type": "histogram"
           }
          ],
          "histogram2d": [
           {
            "colorbar": {
             "outlinewidth": 0,
             "ticks": ""
            },
            "colorscale": [
             [
              0,
              "#0d0887"
             ],
             [
              0.1111111111111111,
              "#46039f"
             ],
             [
              0.2222222222222222,
              "#7201a8"
             ],
             [
              0.3333333333333333,
              "#9c179e"
             ],
             [
              0.4444444444444444,
              "#bd3786"
             ],
             [
              0.5555555555555556,
              "#d8576b"
             ],
             [
              0.6666666666666666,
              "#ed7953"
             ],
             [
              0.7777777777777778,
              "#fb9f3a"
             ],
             [
              0.8888888888888888,
              "#fdca26"
             ],
             [
              1,
              "#f0f921"
             ]
            ],
            "type": "histogram2d"
           }
          ],
          "histogram2dcontour": [
           {
            "colorbar": {
             "outlinewidth": 0,
             "ticks": ""
            },
            "colorscale": [
             [
              0,
              "#0d0887"
             ],
             [
              0.1111111111111111,
              "#46039f"
             ],
             [
              0.2222222222222222,
              "#7201a8"
             ],
             [
              0.3333333333333333,
              "#9c179e"
             ],
             [
              0.4444444444444444,
              "#bd3786"
             ],
             [
              0.5555555555555556,
              "#d8576b"
             ],
             [
              0.6666666666666666,
              "#ed7953"
             ],
             [
              0.7777777777777778,
              "#fb9f3a"
             ],
             [
              0.8888888888888888,
              "#fdca26"
             ],
             [
              1,
              "#f0f921"
             ]
            ],
            "type": "histogram2dcontour"
           }
          ],
          "mesh3d": [
           {
            "colorbar": {
             "outlinewidth": 0,
             "ticks": ""
            },
            "type": "mesh3d"
           }
          ],
          "parcoords": [
           {
            "line": {
             "colorbar": {
              "outlinewidth": 0,
              "ticks": ""
             }
            },
            "type": "parcoords"
           }
          ],
          "pie": [
           {
            "automargin": true,
            "type": "pie"
           }
          ],
          "scatter": [
           {
            "fillpattern": {
             "fillmode": "overlay",
             "size": 10,
             "solidity": 0.2
            },
            "type": "scatter"
           }
          ],
          "scatter3d": [
           {
            "line": {
             "colorbar": {
              "outlinewidth": 0,
              "ticks": ""
             }
            },
            "marker": {
             "colorbar": {
              "outlinewidth": 0,
              "ticks": ""
             }
            },
            "type": "scatter3d"
           }
          ],
          "scattercarpet": [
           {
            "marker": {
             "colorbar": {
              "outlinewidth": 0,
              "ticks": ""
             }
            },
            "type": "scattercarpet"
           }
          ],
          "scattergeo": [
           {
            "marker": {
             "colorbar": {
              "outlinewidth": 0,
              "ticks": ""
             }
            },
            "type": "scattergeo"
           }
          ],
          "scattergl": [
           {
            "marker": {
             "colorbar": {
              "outlinewidth": 0,
              "ticks": ""
             }
            },
            "type": "scattergl"
           }
          ],
          "scattermapbox": [
           {
            "marker": {
             "colorbar": {
              "outlinewidth": 0,
              "ticks": ""
             }
            },
            "type": "scattermapbox"
           }
          ],
          "scatterpolar": [
           {
            "marker": {
             "colorbar": {
              "outlinewidth": 0,
              "ticks": ""
             }
            },
            "type": "scatterpolar"
           }
          ],
          "scatterpolargl": [
           {
            "marker": {
             "colorbar": {
              "outlinewidth": 0,
              "ticks": ""
             }
            },
            "type": "scatterpolargl"
           }
          ],
          "scatterternary": [
           {
            "marker": {
             "colorbar": {
              "outlinewidth": 0,
              "ticks": ""
             }
            },
            "type": "scatterternary"
           }
          ],
          "surface": [
           {
            "colorbar": {
             "outlinewidth": 0,
             "ticks": ""
            },
            "colorscale": [
             [
              0,
              "#0d0887"
             ],
             [
              0.1111111111111111,
              "#46039f"
             ],
             [
              0.2222222222222222,
              "#7201a8"
             ],
             [
              0.3333333333333333,
              "#9c179e"
             ],
             [
              0.4444444444444444,
              "#bd3786"
             ],
             [
              0.5555555555555556,
              "#d8576b"
             ],
             [
              0.6666666666666666,
              "#ed7953"
             ],
             [
              0.7777777777777778,
              "#fb9f3a"
             ],
             [
              0.8888888888888888,
              "#fdca26"
             ],
             [
              1,
              "#f0f921"
             ]
            ],
            "type": "surface"
           }
          ],
          "table": [
           {
            "cells": {
             "fill": {
              "color": "#EBF0F8"
             },
             "line": {
              "color": "white"
             }
            },
            "header": {
             "fill": {
              "color": "#C8D4E3"
             },
             "line": {
              "color": "white"
             }
            },
            "type": "table"
           }
          ]
         },
         "layout": {
          "annotationdefaults": {
           "arrowcolor": "#2a3f5f",
           "arrowhead": 0,
           "arrowwidth": 1
          },
          "autotypenumbers": "strict",
          "coloraxis": {
           "colorbar": {
            "outlinewidth": 0,
            "ticks": ""
           }
          },
          "colorscale": {
           "diverging": [
            [
             0,
             "#8e0152"
            ],
            [
             0.1,
             "#c51b7d"
            ],
            [
             0.2,
             "#de77ae"
            ],
            [
             0.3,
             "#f1b6da"
            ],
            [
             0.4,
             "#fde0ef"
            ],
            [
             0.5,
             "#f7f7f7"
            ],
            [
             0.6,
             "#e6f5d0"
            ],
            [
             0.7,
             "#b8e186"
            ],
            [
             0.8,
             "#7fbc41"
            ],
            [
             0.9,
             "#4d9221"
            ],
            [
             1,
             "#276419"
            ]
           ],
           "sequential": [
            [
             0,
             "#0d0887"
            ],
            [
             0.1111111111111111,
             "#46039f"
            ],
            [
             0.2222222222222222,
             "#7201a8"
            ],
            [
             0.3333333333333333,
             "#9c179e"
            ],
            [
             0.4444444444444444,
             "#bd3786"
            ],
            [
             0.5555555555555556,
             "#d8576b"
            ],
            [
             0.6666666666666666,
             "#ed7953"
            ],
            [
             0.7777777777777778,
             "#fb9f3a"
            ],
            [
             0.8888888888888888,
             "#fdca26"
            ],
            [
             1,
             "#f0f921"
            ]
           ],
           "sequentialminus": [
            [
             0,
             "#0d0887"
            ],
            [
             0.1111111111111111,
             "#46039f"
            ],
            [
             0.2222222222222222,
             "#7201a8"
            ],
            [
             0.3333333333333333,
             "#9c179e"
            ],
            [
             0.4444444444444444,
             "#bd3786"
            ],
            [
             0.5555555555555556,
             "#d8576b"
            ],
            [
             0.6666666666666666,
             "#ed7953"
            ],
            [
             0.7777777777777778,
             "#fb9f3a"
            ],
            [
             0.8888888888888888,
             "#fdca26"
            ],
            [
             1,
             "#f0f921"
            ]
           ]
          },
          "colorway": [
           "#636efa",
           "#EF553B",
           "#00cc96",
           "#ab63fa",
           "#FFA15A",
           "#19d3f3",
           "#FF6692",
           "#B6E880",
           "#FF97FF",
           "#FECB52"
          ],
          "font": {
           "color": "#2a3f5f"
          },
          "geo": {
           "bgcolor": "white",
           "lakecolor": "white",
           "landcolor": "#E5ECF6",
           "showlakes": true,
           "showland": true,
           "subunitcolor": "white"
          },
          "hoverlabel": {
           "align": "left"
          },
          "hovermode": "closest",
          "mapbox": {
           "style": "light"
          },
          "paper_bgcolor": "white",
          "plot_bgcolor": "#E5ECF6",
          "polar": {
           "angularaxis": {
            "gridcolor": "white",
            "linecolor": "white",
            "ticks": ""
           },
           "bgcolor": "#E5ECF6",
           "radialaxis": {
            "gridcolor": "white",
            "linecolor": "white",
            "ticks": ""
           }
          },
          "scene": {
           "xaxis": {
            "backgroundcolor": "#E5ECF6",
            "gridcolor": "white",
            "gridwidth": 2,
            "linecolor": "white",
            "showbackground": true,
            "ticks": "",
            "zerolinecolor": "white"
           },
           "yaxis": {
            "backgroundcolor": "#E5ECF6",
            "gridcolor": "white",
            "gridwidth": 2,
            "linecolor": "white",
            "showbackground": true,
            "ticks": "",
            "zerolinecolor": "white"
           },
           "zaxis": {
            "backgroundcolor": "#E5ECF6",
            "gridcolor": "white",
            "gridwidth": 2,
            "linecolor": "white",
            "showbackground": true,
            "ticks": "",
            "zerolinecolor": "white"
           }
          },
          "shapedefaults": {
           "line": {
            "color": "#2a3f5f"
           }
          },
          "ternary": {
           "aaxis": {
            "gridcolor": "white",
            "linecolor": "white",
            "ticks": ""
           },
           "baxis": {
            "gridcolor": "white",
            "linecolor": "white",
            "ticks": ""
           },
           "bgcolor": "#E5ECF6",
           "caxis": {
            "gridcolor": "white",
            "linecolor": "white",
            "ticks": ""
           }
          },
          "title": {
           "x": 0.05
          },
          "xaxis": {
           "automargin": true,
           "gridcolor": "white",
           "linecolor": "white",
           "ticks": "",
           "title": {
            "standoff": 15
           },
           "zerolinecolor": "white",
           "zerolinewidth": 2
          },
          "yaxis": {
           "automargin": true,
           "gridcolor": "white",
           "linecolor": "white",
           "ticks": "",
           "title": {
            "standoff": 15
           },
           "zerolinecolor": "white",
           "zerolinewidth": 2
          }
         }
        },
        "title": {
         "text": "Portfolio construction model example strategy portfolio value"
        },
        "xaxis": {
         "rangeslider": {
          "visible": false
         }
        },
        "yaxis": {
         "showgrid": false,
         "title": {
          "text": "Value $"
         }
        }
       }
      }
     },
     "metadata": {},
     "output_type": "display_data"
    }
   ],
   "source": [
    "from tradeexecutor.visual.benchmark import visualise_benchmark\n",
    "\n",
    "eth_usd = universe.get_pair_by_human_description((ChainId.ethereum, \"uniswap-v2\", \"WETH\", \"USDC\"))\n",
    "eth_candles = universe.universe.candles.get_candles_by_pair(eth_usd.internal_id)\n",
    "eth_price = eth_candles[\"close\"]\n",
    "\n",
    "fig = visualise_benchmark(\n",
    "    state.name,\n",
    "    portfolio_statistics=state.stats.portfolio,\n",
    "    all_cash=state.portfolio.get_initial_deposit(),\n",
    "    buy_and_hold_asset_name=\"ETH\",\n",
    "    buy_and_hold_price_series=eth_price,\n",
    "    start_at=start_at,\n",
    "    end_at=end_at\n",
    ")\n",
    "\n",
    "fig.show()"
   ]
  },
  {
   "attachments": {},
   "cell_type": "markdown",
   "metadata": {},
   "source": [
    "## Analysing  the strategy success\n",
    "\n",
    "Here we calculate statistics on how well the strategy performed.\n",
    "\n",
    "- Won/lost trades\n",
    "- Timeline of taken positions with color coding of trade performance\n"
   ]
  },
  {
   "cell_type": "code",
   "execution_count": 8,
   "metadata": {
    "collapsed": false,
    "jupyter": {
     "outputs_hidden": false
    },
    "pycharm": {
     "is_executing": true
    }
   },
   "outputs": [],
   "source": [
    "from tradeexecutor.analysis.trade_analyser import build_trade_analysis\n",
    "\n",
    "analysis = build_trade_analysis(state.portfolio)"
   ]
  },
  {
   "cell_type": "markdown",
   "metadata": {},
   "source": [
    "### Strategy summary\n",
    "\n",
    "Overview of strategy performance\n",
    "\n"
   ]
  },
  {
   "cell_type": "code",
   "execution_count": 9,
   "metadata": {
    "collapsed": false,
    "jupyter": {
     "outputs_hidden": false
    },
    "pycharm": {
     "is_executing": true
    }
   },
   "outputs": [
    {
     "data": {
      "text/html": [
       "<div>\n",
       "<style scoped>\n",
       "    .dataframe tbody tr th:only-of-type {\n",
       "        vertical-align: middle;\n",
       "    }\n",
       "\n",
       "    .dataframe tbody tr th {\n",
       "        vertical-align: top;\n",
       "    }\n",
       "\n",
       "    .dataframe thead th {\n",
       "        text-align: right;\n",
       "    }\n",
       "</style>\n",
       "<table border=\"1\" class=\"dataframe\">\n",
       "  <thead>\n",
       "    <tr style=\"text-align: right;\">\n",
       "      <th></th>\n",
       "      <th>0</th>\n",
       "    </tr>\n",
       "  </thead>\n",
       "  <tbody>\n",
       "    <tr>\n",
       "      <th>Trading period length</th>\n",
       "      <td>812 days</td>\n",
       "    </tr>\n",
       "    <tr>\n",
       "      <th>Return %</th>\n",
       "      <td>727.12%</td>\n",
       "    </tr>\n",
       "    <tr>\n",
       "      <th>Annualised return %</th>\n",
       "      <td>326.84%</td>\n",
       "    </tr>\n",
       "    <tr>\n",
       "      <th>Cash at start</th>\n",
       "      <td>$10,000.00</td>\n",
       "    </tr>\n",
       "    <tr>\n",
       "      <th>Value at end</th>\n",
       "      <td>$82,711.54</td>\n",
       "    </tr>\n",
       "    <tr>\n",
       "      <th>Trade win percent</th>\n",
       "      <td>73.47%</td>\n",
       "    </tr>\n",
       "    <tr>\n",
       "      <th>Total trades done</th>\n",
       "      <td>294</td>\n",
       "    </tr>\n",
       "    <tr>\n",
       "      <th>Won trades</th>\n",
       "      <td>216</td>\n",
       "    </tr>\n",
       "    <tr>\n",
       "      <th>Lost trades</th>\n",
       "      <td>78</td>\n",
       "    </tr>\n",
       "    <tr>\n",
       "      <th>Stop losses triggered</th>\n",
       "      <td>6</td>\n",
       "    </tr>\n",
       "    <tr>\n",
       "      <th>Stop loss % of all</th>\n",
       "      <td>2.04%</td>\n",
       "    </tr>\n",
       "    <tr>\n",
       "      <th>Stop loss % of lost</th>\n",
       "      <td>7.69%</td>\n",
       "    </tr>\n",
       "    <tr>\n",
       "      <th>Take profits triggered</th>\n",
       "      <td>210</td>\n",
       "    </tr>\n",
       "    <tr>\n",
       "      <th>Take profit % of all</th>\n",
       "      <td>71.43%</td>\n",
       "    </tr>\n",
       "    <tr>\n",
       "      <th>Take profit % of win</th>\n",
       "      <td>97.22%</td>\n",
       "    </tr>\n",
       "    <tr>\n",
       "      <th>Zero profit trades</th>\n",
       "      <td>0</td>\n",
       "    </tr>\n",
       "    <tr>\n",
       "      <th>Positions open at the end</th>\n",
       "      <td>4</td>\n",
       "    </tr>\n",
       "    <tr>\n",
       "      <th>Realised profit and loss</th>\n",
       "      <td>$72,711.54</td>\n",
       "    </tr>\n",
       "    <tr>\n",
       "      <th>Portfolio unrealised value</th>\n",
       "      <td>$66,169.23</td>\n",
       "    </tr>\n",
       "    <tr>\n",
       "      <th>Extra returns on lending pool interest</th>\n",
       "      <td>$0.00</td>\n",
       "    </tr>\n",
       "    <tr>\n",
       "      <th>Cash left at the end</th>\n",
       "      <td>$16,542.31</td>\n",
       "    </tr>\n",
       "    <tr>\n",
       "      <th>Average winning trade profit %</th>\n",
       "      <td>7.52%</td>\n",
       "    </tr>\n",
       "    <tr>\n",
       "      <th>Average losing trade loss %</th>\n",
       "      <td>-13.08%</td>\n",
       "    </tr>\n",
       "    <tr>\n",
       "      <th>Biggest winning trade %</th>\n",
       "      <td>138.33%</td>\n",
       "    </tr>\n",
       "    <tr>\n",
       "      <th>Biggest losing trade %</th>\n",
       "      <td>-36.57%</td>\n",
       "    </tr>\n",
       "    <tr>\n",
       "      <th>Average duration of winning trades</th>\n",
       "      <td>1 days</td>\n",
       "    </tr>\n",
       "    <tr>\n",
       "      <th>Average duration of losing trades</th>\n",
       "      <td>6 days</td>\n",
       "    </tr>\n",
       "    <tr>\n",
       "      <th>Average trade:</th>\n",
       "      <td>2.05%</td>\n",
       "    </tr>\n",
       "    <tr>\n",
       "      <th>Median trade:</th>\n",
       "      <td>4.81%</td>\n",
       "    </tr>\n",
       "    <tr>\n",
       "      <th>Consecutive wins</th>\n",
       "      <td>25</td>\n",
       "    </tr>\n",
       "    <tr>\n",
       "      <th>Consecutive losses</th>\n",
       "      <td>7</td>\n",
       "    </tr>\n",
       "    <tr>\n",
       "      <th>Biggest realized risk</th>\n",
       "      <td>-10.31%</td>\n",
       "    </tr>\n",
       "    <tr>\n",
       "      <th>Avg realised risk</th>\n",
       "      <td>-2.69%</td>\n",
       "    </tr>\n",
       "    <tr>\n",
       "      <th>Max pullback of total capital</th>\n",
       "      <td>-33.21%</td>\n",
       "    </tr>\n",
       "    <tr>\n",
       "      <th>Max loss risk at opening of position</th>\n",
       "      <td>27.36%</td>\n",
       "    </tr>\n",
       "  </tbody>\n",
       "</table>\n",
       "</div>"
      ],
      "text/plain": [
       "                                                 0\n",
       "Trading period length                     812 days\n",
       "Return %                                   727.12%\n",
       "Annualised return %                        326.84%\n",
       "Cash at start                           $10,000.00\n",
       "Value at end                            $82,711.54\n",
       "Trade win percent                           73.47%\n",
       "Total trades done                              294\n",
       "Won trades                                     216\n",
       "Lost trades                                     78\n",
       "Stop losses triggered                            6\n",
       "Stop loss % of all                           2.04%\n",
       "Stop loss % of lost                          7.69%\n",
       "Take profits triggered                         210\n",
       "Take profit % of all                        71.43%\n",
       "Take profit % of win                        97.22%\n",
       "Zero profit trades                               0\n",
       "Positions open at the end                        4\n",
       "Realised profit and loss                $72,711.54\n",
       "Portfolio unrealised value              $66,169.23\n",
       "Extra returns on lending pool interest       $0.00\n",
       "Cash left at the end                    $16,542.31\n",
       "Average winning trade profit %               7.52%\n",
       "Average losing trade loss %                -13.08%\n",
       "Biggest winning trade %                    138.33%\n",
       "Biggest losing trade %                     -36.57%\n",
       "Average duration of winning trades          1 days\n",
       "Average duration of losing trades           6 days\n",
       "Average trade:                               2.05%\n",
       "Median trade:                                4.81%\n",
       "Consecutive wins                                25\n",
       "Consecutive losses                               7\n",
       "Biggest realized risk                      -10.31%\n",
       "Avg realised risk                           -2.69%\n",
       "Max pullback of total capital              -33.21%\n",
       "Max loss risk at opening of position        27.36%"
      ]
     },
     "metadata": {},
     "output_type": "display_data"
    }
   ],
   "source": [
    "from IPython.core.display_functions import display\n",
    "\n",
    "summary = analysis.calculate_summary_statistics()\n",
    "\n",
    "with pd.option_context(\"display.max_row\", None):\n",
    "    display(summary.to_dataframe())"
   ]
  },
  {
   "cell_type": "markdown",
   "metadata": {},
   "source": []
  },
  {
   "attachments": {},
   "cell_type": "markdown",
   "metadata": {},
   "source": [
    "### Alpha model timeline analysis\n",
    "\n",
    "We display a table that shows how alpha model performermed over time.\n",
    "\n",
    "- Events are in the timeline order\n",
    "\n",
    "- Display portfolio weightings at each strategy cycle\n",
    "\n",
    "- Show performance of individidual positions taken during this cycle\n",
    "\n",
    "- Stop loss events are shown as their own rows\n",
    "\n",
    "The visualisation will have the a column for each asset being traded. The cell of a column contains the following elements\n",
    "\n",
    "- Asset **price change** (up/down) since the last strategy cycle\n",
    "\n",
    "- **Price** of the asset at the start of the strategy cycle\n",
    "\n",
    "- **Weight** % as the part of the portfolio that was chosen for the next cycle\n",
    "\n",
    "- **Open** value of the position as USD\n",
    "\n",
    "- **Adjust** value of the position as USD -  to get to the target weight - how much asset needs to be bought or sold\n",
    "\n",
    "- **Close** the remaining value of the position as USD \n",
    "\n",
    "- **Profit**: The life time profit of the position so far\n",
    "\n",
    "Position opening and closing rules\n",
    "\n",
    "- A position may contain multiple trades\n",
    "\n",
    "- Unlike on some exchanges, we adjust existing positions by increasing or decreasing them - a trade can count against existing position\n",
    "\n",
    "- Posions are opened if there are no existing holdings of an asset\n",
    "\n",
    "- The position is adjusted over the time\n",
    "\n",
    "- The position is closed when the remaining assets of the position are sold"
   ]
  },
  {
   "cell_type": "code",
   "execution_count": 10,
   "metadata": {
    "collapsed": false,
    "jupyter": {
     "outputs_hidden": false
    },
    "pycharm": {
     "is_executing": true
    }
   },
   "outputs": [
    {
     "ename": "AssertionError",
     "evalue": "Expected take profit/stop loss, timepoint 2020-11-09 02:00:00 trigger trades are dict_values([<Sell #5 4182.554837869698011461442413 CRV at 0.5099853294307211, success>])",
     "output_type": "error",
     "traceback": [
      "\u001B[0;31m---------------------------------------------------------------------------\u001B[0m",
      "\u001B[0;31mAssertionError\u001B[0m                            Traceback (most recent call last)",
      "Cell \u001B[0;32mIn[10], line 3\u001B[0m\n\u001B[1;32m      1\u001B[0m \u001B[39mfrom\u001B[39;00m \u001B[39mtradeexecutor\u001B[39;00m\u001B[39m.\u001B[39;00m\u001B[39manalysis\u001B[39;00m\u001B[39m.\u001B[39;00m\u001B[39malpha_model_analyser\u001B[39;00m \u001B[39mimport\u001B[39;00m render_alpha_model_plotly_table, create_alpha_model_timeline_all_assets\n\u001B[0;32m----> 3\u001B[0m timeline \u001B[39m=\u001B[39m create_alpha_model_timeline_all_assets(state, universe, new_line\u001B[39m=\u001B[39;49m\u001B[39m\"\u001B[39;49m\u001B[39m<br>\u001B[39;49m\u001B[39m\"\u001B[39;49m)\n\u001B[1;32m      4\u001B[0m figure, table \u001B[39m=\u001B[39m render_alpha_model_plotly_table(timeline)\n\u001B[1;32m      6\u001B[0m figure\u001B[39m.\u001B[39mupdate_layout(\n\u001B[1;32m      7\u001B[0m     autosize\u001B[39m=\u001B[39m\u001B[39mTrue\u001B[39;00m,\n\u001B[1;32m      8\u001B[0m     height\u001B[39m=\u001B[39m\u001B[39m800\u001B[39m,)\n",
      "File \u001B[0;32m~/code/ts/trade-executor/tradeexecutor/analysis/alpha_model_analyser.py:173\u001B[0m, in \u001B[0;36mcreate_alpha_model_timeline_all_assets\u001B[0;34m(state, universe, new_line)\u001B[0m\n\u001B[1;32m    171\u001B[0m         text \u001B[39m+\u001B[39m\u001B[39m=\u001B[39m \u001B[39mf\u001B[39m\u001B[39m\"\u001B[39m\u001B[39mProfit: $\u001B[39m\u001B[39m{\u001B[39;00mprofit\u001B[39m:\u001B[39;00m\u001B[39m,.0f\u001B[39m\u001B[39m}\u001B[39;00m\u001B[39m \u001B[39m\u001B[39m{\u001B[39;00mprofit_pct\u001B[39m \u001B[39m\u001B[39m*\u001B[39m\u001B[39m \u001B[39m\u001B[39m100\u001B[39m\u001B[39m:\u001B[39;00m\u001B[39m.2f\u001B[39m\u001B[39m}\u001B[39;00m\u001B[39m%\u001B[39m\u001B[39m\"\u001B[39m\n\u001B[1;32m    172\u001B[0m     \u001B[39melse\u001B[39;00m:\n\u001B[0;32m--> 173\u001B[0m         \u001B[39mraise\u001B[39;00m \u001B[39mAssertionError\u001B[39;00m(\u001B[39mf\u001B[39m\u001B[39m\"\u001B[39m\u001B[39mExpected take profit/stop loss, timepoint \u001B[39m\u001B[39m{\u001B[39;00mtrigger_ts\u001B[39m}\u001B[39;00m\u001B[39m trigger trades are \u001B[39m\u001B[39m{\u001B[39;00mtrigger_trades\u001B[39m.\u001B[39mvalues()\u001B[39m}\u001B[39;00m\u001B[39m\"\u001B[39m)\n\u001B[1;32m    174\u001B[0m     reset(pair)\n\u001B[1;32m    175\u001B[0m row\u001B[39m.\u001B[39mappend(text)\n",
      "\u001B[0;31mAssertionError\u001B[0m: Expected take profit/stop loss, timepoint 2020-11-09 02:00:00 trigger trades are dict_values([<Sell #5 4182.554837869698011461442413 CRV at 0.5099853294307211, success>])"
     ]
    }
   ],
   "source": [
    "from tradeexecutor.analysis.alpha_model_analyser import render_alpha_model_plotly_table, create_alpha_model_timeline_all_assets\n",
    "\n",
    "timeline = create_alpha_model_timeline_all_assets(state, universe, new_line=\"<br>\")\n",
    "figure, table = render_alpha_model_plotly_table(timeline)\n",
    "\n",
    "figure.update_layout(\n",
    "    autosize=True,\n",
    "    height=800,)\n",
    "\n",
    "display(figure)"
   ]
  },
  {
   "attachments": {},
   "cell_type": "markdown",
   "metadata": {},
   "source": [
    "## Single pair trade, entry and exit analyses\n",
    "\n",
    "Plot a single pair from our trading universe and show our entries and exits for this particular pair.\n",
    "\n",
    "- Analyse ETH/USDC entries and exits\n",
    "- We use 1h candles, as weekly candles used for strategy decisions do not have enough time resolution - we downloaded 1h candles earlier to be used as a trigger signal for take profit/stop loss"
   ]
  },
  {
   "cell_type": "code",
   "execution_count": null,
   "metadata": {
    "pycharm": {
     "is_executing": true
    }
   },
   "outputs": [],
   "source": [
    "from tradeexecutor.visual.single_pair import visualise_single_pair\n",
    "from tradingstrategy.charting.candle_chart import VolumeBarMode\n",
    "\n",
    "eth_usd = universe.get_pair_by_human_description((ChainId.ethereum, \"uniswap-v2\", \"WETH\", \"USDC\"))\n",
    "eth_usd_candles = universe.backtest_stop_loss_candles.get_candles_by_pair(eth_usd.internal_id)\n",
    "\n",
    "fig = visualise_single_pair(\n",
    "    state,\n",
    "    pair_id=eth_usd.internal_id,\n",
    "    title=\"ETH/USDC individual trades\",\n",
    "    candle_universe=eth_usd_candles,\n",
    "    start_at=start_at,\n",
    "    end_at=end_at,\n",
    "    volume_bar_mode=VolumeBarMode.hidden,\n",
    ")\n",
    "\n",
    "fig.show()"
   ]
  },
  {
   "cell_type": "code",
   "execution_count": null,
   "metadata": {},
   "outputs": [],
   "source": [
    "from tradeexecutor.visual.single_pair import visualise_single_pair_positions_with_duration_and_slippage\n",
    "\n",
    "fig = visualise_single_pair_positions_with_duration_and_slippage(\n",
    "    state,\n",
    "    pair_id=eth_usd.internal_id,\n",
    "    title=\"ETH/USDC entries and exits\",\n",
    "    candles=eth_usd_candles,\n",
    "    start_at=start_at,\n",
    "    end_at=end_at,\n",
    ")\n",
    "\n",
    "fig.show()"
   ]
  },
  {
   "cell_type": "markdown",
   "metadata": {},
   "source": [
    "## Finishing notes\n",
    "\n",
    "Print out a line to signal the notebook finished the execution successfully."
   ]
  },
  {
   "cell_type": "code",
   "execution_count": null,
   "metadata": {
    "collapsed": false,
    "jupyter": {
     "outputs_hidden": false
    },
    "pycharm": {
     "is_executing": true
    }
   },
   "outputs": [],
   "source": [
    "print(\"All ok\")"
   ]
  }
 ],
 "metadata": {
  "kernelspec": {
   "display_name": "trade-executor-8Oz1GdY1-py3.10",
   "language": "python",
   "name": "python3"
  },
  "language_info": {
   "codemirror_mode": {
    "name": "ipython",
    "version": 3
   },
   "file_extension": ".py",
   "mimetype": "text/x-python",
   "name": "python",
   "nbconvert_exporter": "python",
   "pygments_lexer": "ipython3",
   "version": "3.10.10"
  },
  "vscode": {
   "interpreter": {
    "hash": "7adede735167b7e67e1575a49b63099e273f8f003d80ae98ec60bd132e113570"
   }
  }
 },
 "nbformat": 4,
 "nbformat_minor": 4
}

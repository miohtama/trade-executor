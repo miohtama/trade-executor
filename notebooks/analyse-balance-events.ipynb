{
 "cells": [
  {
   "cell_type": "markdown",
   "source": [
    "# Analyse reserve\n",
    "\n",
    "Analyse the reseve position for a strategy.\n",
    "\n",
    " - A script for detailed calculations of a resever position\n"
   ],
   "metadata": {
    "collapsed": false
   }
  },
  {
   "cell_type": "code",
   "execution_count": 1,
   "outputs": [],
   "source": [
    "trade_executors = [\n",
    "    \"https://enzyme-polygon-eth-usdc-sls.tradingstrategy.ai\",\n",
    "]\n",
    "\n"
   ],
   "metadata": {
    "collapsed": false,
    "ExecuteTime": {
     "end_time": "2023-07-25T08:53:26.565881Z",
     "start_time": "2023-07-25T08:53:26.561871Z"
    }
   }
  },
  {
   "cell_type": "code",
   "execution_count": 2,
   "outputs": [],
   "source": [
    "\n",
    "from pathlib import Path\n",
    "from tradeexecutor.state.state import State\n",
    "\n",
    "state = State.read_json_file(Path(\"../enzyme-polygon-eth-usdc.json\"))\n"
   ],
   "metadata": {
    "collapsed": false,
    "ExecuteTime": {
     "end_time": "2023-07-25T08:53:27.814346Z",
     "start_time": "2023-07-25T08:53:26.568632Z"
    }
   }
  },
  {
   "cell_type": "markdown",
   "source": [
    "## Denormalised balance"
   ],
   "metadata": {
    "collapsed": false
   }
  },
  {
   "cell_type": "code",
   "execution_count": 3,
   "outputs": [
    {
     "name": "stdout",
     "output_type": "stream",
     "text": [
      "Number of reserve assets: 1\n",
      "Reserves: <USDC at 0x2791bca1f2de4661ed88a30c99a7a9449aa84174> at 1.0 USDC / USD\n",
      "Amount: 42.82953700000000044423131840 USDC\n",
      "Equity: 42.829537 USD\n",
      "Value: 42.829537 USD\n",
      "Balance updates: -2.1552182261E-16 USDC\n",
      "Number of balance updates events: 2\n",
      "Number of events references in the portfolio overall: 1\n"
     ]
    }
   ],
   "source": [
    "\n",
    "\n",
    "portfolio = state.portfolio\n",
    "asset, exchange_rate = state.portfolio.get_default_reserve_asset()\n",
    "position = portfolio.get_default_reserve_position()\n",
    "print(f\"Number of reserve assets: {len(portfolio.reserves)}\")\n",
    "print(f\"Reserves: {asset} at {exchange_rate} {asset.token_symbol} / USD\")\n",
    "print(f\"Amount: {position.get_quantity()} {asset.token_symbol}\")\n",
    "print(f\"Equity: {position.get_total_equity()} USD\")\n",
    "print(f\"Value: {position.get_value()} USD\")\n",
    "print(f\"Balance updates: {position.get_balance_update_quantity()} {asset.token_symbol}\")\n",
    "print(f\"Number of balance updates events: {len(position.balance_updates)}\")\n",
    "print(f\"Number of events references in the portfolio overall: {len(state.sync.treasury.balance_update_refs)}\")"
   ],
   "metadata": {
    "collapsed": false,
    "ExecuteTime": {
     "end_time": "2023-07-25T08:53:27.818116Z",
     "start_time": "2023-07-25T08:53:27.815760Z"
    }
   }
  },
  {
   "cell_type": "markdown",
   "source": [
    "# Vault sync status"
   ],
   "metadata": {
    "collapsed": false
   }
  },
  {
   "cell_type": "code",
   "execution_count": 4,
   "outputs": [
    {
     "name": "stdout",
     "output_type": "stream",
     "text": [
      "Vault deployment: <Deployment chain:polygon address:0x6E321256BE0ABd2726A234E8dBFc4d3caf255AE0 name:Degen Fault I token:DEGE1>\n",
      "Treasury sync status: <Treasury updated:2023-07-23 18:04:40 cycle:2023-07-23 18:00:00 block scanned:45,431,463 refs:1>\n"
     ]
    }
   ],
   "source": [
    "treasury = state.sync.treasury\n",
    "deployment = state.sync.deployment\n",
    "\n",
    "print(f\"Vault deployment: {deployment}\")\n",
    "print(f\"Treasury sync status: {treasury}\")"
   ],
   "metadata": {
    "collapsed": false,
    "ExecuteTime": {
     "end_time": "2023-07-25T08:53:27.820762Z",
     "start_time": "2023-07-25T08:53:27.818770Z"
    }
   }
  },
  {
   "cell_type": "markdown",
   "source": [
    "## Individual events\n",
    "\n",
    "For the last analysed executor."
   ],
   "metadata": {
    "collapsed": false
   }
  },
  {
   "cell_type": "code",
   "execution_count": 5,
   "outputs": [
    {
     "data": {
      "text/plain": "        Cause                  At                       Quantity  \\\n1     deposit 2023-07-04 19:07:40                       7.165562   \n2  correction 2023-07-13 23:47:27  -7.16556200000000021552182261   \n\n   Dollar value Address                                              Notes  \n1      7.165562                                 reinit() at block 44683317  \n2     -7.165562          Accounting correction based on the actual on-c...  ",
      "text/html": "<div>\n<style scoped>\n    .dataframe tbody tr th:only-of-type {\n        vertical-align: middle;\n    }\n\n    .dataframe tbody tr th {\n        vertical-align: top;\n    }\n\n    .dataframe thead th {\n        text-align: right;\n    }\n</style>\n<table border=\"1\" class=\"dataframe\">\n  <thead>\n    <tr style=\"text-align: right;\">\n      <th></th>\n      <th>Cause</th>\n      <th>At</th>\n      <th>Quantity</th>\n      <th>Dollar value</th>\n      <th>Address</th>\n      <th>Notes</th>\n    </tr>\n  </thead>\n  <tbody>\n    <tr>\n      <th>1</th>\n      <td>deposit</td>\n      <td>2023-07-04 19:07:40</td>\n      <td>7.165562</td>\n      <td>7.165562</td>\n      <td></td>\n      <td>reinit() at block 44683317</td>\n    </tr>\n    <tr>\n      <th>2</th>\n      <td>correction</td>\n      <td>2023-07-13 23:47:27</td>\n      <td>-7.16556200000000021552182261</td>\n      <td>-7.165562</td>\n      <td></td>\n      <td>Accounting correction based on the actual on-c...</td>\n    </tr>\n  </tbody>\n</table>\n</div>"
     },
     "metadata": {},
     "output_type": "display_data"
    }
   ],
   "source": [
    "from tradeexecutor.analysis.position import display_reserve_position_events\n",
    "\n",
    "df = display_reserve_position_events(position)\n",
    "display(df)\n"
   ],
   "metadata": {
    "collapsed": false,
    "ExecuteTime": {
     "end_time": "2023-07-25T08:53:27.829033Z",
     "start_time": "2023-07-25T08:53:27.822416Z"
    }
   }
  },
  {
   "cell_type": "code",
   "execution_count": 5,
   "outputs": [],
   "source": [],
   "metadata": {
    "collapsed": false,
    "ExecuteTime": {
     "end_time": "2023-07-25T08:53:27.830311Z",
     "start_time": "2023-07-25T08:53:27.829469Z"
    }
   }
  }
 ],
 "metadata": {
  "kernelspec": {
   "display_name": "Python 3",
   "language": "python",
   "name": "python3"
  },
  "language_info": {
   "codemirror_mode": {
    "name": "ipython",
    "version": 2
   },
   "file_extension": ".py",
   "mimetype": "text/x-python",
   "name": "python",
   "nbconvert_exporter": "python",
   "pygments_lexer": "ipython2",
   "version": "2.7.6"
  }
 },
 "nbformat": 4,
 "nbformat_minor": 0
}
